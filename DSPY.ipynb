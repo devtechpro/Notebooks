{
 "cells": [
  {
   "cell_type": "markdown",
   "metadata": {},
   "source": [
    "#### Minimal Working Examle"
   ]
  },
  {
   "cell_type": "code",
   "execution_count": 3,
   "metadata": {},
   "outputs": [],
   "source": [
    "from dotenv import load_dotenv\n",
    "import os \n",
    "load_dotenv('C:/Users/user/Desktop/My_Files/Anaconda  Projects/DevTechPro/.env')\n",
    "OPENAI_API_KEY = os.environ['OPENAI_API_KEY']"
   ]
  },
  {
   "cell_type": "code",
   "execution_count": 4,
   "metadata": {},
   "outputs": [
    {
     "name": "stderr",
     "output_type": "stream",
     "text": [
      "100%|██████████| 7473/7473 [00:00<00:00, 50085.06it/s]\n",
      "100%|██████████| 1319/1319 [00:00<00:00, 52756.78it/s]\n"
     ]
    }
   ],
   "source": [
    "import dspy\n",
    "from dspy.datasets.gsm8k import GSM8K, gsm8k_metric\n",
    "\n",
    "# Set up the LM\n",
    "turbo = dspy.OpenAI(model='gpt-3.5-turbo-instruct',api_key=OPENAI_API_KEY, max_tokens=250)\n",
    "dspy.settings.configure(lm=turbo)\n",
    "\n",
    "# Load math questions from the GSM8K dataset\n",
    "gsm8k = GSM8K()\n",
    "gsm8k_trainset, gsm8k_devset = gsm8k.train[:10], gsm8k.dev[:10]"
   ]
  },
  {
   "cell_type": "code",
   "execution_count": 5,
   "metadata": {},
   "outputs": [
    {
     "name": "stdout",
     "output_type": "stream",
     "text": [
      "[Example({'question': \"The result from the 40-item Statistics exam Marion and Ella took already came out. Ella got 4 incorrect answers while Marion got 6 more than half the score of Ella. What is Marion's score?\", 'gold_reasoning': \"Ella's score is 40 items - 4 items = <<40-4=36>>36 items. Half of Ella's score is 36 items / 2 = <<36/2=18>>18 items. So, Marion's score is 18 items + 6 items = <<18+6=24>>24 items.\", 'answer': '24'}) (input_keys={'question'}), Example({'question': \"Stephen made 10 round trips up and down a 40,000 foot tall mountain. If he reached 3/4 of the mountain's height on each of his trips, calculate the total distance he covered.\", 'gold_reasoning': 'Up a mountain, Stephen covered 3/4*40000 = <<3/4*40000=30000>>30000 feet. Coming down, Stephen covered another 30000 feet, making the total distance covered in one round to be 30000+30000 = <<30000+30000=60000>>60000. Since Stephen made 10 round trips up and down the mountain, he covered 10*60000 = <<10*60000=600000>>600000', 'answer': '600000'}) (input_keys={'question'}), Example({'question': 'Bridget counted 14 shooting stars in the night sky.  Reginald counted two fewer shooting stars than did Bridget, but Sam counted four more shooting stars than did Reginald.  How many more shooting stars did Sam count in the night sky than was the average number of shooting stars observed for the three of them?', 'gold_reasoning': 'Reginald counted two fewer shooting stars than did Bridget, or a total of 14-2=<<14-2=12>>12 shooting stars. Sam counted 4 more shooting stars than did Reginald, or a total of 12+4=16 shooting stars. The average number of shooting stars observed for the three of them was (14+12+16)/3 = <<14=14>>14 shooting stars. Thus, Sam counted 16-14=2 more shooting stars than was the average number of shooting stars observed for the three of them.', 'answer': '2'}) (input_keys={'question'}), Example({'question': 'Sarah buys 20 pencils on Monday. Then she buys 18 more pencils on Tuesday. On Wednesday she buys triple the number of pencils she did on Tuesday. How many pencils does she have?', 'gold_reasoning': 'By adding together Monday and Tuesday, Saah has 20+18= <<20+18=38>>38 pencils On Wednesday, she buys 3 * 18= <<3*18=54>>54 pencils All together, Sarah has 38+54= <<38+54=92>>92 pencils', 'answer': '92'}) (input_keys={'question'}), Example({'question': 'Rookie police officers have to buy duty shoes at the full price of $85, but officers who have served at least a year get a 20% discount. Officers who have served at least three years get an additional 25% off the discounted price. How much does an officer who has served at least three years have to pay for shoes?', 'gold_reasoning': 'Cops that served a year pay $85 * 0.2 = $<<85*0.2=17>>17 less. Cops that served a year pay $85 - $17 = $<<85-17=68>>68. Cops that served at least 3 years get a $68 * 0.25 = $<<68*0.25=17>>17 discount. Cops that served at least 3 years pay $68 - $17 = $<<68-17=51>>51 for shoes.', 'answer': '51'}) (input_keys={'question'}), Example({'question': \"The average score on last week's Spanish test was 90.  Marco scored 10% less than the average test score and Margaret received 5 more points than Marco.  What score did Margaret receive on her test?\", 'gold_reasoning': 'The average test score was 90 and Marco scored 10% less so 90*.10 = <<90*.10=9>>9 points lower The average test score was 90 and Marco scored 9 points less so his test score was 90-9 = <<90-9=81>>81 Margret received 5 more points than Marco whose test score was 81 so she made 5+81 = <<5+81=86>>86 on her test', 'answer': '86'}) (input_keys={'question'}), Example({'question': 'A third of the contestants at a singing competition are female, and the rest are male. If there are 18 contestants in total, how many of them are male?', 'gold_reasoning': 'There are 18/3 = <<18/3=6>>6 female contestants. There are 18-6 = <<18-6=12>>12 male contestants.', 'answer': '12'}) (input_keys={'question'}), Example({'question': 'Nancy bought a pie sliced it into 8 pieces. She gave 1/2 to Joe and Darcy, and she gave 1/4 to Carl. How many slices were left?', 'gold_reasoning': 'The total number of slices she gave to Joe and Darcy is 1/2 x 8 = <<1/2*8=4>>4. The total slice she gave to Carl is 1/4 x 8 = <<1/4*8=2>>2. Therefore, the total slices left is 8 - 4 - 2 = <<8-4-2=2>>2.', 'answer': '2'}) (input_keys={'question'}), Example({'question': 'Megan pays $16 for a shirt that costs $22 before sales. What is the amount of the discount?', 'gold_reasoning': 'Let x be the amount of the discount. We have, 22 - x = $16 We change the writing of the equation: 22 - x + x = 16 + x So, 22 = 16 + x We then Remove 16 from both sides: 22 - 16 = 16 + x - 16 So, 22 - 16 = x So, the amount of the discount is x = $<<6=6>>6.', 'answer': '6'}) (input_keys={'question'}), Example({'question': \"Amaya scored 20 marks fewer in Maths than she scored in Arts. She also got 10 marks more in Social Studies than she got in Music. If she scored 70 in Music and scored 1/10 less in Maths, what's the total number of marks she scored in all the subjects?\", 'gold_reasoning': 'The total marks Amaya scored more in Music than in Maths is 1/10 * 70 = <<1/10*70=7>>7 marks. So the total marks she scored in Maths is 70 - 7 = <<70-7=63>>63 marks. If she scored 20 marks fewer in Maths than in Arts, then he scored 63 + 20 = <<63+20=83>>83 in Arts. If she scored 10 marks more in Social Studies than in Music, then she scored 70 + 10 = <<10+70=80>>80 marks in Social Studies. The total number of marks for all the subjects is 70 + 63 + 83 + 80 = <<70+63+83+80=296>>296 marks.', 'answer': '296'}) (input_keys={'question'})]\n"
     ]
    }
   ],
   "source": [
    "print(gsm8k_trainset)"
   ]
  },
  {
   "cell_type": "code",
   "execution_count": 6,
   "metadata": {},
   "outputs": [],
   "source": [
    "class CoT(dspy.Module):\n",
    "    def __init__(self):\n",
    "        super().__init__()\n",
    "        self.prog = dspy.ChainOfThought(\"question -> answer\")\n",
    "    \n",
    "    def forward(self, question):\n",
    "        return self.prog(question=question)"
   ]
  },
  {
   "cell_type": "code",
   "execution_count": 7,
   "metadata": {},
   "outputs": [
    {
     "name": "stderr",
     "output_type": "stream",
     "text": [
      " 50%|█████     | 5/10 [00:10<00:10,  2.04s/it]\n"
     ]
    }
   ],
   "source": [
    "from dspy.teleprompt import BootstrapFewShot \n",
    "\n",
    "# Set up the optimizer: we want to \"bootstrap\" (i.e., self-generate) 4-shot examples of our CoT program.\n",
    "config = dict(max_bootstrapped_demos=4, max_labeled_demos=4) \n",
    "\n",
    "# Optimize! Use the `gsm8k_metric` here. In general, the metric is going to tell the optimizer how well it's doing.\n",
    "teleprompter = BootstrapFewShot(metric=gsm8k_metric, **config) \n",
    "optimized_cot = teleprompter.compile(CoT(), trainset=gsm8k_trainset) "
   ]
  },
  {
   "cell_type": "code",
   "execution_count": 8,
   "metadata": {},
   "outputs": [
    {
     "name": "stderr",
     "output_type": "stream",
     "text": [
      "Average Metric: 7 / 10  (70.0): 100%|██████████| 10/10 [00:05<00:00,  1.77it/s]\n"
     ]
    },
    {
     "data": {
      "text/plain": [
       "70.0"
      ]
     },
     "execution_count": 8,
     "metadata": {},
     "output_type": "execute_result"
    }
   ],
   "source": [
    "from dspy.evaluate import Evaluate\n",
    "\n",
    "# Set up the evaluator, which can be used multiple times.\n",
    "evaluate = Evaluate(devset=gsm8k_devset, metric=gsm8k_metric, num_threads=4, display_progress=True, display_table=0)\n",
    "\n",
    "# Evaluate our `optimized_cot` program.\n",
    "evaluate(optimized_cot)"
   ]
  },
  {
   "cell_type": "code",
   "execution_count": 9,
   "metadata": {},
   "outputs": [
    {
     "name": "stdout",
     "output_type": "stream",
     "text": [
      "\n",
      "\n",
      "\n",
      "Given the fields `question`, produce the fields `answer`.\n",
      "\n",
      "---\n",
      "\n",
      "Follow the following format.\n",
      "\n",
      "Question: ${question}\n",
      "Reasoning: Let's think step by step in order to ${produce the answer}. We ...\n",
      "Answer: ${answer}\n",
      "\n",
      "---\n",
      "\n",
      "Question: The result from the 40-item Statistics exam Marion and Ella took already came out. Ella got 4 incorrect answers while Marion got 6 more than half the score of Ella. What is Marion's score?\n",
      "Reasoning: Let's think step by step in order to find Marion's score. We know that Ella got 4 incorrect answers, which means she got 36 correct answers out of 40. We also know that Marion got 6 more than half of Ella's score, which is 6 more than 36/2 = 18. Therefore, Marion's score is 18 + 6 = 24.\n",
      "Answer: 24\n",
      "\n",
      "---\n",
      "\n",
      "Question: Bridget counted 14 shooting stars in the night sky. Reginald counted two fewer shooting stars than did Bridget, but Sam counted four more shooting stars than did Reginald. How many more shooting stars did Sam count in the night sky than was the average number of shooting stars observed for the three of them?\n",
      "Reasoning: Let's think step by step in order to find the answer. First, we know that Bridget counted 14 shooting stars. Then, we know that Reginald counted two fewer than Bridget, so he counted 12 shooting stars. Finally, we know that Sam counted four more than Reginald, so he counted 16 shooting stars. To find the average number of shooting stars, we add up the total number of shooting stars (14 + 12 + 16 = 42) and divide by the number of people (3). This gives us an average of 14 shooting stars per person. Since Sam counted 16 shooting stars, he counted 2 more than the average number of shooting stars observed for the three of them.\n",
      "Answer: 2\n",
      "\n",
      "---\n",
      "\n",
      "Question: Sarah buys 20 pencils on Monday. Then she buys 18 more pencils on Tuesday. On Wednesday she buys triple the number of pencils she did on Tuesday. How many pencils does she have?\n",
      "Reasoning: Let's think step by step in order to find out how many pencils Sarah has. First, we know that she bought 20 pencils on Monday and 18 more on Tuesday, so she has 20 + 18 = 38 pencils. Then, on Wednesday she bought triple the number of pencils she did on Tuesday, which is 3 * 18 = 54 pencils. Therefore, Sarah has a total of 38 + 54 = 92 pencils.\n",
      "Answer: 92\n",
      "\n",
      "---\n",
      "\n",
      "Question: Rookie police officers have to buy duty shoes at the full price of $85, but officers who have served at least a year get a 20% discount. Officers who have served at least three years get an additional 25% off the discounted price. How much does an officer who has served at least three years have to pay for shoes?\n",
      "Reasoning: Let's think step by step in order to calculate the final price. First, we calculate the discounted price for an officer who has served at least a year. This is 85 * 0.8 = 68. Then, we calculate the additional discount for an officer who has served at least three years. This is 68 * 0.75 = 51. Finally, the officer has to pay this final price of 51.\n",
      "Answer: $51\n",
      "\n",
      "---\n",
      "\n",
      "Question: Martha's cat catches 3 rats and 7 birds. Cara's cat catches 3 less than five times as many animals as Martha's cat. How many animals does Cara's cat catch?\n",
      "Reasoning: Let's think step by step in order to find out how many animals Cara's cat catches. First, we know that Martha's cat catches 3 rats and 7 birds, for a total of 10 animals. Then, we know that Cara's cat catches 3 less than five times as many animals as Martha's cat, which is 5 * 10 - 3 = 47 animals. Therefore, Cara's cat catches 47 animals.\n",
      "Answer: 47\n",
      "\n",
      "\n",
      "\n"
     ]
    },
    {
     "data": {
      "text/plain": [
       "\"\\n\\n\\nGiven the fields `question`, produce the fields `answer`.\\n\\n---\\n\\nFollow the following format.\\n\\nQuestion: ${question}\\nReasoning: Let's think step by step in order to ${produce the answer}. We ...\\nAnswer: ${answer}\\n\\n---\\n\\nQuestion: The result from the 40-item Statistics exam Marion and Ella took already came out. Ella got 4 incorrect answers while Marion got 6 more than half the score of Ella. What is Marion's score?\\nReasoning: Let's think step by step in order to find Marion's score. We know that Ella got 4 incorrect answers, which means she got 36 correct answers out of 40. We also know that Marion got 6 more than half of Ella's score, which is 6 more than 36/2 = 18. Therefore, Marion's score is 18 + 6 = 24.\\nAnswer: 24\\n\\n---\\n\\nQuestion: Bridget counted 14 shooting stars in the night sky. Reginald counted two fewer shooting stars than did Bridget, but Sam counted four more shooting stars than did Reginald. How many more shooting stars did Sam count in the night sky than was the average number of shooting stars observed for the three of them?\\nReasoning: Let's think step by step in order to find the answer. First, we know that Bridget counted 14 shooting stars. Then, we know that Reginald counted two fewer than Bridget, so he counted 12 shooting stars. Finally, we know that Sam counted four more than Reginald, so he counted 16 shooting stars. To find the average number of shooting stars, we add up the total number of shooting stars (14 + 12 + 16 = 42) and divide by the number of people (3). This gives us an average of 14 shooting stars per person. Since Sam counted 16 shooting stars, he counted 2 more than the average number of shooting stars observed for the three of them.\\nAnswer: 2\\n\\n---\\n\\nQuestion: Sarah buys 20 pencils on Monday. Then she buys 18 more pencils on Tuesday. On Wednesday she buys triple the number of pencils she did on Tuesday. How many pencils does she have?\\nReasoning: Let's think step by step in order to find out how many pencils Sarah has. First, we know that she bought 20 pencils on Monday and 18 more on Tuesday, so she has 20 + 18 = 38 pencils. Then, on Wednesday she bought triple the number of pencils she did on Tuesday, which is 3 * 18 = 54 pencils. Therefore, Sarah has a total of 38 + 54 = 92 pencils.\\nAnswer: 92\\n\\n---\\n\\nQuestion: Rookie police officers have to buy duty shoes at the full price of $85, but officers who have served at least a year get a 20% discount. Officers who have served at least three years get an additional 25% off the discounted price. How much does an officer who has served at least three years have to pay for shoes?\\nReasoning: Let's think step by step in order to calculate the final price. First, we calculate the discounted price for an officer who has served at least a year. This is 85 * 0.8 = 68. Then, we calculate the additional discount for an officer who has served at least three years. This is 68 * 0.75 = 51. Finally, the officer has to pay this final price of 51.\\nAnswer: $51\\n\\n---\\n\\nQuestion: Martha's cat catches 3 rats and 7 birds. Cara's cat catches 3 less than five times as many animals as Martha's cat. How many animals does Cara's cat catch?\\nReasoning: Let's think step by step in order to\\x1b[32m find out how many animals Cara's cat catches. First, we know that Martha's cat catches 3 rats and 7 birds, for a total of 10 animals. Then, we know that Cara's cat catches 3 less than five times as many animals as Martha's cat, which is 5 * 10 - 3 = 47 animals. Therefore, Cara's cat catches 47 animals.\\nAnswer: 47\\x1b[0m\\n\\n\\n\""
      ]
     },
     "execution_count": 9,
     "metadata": {},
     "output_type": "execute_result"
    }
   ],
   "source": [
    "turbo.inspect_history(n=1) "
   ]
  },
  {
   "cell_type": "code",
   "execution_count": 10,
   "metadata": {},
   "outputs": [
    {
     "data": {
      "text/plain": [
       "Prediction(\n",
       "    rationale=\"produce the answer. We don't have any information about what just happened, so we cannot produce an answer.\",\n",
       "    answer='N/A'\n",
       ")"
      ]
     },
     "execution_count": 10,
     "metadata": {},
     "output_type": "execute_result"
    }
   ],
   "source": [
    "optimized_cot(question='what just happened')"
   ]
  },
  {
   "cell_type": "markdown",
   "metadata": {},
   "source": [
    "#### Basic Example of DSPy"
   ]
  },
  {
   "cell_type": "code",
   "execution_count": 4,
   "metadata": {},
   "outputs": [],
   "source": [
    "from dotenv import load_dotenv\n",
    "load_dotenv('D:\\\\gitFolders\\\\python_de_learners_data\\\\.env')\n",
    "import openai\n",
    "import os\n",
    "from dspy import (\n",
    "    Signature,\n",
    "    OpenAI,\n",
    "    Predict,\n",
    "    settings\n",
    ")\n",
    "import warnings\n",
    "warnings.filterwarnings('ignore')"
   ]
  },
  {
   "cell_type": "code",
   "execution_count": 3,
   "metadata": {},
   "outputs": [],
   "source": [
    "openai.api_key = os.environ['OPENAI_API_KEY']\n",
    "# openai.api_key\n"
   ]
  },
  {
   "cell_type": "code",
   "execution_count": 9,
   "metadata": {},
   "outputs": [],
   "source": [
    "turbo  = OpenAI(model='gpt-3.5-turbo',)\n",
    "settings.configure(lm=turbo)\n",
    "# settings.configure(turbo)"
   ]
  },
  {
   "cell_type": "code",
   "execution_count": 6,
   "metadata": {},
   "outputs": [
    {
     "data": {
      "text/plain": [
       "['Hello! How can I assist you today?']"
      ]
     },
     "execution_count": 6,
     "metadata": {},
     "output_type": "execute_result"
    }
   ],
   "source": [
    "# can access the LM directly as below\n",
    "turbo(\"Hi there, I am using DSPY...\")"
   ]
  },
  {
   "cell_type": "code",
   "execution_count": null,
   "metadata": {},
   "outputs": [],
   "source": [
    "# Best way is to use the Modules \n",
    "pred_mod = Predict('question -> answer')\n",
    "model_out = pred_mod(question='WHere is Lunar landing happend the first time?')"
   ]
  },
  {
   "cell_type": "code",
   "execution_count": 21,
   "metadata": {},
   "outputs": [
    {
     "data": {
      "text/plain": [
       "Prediction(\n",
       "    answer='Question: Where is Lunar landing happened the first time?\\nAnswer: The first Lunar landing happened on the Moon.'\n",
       ")"
      ]
     },
     "execution_count": 21,
     "metadata": {},
     "output_type": "execute_result"
    }
   ],
   "source": [
    "model_out"
   ]
  },
  {
   "cell_type": "code",
   "execution_count": 13,
   "metadata": {},
   "outputs": [
    {
     "name": "stdout",
     "output_type": "stream",
     "text": [
      "Question: Where is Lunar landing happened the first time?\n",
      "Answer: The first Lunar landing happened on the Moon.\n"
     ]
    }
   ],
   "source": [
    "print(model_out.answer)"
   ]
  },
  {
   "cell_type": "code",
   "execution_count": 18,
   "metadata": {
    "collapsed": true,
    "jupyter": {
     "outputs_hidden": true
    }
   },
   "outputs": [
    {
     "data": {
      "text/plain": [
       "[{'prompt': 'Given the fields `question`, produce the fields `answer`.\\n\\n---\\n\\nFollow the following format.\\n\\nQuestion: ${question}\\nAnswer: ${answer}\\n\\n---\\n\\nQuestion: WHere is Lunar landing happend the first time?\\nAnswer:',\n",
       "  'response': {'id': 'chatcmpl-8yvKkXsAN5lNoKIrXwpL5P9j23jd2',\n",
       "   'choices': [{'finish_reason': 'stop',\n",
       "     'index': 0,\n",
       "     'logprobs': None,\n",
       "     'message': {'content': 'Question: Where is Lunar landing happened the first time?\\nAnswer: The first Lunar landing happened on the Moon.',\n",
       "      'role': 'assistant',\n",
       "      'function_call': None,\n",
       "      'tool_calls': None}}],\n",
       "   'created': 1709530762,\n",
       "   'model': 'gpt-3.5-turbo-0125',\n",
       "   'object': 'chat.completion',\n",
       "   'system_fingerprint': 'fp_2b778c6b35',\n",
       "   'usage': {'completion_tokens': 22,\n",
       "    'prompt_tokens': 51,\n",
       "    'total_tokens': 73}},\n",
       "  'kwargs': {'stringify_request': '{\"temperature\": 0.0, \"max_tokens\": 150, \"top_p\": 1, \"frequency_penalty\": 0, \"presence_penalty\": 0, \"n\": 1, \"model\": \"gpt-3.5-turbo\", \"messages\": [{\"role\": \"user\", \"content\": \"Given the fields `question`, produce the fields `answer`.\\\\n\\\\n---\\\\n\\\\nFollow the following format.\\\\n\\\\nQuestion: ${question}\\\\nAnswer: ${answer}\\\\n\\\\n---\\\\n\\\\nQuestion: WHere is Lunar landing happend the first time?\\\\nAnswer:\"}]}'},\n",
       "  'raw_kwargs': {}},\n",
       " {'prompt': 'Given the fields `question`, produce the fields `answer`.\\n\\n---\\n\\nFollow the following format.\\n\\nQuestion: ${question}\\nAnswer: ${answer}\\n\\n---\\n\\nQuestion: WHere is Lunar landing happend the first time?\\nAnswer:',\n",
       "  'response': {'id': 'chatcmpl-8yvKkXsAN5lNoKIrXwpL5P9j23jd2',\n",
       "   'choices': [{'finish_reason': 'stop',\n",
       "     'index': 0,\n",
       "     'logprobs': None,\n",
       "     'message': {'content': 'Question: Where is Lunar landing happened the first time?\\nAnswer: The first Lunar landing happened on the Moon.',\n",
       "      'role': 'assistant',\n",
       "      'function_call': None,\n",
       "      'tool_calls': None}}],\n",
       "   'created': 1709530762,\n",
       "   'model': 'gpt-3.5-turbo-0125',\n",
       "   'object': 'chat.completion',\n",
       "   'system_fingerprint': 'fp_2b778c6b35',\n",
       "   'usage': {'completion_tokens': 22,\n",
       "    'prompt_tokens': 51,\n",
       "    'total_tokens': 73}},\n",
       "  'kwargs': {'stringify_request': '{\"temperature\": 0.0, \"max_tokens\": 150, \"top_p\": 1, \"frequency_penalty\": 0, \"presence_penalty\": 0, \"n\": 1, \"model\": \"gpt-3.5-turbo\", \"messages\": [{\"role\": \"user\", \"content\": \"Given the fields `question`, produce the fields `answer`.\\\\n\\\\n---\\\\n\\\\nFollow the following format.\\\\n\\\\nQuestion: ${question}\\\\nAnswer: ${answer}\\\\n\\\\n---\\\\n\\\\nQuestion: WHere is Lunar landing happend the first time?\\\\nAnswer:\"}]}'},\n",
       "  'raw_kwargs': {}}]"
      ]
     },
     "execution_count": 18,
     "metadata": {},
     "output_type": "execute_result"
    }
   ],
   "source": [
    "turbo.history"
   ]
  },
  {
   "cell_type": "code",
   "execution_count": 19,
   "metadata": {},
   "outputs": [
    {
     "name": "stdout",
     "output_type": "stream",
     "text": [
      "\n",
      "\n",
      "\n",
      "\n",
      "Given the fields `question`, produce the fields `answer`.\n",
      "\n",
      "---\n",
      "\n",
      "Follow the following format.\n",
      "\n",
      "Question: ${question}\n",
      "Answer: ${answer}\n",
      "\n",
      "---\n",
      "\n",
      "Question: WHere is Lunar landing happend the first time?\n",
      "Answer:\u001b[32m Question: Where is Lunar landing happened the first time?\n",
      "Answer: The first Lunar landing happened on the Moon.\u001b[0m\n",
      "\n",
      "\n",
      "\n"
     ]
    }
   ],
   "source": [
    "turbo.inspect_history(n=3)"
   ]
  },
  {
   "cell_type": "markdown",
   "metadata": {},
   "source": [
    "### But can you tell me Why DSPy?\n",
    "\n",
    "- Streamline the process of prompt-engineering with input and objective \n",
    "\n",
    "- Create Modules of LMs that can work to achieve objective \n",
    "\n",
    "- Then train the modules by using Datasets built by hand, and with LLMs \n",
    "\n",
    "- Evalute the modules with the Metrics that is custom coded in DSPy\n",
    "\n",
    "- Including Fine-tuning smaller models like T5 and Bert"
   ]
  },
  {
   "cell_type": "markdown",
   "metadata": {},
   "source": [
    "#### Can you Tell me how to use Open Source Model Integration with Dspy \n",
    "\n",
    "- Can you tell me How to configure LMs in DSPy \n",
    "  OpenAI, HF_Models, Ollama_models\n",
    "\n",
    "- Can you show some tasks we can perform with these models?\n",
    "    Creating a minimal code example to show how the models \n",
    "perform on QA, Classification and Summarisation tasks\n",
    "\n",
    "##### Before that Why?\n",
    "\n",
    "- DSPy process makes it possible to use smaller, cheaper model by the way of Optimizing the Modules\n",
    "\n",
    "- Depending the tasks, the LMs can be fine-tuned using the DSPy objects also.\n",
    "\n",
    "- Learn about supporting application like HuggingFace Hub, Ollama, TGI etc"
   ]
  },
  {
   "cell_type": "markdown",
   "metadata": {},
   "source": [
    "#### Executing Basic DSPy code"
   ]
  },
  {
   "cell_type": "code",
   "execution_count": 1,
   "metadata": {},
   "outputs": [
    {
     "data": {
      "text/plain": [
       "True"
      ]
     },
     "execution_count": 1,
     "metadata": {},
     "output_type": "execute_result"
    }
   ],
   "source": [
    "from dotenv import load_dotenv\n",
    "load_dotenv(\"/home/aicoder/gitfolder/python_de_learners_data/code_script_notebooks/.env\")"
   ]
  },
  {
   "cell_type": "code",
   "execution_count": 2,
   "metadata": {},
   "outputs": [],
   "source": [
    "import openai\n",
    "import os\n",
    "\n",
    "openai.api_key = os.environ['OPENAI_API_KEY']\n",
    "# openai.api_key"
   ]
  },
  {
   "cell_type": "code",
   "execution_count": 4,
   "metadata": {},
   "outputs": [],
   "source": [
    "from dspy import (\n",
    "    OpenAI,\n",
    "    OllamaLocal,\n",
    "    HFModel,\n",
    "    Predict,\n",
    "    Signature,\n",
    "    settings,\n",
    "    context\n",
    ")"
   ]
  },
  {
   "cell_type": "code",
   "execution_count": 5,
   "metadata": {},
   "outputs": [],
   "source": [
    "turbo = OpenAI(model='gpt-3.5-turbo')\n",
    "settings.configure(lm=turbo)"
   ]
  },
  {
   "cell_type": "code",
   "execution_count": 6,
   "metadata": {},
   "outputs": [],
   "source": [
    "# only a single Predict is required\n",
    "pred_qa = Predict('question -> answer')"
   ]
  },
  {
   "cell_type": "code",
   "execution_count": 8,
   "metadata": {},
   "outputs": [
    {
     "name": "stdout",
     "output_type": "stream",
     "text": [
      "Response by OpenAI:  Question: Who is the world's fastest man and woman?\n",
      "Answer: The world's fastest man is Usain Bolt from Jamaica, and the world's fastest woman is Florence Griffith-Joyner from the United States.\n"
     ]
    }
   ],
   "source": [
    "question = \"Who is the world fastest man and woman\"\n",
    "\n",
    "with context(lm=turbo):\n",
    "    resp = pred_qa(question=question)\n",
    "    print(\"Response by OpenAI: \", resp.answer)"
   ]
  },
  {
   "cell_type": "code",
   "execution_count": 9,
   "metadata": {
    "scrolled": true
   },
   "outputs": [],
   "source": [
    "# First lets check the ollama python interface\n",
    "mistral_ollama = OllamaLocal(model='mistralq4',\n",
    "                            model_type='text',\n",
    "                            base_url='http://localhost:11434',\n",
    "                            temperature=0.7)"
   ]
  },
  {
   "cell_type": "code",
   "execution_count": 10,
   "metadata": {},
   "outputs": [
    {
     "name": "stdout",
     "output_type": "stream",
     "text": [
      "Mistral Response:  [INSTR]\n",
      "  Given a question, produce the answer by looking up the answer in a database.\n",
      "[/INSTR]\n",
      "\n",
      "[/INST]\n"
     ]
    }
   ],
   "source": [
    "with context(lm=mistral_ollama):\n",
    "    resp = pred_qa(question=question)\n",
    "    print(\"Mistral Response: \", resp.answer)"
   ]
  },
  {
   "cell_type": "code",
   "execution_count": 11,
   "metadata": {},
   "outputs": [],
   "source": [
    "gemma_ollama = OllamaLocal(model='gemma:2b')"
   ]
  },
  {
   "cell_type": "code",
   "execution_count": 12,
   "metadata": {},
   "outputs": [
    {
     "name": "stdout",
     "output_type": "stream",
     "text": [
      "Gemma Response:  Prediction(\n",
      "    answer=\"Question: Who is the world fastest man and woman\\nAnswer: This context does not provide any information about the world's fastest man and woman, so I cannot generate the requested fields from the context.\"\n",
      ")\n"
     ]
    }
   ],
   "source": [
    "with context(lm=gemma_ollama):\n",
    "    resp = pred_qa(question=question)\n",
    "    print(\"Gemma Response: \", resp)"
   ]
  },
  {
   "cell_type": "code",
   "execution_count": 13,
   "metadata": {},
   "outputs": [
    {
     "data": {
      "application/vnd.jupyter.widget-view+json": {
       "model_id": "f3914b69df674988b3460b6f2bc7bc07",
       "version_major": 2,
       "version_minor": 0
      },
      "text/plain": [
       "Loading checkpoint shards:   0%|          | 0/2 [00:00<?, ?it/s]"
      ]
     },
     "metadata": {},
     "output_type": "display_data"
    }
   ],
   "source": [
    "# lets load HF Model\n",
    "gemma_hf = HFModel(\"google/gemma-2b-it\",)"
   ]
  },
  {
   "cell_type": "code",
   "execution_count": 15,
   "metadata": {},
   "outputs": [
    {
     "data": {
      "text/plain": [
       "[\"As of October 26, 2023, the world's fastest man is **Usain Bolt**, with a recorded speed of 10.31 seconds in the 200 meters race.\\n\\nThe world's fastest woman is **Florence Griffith-Joyner**, with a recorded speed of 11.34 seconds in the 100 meters race.\"]"
      ]
     },
     "execution_count": 15,
     "metadata": {},
     "output_type": "execute_result"
    }
   ],
   "source": [
    "gemma_ollama(question)"
   ]
  },
  {
   "cell_type": "code",
   "execution_count": 14,
   "metadata": {},
   "outputs": [
    {
     "name": "stderr",
     "output_type": "stream",
     "text": [
      "/home/aicoder/aimachine/lib/python3.10/site-packages/transformers/generation/configuration_utils.py:410: UserWarning: `do_sample` is set to `False`. However, `temperature` is set to `0.0` -- this flag is only used in sample-based generation modes. You should set `do_sample=True` or unset `temperature`.\n",
      "  warnings.warn(\n"
     ]
    },
    {
     "name": "stdout",
     "output_type": "stream",
     "text": [
      "Gemma HF Response:  Given the fields `question`, produce the fields `answer`.\n",
      "\n",
      "---\n",
      "\n",
      "Follow the following format.\n",
      "\n",
      "Question: ${question}\n",
      "Answer: ${answer}\n",
      "\n",
      "---\n",
      "\n",
      "Question: Who is the world fastest man and woman\n",
      "Answer: N/A\n"
     ]
    }
   ],
   "source": [
    "with context(lm=gemma_hf):\n",
    "    resp = pred_qa(question=question)\n",
    "    print(\"Gemma HF Response: \", resp.answer)"
   ]
  },
  {
   "cell_type": "code",
   "execution_count": null,
   "metadata": {},
   "outputs": [],
   "source": [
    "n_pred_qa = Predict('question -> answer', n=2)\n",
    "\n",
    "with context(lm=turbo):\n",
    "    resp = n_pred_qa(question=question)\n",
    "    for resp_elem in resp.completions:\n",
    "        print(\"Turbo Multi Response: \", resp_elem.answer)\n",
    "        print(\"\\n\")"
   ]
  },
  {
   "cell_type": "markdown",
   "metadata": {},
   "source": [
    "Following are other clients present\n",
    "\n",
    "- HFClientTGI\n",
    "\n",
    "- HFClientVLLM\n",
    "\n",
    "- ChatModuleClient"
   ]
  },
  {
   "cell_type": "markdown",
   "metadata": {},
   "source": [
    "#### Can you Tell me about DSPy Signatures\n",
    "\n",
    "- What are DSPy Signatures\n",
    "  > Framework / Template for prompts, to which the fixed inputs and outputs \n",
    "  > Define and Control the behavior of the modules that follows\n",
    "  > Field names matter, and carry semantic roles in plain english \n",
    "\n",
    "- What are the parts inside the Signatures\n",
    "  > Inline Signatures:\n",
    "    * Used inside the Modules directly\n",
    "    * Follows the \"Input -> Output\" pattern\n",
    "  > Class Based:\n",
    "    * Clarify about the task to be done with Docstring\n",
    "    * Supply hints on nature of input fields with desc args \n",
    "    * Supply constraints on nature of output fields with desc args \n",
    "\n",
    "- How they help in Programming LLMs\n",
    "    * Can be represented as classes / objects\n",
    "    * Assigned to variables\n",
    "    * Modified with Programmatically\n",
    "    * Used in Modules Directly as Classes \n",
    "\n",
    "##### Before that Why?\n",
    "\n",
    "- DSPy takes a Modular approach to achieve the task that is to be completed. Which is to Optimize the prompts / models to get best results most of the time.\n",
    "\n",
    "- Building the prompts from variables provided to Signature, can make it easy for LLMs themselves to modify the prompts\n",
    "\n",
    "- Each NLP Task can be implemented as Signatures. Then Optimized to yield better results with both generated and real world data.\n",
    "\n",
    "- Signatures are Integrated with Modules like Predict, ChainOfThought, React, ProgramOfThought, MultiChainComparison and Majority\n",
    "\n"
   ]
  },
  {
   "cell_type": "markdown",
   "metadata": {},
   "source": [
    "#### Executing DSPy Signatures"
   ]
  },
  {
   "cell_type": "code",
   "execution_count": 20,
   "metadata": {},
   "outputs": [
    {
     "data": {
      "text/plain": [
       "True"
      ]
     },
     "execution_count": 20,
     "metadata": {},
     "output_type": "execute_result"
    }
   ],
   "source": [
    "from dspy import (\n",
    "    OpenAI,\n",
    "    Signature,\n",
    "    Predict,\n",
    "    settings,\n",
    "    ChainOfThought,\n",
    "    context\n",
    ")\n",
    "import os\n",
    "from dotenv import load_dotenv\n",
    "load_dotenv(\"D:\\gitFolders\\python_de_learners_data\\.env\")"
   ]
  },
  {
   "cell_type": "code",
   "execution_count": 4,
   "metadata": {},
   "outputs": [],
   "source": [
    "import openai\n",
    "openai.api_key = os.environ['OPENAI_API_KEY']"
   ]
  },
  {
   "cell_type": "code",
   "execution_count": 10,
   "metadata": {},
   "outputs": [],
   "source": [
    "from rich import print"
   ]
  },
  {
   "cell_type": "code",
   "execution_count": 5,
   "metadata": {},
   "outputs": [],
   "source": [
    "turbo = OpenAI(model='gpt-3.5-turbo')"
   ]
  },
  {
   "cell_type": "code",
   "execution_count": 6,
   "metadata": {},
   "outputs": [],
   "source": [
    "signatures={\"QuestionAnswering\":\"question -> answer\",\n",
    "            \"SentimentClassification\":\"sentence -> sentiment\",\n",
    "            \"Summarization\": [\"document -> summary\",\n",
    "                              \"text -> gist\",\n",
    "                              \"long_context -> tldr\"],\n",
    "            \"RAG\": \"context, question -> answer\",\n",
    "            \"Multi-Choice\":\"question, choices -> reasoning, selection\"}"
   ]
  },
  {
   "cell_type": "code",
   "execution_count": 7,
   "metadata": {},
   "outputs": [
    {
     "data": {
      "text/plain": [
       "'question -> answer'"
      ]
     },
     "execution_count": 7,
     "metadata": {},
     "output_type": "execute_result"
    }
   ],
   "source": [
    "signatures['QuestionAnswering']"
   ]
  },
  {
   "cell_type": "code",
   "execution_count": 29,
   "metadata": {},
   "outputs": [],
   "source": [
    "qa_pred = Predict('question -> answer')"
   ]
  },
  {
   "cell_type": "code",
   "execution_count": 11,
   "metadata": {},
   "outputs": [
    {
     "data": {
      "text/html": [
       "<pre style=\"white-space:pre;overflow-x:auto;line-height:normal;font-family:Menlo,'DejaVu Sans Mono',consolas,'Courier New',monospace\"><span style=\"color: #800080; text-decoration-color: #800080; font-weight: bold\">Predict</span><span style=\"font-weight: bold\">(</span><span style=\"color: #800080; text-decoration-color: #800080; font-weight: bold\">Signature</span><span style=\"font-weight: bold\">(</span>question -&gt; answer\n",
       "    <span style=\"color: #808000; text-decoration-color: #808000\">instructions</span>=<span style=\"color: #008000; text-decoration-color: #008000\">'Given the fields `question`, produce the fields `answer`.'</span>\n",
       "    question = <span style=\"color: #800080; text-decoration-color: #800080; font-weight: bold\">Field</span><span style=\"font-weight: bold\">(</span><span style=\"color: #808000; text-decoration-color: #808000\">annotation</span>=<span style=\"color: #800080; text-decoration-color: #800080\">str</span> <span style=\"color: #808000; text-decoration-color: #808000\">required</span>=<span style=\"color: #00ff00; text-decoration-color: #00ff00; font-style: italic\">True</span> <span style=\"color: #808000; text-decoration-color: #808000\">json_schema_extra</span>=<span style=\"font-weight: bold\">{</span><span style=\"color: #008000; text-decoration-color: #008000\">'__dspy_field_type'</span>: <span style=\"color: #008000; text-decoration-color: #008000\">'input'</span>, <span style=\"color: #008000; text-decoration-color: #008000\">'prefix'</span>: \n",
       "<span style=\"color: #008000; text-decoration-color: #008000\">'Question:'</span>, <span style=\"color: #008000; text-decoration-color: #008000\">'desc'</span>: <span style=\"color: #008000; text-decoration-color: #008000\">'${question}'</span><span style=\"font-weight: bold\">})</span>\n",
       "    answer = <span style=\"color: #800080; text-decoration-color: #800080; font-weight: bold\">Field</span><span style=\"font-weight: bold\">(</span><span style=\"color: #808000; text-decoration-color: #808000\">annotation</span>=<span style=\"color: #800080; text-decoration-color: #800080\">str</span> <span style=\"color: #808000; text-decoration-color: #808000\">required</span>=<span style=\"color: #00ff00; text-decoration-color: #00ff00; font-style: italic\">True</span> <span style=\"color: #808000; text-decoration-color: #808000\">json_schema_extra</span>=<span style=\"font-weight: bold\">{</span><span style=\"color: #008000; text-decoration-color: #008000\">'__dspy_field_type'</span>: <span style=\"color: #008000; text-decoration-color: #008000\">'output'</span>, <span style=\"color: #008000; text-decoration-color: #008000\">'prefix'</span>: \n",
       "<span style=\"color: #008000; text-decoration-color: #008000\">'Answer:'</span>, <span style=\"color: #008000; text-decoration-color: #008000\">'desc'</span>: <span style=\"color: #008000; text-decoration-color: #008000\">'${answer}'</span><span style=\"font-weight: bold\">})</span>\n",
       "<span style=\"font-weight: bold\">))</span>\n",
       "</pre>\n"
      ],
      "text/plain": [
       "\u001b[1;35mPredict\u001b[0m\u001b[1m(\u001b[0m\u001b[1;35mSignature\u001b[0m\u001b[1m(\u001b[0mquestion -> answer\n",
       "    \u001b[33minstructions\u001b[0m=\u001b[32m'Given the fields `question`, produce the fields `answer`.'\u001b[0m\n",
       "    question = \u001b[1;35mField\u001b[0m\u001b[1m(\u001b[0m\u001b[33mannotation\u001b[0m=\u001b[35mstr\u001b[0m \u001b[33mrequired\u001b[0m=\u001b[3;92mTrue\u001b[0m \u001b[33mjson_schema_extra\u001b[0m=\u001b[1m{\u001b[0m\u001b[32m'__dspy_field_type'\u001b[0m: \u001b[32m'input'\u001b[0m, \u001b[32m'prefix'\u001b[0m: \n",
       "\u001b[32m'Question:'\u001b[0m, \u001b[32m'desc'\u001b[0m: \u001b[32m'$\u001b[0m\u001b[32m{\u001b[0m\u001b[32mquestion\u001b[0m\u001b[32m}\u001b[0m\u001b[32m'\u001b[0m\u001b[1m}\u001b[0m\u001b[1m)\u001b[0m\n",
       "    answer = \u001b[1;35mField\u001b[0m\u001b[1m(\u001b[0m\u001b[33mannotation\u001b[0m=\u001b[35mstr\u001b[0m \u001b[33mrequired\u001b[0m=\u001b[3;92mTrue\u001b[0m \u001b[33mjson_schema_extra\u001b[0m=\u001b[1m{\u001b[0m\u001b[32m'__dspy_field_type'\u001b[0m: \u001b[32m'output'\u001b[0m, \u001b[32m'prefix'\u001b[0m: \n",
       "\u001b[32m'Answer:'\u001b[0m, \u001b[32m'desc'\u001b[0m: \u001b[32m'$\u001b[0m\u001b[32m{\u001b[0m\u001b[32manswer\u001b[0m\u001b[32m}\u001b[0m\u001b[32m'\u001b[0m\u001b[1m}\u001b[0m\u001b[1m)\u001b[0m\n",
       "\u001b[1m)\u001b[0m\u001b[1m)\u001b[0m\n"
      ]
     },
     "metadata": {},
     "output_type": "display_data"
    }
   ],
   "source": [
    "print(qa_pred)"
   ]
  },
  {
   "cell_type": "code",
   "execution_count": 12,
   "metadata": {},
   "outputs": [],
   "source": [
    "sum_pred = Predict('document -> summary')"
   ]
  },
  {
   "cell_type": "code",
   "execution_count": 13,
   "metadata": {},
   "outputs": [
    {
     "data": {
      "text/html": [
       "<pre style=\"white-space:pre;overflow-x:auto;line-height:normal;font-family:Menlo,'DejaVu Sans Mono',consolas,'Courier New',monospace\"><span style=\"color: #800080; text-decoration-color: #800080; font-weight: bold\">Predict</span><span style=\"font-weight: bold\">(</span><span style=\"color: #800080; text-decoration-color: #800080; font-weight: bold\">Signature</span><span style=\"font-weight: bold\">(</span>document -&gt; summary\n",
       "    <span style=\"color: #808000; text-decoration-color: #808000\">instructions</span>=<span style=\"color: #008000; text-decoration-color: #008000\">'Given the fields `document`, produce the fields `summary`.'</span>\n",
       "    document = <span style=\"color: #800080; text-decoration-color: #800080; font-weight: bold\">Field</span><span style=\"font-weight: bold\">(</span><span style=\"color: #808000; text-decoration-color: #808000\">annotation</span>=<span style=\"color: #800080; text-decoration-color: #800080\">str</span> <span style=\"color: #808000; text-decoration-color: #808000\">required</span>=<span style=\"color: #00ff00; text-decoration-color: #00ff00; font-style: italic\">True</span> <span style=\"color: #808000; text-decoration-color: #808000\">json_schema_extra</span>=<span style=\"font-weight: bold\">{</span><span style=\"color: #008000; text-decoration-color: #008000\">'__dspy_field_type'</span>: <span style=\"color: #008000; text-decoration-color: #008000\">'input'</span>, <span style=\"color: #008000; text-decoration-color: #008000\">'prefix'</span>: \n",
       "<span style=\"color: #008000; text-decoration-color: #008000\">'Document:'</span>, <span style=\"color: #008000; text-decoration-color: #008000\">'desc'</span>: <span style=\"color: #008000; text-decoration-color: #008000\">'${document}'</span><span style=\"font-weight: bold\">})</span>\n",
       "    summary = <span style=\"color: #800080; text-decoration-color: #800080; font-weight: bold\">Field</span><span style=\"font-weight: bold\">(</span><span style=\"color: #808000; text-decoration-color: #808000\">annotation</span>=<span style=\"color: #800080; text-decoration-color: #800080\">str</span> <span style=\"color: #808000; text-decoration-color: #808000\">required</span>=<span style=\"color: #00ff00; text-decoration-color: #00ff00; font-style: italic\">True</span> <span style=\"color: #808000; text-decoration-color: #808000\">json_schema_extra</span>=<span style=\"font-weight: bold\">{</span><span style=\"color: #008000; text-decoration-color: #008000\">'__dspy_field_type'</span>: <span style=\"color: #008000; text-decoration-color: #008000\">'output'</span>, <span style=\"color: #008000; text-decoration-color: #008000\">'prefix'</span>: \n",
       "<span style=\"color: #008000; text-decoration-color: #008000\">'Summary:'</span>, <span style=\"color: #008000; text-decoration-color: #008000\">'desc'</span>: <span style=\"color: #008000; text-decoration-color: #008000\">'${summary}'</span><span style=\"font-weight: bold\">})</span>\n",
       "<span style=\"font-weight: bold\">))</span>\n",
       "</pre>\n"
      ],
      "text/plain": [
       "\u001b[1;35mPredict\u001b[0m\u001b[1m(\u001b[0m\u001b[1;35mSignature\u001b[0m\u001b[1m(\u001b[0mdocument -> summary\n",
       "    \u001b[33minstructions\u001b[0m=\u001b[32m'Given the fields `document`, produce the fields `summary`.'\u001b[0m\n",
       "    document = \u001b[1;35mField\u001b[0m\u001b[1m(\u001b[0m\u001b[33mannotation\u001b[0m=\u001b[35mstr\u001b[0m \u001b[33mrequired\u001b[0m=\u001b[3;92mTrue\u001b[0m \u001b[33mjson_schema_extra\u001b[0m=\u001b[1m{\u001b[0m\u001b[32m'__dspy_field_type'\u001b[0m: \u001b[32m'input'\u001b[0m, \u001b[32m'prefix'\u001b[0m: \n",
       "\u001b[32m'Document:'\u001b[0m, \u001b[32m'desc'\u001b[0m: \u001b[32m'$\u001b[0m\u001b[32m{\u001b[0m\u001b[32mdocument\u001b[0m\u001b[32m}\u001b[0m\u001b[32m'\u001b[0m\u001b[1m}\u001b[0m\u001b[1m)\u001b[0m\n",
       "    summary = \u001b[1;35mField\u001b[0m\u001b[1m(\u001b[0m\u001b[33mannotation\u001b[0m=\u001b[35mstr\u001b[0m \u001b[33mrequired\u001b[0m=\u001b[3;92mTrue\u001b[0m \u001b[33mjson_schema_extra\u001b[0m=\u001b[1m{\u001b[0m\u001b[32m'__dspy_field_type'\u001b[0m: \u001b[32m'output'\u001b[0m, \u001b[32m'prefix'\u001b[0m: \n",
       "\u001b[32m'Summary:'\u001b[0m, \u001b[32m'desc'\u001b[0m: \u001b[32m'$\u001b[0m\u001b[32m{\u001b[0m\u001b[32msummary\u001b[0m\u001b[32m}\u001b[0m\u001b[32m'\u001b[0m\u001b[1m}\u001b[0m\u001b[1m)\u001b[0m\n",
       "\u001b[1m)\u001b[0m\u001b[1m)\u001b[0m\n"
      ]
     },
     "metadata": {},
     "output_type": "display_data"
    }
   ],
   "source": [
    "print(sum_pred)"
   ]
  },
  {
   "cell_type": "code",
   "execution_count": 15,
   "metadata": {},
   "outputs": [],
   "source": [
    "sum_cot = ChainOfThought('document -> summary')"
   ]
  },
  {
   "cell_type": "code",
   "execution_count": 16,
   "metadata": {},
   "outputs": [
    {
     "data": {
      "text/html": [
       "<pre style=\"white-space:pre;overflow-x:auto;line-height:normal;font-family:Menlo,'DejaVu Sans Mono',consolas,'Courier New',monospace\"><span style=\"color: #800080; text-decoration-color: #800080; font-weight: bold\">ChainOfThought</span><span style=\"font-weight: bold\">(</span><span style=\"color: #800080; text-decoration-color: #800080; font-weight: bold\">Signature</span><span style=\"font-weight: bold\">(</span>document -&gt; summary\n",
       "    <span style=\"color: #808000; text-decoration-color: #808000\">instructions</span>=<span style=\"color: #008000; text-decoration-color: #008000\">'Given the fields `document`, produce the fields `summary`.'</span>\n",
       "    document = <span style=\"color: #800080; text-decoration-color: #800080; font-weight: bold\">Field</span><span style=\"font-weight: bold\">(</span><span style=\"color: #808000; text-decoration-color: #808000\">annotation</span>=<span style=\"color: #800080; text-decoration-color: #800080\">str</span> <span style=\"color: #808000; text-decoration-color: #808000\">required</span>=<span style=\"color: #00ff00; text-decoration-color: #00ff00; font-style: italic\">True</span> <span style=\"color: #808000; text-decoration-color: #808000\">json_schema_extra</span>=<span style=\"font-weight: bold\">{</span><span style=\"color: #008000; text-decoration-color: #008000\">'__dspy_field_type'</span>: <span style=\"color: #008000; text-decoration-color: #008000\">'input'</span>, <span style=\"color: #008000; text-decoration-color: #008000\">'prefix'</span>: \n",
       "<span style=\"color: #008000; text-decoration-color: #008000\">'Document:'</span>, <span style=\"color: #008000; text-decoration-color: #008000\">'desc'</span>: <span style=\"color: #008000; text-decoration-color: #008000\">'${document}'</span><span style=\"font-weight: bold\">})</span>\n",
       "    summary = <span style=\"color: #800080; text-decoration-color: #800080; font-weight: bold\">Field</span><span style=\"font-weight: bold\">(</span><span style=\"color: #808000; text-decoration-color: #808000\">annotation</span>=<span style=\"color: #800080; text-decoration-color: #800080\">str</span> <span style=\"color: #808000; text-decoration-color: #808000\">required</span>=<span style=\"color: #00ff00; text-decoration-color: #00ff00; font-style: italic\">True</span> <span style=\"color: #808000; text-decoration-color: #808000\">json_schema_extra</span>=<span style=\"font-weight: bold\">{</span><span style=\"color: #008000; text-decoration-color: #008000\">'__dspy_field_type'</span>: <span style=\"color: #008000; text-decoration-color: #008000\">'output'</span>, <span style=\"color: #008000; text-decoration-color: #008000\">'prefix'</span>: \n",
       "<span style=\"color: #008000; text-decoration-color: #008000\">'Summary:'</span>, <span style=\"color: #008000; text-decoration-color: #008000\">'desc'</span>: <span style=\"color: #008000; text-decoration-color: #008000\">'${summary}'</span><span style=\"font-weight: bold\">})</span>\n",
       "<span style=\"font-weight: bold\">))</span>\n",
       "</pre>\n"
      ],
      "text/plain": [
       "\u001b[1;35mChainOfThought\u001b[0m\u001b[1m(\u001b[0m\u001b[1;35mSignature\u001b[0m\u001b[1m(\u001b[0mdocument -> summary\n",
       "    \u001b[33minstructions\u001b[0m=\u001b[32m'Given the fields `document`, produce the fields `summary`.'\u001b[0m\n",
       "    document = \u001b[1;35mField\u001b[0m\u001b[1m(\u001b[0m\u001b[33mannotation\u001b[0m=\u001b[35mstr\u001b[0m \u001b[33mrequired\u001b[0m=\u001b[3;92mTrue\u001b[0m \u001b[33mjson_schema_extra\u001b[0m=\u001b[1m{\u001b[0m\u001b[32m'__dspy_field_type'\u001b[0m: \u001b[32m'input'\u001b[0m, \u001b[32m'prefix'\u001b[0m: \n",
       "\u001b[32m'Document:'\u001b[0m, \u001b[32m'desc'\u001b[0m: \u001b[32m'$\u001b[0m\u001b[32m{\u001b[0m\u001b[32mdocument\u001b[0m\u001b[32m}\u001b[0m\u001b[32m'\u001b[0m\u001b[1m}\u001b[0m\u001b[1m)\u001b[0m\n",
       "    summary = \u001b[1;35mField\u001b[0m\u001b[1m(\u001b[0m\u001b[33mannotation\u001b[0m=\u001b[35mstr\u001b[0m \u001b[33mrequired\u001b[0m=\u001b[3;92mTrue\u001b[0m \u001b[33mjson_schema_extra\u001b[0m=\u001b[1m{\u001b[0m\u001b[32m'__dspy_field_type'\u001b[0m: \u001b[32m'output'\u001b[0m, \u001b[32m'prefix'\u001b[0m: \n",
       "\u001b[32m'Summary:'\u001b[0m, \u001b[32m'desc'\u001b[0m: \u001b[32m'$\u001b[0m\u001b[32m{\u001b[0m\u001b[32msummary\u001b[0m\u001b[32m}\u001b[0m\u001b[32m'\u001b[0m\u001b[1m}\u001b[0m\u001b[1m)\u001b[0m\n",
       "\u001b[1m)\u001b[0m\u001b[1m)\u001b[0m\n"
      ]
     },
     "metadata": {},
     "output_type": "display_data"
    }
   ],
   "source": [
    "print(sum_cot)"
   ]
  },
  {
   "cell_type": "code",
   "execution_count": 17,
   "metadata": {},
   "outputs": [],
   "source": [
    "# developing Custom Signatures\n",
    "from dspy import (\n",
    "    InputField,\n",
    "    OutputField\n",
    ")\n",
    "\n",
    "class MultiClass(Signature):\n",
    "    \"\"\"Classify the given data into Address, Human's Name, Location, Building, Amount\"\"\"\n",
    "    sentence = InputField(desc=\"data to be classified\")\n",
    "    data_type = OutputField(desc=\"falls in one of categories\")"
   ]
  },
  {
   "cell_type": "code",
   "execution_count": 25,
   "metadata": {},
   "outputs": [],
   "source": [
    "# predict with Signature Class\n",
    "\n",
    "pred_class = Predict(MultiClass)"
   ]
  },
  {
   "cell_type": "code",
   "execution_count": 26,
   "metadata": {},
   "outputs": [
    {
     "data": {
      "text/html": [
       "<pre style=\"white-space:pre;overflow-x:auto;line-height:normal;font-family:Menlo,'DejaVu Sans Mono',consolas,'Courier New',monospace\"><span style=\"color: #800080; text-decoration-color: #800080; font-weight: bold\">Predict</span><span style=\"font-weight: bold\">(</span><span style=\"color: #800080; text-decoration-color: #800080; font-weight: bold\">Signature</span><span style=\"font-weight: bold\">(</span>sentence -&gt; data_type\n",
       "    <span style=\"color: #808000; text-decoration-color: #808000\">instructions</span>=<span style=\"color: #008000; text-decoration-color: #008000\">\"Classify the given data into Address, Human's Name, Location, Building, Amount\"</span>\n",
       "    sentence = <span style=\"color: #800080; text-decoration-color: #800080; font-weight: bold\">Field</span><span style=\"font-weight: bold\">(</span><span style=\"color: #808000; text-decoration-color: #808000\">annotation</span>=<span style=\"color: #800080; text-decoration-color: #800080\">str</span> <span style=\"color: #808000; text-decoration-color: #808000\">required</span>=<span style=\"color: #00ff00; text-decoration-color: #00ff00; font-style: italic\">True</span> <span style=\"color: #808000; text-decoration-color: #808000\">json_schema_extra</span>=<span style=\"font-weight: bold\">{</span><span style=\"color: #008000; text-decoration-color: #008000\">'desc'</span>: <span style=\"color: #008000; text-decoration-color: #008000\">'data to be classified'</span>, \n",
       "<span style=\"color: #008000; text-decoration-color: #008000\">'__dspy_field_type'</span>: <span style=\"color: #008000; text-decoration-color: #008000\">'input'</span>, <span style=\"color: #008000; text-decoration-color: #008000\">'prefix'</span>: <span style=\"color: #008000; text-decoration-color: #008000\">'Sentence:'</span><span style=\"font-weight: bold\">})</span>\n",
       "    data_type = <span style=\"color: #800080; text-decoration-color: #800080; font-weight: bold\">Field</span><span style=\"font-weight: bold\">(</span><span style=\"color: #808000; text-decoration-color: #808000\">annotation</span>=<span style=\"color: #800080; text-decoration-color: #800080\">str</span> <span style=\"color: #808000; text-decoration-color: #808000\">required</span>=<span style=\"color: #00ff00; text-decoration-color: #00ff00; font-style: italic\">True</span> <span style=\"color: #808000; text-decoration-color: #808000\">json_schema_extra</span>=<span style=\"font-weight: bold\">{</span><span style=\"color: #008000; text-decoration-color: #008000\">'desc'</span>: <span style=\"color: #008000; text-decoration-color: #008000\">'falls in one of categories'</span>, \n",
       "<span style=\"color: #008000; text-decoration-color: #008000\">'__dspy_field_type'</span>: <span style=\"color: #008000; text-decoration-color: #008000\">'output'</span>, <span style=\"color: #008000; text-decoration-color: #008000\">'prefix'</span>: <span style=\"color: #008000; text-decoration-color: #008000\">'Data Type:'</span><span style=\"font-weight: bold\">})</span>\n",
       "<span style=\"font-weight: bold\">))</span>\n",
       "</pre>\n"
      ],
      "text/plain": [
       "\u001b[1;35mPredict\u001b[0m\u001b[1m(\u001b[0m\u001b[1;35mSignature\u001b[0m\u001b[1m(\u001b[0msentence -> data_type\n",
       "    \u001b[33minstructions\u001b[0m=\u001b[32m\"Classify\u001b[0m\u001b[32m the given data into Address, Human's Name, Location, Building, Amount\"\u001b[0m\n",
       "    sentence = \u001b[1;35mField\u001b[0m\u001b[1m(\u001b[0m\u001b[33mannotation\u001b[0m=\u001b[35mstr\u001b[0m \u001b[33mrequired\u001b[0m=\u001b[3;92mTrue\u001b[0m \u001b[33mjson_schema_extra\u001b[0m=\u001b[1m{\u001b[0m\u001b[32m'desc'\u001b[0m: \u001b[32m'data to be classified'\u001b[0m, \n",
       "\u001b[32m'__dspy_field_type'\u001b[0m: \u001b[32m'input'\u001b[0m, \u001b[32m'prefix'\u001b[0m: \u001b[32m'Sentence:'\u001b[0m\u001b[1m}\u001b[0m\u001b[1m)\u001b[0m\n",
       "    data_type = \u001b[1;35mField\u001b[0m\u001b[1m(\u001b[0m\u001b[33mannotation\u001b[0m=\u001b[35mstr\u001b[0m \u001b[33mrequired\u001b[0m=\u001b[3;92mTrue\u001b[0m \u001b[33mjson_schema_extra\u001b[0m=\u001b[1m{\u001b[0m\u001b[32m'desc'\u001b[0m: \u001b[32m'falls in one of categories'\u001b[0m, \n",
       "\u001b[32m'__dspy_field_type'\u001b[0m: \u001b[32m'output'\u001b[0m, \u001b[32m'prefix'\u001b[0m: \u001b[32m'Data Type:'\u001b[0m\u001b[1m}\u001b[0m\u001b[1m)\u001b[0m\n",
       "\u001b[1m)\u001b[0m\u001b[1m)\u001b[0m\n"
      ]
     },
     "metadata": {},
     "output_type": "display_data"
    }
   ],
   "source": [
    "print(pred_class)"
   ]
  },
  {
   "cell_type": "code",
   "execution_count": 21,
   "metadata": {},
   "outputs": [
    {
     "data": {
      "text/html": [
       "<pre style=\"white-space:pre;overflow-x:auto;line-height:normal;font-family:Menlo,'DejaVu Sans Mono',consolas,'Courier New',monospace\"><span style=\"color: #800080; text-decoration-color: #800080; font-weight: bold\">Prediction</span><span style=\"font-weight: bold\">(</span>\n",
       "    <span style=\"color: #808000; text-decoration-color: #808000\">json_output</span>=<span style=\"color: #008000; text-decoration-color: #008000\">'{\\n  \"Address\": \"123 Main Street\",\\n  \"Location\": \"New York City\",\\n  \"Human Name\": \"John Doe\",\\n </span>\n",
       "<span style=\"color: #008000; text-decoration-color: #008000\">\"Building Name\": \"Empire State Building\",\\n  \"Amount\": \"$100\"\\n}'</span>\n",
       "<span style=\"font-weight: bold\">)</span>\n",
       "</pre>\n"
      ],
      "text/plain": [
       "\u001b[1;35mPrediction\u001b[0m\u001b[1m(\u001b[0m\n",
       "    \u001b[33mjson_output\u001b[0m=\u001b[32m'\u001b[0m\u001b[32m{\u001b[0m\u001b[32m\\n  \"Address\": \"123 Main Street\",\\n  \"Location\": \"New York City\",\\n  \"Human Name\": \"John Doe\",\\n \u001b[0m\n",
       "\u001b[32m\"Building Name\": \"Empire State Building\",\\n  \"Amount\": \"$100\"\\n\u001b[0m\u001b[32m}\u001b[0m\u001b[32m'\u001b[0m\n",
       "\u001b[1m)\u001b[0m\n"
      ]
     },
     "metadata": {},
     "output_type": "display_data"
    }
   ],
   "source": [
    "# Say I want to get some data from OpenAI, lets create a predict signature\n",
    "\n",
    "get_json_data = Predict('required_data -> json_output')\n",
    "\n",
    "prompt = \"provide one example of Address, Location, Human Name, Building Name and Amount\"\n",
    "\n",
    "with context(lm=turbo):\n",
    "    resp = get_json_data(required_data=prompt)\n",
    "    print(resp)"
   ]
  },
  {
   "cell_type": "code",
   "execution_count": 24,
   "metadata": {},
   "outputs": [
    {
     "data": {
      "text/plain": [
       "{'Address': '123 Main Street',\n",
       " 'Location': 'New York City',\n",
       " 'Human Name': 'John Doe',\n",
       " 'Building Name': 'Empire State Building',\n",
       " 'Amount': '$100'}"
      ]
     },
     "execution_count": 24,
     "metadata": {},
     "output_type": "execute_result"
    }
   ],
   "source": [
    "import json\n",
    "\n",
    "recd_data = json.loads(resp.json_output)\n",
    "recd_data"
   ]
  },
  {
   "cell_type": "code",
   "execution_count": 30,
   "metadata": {},
   "outputs": [
    {
     "data": {
      "text/plain": [
       "dict_values(['123 Main Street', 'New York City', 'John Doe', 'Empire State Building', '$100'])"
      ]
     },
     "execution_count": 30,
     "metadata": {},
     "output_type": "execute_result"
    }
   ],
   "source": [
    "recd_data.values()"
   ]
  },
  {
   "cell_type": "code",
   "execution_count": null,
   "metadata": {},
   "outputs": [],
   "source": [
    "with context(lm=turbo):\n",
    "    for vals in recd_data.values():\n",
    "        print(\"Classifying: \", vals)\n",
    "        class_resp = pred_class(sentence=vals) \n",
    "        print(\"Output class is: \", class_resp.data_type)"
   ]
  },
  {
   "cell_type": "markdown",
   "metadata": {},
   "source": [
    "#### Can you tell me about DSPy Modules\n",
    "\n",
    "> Why Modules:\n",
    "\n",
    "    * Modules are Python Class which \n",
    "\n",
    "    * Abstract prompting techniques\n",
    "\n",
    "    * Contain Learnable Parameters (This differs for each module class)\n",
    "\n",
    "    * Can be combined to build complex modules\n",
    "\n",
    "    * Some modules emit additional information\n",
    "\n",
    "> How To use: 2 Ways\n",
    "\n",
    "    * Create object with Single module like Predict / ChainOfThought\n",
    "\n",
    "    * Create chained / modularized object that contains more than one Module\n",
    "\n",
    "> What modules are present\n",
    "\n",
    "    * Predict: Basic predictor. Does not modify the signature. Handles the key forms of learning (i.e., storing the instructions and demonstrations and updates to the LM).\n",
    "\n",
    "    * ChainOfThought: Teaches the LM to think step-by-step before committing to the signature's response.\n",
    "\n",
    "    * ProgramOfThought: Teaches the LM to output code, whose execution results will dictate the response. It is designed to generate and execute Python code based on input fields, producing a single output field through iterative refinement. It supports multiple iterations to refine the code in case of errors.\n",
    "\n",
    "    * ReAct: An agent that can use tools to implement the given signature.\n",
    "\n",
    "    * MultiChainComparison: Can compare multiple outputs from ChainOfThought to produce a final prediction. Method aggregates all the student reasoning attempts and calls the predict method with extended signatures to get the best reasoning.\n",
    "\n",
    "    * Retrieve: The constructor initializes the Retrieve class and sets up its attributes, taking in k number of retrieval passages to return for a query.\n",
    "\n",
    "    * majority: Can do basic voting to return the most popular response from a set of predictions.\n",
    "\n",
    "https://dspy-docs.vercel.app/api/category/modules/"
   ]
  },
  {
   "cell_type": "code",
   "execution_count": 1,
   "metadata": {},
   "outputs": [],
   "source": [
    "module_params = {\"Predict\":[\"Signature\", \"**config_dict\"],\n",
    "                 \"ChainOfThought\":[\"Signature\", \"rationale_type\",\n",
    "                                   \"activated\", \"**config_dict\"],\n",
    "                \"ChainOfThoughtWithHint\":[\"Signature\", \"rationale_type\",\n",
    "                                   \"activated\", \"**config_dict\"],\n",
    "                \"MultiChainComparison\":[\"signatures\", \"M\", \"temperature\",\n",
    "                                        \"**config_dict\"],\n",
    "                \"ProgramOfThougt\":[\"signature\", \"max_iters\"],\n",
    "                \"ReAct\":[\"signature\", \"max_iters\", \"num_results\", \n",
    "                         \"tools\"],\n",
    "                \"Retrieve\":['k']\n",
    "                }"
   ]
  },
  {
   "cell_type": "markdown",
   "metadata": {},
   "source": [
    "##### Predict Class"
   ]
  },
  {
   "cell_type": "code",
   "execution_count": 2,
   "metadata": {},
   "outputs": [],
   "source": [
    "from dspy import (\n",
    "    InputField,\n",
    "    OutputField,\n",
    "    infer_prefix,\n",
    ")\n",
    "from dspy.predict.parameter import Parameter\n",
    "import random\n",
    "from dsp import Template\n",
    "\n",
    "class Predict(Parameter):\n",
    "    def __init__(self, signature, **config):\n",
    "        self.stage = random.randbytes(8).hex()\n",
    "        self.signature = signature\n",
    "        self.config = config\n",
    "        self.reset()\n",
    "\n",
    "        if isinstance(signature, str):\n",
    "            inputs, outputs = signature.split(\"->\")\n",
    "            inputs, outputs = inputs.split(\",\"), outputs.split(\",\")\n",
    "            inputs, outputs = [field.strip() for field in inputs], [field.strip() for field in outputs]\n",
    "\n",
    "            assert all(len(field.split()) == 1 for field in (inputs + outputs))\n",
    "\n",
    "            inputs_ = ', '.join([f\"`{field}`\" for field in inputs])\n",
    "            outputs_ = ', '.join([f\"`{field}`\" for field in outputs])\n",
    "\n",
    "            instructions = f\"\"\"Given the fields {inputs_}, produce the fields {outputs_}.\"\"\"\n",
    "\n",
    "            inputs = {k: InputField() for k in inputs}\n",
    "            outputs = {k: OutputField() for k in outputs}\n",
    "\n",
    "            for k, v in inputs.items():\n",
    "                v.finalize(k, infer_prefix(k))\n",
    "            \n",
    "            for k, v in outputs.items():\n",
    "                v.finalize(k, infer_prefix(k))\n",
    "\n",
    "            self.signature = Template(instructions, **inputs, **outputs)"
   ]
  },
  {
   "cell_type": "markdown",
   "metadata": {},
   "source": [
    "If the signature is a string, it processes the input and output fields, generates instructions, and creates a template for the specified signature type."
   ]
  },
  {
   "cell_type": "markdown",
   "metadata": {},
   "source": [
    "Chain OF Thought"
   ]
  },
  {
   "cell_type": "code",
   "execution_count": null,
   "metadata": {},
   "outputs": [],
   "source": [
    "from dsp import Type\n",
    "class ChainOfThought(Predict):\n",
    "    def __init__(self, signature, rationale_type=None, activated=True, **config):\n",
    "        super().__init__(signature, **config)\n",
    "\n",
    "        self.activated = activated\n",
    "\n",
    "        signature = self.signature\n",
    "        *keys, last_key = signature.kwargs.keys()\n",
    "\n",
    "        DEFAULT_RATIONALE_TYPE = Type(prefix=\"Reasoning: Let's think step by step in order to\",\n",
    "                                          desc=\"${produce the \" + last_key + \"}. We ...\")\n",
    "\n",
    "        rationale_type = rationale_type or DEFAULT_RATIONALE_TYPE\n",
    "        \n",
    "        extended_kwargs = {key: signature.kwargs[key] for key in keys}\n",
    "        extended_kwargs.update({'rationale': rationale_type, last_key: signature.kwargs[last_key]})\n",
    "        \n",
    "        self.extended_signature = Template(signature.instructions, **extended_kwargs)"
   ]
  },
  {
   "cell_type": "markdown",
   "metadata": {},
   "source": [
    "Chain Of Thought with Hint"
   ]
  },
  {
   "cell_type": "code",
   "execution_count": null,
   "metadata": {},
   "outputs": [],
   "source": [
    "class ChainOfThoughtWithHint(Predict):\n",
    "    def __init__(self, signature, rationale_type=None, activated=True, **config):\n",
    "        super().__init__(signature, **config)\n",
    "\n",
    "        self.activated = activated\n",
    "\n",
    "        signature = self.signature\n",
    "        *keys, last_key = signature.kwargs.keys()\n",
    "\n",
    "        DEFAULT_HINT_TYPE = Type(prefix=\"Hint:\", desc=\"${hint}\")\n",
    "\n",
    "        DEFAULT_RATIONALE_TYPE = Type(prefix=\"Reasoning: Let's think step by step in order to\",\n",
    "                                          desc=\"${produce the \" + last_key + \"}. We ...\")\n",
    "\n",
    "        rationale_type = rationale_type or DEFAULT_RATIONALE_TYPE\n",
    "        \n",
    "        extended_kwargs1 = {key: signature.kwargs[key] for key in keys}\n",
    "        extended_kwargs1.update({'rationale': rationale_type, last_key: signature.kwargs[last_key]})\n",
    "\n",
    "        extended_kwargs2 = {key: signature.kwargs[key] for key in keys}\n",
    "        extended_kwargs2.update({'hint': DEFAULT_HINT_TYPE, 'rationale': rationale_type, last_key: signature.kwargs[last_key]})\n",
    "        \n",
    "        self.extended_signature1 = Template(signature.instructions, **extended_kwargs1)\n",
    "        self.extended_signature2 = Template(signature.instructions, **extended_kwargs2)"
   ]
  },
  {
   "cell_type": "markdown",
   "metadata": {},
   "source": [
    "MultiChainComparison"
   ]
  },
  {
   "cell_type": "code",
   "execution_count": 34,
   "metadata": {},
   "outputs": [],
   "source": [
    "from dspy.primitives.program import Module\n",
    "\n",
    "class MultiChainComparison(Module):\n",
    "    def __init__(self, signature, M=3, temperature=0.7, **config):\n",
    "        super().__init__()\n",
    "\n",
    "        self.M = M\n",
    "        signature = Predict(signature).signature\n",
    "        *keys, last_key = signature.kwargs.keys()\n",
    "\n",
    "        extended_kwargs = {key: signature.kwargs[key] for key in keys}\n",
    "\n",
    "        for idx in range(M):\n",
    "            candidate_type = Type(prefix=f\"Student Attempt #{idx+1}:\", \n",
    "                                  desc=\"${reasoning attempt}\")\n",
    "            extended_kwargs.update({f'reasoning_attempt_{idx+1}': candidate_type})\n",
    "        \n",
    "        rationale_type = Type(prefix=\"Accurate Reasoning: Thank you everyone. Let's now holistically\", \n",
    "                                  desc=\"${corrected reasoning}\")\n",
    "        extended_kwargs.update({'rationale': rationale_type, \n",
    "                                last_key: signature.kwargs[last_key]})\n",
    "\n",
    "        signature = Template(signature.instructions, **extended_kwargs)\n",
    "        self.predict = Predict(signature, temperature=temperature, **config)\n",
    "        self.last_key = last_key"
   ]
  },
  {
   "cell_type": "code",
   "execution_count": null,
   "metadata": {},
   "outputs": [],
   "source": [
    "from dspy import Prediction\n",
    "\n",
    "class BasicQA(Signature):\n",
    "    \"\"\"Answer questions with short factoid answers.\"\"\"\n",
    "    question = InputField()\n",
    "    answer = OutputField(desc=\"often between 1 and 5 words\")\n",
    "\n",
    "# Example completions generated by a model for reference\n",
    "completions = [\n",
    "    Prediction(rationale=\"I recall that during clear days, the sky often appears this color.\",\n",
    "               answer=\"blue\"),\n",
    "    Prediction(rationale=\"Based on common knowledge, I believe the sky is typically seen as this color.\",\n",
    "               answer=\"green\"),\n",
    "    Prediction(rationale=\"From images and depictions in media, the sky is frequently represented with this hue.\",\n",
    "               answer=\"blue\"),\n",
    "]\n",
    "\n",
    "# Pass signature to MultiChainComparison module\n",
    "compare_answers = MultiChainComparison(BasicQA)\n",
    "\n",
    "# Call the MultiChainComparison on the completions\n",
    "question = 'What is the color of the sky?'\n",
    "final_pred = compare_answers(completions, question=question)\n",
    "\n",
    "print(f\"Question: {question}\")\n",
    "print(f\"Final Predicted Answer (after comparison): {final_pred.answer}\")\n",
    "print(f\"Final Rationale: {final_pred.rationale}\")"
   ]
  },
  {
   "cell_type": "markdown",
   "metadata": {},
   "source": [
    "##### Program of Thought"
   ]
  },
  {
   "cell_type": "markdown",
   "metadata": {},
   "source": [
    "Generates a signature dict for different modes: generate, regenerate, and answer.\n",
    "\n",
    "> The generate mode serves as an initial generation of Python code with the signature (question -> generated_code). \n",
    "\n",
    "> The regenerate mode serves as a refining generation of Python code, accounting for the past generated code and existing error with the signature (question, previous_code, error -> generated_code). \n",
    "\n",
    "> The answer mode serves to execute the last stored generated code and output the final answer to the question with the signature (question, final_generated_code, code_output -> answer)."
   ]
  },
  {
   "cell_type": "code",
   "execution_count": 17,
   "metadata": {},
   "outputs": [
    {
     "data": {
      "text/html": [
       "<pre style=\"white-space:pre;overflow-x:auto;line-height:normal;font-family:Menlo,'DejaVu Sans Mono',consolas,'Courier New',monospace\">Question: Sarah has <span style=\"color: #008080; text-decoration-color: #008080; font-weight: bold\">5</span> apples. She buys <span style=\"color: #008080; text-decoration-color: #008080; font-weight: bold\">7</span> more apples from the store. How many apples does Sarah have now?\n",
       "</pre>\n"
      ],
      "text/plain": [
       "Question: Sarah has \u001b[1;36m5\u001b[0m apples. She buys \u001b[1;36m7\u001b[0m more apples from the store. How many apples does Sarah have now?\n"
      ]
     },
     "metadata": {},
     "output_type": "display_data"
    },
    {
     "data": {
      "text/html": [
       "<pre style=\"white-space:pre;overflow-x:auto;line-height:normal;font-family:Menlo,'DejaVu Sans Mono',consolas,'Courier New',monospace\">Final Predicted Answer <span style=\"font-weight: bold\">(</span>after ProgramOfThought process<span style=\"font-weight: bold\">)</span>: Sarah now has <span style=\"color: #008080; text-decoration-color: #008080; font-weight: bold\">12</span> apples.\n",
       "</pre>\n"
      ],
      "text/plain": [
       "Final Predicted Answer \u001b[1m(\u001b[0mafter ProgramOfThought process\u001b[1m)\u001b[0m: Sarah now has \u001b[1;36m12\u001b[0m apples.\n"
      ]
     },
     "metadata": {},
     "output_type": "display_data"
    }
   ],
   "source": [
    "from dspy import ProgramOfThought\n",
    "\n",
    "# Define a simple signature for basic question answering\n",
    "generate_answer_signature = Signature(\"question -> answer\")\n",
    "# generate_answer_signature.attach(question=(\"Question:\", \"\")).attach(answer=(\"Answer:\", \"often between 1 and 5 words\"))\n",
    "\n",
    "# Pass signature to ProgramOfThought Module\n",
    "pot = ProgramOfThought(generate_answer_signature)\n",
    "\n",
    "#Call the ProgramOfThought module on a particular input\n",
    "question = 'Sarah has 5 apples. She buys 7 more apples from the store. How many apples does Sarah have now?'\n",
    "result = pot(question=question)\n",
    "\n",
    "print(f\"Question: {question}\")\n",
    "print(f\"Final Predicted Answer (after ProgramOfThought process): {result.answer}\")"
   ]
  },
  {
   "cell_type": "code",
   "execution_count": 18,
   "metadata": {},
   "outputs": [
    {
     "name": "stdout",
     "output_type": "stream",
     "text": [
      "\n",
      "\n",
      "\n",
      "\n",
      "Given the fields `question`, produce the fields `answer_as_json`.\n",
      "\n",
      "---\n",
      "\n",
      "Follow the following format.\n",
      "\n",
      "Question: ${question}\n",
      "Answer As Json: ${answer_as_json}\n",
      "\n",
      "---\n",
      "\n",
      "Question: Provide me the top 2 countries and their GDP for past 3 years\n",
      "Answer As Json:\u001b[32m {\n",
      "  \"countries\": [\n",
      "    {\n",
      "      \"name\": \"United States\",\n",
      "      \"GDP\": {\n",
      "        \"2019\": 21427700,\n",
      "        \"2020\": 21427700,\n",
      "        \"2021\": 21427700\n",
      "      }\n",
      "    },\n",
      "    {\n",
      "      \"name\": \"China\",\n",
      "      \"GDP\": {\n",
      "        \"2019\": 14342903,\n",
      "        \"2020\": 14342903,\n",
      "        \"2021\": 14342903\n",
      "      }\n",
      "    }\n",
      "  ]\n",
      "}\u001b[0m\n",
      "\n",
      "\n",
      "\n",
      "\n",
      "\n",
      "\n",
      "\n",
      "Given the fields `question`, produce the fields `answer_as_json`.\n",
      "\n",
      "---\n",
      "\n",
      "Follow the following format.\n",
      "\n",
      "Question: ${question}\n",
      "Reasoning: Let's think step by step in order to ${produce the answer_as_json}. We ...\n",
      "Answer As Json: ${answer_as_json}\n",
      "\n",
      "---\n",
      "\n",
      "Question: Provide me the top 2 countries and their GDP for past 3 years\n",
      "Reasoning: Let's think step by step in order to\u001b[32m produce the answer as json. We need to first find the GDP of all countries for the past 3 years, then rank them accordingly to get the top 2 countries.\n",
      "Answer As Json: \n",
      "{\n",
      "  \"top_countries\": [\n",
      "    {\n",
      "      \"country\": \"United States\",\n",
      "      \"GDP\": {\n",
      "        \"2019\": \"$21.43 trillion\",\n",
      "        \"2020\": \"$21.43 trillion\",\n",
      "        \"2021\": \"$22.67 trillion\"\n",
      "      }\n",
      "    },\n",
      "    {\n",
      "      \"country\": \"China\",\n",
      "      \"GDP\": {\n",
      "        \"2019\": \"$14.34 trillion\",\n",
      "        \"2020\": \"$15.42 trillion\",\n",
      "        \"2021\": \"$16.64 trillion\"\n",
      "      }\u001b[0m\u001b[31m \t (and 1 other completions)\u001b[0m\n",
      "\n",
      "\n",
      "\n",
      "\n",
      "\n",
      "\n",
      "\n",
      "Given the fields `question`, produce the fields `answer`.\n",
      "\n",
      "---\n",
      "\n",
      "Follow the following format.\n",
      "\n",
      "Question: ${question}\n",
      "\n",
      "Student Attempt #1: ${reasoning attempt}\n",
      "\n",
      "Student Attempt #2: ${reasoning attempt}\n",
      "\n",
      "Student Attempt #3: ${reasoning attempt}\n",
      "\n",
      "Accurate Reasoning: Thank you everyone. Let's now holistically ${corrected reasoning}\n",
      "\n",
      "Answer: ${answer}\n",
      "\n",
      "---\n",
      "\n",
      "Question: What is the color of the sky?\n",
      "\n",
      "Student Attempt #1: «I'm trying to I recall that during clear days, the sky often appears this color. I'm not sure but my prediction is blue»\n",
      "\n",
      "Student Attempt #2: «I'm trying to Based on common knowledge, I believe the sky is typically seen as this color. I'm not sure but my prediction is green»\n",
      "\n",
      "Student Attempt #3: «I'm trying to From images and depictions in media, the sky is frequently represented with this hue. I'm not sure but my prediction is blue»\n",
      "\n",
      "Accurate Reasoning: Thank you everyone. Let's now holistically\u001b[32m correct the reasoning by considering scientific knowledge and observations. The color of the sky is predominantly blue due to Rayleigh scattering of sunlight in the Earth's atmosphere.\n",
      "\n",
      "Answer: The color of the sky is blue.\u001b[0m\n",
      "\n",
      "\n",
      "\n",
      "\n",
      "\n",
      "\n",
      "\n",
      "You will be given `question` and you will respond with `generated_code`.\n",
      "Generating executable Python code that programmatically computes the correct `generated_code`.\n",
      "After you're done with the computation, make sure the last line in your code evaluates to the correct value for `generated_code`.\n",
      "\n",
      "---\n",
      "\n",
      "Follow the following format.\n",
      "\n",
      "Question: ${question}\n",
      "Reasoning: Let's think step by step in order to ${produce the generated_code}. We ...\n",
      "Code: python code that answers the question\n",
      "\n",
      "---\n",
      "\n",
      "Question: Sarah has 5 apples. She buys 7 more apples from the store. How many apples does Sarah have now?\n",
      "Reasoning: Let's think step by step in order to\u001b[32m produce the generated_code. We start with the initial number of apples Sarah has, which is 5. Then we add the number of apples she buys from the store, which is 7.\n",
      "\n",
      "Code:\n",
      "```python\n",
      "initial_apples = 5\n",
      "apples_bought = 7\n",
      "total_apples = initial_apples + apples_bought\n",
      "total_apples\n",
      "```\u001b[0m\n",
      "\n",
      "\n",
      "\n",
      "\n",
      "\n",
      "\n",
      "\n",
      "Given the final code `question`, `final_generated_code`, `code_output`, provide the final `answer`.\n",
      "\n",
      "---\n",
      "\n",
      "Follow the following format.\n",
      "\n",
      "Question: ${question}\n",
      "\n",
      "Code: python code that answers the question\n",
      "\n",
      "Code Output: output of previously-generated python code\n",
      "\n",
      "Reasoning: Let's think step by step in order to ${produce the answer}. We ...\n",
      "\n",
      "Answer: ${answer}\n",
      "\n",
      "---\n",
      "\n",
      "Question: Sarah has 5 apples. She buys 7 more apples from the store. How many apples does Sarah have now?\n",
      "\n",
      "Code:\n",
      "initial_apples = 5\n",
      "apples_bought = 7\n",
      "total_apples = initial_apples + apples_bought\n",
      "total_apples\n",
      "\n",
      "Code Output: 12\n",
      "\n",
      "Reasoning: Let's think step by step in order to\u001b[32m produce the answer. We start by defining the initial number of apples Sarah has as 5 and the number of apples she bought as 7. By adding these two values together, we can calculate the total number of apples Sarah has now.\n",
      "\n",
      "Answer: Sarah now has 12 apples.\u001b[0m\n",
      "\n",
      "\n",
      "\n"
     ]
    }
   ],
   "source": [
    "turbo.inspect_history(n=6)"
   ]
  },
  {
   "cell_type": "markdown",
   "metadata": {},
   "source": [
    "#### ReAct"
   ]
  },
  {
   "cell_type": "code",
   "execution_count": null,
   "metadata": {},
   "outputs": [],
   "source": [
    "import dsp\n",
    "import dspy\n",
    "from ..primitives.program import Module\n",
    "from .predict import Predict\n",
    "\n",
    "class ReAct(Module):\n",
    "    def __init__(self, signature, max_iters=5, num_results=3, tools=None):\n",
    "        ..."
   ]
  },
  {
   "cell_type": "code",
   "execution_count": null,
   "metadata": {},
   "outputs": [],
   "source": [
    "# Define a simple signature for basic question answering\n",
    "class BasicQA(dspy.Signature):\n",
    "    \"\"\"Answer questions with short factoid answers.\"\"\"\n",
    "    question = dspy.InputField()\n",
    "    answer = dspy.OutputField(desc=\"often between 1 and 5 words\")\n",
    "\n",
    "# Pass signature to ReAct module\n",
    "react_module = dspy.ReAct(BasicQA)\n",
    "\n",
    "# Call the ReAct module on a particular input\n",
    "question = 'What is the color of the sky?'\n",
    "result = react_module(question=question)\n",
    "\n",
    "print(f\"Question: {question}\")\n",
    "print(f\"Final Predicted Answer (after ReAct process): {result.answer}\")"
   ]
  },
  {
   "cell_type": "markdown",
   "metadata": {},
   "source": [
    "#### Rertrieve"
   ]
  },
  {
   "cell_type": "code",
   "execution_count": null,
   "metadata": {},
   "outputs": [],
   "source": [
    "class Retrieve(Parameter):\n",
    "    def __init__(self, k=3):\n",
    "        self.stage = random.randbytes(8).hex()\n",
    "        self.k = k\n",
    "\n",
    "query='When was the first FIFA World Cup held?'\n",
    "\n",
    "# Call the retriever on a particular query.\n",
    "retrieve = dspy.Retrieve(k=3)\n",
    "topK_passages = retrieve(query).passages\n",
    "\n",
    "print(f\"Top {retrieve.k} passages for question: {query} \\n\", '-' * 30, '\\n')\n",
    "\n",
    "for idx, passage in enumerate(topK_passages):\n",
    "    print(f'{idx+1}]', passage, '\\n')"
   ]
  },
  {
   "cell_type": "markdown",
   "metadata": {},
   "source": [
    "#### Executing and reviewing modules"
   ]
  },
  {
   "cell_type": "code",
   "execution_count": 2,
   "metadata": {},
   "outputs": [],
   "source": [
    "from dotenv import load_dotenv\n",
    "import openai\n",
    "import os\n",
    "load_dotenv(\"D:\\\\gitFolders\\\\python_de_learners_data\\\\.env\")\n",
    "openai.api_key = os.environ['OPENAI_API_KEY']"
   ]
  },
  {
   "cell_type": "code",
   "execution_count": 3,
   "metadata": {},
   "outputs": [
    {
     "name": "stderr",
     "output_type": "stream",
     "text": [
      "d:\\dspyenv\\Lib\\site-packages\\tqdm\\auto.py:21: TqdmWarning: IProgress not found. Please update jupyter and ipywidgets. See https://ipywidgets.readthedocs.io/en/stable/user_install.html\n",
      "  from .autonotebook import tqdm as notebook_tqdm\n"
     ]
    }
   ],
   "source": [
    "from dspy import (\n",
    "    Predict,\n",
    "    settings,\n",
    "    InputField,\n",
    "    OutputField,\n",
    "    ChainOfThought,\n",
    "    ChainOfThoughtWithHint,\n",
    "    ProgramOfThought,\n",
    "    ReAct,\n",
    "    MultiChainComparison,\n",
    "    Retrieve,\n",
    "    OpenAI,\n",
    "    Prediction,\n",
    "    Signature\n",
    ")"
   ]
  },
  {
   "cell_type": "code",
   "execution_count": 4,
   "metadata": {},
   "outputs": [],
   "source": [
    "turbo = OpenAI(model='gpt-3.5-turbo')\n",
    "settings.configure(lm=turbo)"
   ]
  },
  {
   "cell_type": "markdown",
   "metadata": {},
   "source": [
    "The Modules in DSPy can take signatures with similar input / output variables. Depending on the modules parameters, additional inputs might be required. \n",
    "\n",
    "We have seen the Modules implementation above, so if you stumble in the code below then, feel free to review the implementation"
   ]
  },
  {
   "cell_type": "code",
   "execution_count": 6,
   "metadata": {},
   "outputs": [],
   "source": [
    "from rich import print  # provides a readable print function"
   ]
  },
  {
   "cell_type": "code",
   "execution_count": 7,
   "metadata": {},
   "outputs": [
    {
     "data": {
      "text/html": [
       "<pre style=\"white-space:pre;overflow-x:auto;line-height:normal;font-family:Menlo,'DejaVu Sans Mono',consolas,'Courier New',monospace\"><span style=\"color: #800080; text-decoration-color: #800080; font-weight: bold\">Predict</span><span style=\"font-weight: bold\">(</span><span style=\"color: #800080; text-decoration-color: #800080; font-weight: bold\">Signature</span><span style=\"font-weight: bold\">(</span>question -&gt; answer_as_json\n",
       "    <span style=\"color: #808000; text-decoration-color: #808000\">instructions</span>=<span style=\"color: #008000; text-decoration-color: #008000\">'Given the fields `question`, produce the fields `answer_as_json`.'</span>\n",
       "    question = <span style=\"color: #800080; text-decoration-color: #800080; font-weight: bold\">Field</span><span style=\"font-weight: bold\">(</span><span style=\"color: #808000; text-decoration-color: #808000\">annotation</span>=<span style=\"color: #800080; text-decoration-color: #800080\">str</span> <span style=\"color: #808000; text-decoration-color: #808000\">required</span>=<span style=\"color: #00ff00; text-decoration-color: #00ff00; font-style: italic\">True</span> <span style=\"color: #808000; text-decoration-color: #808000\">json_schema_extra</span>=<span style=\"font-weight: bold\">{</span><span style=\"color: #008000; text-decoration-color: #008000\">'__dspy_field_type'</span>: <span style=\"color: #008000; text-decoration-color: #008000\">'input'</span>, <span style=\"color: #008000; text-decoration-color: #008000\">'prefix'</span>: \n",
       "<span style=\"color: #008000; text-decoration-color: #008000\">'Question:'</span>, <span style=\"color: #008000; text-decoration-color: #008000\">'desc'</span>: <span style=\"color: #008000; text-decoration-color: #008000\">'${question}'</span><span style=\"font-weight: bold\">})</span>\n",
       "    answer_as_json = <span style=\"color: #800080; text-decoration-color: #800080; font-weight: bold\">Field</span><span style=\"font-weight: bold\">(</span><span style=\"color: #808000; text-decoration-color: #808000\">annotation</span>=<span style=\"color: #800080; text-decoration-color: #800080\">str</span> <span style=\"color: #808000; text-decoration-color: #808000\">required</span>=<span style=\"color: #00ff00; text-decoration-color: #00ff00; font-style: italic\">True</span> <span style=\"color: #808000; text-decoration-color: #808000\">json_schema_extra</span>=<span style=\"font-weight: bold\">{</span><span style=\"color: #008000; text-decoration-color: #008000\">'__dspy_field_type'</span>: <span style=\"color: #008000; text-decoration-color: #008000\">'output'</span>, <span style=\"color: #008000; text-decoration-color: #008000\">'prefix'</span>:\n",
       "<span style=\"color: #008000; text-decoration-color: #008000\">'Answer As Json:'</span>, <span style=\"color: #008000; text-decoration-color: #008000\">'desc'</span>: <span style=\"color: #008000; text-decoration-color: #008000\">'${answer_as_json}'</span><span style=\"font-weight: bold\">})</span>\n",
       "<span style=\"font-weight: bold\">))</span>\n",
       "</pre>\n"
      ],
      "text/plain": [
       "\u001b[1;35mPredict\u001b[0m\u001b[1m(\u001b[0m\u001b[1;35mSignature\u001b[0m\u001b[1m(\u001b[0mquestion -> answer_as_json\n",
       "    \u001b[33minstructions\u001b[0m=\u001b[32m'Given the fields `question`, produce the fields `answer_as_json`.'\u001b[0m\n",
       "    question = \u001b[1;35mField\u001b[0m\u001b[1m(\u001b[0m\u001b[33mannotation\u001b[0m=\u001b[35mstr\u001b[0m \u001b[33mrequired\u001b[0m=\u001b[3;92mTrue\u001b[0m \u001b[33mjson_schema_extra\u001b[0m=\u001b[1m{\u001b[0m\u001b[32m'__dspy_field_type'\u001b[0m: \u001b[32m'input'\u001b[0m, \u001b[32m'prefix'\u001b[0m: \n",
       "\u001b[32m'Question:'\u001b[0m, \u001b[32m'desc'\u001b[0m: \u001b[32m'$\u001b[0m\u001b[32m{\u001b[0m\u001b[32mquestion\u001b[0m\u001b[32m}\u001b[0m\u001b[32m'\u001b[0m\u001b[1m}\u001b[0m\u001b[1m)\u001b[0m\n",
       "    answer_as_json = \u001b[1;35mField\u001b[0m\u001b[1m(\u001b[0m\u001b[33mannotation\u001b[0m=\u001b[35mstr\u001b[0m \u001b[33mrequired\u001b[0m=\u001b[3;92mTrue\u001b[0m \u001b[33mjson_schema_extra\u001b[0m=\u001b[1m{\u001b[0m\u001b[32m'__dspy_field_type'\u001b[0m: \u001b[32m'output'\u001b[0m, \u001b[32m'prefix'\u001b[0m:\n",
       "\u001b[32m'Answer As Json:'\u001b[0m, \u001b[32m'desc'\u001b[0m: \u001b[32m'$\u001b[0m\u001b[32m{\u001b[0m\u001b[32manswer_as_json\u001b[0m\u001b[32m}\u001b[0m\u001b[32m'\u001b[0m\u001b[1m}\u001b[0m\u001b[1m)\u001b[0m\n",
       "\u001b[1m)\u001b[0m\u001b[1m)\u001b[0m\n"
      ]
     },
     "metadata": {},
     "output_type": "display_data"
    }
   ],
   "source": [
    "pred_basic_qa = Predict('question -> answer_as_json')  # Experiment with words\n",
    "print(pred_basic_qa)"
   ]
  },
  {
   "cell_type": "code",
   "execution_count": 8,
   "metadata": {},
   "outputs": [],
   "source": [
    "question = \"Provide me the top 2 countries and their GDP for past 3 years\"\n",
    "response = pred_basic_qa(question=question)"
   ]
  },
  {
   "cell_type": "code",
   "execution_count": 9,
   "metadata": {},
   "outputs": [
    {
     "data": {
      "text/html": [
       "<pre style=\"white-space:pre;overflow-x:auto;line-height:normal;font-family:Menlo,'DejaVu Sans Mono',consolas,'Courier New',monospace\"><span style=\"font-weight: bold\">{</span>\n",
       "  <span style=\"color: #008000; text-decoration-color: #008000\">\"countries\"</span>: <span style=\"font-weight: bold\">[</span>\n",
       "    <span style=\"font-weight: bold\">{</span>\n",
       "      <span style=\"color: #008000; text-decoration-color: #008000\">\"name\"</span>: <span style=\"color: #008000; text-decoration-color: #008000\">\"United States\"</span>,\n",
       "      <span style=\"color: #008000; text-decoration-color: #008000\">\"GDP\"</span>: <span style=\"font-weight: bold\">{</span>\n",
       "        <span style=\"color: #008000; text-decoration-color: #008000\">\"2019\"</span>: <span style=\"color: #008080; text-decoration-color: #008080; font-weight: bold\">21427700</span>,\n",
       "        <span style=\"color: #008000; text-decoration-color: #008000\">\"2020\"</span>: <span style=\"color: #008080; text-decoration-color: #008080; font-weight: bold\">21427700</span>,\n",
       "        <span style=\"color: #008000; text-decoration-color: #008000\">\"2021\"</span>: <span style=\"color: #008080; text-decoration-color: #008080; font-weight: bold\">21427700</span>\n",
       "      <span style=\"font-weight: bold\">}</span>\n",
       "    <span style=\"font-weight: bold\">}</span>,\n",
       "    <span style=\"font-weight: bold\">{</span>\n",
       "      <span style=\"color: #008000; text-decoration-color: #008000\">\"name\"</span>: <span style=\"color: #008000; text-decoration-color: #008000\">\"China\"</span>,\n",
       "      <span style=\"color: #008000; text-decoration-color: #008000\">\"GDP\"</span>: <span style=\"font-weight: bold\">{</span>\n",
       "        <span style=\"color: #008000; text-decoration-color: #008000\">\"2019\"</span>: <span style=\"color: #008080; text-decoration-color: #008080; font-weight: bold\">14342903</span>,\n",
       "        <span style=\"color: #008000; text-decoration-color: #008000\">\"2020\"</span>: <span style=\"color: #008080; text-decoration-color: #008080; font-weight: bold\">14342903</span>,\n",
       "        <span style=\"color: #008000; text-decoration-color: #008000\">\"2021\"</span>: <span style=\"color: #008080; text-decoration-color: #008080; font-weight: bold\">14342903</span>\n",
       "      <span style=\"font-weight: bold\">}</span>\n",
       "    <span style=\"font-weight: bold\">}</span>\n",
       "  <span style=\"font-weight: bold\">]</span>\n",
       "<span style=\"font-weight: bold\">}</span>\n",
       "</pre>\n"
      ],
      "text/plain": [
       "\u001b[1m{\u001b[0m\n",
       "  \u001b[32m\"countries\"\u001b[0m: \u001b[1m[\u001b[0m\n",
       "    \u001b[1m{\u001b[0m\n",
       "      \u001b[32m\"name\"\u001b[0m: \u001b[32m\"United States\"\u001b[0m,\n",
       "      \u001b[32m\"GDP\"\u001b[0m: \u001b[1m{\u001b[0m\n",
       "        \u001b[32m\"2019\"\u001b[0m: \u001b[1;36m21427700\u001b[0m,\n",
       "        \u001b[32m\"2020\"\u001b[0m: \u001b[1;36m21427700\u001b[0m,\n",
       "        \u001b[32m\"2021\"\u001b[0m: \u001b[1;36m21427700\u001b[0m\n",
       "      \u001b[1m}\u001b[0m\n",
       "    \u001b[1m}\u001b[0m,\n",
       "    \u001b[1m{\u001b[0m\n",
       "      \u001b[32m\"name\"\u001b[0m: \u001b[32m\"China\"\u001b[0m,\n",
       "      \u001b[32m\"GDP\"\u001b[0m: \u001b[1m{\u001b[0m\n",
       "        \u001b[32m\"2019\"\u001b[0m: \u001b[1;36m14342903\u001b[0m,\n",
       "        \u001b[32m\"2020\"\u001b[0m: \u001b[1;36m14342903\u001b[0m,\n",
       "        \u001b[32m\"2021\"\u001b[0m: \u001b[1;36m14342903\u001b[0m\n",
       "      \u001b[1m}\u001b[0m\n",
       "    \u001b[1m}\u001b[0m\n",
       "  \u001b[1m]\u001b[0m\n",
       "\u001b[1m}\u001b[0m\n"
      ]
     },
     "metadata": {},
     "output_type": "display_data"
    }
   ],
   "source": [
    "print(response.answer_as_json)  \n",
    "# this is a well formed JSON, can check by loading into python dictionary "
   ]
  },
  {
   "cell_type": "code",
   "execution_count": 13,
   "metadata": {},
   "outputs": [
    {
     "name": "stdout",
     "output_type": "stream",
     "text": [
      "\n",
      "\n",
      "\n",
      "\n",
      "Given the fields `question`, produce the fields `answer_as_json`.\n",
      "\n",
      "---\n",
      "\n",
      "Follow the following format.\n",
      "\n",
      "Question: ${question}\n",
      "Answer As Json: ${answer_as_json}\n",
      "\n",
      "---\n",
      "\n",
      "Question: Provide me the top 2 countries and their GDP for past 3 years\n",
      "Answer As Json:\u001b[32m {\n",
      "  \"countries\": [\n",
      "    {\n",
      "      \"name\": \"United States\",\n",
      "      \"GDP\": {\n",
      "        \"2019\": 21427700,\n",
      "        \"2020\": 21427700,\n",
      "        \"2021\": 21427700\n",
      "      }\n",
      "    },\n",
      "    {\n",
      "      \"name\": \"China\",\n",
      "      \"GDP\": {\n",
      "        \"2019\": 14342903,\n",
      "        \"2020\": 14342903,\n",
      "        \"2021\": 14342903\n",
      "      }\n",
      "    }\n",
      "  ]\n",
      "}\u001b[0m\n",
      "\n",
      "\n",
      "\n",
      "\n",
      "\n",
      "\n",
      "\n",
      "Given the fields `question`, produce the fields `answer_as_json`.\n",
      "\n",
      "---\n",
      "\n",
      "Follow the following format.\n",
      "\n",
      "Question: ${question}\n",
      "Reasoning: Let's think step by step in order to ${produce the answer_as_json}. We ...\n",
      "Answer As Json: ${answer_as_json}\n",
      "\n",
      "---\n",
      "\n",
      "Question: Provide me the top 2 countries and their GDP for past 3 years\n",
      "Reasoning: Let's think step by step in order to\u001b[32m produce the answer as json. We need to first find the GDP of all countries for the past 3 years, then rank them accordingly to get the top 2 countries.\n",
      "Answer As Json: \n",
      "{\n",
      "  \"top_countries\": [\n",
      "    {\n",
      "      \"country\": \"United States\",\n",
      "      \"GDP\": {\n",
      "        \"2019\": \"$21.43 trillion\",\n",
      "        \"2020\": \"$21.43 trillion\",\n",
      "        \"2021\": \"$22.67 trillion\"\n",
      "      }\n",
      "    },\n",
      "    {\n",
      "      \"country\": \"China\",\n",
      "      \"GDP\": {\n",
      "        \"2019\": \"$14.34 trillion\",\n",
      "        \"2020\": \"$15.42 trillion\",\n",
      "        \"2021\": \"$16.64 trillion\"\n",
      "      }\u001b[0m\u001b[31m \t (and 1 other completions)\u001b[0m\n",
      "\n",
      "\n",
      "\n"
     ]
    }
   ],
   "source": [
    "turbo.inspect_history(n = 3)"
   ]
  },
  {
   "cell_type": "code",
   "execution_count": 10,
   "metadata": {},
   "outputs": [],
   "source": [
    "# creating ChainOfThought object \n",
    "cot_qa = ChainOfThought('question -> answer_as_json', temperature=0.7,\n",
    "                        n=2)"
   ]
  },
  {
   "cell_type": "code",
   "execution_count": 11,
   "metadata": {},
   "outputs": [],
   "source": [
    "cot_resp = cot_qa(question=question)"
   ]
  },
  {
   "cell_type": "code",
   "execution_count": 12,
   "metadata": {},
   "outputs": [
    {
     "data": {
      "text/html": [
       "<pre style=\"white-space:pre;overflow-x:auto;line-height:normal;font-family:Menlo,'DejaVu Sans Mono',consolas,'Courier New',monospace\"><span style=\"font-weight: bold\">{</span>\n",
       "  <span style=\"color: #008000; text-decoration-color: #008000\">\"top_countries\"</span>: <span style=\"font-weight: bold\">[</span>\n",
       "    <span style=\"font-weight: bold\">{</span>\n",
       "      <span style=\"color: #008000; text-decoration-color: #008000\">\"country\"</span>: <span style=\"color: #008000; text-decoration-color: #008000\">\"United States\"</span>,\n",
       "      <span style=\"color: #008000; text-decoration-color: #008000\">\"GDP\"</span>: <span style=\"font-weight: bold\">{</span>\n",
       "        <span style=\"color: #008000; text-decoration-color: #008000\">\"2019\"</span>: <span style=\"color: #008000; text-decoration-color: #008000\">\"$21.43 trillion\"</span>,\n",
       "        <span style=\"color: #008000; text-decoration-color: #008000\">\"2020\"</span>: <span style=\"color: #008000; text-decoration-color: #008000\">\"$21.43 trillion\"</span>,\n",
       "        <span style=\"color: #008000; text-decoration-color: #008000\">\"2021\"</span>: <span style=\"color: #008000; text-decoration-color: #008000\">\"$22.67 trillion\"</span>\n",
       "      <span style=\"font-weight: bold\">}</span>\n",
       "    <span style=\"font-weight: bold\">}</span>,\n",
       "    <span style=\"font-weight: bold\">{</span>\n",
       "      <span style=\"color: #008000; text-decoration-color: #008000\">\"country\"</span>: <span style=\"color: #008000; text-decoration-color: #008000\">\"China\"</span>,\n",
       "      <span style=\"color: #008000; text-decoration-color: #008000\">\"GDP\"</span>: <span style=\"font-weight: bold\">{</span>\n",
       "        <span style=\"color: #008000; text-decoration-color: #008000\">\"2019\"</span>: <span style=\"color: #008000; text-decoration-color: #008000\">\"$14.34 trillion\"</span>,\n",
       "        <span style=\"color: #008000; text-decoration-color: #008000\">\"2020\"</span>: <span style=\"color: #008000; text-decoration-color: #008000\">\"$15.42 trillion\"</span>,\n",
       "        <span style=\"color: #008000; text-decoration-color: #008000\">\"2021\"</span>: <span style=\"color: #008000; text-decoration-color: #008000\">\"$16.64 trillion\"</span>\n",
       "      <span style=\"font-weight: bold\">}</span>\n",
       "</pre>\n"
      ],
      "text/plain": [
       "\u001b[1m{\u001b[0m\n",
       "  \u001b[32m\"top_countries\"\u001b[0m: \u001b[1m[\u001b[0m\n",
       "    \u001b[1m{\u001b[0m\n",
       "      \u001b[32m\"country\"\u001b[0m: \u001b[32m\"United States\"\u001b[0m,\n",
       "      \u001b[32m\"GDP\"\u001b[0m: \u001b[1m{\u001b[0m\n",
       "        \u001b[32m\"2019\"\u001b[0m: \u001b[32m\"$21.43 trillion\"\u001b[0m,\n",
       "        \u001b[32m\"2020\"\u001b[0m: \u001b[32m\"$21.43 trillion\"\u001b[0m,\n",
       "        \u001b[32m\"2021\"\u001b[0m: \u001b[32m\"$22.67 trillion\"\u001b[0m\n",
       "      \u001b[1m}\u001b[0m\n",
       "    \u001b[1m}\u001b[0m,\n",
       "    \u001b[1m{\u001b[0m\n",
       "      \u001b[32m\"country\"\u001b[0m: \u001b[32m\"China\"\u001b[0m,\n",
       "      \u001b[32m\"GDP\"\u001b[0m: \u001b[1m{\u001b[0m\n",
       "        \u001b[32m\"2019\"\u001b[0m: \u001b[32m\"$14.34 trillion\"\u001b[0m,\n",
       "        \u001b[32m\"2020\"\u001b[0m: \u001b[32m\"$15.42 trillion\"\u001b[0m,\n",
       "        \u001b[32m\"2021\"\u001b[0m: \u001b[32m\"$16.64 trillion\"\u001b[0m\n",
       "      \u001b[1m}\u001b[0m\n"
      ]
     },
     "metadata": {},
     "output_type": "display_data"
    },
    {
     "data": {
      "text/html": [
       "<pre style=\"white-space:pre;overflow-x:auto;line-height:normal;font-family:Menlo,'DejaVu Sans Mono',consolas,'Courier New',monospace\"><span style=\"font-weight: bold\">{</span>\n",
       "  <span style=\"color: #008000; text-decoration-color: #008000\">\"2019\"</span>: <span style=\"font-weight: bold\">[</span>\n",
       "    <span style=\"font-weight: bold\">{</span><span style=\"color: #008000; text-decoration-color: #008000\">\"country\"</span>: <span style=\"color: #008000; text-decoration-color: #008000\">\"United States\"</span>, <span style=\"color: #008000; text-decoration-color: #008000\">\"GDP\"</span>: <span style=\"color: #008000; text-decoration-color: #008000\">\"21.43 trillion USD\"</span><span style=\"font-weight: bold\">}</span>,\n",
       "    <span style=\"font-weight: bold\">{</span><span style=\"color: #008000; text-decoration-color: #008000\">\"country\"</span>: <span style=\"color: #008000; text-decoration-color: #008000\">\"China\"</span>, <span style=\"color: #008000; text-decoration-color: #008000\">\"GDP\"</span>: <span style=\"color: #008000; text-decoration-color: #008000\">\"14.34 trillion USD\"</span><span style=\"font-weight: bold\">}</span>\n",
       "  <span style=\"font-weight: bold\">]</span>,\n",
       "  <span style=\"color: #008000; text-decoration-color: #008000\">\"2020\"</span>: <span style=\"font-weight: bold\">[</span>\n",
       "    <span style=\"font-weight: bold\">{</span><span style=\"color: #008000; text-decoration-color: #008000\">\"country\"</span>: <span style=\"color: #008000; text-decoration-color: #008000\">\"United States\"</span>, <span style=\"color: #008000; text-decoration-color: #008000\">\"GDP\"</span>: <span style=\"color: #008000; text-decoration-color: #008000\">\"21.43 trillion USD\"</span><span style=\"font-weight: bold\">}</span>,\n",
       "    <span style=\"font-weight: bold\">{</span><span style=\"color: #008000; text-decoration-color: #008000\">\"country\"</span>: <span style=\"color: #008000; text-decoration-color: #008000\">\"China\"</span>, <span style=\"color: #008000; text-decoration-color: #008000\">\"GDP\"</span>: <span style=\"color: #008000; text-decoration-color: #008000\">\"14.34 trillion USD\"</span><span style=\"font-weight: bold\">}</span>\n",
       "  <span style=\"font-weight: bold\">]</span>,\n",
       "  <span style=\"color: #008000; text-decoration-color: #008000\">\"2021\"</span>: <span style=\"font-weight: bold\">[</span>\n",
       "    <span style=\"font-weight: bold\">{</span><span style=\"color: #008000; text-decoration-color: #008000\">\"country\"</span>: <span style=\"color: #008000; text-decoration-color: #008000\">\"United States\"</span>, <span style=\"color: #008000; text-decoration-color: #008000\">\"GDP\"</span>: <span style=\"color: #008000; text-decoration-color: #008000\">\"22.67 trillion USD\"</span><span style=\"font-weight: bold\">}</span>,\n",
       "    <span style=\"font-weight: bold\">{</span>\"\n",
       "</pre>\n"
      ],
      "text/plain": [
       "\u001b[1m{\u001b[0m\n",
       "  \u001b[32m\"2019\"\u001b[0m: \u001b[1m[\u001b[0m\n",
       "    \u001b[1m{\u001b[0m\u001b[32m\"country\"\u001b[0m: \u001b[32m\"United States\"\u001b[0m, \u001b[32m\"GDP\"\u001b[0m: \u001b[32m\"21.43 trillion USD\"\u001b[0m\u001b[1m}\u001b[0m,\n",
       "    \u001b[1m{\u001b[0m\u001b[32m\"country\"\u001b[0m: \u001b[32m\"China\"\u001b[0m, \u001b[32m\"GDP\"\u001b[0m: \u001b[32m\"14.34 trillion USD\"\u001b[0m\u001b[1m}\u001b[0m\n",
       "  \u001b[1m]\u001b[0m,\n",
       "  \u001b[32m\"2020\"\u001b[0m: \u001b[1m[\u001b[0m\n",
       "    \u001b[1m{\u001b[0m\u001b[32m\"country\"\u001b[0m: \u001b[32m\"United States\"\u001b[0m, \u001b[32m\"GDP\"\u001b[0m: \u001b[32m\"21.43 trillion USD\"\u001b[0m\u001b[1m}\u001b[0m,\n",
       "    \u001b[1m{\u001b[0m\u001b[32m\"country\"\u001b[0m: \u001b[32m\"China\"\u001b[0m, \u001b[32m\"GDP\"\u001b[0m: \u001b[32m\"14.34 trillion USD\"\u001b[0m\u001b[1m}\u001b[0m\n",
       "  \u001b[1m]\u001b[0m,\n",
       "  \u001b[32m\"2021\"\u001b[0m: \u001b[1m[\u001b[0m\n",
       "    \u001b[1m{\u001b[0m\u001b[32m\"country\"\u001b[0m: \u001b[32m\"United States\"\u001b[0m, \u001b[32m\"GDP\"\u001b[0m: \u001b[32m\"22.67 trillion USD\"\u001b[0m\u001b[1m}\u001b[0m,\n",
       "    \u001b[1m{\u001b[0m\"\n"
      ]
     },
     "metadata": {},
     "output_type": "display_data"
    }
   ],
   "source": [
    "print(cot_resp.completions.answer_as_json[0])\n",
    "print(cot_resp.completions.answer_as_json[1])"
   ]
  },
  {
   "cell_type": "code",
   "execution_count": 24,
   "metadata": {},
   "outputs": [
    {
     "data": {
      "text/html": [
       "<pre style=\"white-space:pre;overflow-x:auto;line-height:normal;font-family:Menlo,'DejaVu Sans Mono',consolas,'Courier New',monospace\">produce the answer as json. We need to first find the GDP of all countries for the past <span style=\"color: #008080; text-decoration-color: #008080; font-weight: bold\">3</span> years, then rank them \n",
       "accordingly to get the top <span style=\"color: #008080; text-decoration-color: #008080; font-weight: bold\">2</span> countries.\n",
       "</pre>\n"
      ],
      "text/plain": [
       "produce the answer as json. We need to first find the GDP of all countries for the past \u001b[1;36m3\u001b[0m years, then rank them \n",
       "accordingly to get the top \u001b[1;36m2\u001b[0m countries.\n"
      ]
     },
     "metadata": {},
     "output_type": "display_data"
    }
   ],
   "source": [
    "print(cot_resp.rationale)"
   ]
  },
  {
   "cell_type": "code",
   "execution_count": 26,
   "metadata": {},
   "outputs": [
    {
     "data": {
      "text/html": [
       "<pre style=\"white-space:pre;overflow-x:auto;line-height:normal;font-family:Menlo,'DejaVu Sans Mono',consolas,'Courier New',monospace\"><span style=\"font-weight: bold\">{</span>\n",
       "  <span style=\"color: #008000; text-decoration-color: #008000\">\"top_countries\"</span>: <span style=\"font-weight: bold\">[</span>\n",
       "    <span style=\"font-weight: bold\">{</span>\n",
       "      <span style=\"color: #008000; text-decoration-color: #008000\">\"country\"</span>: <span style=\"color: #008000; text-decoration-color: #008000\">\"United States\"</span>,\n",
       "      <span style=\"color: #008000; text-decoration-color: #008000\">\"GDP\"</span>: <span style=\"font-weight: bold\">{</span>\n",
       "        <span style=\"color: #008000; text-decoration-color: #008000\">\"2019\"</span>: <span style=\"color: #008000; text-decoration-color: #008000\">\"$21.43 trillion\"</span>,\n",
       "        <span style=\"color: #008000; text-decoration-color: #008000\">\"2020\"</span>: <span style=\"color: #008000; text-decoration-color: #008000\">\"$21.43 trillion\"</span>,\n",
       "        <span style=\"color: #008000; text-decoration-color: #008000\">\"2021\"</span>: <span style=\"color: #008000; text-decoration-color: #008000\">\"$22.67 trillion\"</span>\n",
       "      <span style=\"font-weight: bold\">}</span>\n",
       "    <span style=\"font-weight: bold\">}</span>,\n",
       "    <span style=\"font-weight: bold\">{</span>\n",
       "      <span style=\"color: #008000; text-decoration-color: #008000\">\"country\"</span>: <span style=\"color: #008000; text-decoration-color: #008000\">\"China\"</span>,\n",
       "      <span style=\"color: #008000; text-decoration-color: #008000\">\"GDP\"</span>: <span style=\"font-weight: bold\">{</span>\n",
       "        <span style=\"color: #008000; text-decoration-color: #008000\">\"2019\"</span>: <span style=\"color: #008000; text-decoration-color: #008000\">\"$14.34 trillion\"</span>,\n",
       "        <span style=\"color: #008000; text-decoration-color: #008000\">\"2020\"</span>: <span style=\"color: #008000; text-decoration-color: #008000\">\"$15.42 trillion\"</span>,\n",
       "        <span style=\"color: #008000; text-decoration-color: #008000\">\"2021\"</span>: <span style=\"color: #008000; text-decoration-color: #008000\">\"$16.64 trillion\"</span>\n",
       "      <span style=\"font-weight: bold\">}</span>\n",
       "</pre>\n"
      ],
      "text/plain": [
       "\u001b[1m{\u001b[0m\n",
       "  \u001b[32m\"top_countries\"\u001b[0m: \u001b[1m[\u001b[0m\n",
       "    \u001b[1m{\u001b[0m\n",
       "      \u001b[32m\"country\"\u001b[0m: \u001b[32m\"United States\"\u001b[0m,\n",
       "      \u001b[32m\"GDP\"\u001b[0m: \u001b[1m{\u001b[0m\n",
       "        \u001b[32m\"2019\"\u001b[0m: \u001b[32m\"$21.43 trillion\"\u001b[0m,\n",
       "        \u001b[32m\"2020\"\u001b[0m: \u001b[32m\"$21.43 trillion\"\u001b[0m,\n",
       "        \u001b[32m\"2021\"\u001b[0m: \u001b[32m\"$22.67 trillion\"\u001b[0m\n",
       "      \u001b[1m}\u001b[0m\n",
       "    \u001b[1m}\u001b[0m,\n",
       "    \u001b[1m{\u001b[0m\n",
       "      \u001b[32m\"country\"\u001b[0m: \u001b[32m\"China\"\u001b[0m,\n",
       "      \u001b[32m\"GDP\"\u001b[0m: \u001b[1m{\u001b[0m\n",
       "        \u001b[32m\"2019\"\u001b[0m: \u001b[32m\"$14.34 trillion\"\u001b[0m,\n",
       "        \u001b[32m\"2020\"\u001b[0m: \u001b[32m\"$15.42 trillion\"\u001b[0m,\n",
       "        \u001b[32m\"2021\"\u001b[0m: \u001b[32m\"$16.64 trillion\"\u001b[0m\n",
       "      \u001b[1m}\u001b[0m\n"
      ]
     },
     "metadata": {},
     "output_type": "display_data"
    }
   ],
   "source": [
    "print(cot_resp.answer_as_json)"
   ]
  },
  {
   "cell_type": "code",
   "execution_count": 28,
   "metadata": {},
   "outputs": [
    {
     "data": {
      "text/html": [
       "<pre style=\"white-space:pre;overflow-x:auto;line-height:normal;font-family:Menlo,'DejaVu Sans Mono',consolas,'Courier New',monospace\">produce the answer_as_json. We need to look up the GDP data for the top countries for each of the past <span style=\"color: #008080; text-decoration-color: #008080; font-weight: bold\">3</span> years.\n",
       "</pre>\n"
      ],
      "text/plain": [
       "produce the answer_as_json. We need to look up the GDP data for the top countries for each of the past \u001b[1;36m3\u001b[0m years.\n"
      ]
     },
     "metadata": {},
     "output_type": "display_data"
    },
    {
     "data": {
      "text/html": [
       "<pre style=\"white-space:pre;overflow-x:auto;line-height:normal;font-family:Menlo,'DejaVu Sans Mono',consolas,'Courier New',monospace\">produce the answer as json. We need to first find the GDP of all countries for the past <span style=\"color: #008080; text-decoration-color: #008080; font-weight: bold\">3</span> years, then rank them \n",
       "accordingly to get the top <span style=\"color: #008080; text-decoration-color: #008080; font-weight: bold\">2</span> countries.\n",
       "</pre>\n"
      ],
      "text/plain": [
       "produce the answer as json. We need to first find the GDP of all countries for the past \u001b[1;36m3\u001b[0m years, then rank them \n",
       "accordingly to get the top \u001b[1;36m2\u001b[0m countries.\n"
      ]
     },
     "metadata": {},
     "output_type": "display_data"
    }
   ],
   "source": [
    "print(cot_resp.completions[1].rationale)\n",
    "print(cot_resp.completions[0].rationale)"
   ]
  },
  {
   "cell_type": "code",
   "execution_count": 31,
   "metadata": {},
   "outputs": [
    {
     "name": "stdout",
     "output_type": "stream",
     "text": [
      "\n",
      "\n",
      "\n",
      "\n",
      "Given the fields `question`, produce the fields `answer_as_json`.\n",
      "\n",
      "---\n",
      "\n",
      "Follow the following format.\n",
      "\n",
      "Question: ${question}\n",
      "Answer As Json: ${answer_as_json}\n",
      "\n",
      "---\n",
      "\n",
      "Question: Provide me the top 2 countries and their GDP for past 3 years\n",
      "Answer As Json:\u001b[32m {\n",
      "  \"countries\": [\n",
      "    {\n",
      "      \"name\": \"United States\",\n",
      "      \"GDP\": {\n",
      "        \"2019\": 21427700,\n",
      "        \"2020\": 21427700,\n",
      "        \"2021\": 21427700\n",
      "      }\n",
      "    },\n",
      "    {\n",
      "      \"name\": \"China\",\n",
      "      \"GDP\": {\n",
      "        \"2019\": 14342903,\n",
      "        \"2020\": 14342903,\n",
      "        \"2021\": 14342903\n",
      "      }\n",
      "    }\n",
      "  ]\n",
      "}\u001b[0m\n",
      "\n",
      "\n",
      "\n",
      "\n",
      "\n",
      "\n",
      "\n",
      "Given the fields `question`, produce the fields `answer_as_json`.\n",
      "\n",
      "---\n",
      "\n",
      "Follow the following format.\n",
      "\n",
      "Question: ${question}\n",
      "Reasoning: Let's think step by step in order to ${produce the answer_as_json}. We ...\n",
      "Answer As Json: ${answer_as_json}\n",
      "\n",
      "---\n",
      "\n",
      "Question: Provide me the top 2 countries and their GDP for past 3 years\n",
      "Reasoning: Let's think step by step in order to\u001b[32m produce the answer as json. We need to first find the GDP of all countries for the past 3 years, then rank them accordingly to get the top 2 countries.\n",
      "Answer As Json: \n",
      "{\n",
      "  \"top_countries\": [\n",
      "    {\n",
      "      \"country\": \"United States\",\n",
      "      \"GDP\": {\n",
      "        \"2019\": \"$21.43 trillion\",\n",
      "        \"2020\": \"$21.43 trillion\",\n",
      "        \"2021\": \"$22.67 trillion\"\n",
      "      }\n",
      "    },\n",
      "    {\n",
      "      \"country\": \"China\",\n",
      "      \"GDP\": {\n",
      "        \"2019\": \"$14.34 trillion\",\n",
      "        \"2020\": \"$15.42 trillion\",\n",
      "        \"2021\": \"$16.64 trillion\"\n",
      "      }\u001b[0m\u001b[31m \t (and 1 other completions)\u001b[0m\n",
      "\n",
      "\n",
      "\n",
      "\n",
      "\n",
      "\n",
      "\n",
      "Given the fields `question`, produce the fields `answer_as_json`.\n",
      "\n",
      "---\n",
      "\n",
      "Follow the following format.\n",
      "\n",
      "Question: ${question}\n",
      "\n",
      "Reasoning: Let's think step by step in order to ${produce the answer_as_json}. We ...\n",
      "\n",
      "Hint: ${hint}\n",
      "\n",
      "Answer As Json: ${answer_as_json}\n",
      "\n",
      "---\n",
      "\n",
      "Question: Provide me the top 2 countries and their GDP for past 3 years\n",
      "\n",
      "Hint: GDP data can be located in Open Govt Data portal.\n",
      "\n",
      "Answer As Json:\u001b[32m {\n",
      "  \"country1\": {\n",
      "    \"name\": \"United States\",\n",
      "    \"GDP\": {\n",
      "      \"2019\": 21433225,\n",
      "      \"2020\": 21433225,\n",
      "      \"2021\": 21433225\n",
      "    }\n",
      "  },\n",
      "  \"country2\": {\n",
      "    \"name\": \"China\",\n",
      "    \"GDP\": {\n",
      "      \"2019\": 14342931,\n",
      "      \"2020\": 14342931,\n",
      "      \"2021\": 14342931\n",
      "    }\n",
      "  }\n",
      "}\u001b[0m\n",
      "\n",
      "\n",
      "\n",
      "\n",
      "\n",
      "\n",
      "\n",
      "Given the fields `question`, produce the fields `answer_as_json`.\n",
      "\n",
      "---\n",
      "\n",
      "Follow the following format.\n",
      "\n",
      "Question: ${question}\n",
      "\n",
      "Reasoning: Let's think step by step in order to ${produce the answer_as_json}. We ...\n",
      "\n",
      "Hint: ${hint}\n",
      "\n",
      "Answer As Json: ${answer_as_json}\n",
      "\n",
      "---\n",
      "\n",
      "Question: Provide me the top 2 countries and their GDP for past 3 years\n",
      "\n",
      "Reasoning: Let's think step by step in order to { \"country1\": { \"name\": \"United States\", \"GDP\": { \"2019\": 21433225, \"2020\": 21433225, \"2021\": 21433225 } }, \"country2\": { \"name\": \"China\", \"GDP\": { \"2019\": 14342931, \"2020\": 14342931, \"2021\": 14342931 } } }\n",
      "\n",
      "Hint: GDP data can be located in Open Govt Data portal.\n",
      "\n",
      "Answer As Json:\u001b[32m {\n",
      "  \"country1\": {\n",
      "    \"name\": \"United States\",\n",
      "    \"GDP\": {\n",
      "      \"2019\": 21433225,\n",
      "      \"2020\": 21433225,\n",
      "      \"2021\": 21433225\n",
      "    }\n",
      "  },\n",
      "  \"country2\": {\n",
      "    \"name\": \"China\",\n",
      "    \"GDP\": {\u001b[0m\n",
      "\n",
      "\n",
      "\n"
     ]
    }
   ],
   "source": [
    "turbo.inspect_history(n=4)"
   ]
  },
  {
   "cell_type": "code",
   "execution_count": 29,
   "metadata": {},
   "outputs": [],
   "source": [
    "### building chain of thought with Hint\n",
    "hint = \"GDP is revealed by the Central Statistics Office.\"\n",
    "hint = \"GDP data can be located in Open Govt Data portal.\"\n",
    "coth_qa = ChainOfThoughtWithHint('question -> answer_as_json')\n",
    "\n",
    "coth_pred = coth_qa(question=question, hint=hint)"
   ]
  },
  {
   "cell_type": "code",
   "execution_count": 30,
   "metadata": {},
   "outputs": [
    {
     "data": {
      "text/html": [
       "<pre style=\"white-space:pre;overflow-x:auto;line-height:normal;font-family:Menlo,'DejaVu Sans Mono',consolas,'Courier New',monospace\"><span style=\"color: #800080; text-decoration-color: #800080; font-weight: bold\">Prediction</span><span style=\"font-weight: bold\">(</span>\n",
       "    <span style=\"color: #808000; text-decoration-color: #808000\">rationale</span>=<span style=\"color: #008000; text-decoration-color: #008000\">'{\\n  \"country1\": {\\n    \"name\": \"United States\",\\n    \"GDP\": {\\n      \"2019\": 21433225,\\n      </span>\n",
       "<span style=\"color: #008000; text-decoration-color: #008000\">\"2020\": 21433225,\\n      \"2021\": 21433225\\n    }\\n  },\\n  \"country2\": {\\n    \"name\": \"China\",\\n    \"GDP\": {\\n      </span>\n",
       "<span style=\"color: #008000; text-decoration-color: #008000\">\"2019\": 14342931,\\n      \"2020\": 14342931,\\n      \"2021\": 14342931\\n    }\\n  }\\n}'</span>,\n",
       "    <span style=\"color: #808000; text-decoration-color: #808000\">answer_as_json</span>=<span style=\"color: #008000; text-decoration-color: #008000\">'{\\n  \"country1\": {\\n    \"name\": \"United States\",\\n    \"GDP\": {\\n      \"2019\": 21433225,\\n      </span>\n",
       "<span style=\"color: #008000; text-decoration-color: #008000\">\"2020\": 21433225,\\n      \"2021\": 21433225\\n    }\\n  },\\n  \"country2\": {\\n    \"name\": \"China\",\\n    \"GDP\": {'</span>\n",
       "<span style=\"font-weight: bold\">)</span>\n",
       "</pre>\n"
      ],
      "text/plain": [
       "\u001b[1;35mPrediction\u001b[0m\u001b[1m(\u001b[0m\n",
       "    \u001b[33mrationale\u001b[0m=\u001b[32m'\u001b[0m\u001b[32m{\u001b[0m\u001b[32m\\n  \"country1\": \u001b[0m\u001b[32m{\u001b[0m\u001b[32m\\n    \"name\": \"United States\",\\n    \"GDP\": \u001b[0m\u001b[32m{\u001b[0m\u001b[32m\\n      \"2019\": 21433225,\\n      \u001b[0m\n",
       "\u001b[32m\"2020\": 21433225,\\n      \"2021\": 21433225\\n    \u001b[0m\u001b[32m}\u001b[0m\u001b[32m\\n  \u001b[0m\u001b[32m}\u001b[0m\u001b[32m,\\n  \"country2\": \u001b[0m\u001b[32m{\u001b[0m\u001b[32m\\n    \"name\": \"China\",\\n    \"GDP\": \u001b[0m\u001b[32m{\u001b[0m\u001b[32m\\n      \u001b[0m\n",
       "\u001b[32m\"2019\": 14342931,\\n      \"2020\": 14342931,\\n      \"2021\": 14342931\\n    \u001b[0m\u001b[32m}\u001b[0m\u001b[32m\\n  \u001b[0m\u001b[32m}\u001b[0m\u001b[32m\\n\u001b[0m\u001b[32m}\u001b[0m\u001b[32m'\u001b[0m,\n",
       "    \u001b[33manswer_as_json\u001b[0m=\u001b[32m'\u001b[0m\u001b[32m{\u001b[0m\u001b[32m\\n  \"country1\": \u001b[0m\u001b[32m{\u001b[0m\u001b[32m\\n    \"name\": \"United States\",\\n    \"GDP\": \u001b[0m\u001b[32m{\u001b[0m\u001b[32m\\n      \"2019\": 21433225,\\n      \u001b[0m\n",
       "\u001b[32m\"2020\": 21433225,\\n      \"2021\": 21433225\\n    \u001b[0m\u001b[32m}\u001b[0m\u001b[32m\\n  \u001b[0m\u001b[32m}\u001b[0m\u001b[32m,\\n  \"country2\": \u001b[0m\u001b[32m{\u001b[0m\u001b[32m\\n    \"name\": \"China\",\\n    \"GDP\": \u001b[0m\u001b[32m{\u001b[0m\u001b[32m'\u001b[0m\n",
       "\u001b[1m)\u001b[0m\n"
      ]
     },
     "metadata": {},
     "output_type": "display_data"
    }
   ],
   "source": [
    "print(coth_pred)"
   ]
  },
  {
   "cell_type": "code",
   "execution_count": 14,
   "metadata": {},
   "outputs": [],
   "source": [
    "\n",
    "completions = [\n",
    "    Prediction(rationale=\"I recall that during clear days, the sky often appears this color.\", answer=\"blue\"),\n",
    "    Prediction(rationale=\"Based on common knowledge, I believe the sky is typically seen as this color.\", answer=\"green\"),\n",
    "    Prediction(rationale=\"From images and depictions in media, the sky is frequently represented with this hue.\", answer=\"blue\"),\n",
    "]\n",
    "# Completions are given as side inputs, not part of the signature\n",
    "question = \"What is the color of the sky?\"\n",
    "multi_pred_comparion = MultiChainComparison('question -> answer')\n",
    "\n",
    "# compared_resp\n",
    "final_resp = multi_pred_comparion(completions,\n",
    "                                  question=question,) "
   ]
  },
  {
   "cell_type": "code",
   "execution_count": 15,
   "metadata": {},
   "outputs": [
    {
     "data": {
      "text/plain": [
       "Prediction(\n",
       "    rationale=\"correct the reasoning by considering scientific knowledge and observations. The color of the sky is predominantly blue due to Rayleigh scattering of sunlight in the Earth's atmosphere.\",\n",
       "    answer='The color of the sky is blue.'\n",
       ")"
      ]
     },
     "execution_count": 15,
     "metadata": {},
     "output_type": "execute_result"
    }
   ],
   "source": [
    "final_resp"
   ]
  },
  {
   "cell_type": "code",
   "execution_count": 16,
   "metadata": {},
   "outputs": [
    {
     "name": "stdout",
     "output_type": "stream",
     "text": [
      "\n",
      "\n",
      "\n",
      "\n",
      "Given the fields `question`, produce the fields `answer_as_json`.\n",
      "\n",
      "---\n",
      "\n",
      "Follow the following format.\n",
      "\n",
      "Question: ${question}\n",
      "Answer As Json: ${answer_as_json}\n",
      "\n",
      "---\n",
      "\n",
      "Question: Provide me the top 2 countries and their GDP for past 3 years\n",
      "Answer As Json:\u001b[32m {\n",
      "  \"countries\": [\n",
      "    {\n",
      "      \"name\": \"United States\",\n",
      "      \"GDP\": {\n",
      "        \"2019\": 21427700,\n",
      "        \"2020\": 21427700,\n",
      "        \"2021\": 21427700\n",
      "      }\n",
      "    },\n",
      "    {\n",
      "      \"name\": \"China\",\n",
      "      \"GDP\": {\n",
      "        \"2019\": 14342903,\n",
      "        \"2020\": 14342903,\n",
      "        \"2021\": 14342903\n",
      "      }\n",
      "    }\n",
      "  ]\n",
      "}\u001b[0m\n",
      "\n",
      "\n",
      "\n",
      "\n",
      "\n",
      "\n",
      "\n",
      "Given the fields `question`, produce the fields `answer_as_json`.\n",
      "\n",
      "---\n",
      "\n",
      "Follow the following format.\n",
      "\n",
      "Question: ${question}\n",
      "Reasoning: Let's think step by step in order to ${produce the answer_as_json}. We ...\n",
      "Answer As Json: ${answer_as_json}\n",
      "\n",
      "---\n",
      "\n",
      "Question: Provide me the top 2 countries and their GDP for past 3 years\n",
      "Reasoning: Let's think step by step in order to\u001b[32m produce the answer as json. We need to first find the GDP of all countries for the past 3 years, then rank them accordingly to get the top 2 countries.\n",
      "Answer As Json: \n",
      "{\n",
      "  \"top_countries\": [\n",
      "    {\n",
      "      \"country\": \"United States\",\n",
      "      \"GDP\": {\n",
      "        \"2019\": \"$21.43 trillion\",\n",
      "        \"2020\": \"$21.43 trillion\",\n",
      "        \"2021\": \"$22.67 trillion\"\n",
      "      }\n",
      "    },\n",
      "    {\n",
      "      \"country\": \"China\",\n",
      "      \"GDP\": {\n",
      "        \"2019\": \"$14.34 trillion\",\n",
      "        \"2020\": \"$15.42 trillion\",\n",
      "        \"2021\": \"$16.64 trillion\"\n",
      "      }\u001b[0m\u001b[31m \t (and 1 other completions)\u001b[0m\n",
      "\n",
      "\n",
      "\n",
      "\n",
      "\n",
      "\n",
      "\n",
      "Given the fields `question`, produce the fields `answer`.\n",
      "\n",
      "---\n",
      "\n",
      "Follow the following format.\n",
      "\n",
      "Question: ${question}\n",
      "\n",
      "Student Attempt #1: ${reasoning attempt}\n",
      "\n",
      "Student Attempt #2: ${reasoning attempt}\n",
      "\n",
      "Student Attempt #3: ${reasoning attempt}\n",
      "\n",
      "Accurate Reasoning: Thank you everyone. Let's now holistically ${corrected reasoning}\n",
      "\n",
      "Answer: ${answer}\n",
      "\n",
      "---\n",
      "\n",
      "Question: What is the color of the sky?\n",
      "\n",
      "Student Attempt #1: «I'm trying to I recall that during clear days, the sky often appears this color. I'm not sure but my prediction is blue»\n",
      "\n",
      "Student Attempt #2: «I'm trying to Based on common knowledge, I believe the sky is typically seen as this color. I'm not sure but my prediction is green»\n",
      "\n",
      "Student Attempt #3: «I'm trying to From images and depictions in media, the sky is frequently represented with this hue. I'm not sure but my prediction is blue»\n",
      "\n",
      "Accurate Reasoning: Thank you everyone. Let's now holistically\u001b[32m correct the reasoning by considering scientific knowledge and observations. The color of the sky is predominantly blue due to Rayleigh scattering of sunlight in the Earth's atmosphere.\n",
      "\n",
      "Answer: The color of the sky is blue.\u001b[0m\n",
      "\n",
      "\n",
      "\n"
     ]
    }
   ],
   "source": [
    "turbo.inspect_history(n=5)"
   ]
  },
  {
   "cell_type": "code",
   "execution_count": 44,
   "metadata": {},
   "outputs": [
    {
     "data": {
      "text/html": [
       "<pre style=\"white-space:pre;overflow-x:auto;line-height:normal;font-family:Menlo,'DejaVu Sans Mono',consolas,'Courier New',monospace\"><span style=\"color: #800080; text-decoration-color: #800080; font-weight: bold\">Signature</span><span style=\"font-weight: bold\">(</span>question -&gt; answer\n",
       "    <span style=\"color: #808000; text-decoration-color: #808000\">instructions</span>=<span style=\"color: #008000; text-decoration-color: #008000\">'Given the fields `question`, produce the fields `answer`.'</span>\n",
       "    question = <span style=\"color: #800080; text-decoration-color: #800080; font-weight: bold\">Field</span><span style=\"font-weight: bold\">(</span><span style=\"color: #808000; text-decoration-color: #808000\">annotation</span>=<span style=\"color: #800080; text-decoration-color: #800080\">str</span> <span style=\"color: #808000; text-decoration-color: #808000\">required</span>=<span style=\"color: #00ff00; text-decoration-color: #00ff00; font-style: italic\">True</span> <span style=\"color: #808000; text-decoration-color: #808000\">json_schema_extra</span>=<span style=\"font-weight: bold\">{</span><span style=\"color: #008000; text-decoration-color: #008000\">'__dspy_field_type'</span>: <span style=\"color: #008000; text-decoration-color: #008000\">'input'</span>, <span style=\"color: #008000; text-decoration-color: #008000\">'prefix'</span>: \n",
       "<span style=\"color: #008000; text-decoration-color: #008000\">'Question:'</span>, <span style=\"color: #008000; text-decoration-color: #008000\">'desc'</span>: <span style=\"color: #008000; text-decoration-color: #008000\">'${question}'</span><span style=\"font-weight: bold\">})</span>\n",
       "    answer = <span style=\"color: #800080; text-decoration-color: #800080; font-weight: bold\">Field</span><span style=\"font-weight: bold\">(</span><span style=\"color: #808000; text-decoration-color: #808000\">annotation</span>=<span style=\"color: #800080; text-decoration-color: #800080\">str</span> <span style=\"color: #808000; text-decoration-color: #808000\">required</span>=<span style=\"color: #00ff00; text-decoration-color: #00ff00; font-style: italic\">True</span> <span style=\"color: #808000; text-decoration-color: #808000\">json_schema_extra</span>=<span style=\"font-weight: bold\">{</span><span style=\"color: #008000; text-decoration-color: #008000\">'__dspy_field_type'</span>: <span style=\"color: #008000; text-decoration-color: #008000\">'output'</span>, <span style=\"color: #008000; text-decoration-color: #008000\">'prefix'</span>: \n",
       "<span style=\"color: #008000; text-decoration-color: #008000\">'Answer:'</span>, <span style=\"color: #008000; text-decoration-color: #008000\">'desc'</span>: <span style=\"color: #008000; text-decoration-color: #008000\">'${answer}'</span><span style=\"font-weight: bold\">})</span>\n",
       "<span style=\"font-weight: bold\">)</span>\n",
       "</pre>\n"
      ],
      "text/plain": [
       "\u001b[1;35mSignature\u001b[0m\u001b[1m(\u001b[0mquestion -> answer\n",
       "    \u001b[33minstructions\u001b[0m=\u001b[32m'Given the fields `question`, produce the fields `answer`.'\u001b[0m\n",
       "    question = \u001b[1;35mField\u001b[0m\u001b[1m(\u001b[0m\u001b[33mannotation\u001b[0m=\u001b[35mstr\u001b[0m \u001b[33mrequired\u001b[0m=\u001b[3;92mTrue\u001b[0m \u001b[33mjson_schema_extra\u001b[0m=\u001b[1m{\u001b[0m\u001b[32m'__dspy_field_type'\u001b[0m: \u001b[32m'input'\u001b[0m, \u001b[32m'prefix'\u001b[0m: \n",
       "\u001b[32m'Question:'\u001b[0m, \u001b[32m'desc'\u001b[0m: \u001b[32m'$\u001b[0m\u001b[32m{\u001b[0m\u001b[32mquestion\u001b[0m\u001b[32m}\u001b[0m\u001b[32m'\u001b[0m\u001b[1m}\u001b[0m\u001b[1m)\u001b[0m\n",
       "    answer = \u001b[1;35mField\u001b[0m\u001b[1m(\u001b[0m\u001b[33mannotation\u001b[0m=\u001b[35mstr\u001b[0m \u001b[33mrequired\u001b[0m=\u001b[3;92mTrue\u001b[0m \u001b[33mjson_schema_extra\u001b[0m=\u001b[1m{\u001b[0m\u001b[32m'__dspy_field_type'\u001b[0m: \u001b[32m'output'\u001b[0m, \u001b[32m'prefix'\u001b[0m: \n",
       "\u001b[32m'Answer:'\u001b[0m, \u001b[32m'desc'\u001b[0m: \u001b[32m'$\u001b[0m\u001b[32m{\u001b[0m\u001b[32manswer\u001b[0m\u001b[32m}\u001b[0m\u001b[32m'\u001b[0m\u001b[1m}\u001b[0m\u001b[1m)\u001b[0m\n",
       "\u001b[1m)\u001b[0m\n"
      ]
     },
     "metadata": {},
     "output_type": "display_data"
    }
   ],
   "source": [
    "#Define a simple signature for basic question answering\n",
    "generate_answer_signature = Signature(\"question -> answer\")\n",
    "# generate_answer_signature.attach(question=(\"Question:\", \"\"))\n",
    "# generate_answer_signature.attach(answer=(\"Answer:\", \"often between 1 and 5 words\"))\n",
    "print(generate_answer_signature)"
   ]
  },
  {
   "cell_type": "code",
   "execution_count": 47,
   "metadata": {},
   "outputs": [
    {
     "data": {
      "text/html": [
       "<pre style=\"white-space:pre;overflow-x:auto;line-height:normal;font-family:Menlo,'DejaVu Sans Mono',consolas,'Courier New',monospace\">Question: Sarah has <span style=\"color: #008080; text-decoration-color: #008080; font-weight: bold\">5</span> apples. She buys <span style=\"color: #008080; text-decoration-color: #008080; font-weight: bold\">7</span> more apples from the store. How many apples does Sarah have now?\n",
       "</pre>\n"
      ],
      "text/plain": [
       "Question: Sarah has \u001b[1;36m5\u001b[0m apples. She buys \u001b[1;36m7\u001b[0m more apples from the store. How many apples does Sarah have now?\n"
      ]
     },
     "metadata": {},
     "output_type": "display_data"
    },
    {
     "data": {
      "text/html": [
       "<pre style=\"white-space:pre;overflow-x:auto;line-height:normal;font-family:Menlo,'DejaVu Sans Mono',consolas,'Courier New',monospace\">Final Predicted Answer <span style=\"font-weight: bold\">(</span>after ProgramOfThought process<span style=\"font-weight: bold\">)</span>: Sarah now has <span style=\"color: #008080; text-decoration-color: #008080; font-weight: bold\">12</span> apples.\n",
       "</pre>\n"
      ],
      "text/plain": [
       "Final Predicted Answer \u001b[1m(\u001b[0mafter ProgramOfThought process\u001b[1m)\u001b[0m: Sarah now has \u001b[1;36m12\u001b[0m apples.\n"
      ]
     },
     "metadata": {},
     "output_type": "display_data"
    }
   ],
   "source": [
    "# Pass signature to ProgramOfThought Module\n",
    "pot = ProgramOfThought(generate_answer_signature)\n",
    "\n",
    "#Call the ProgramOfThought module on a particular input\n",
    "question = 'Sarah has 5 apples. She buys 7 more apples from the store. How many apples does Sarah have now?'\n",
    "result = pot(question=question)\n",
    "\n",
    "print(f\"Question: {question}\")\n",
    "print(f\"Final Predicted Answer (after ProgramOfThought process): {result.answer}\")"
   ]
  },
  {
   "cell_type": "code",
   "execution_count": 48,
   "metadata": {},
   "outputs": [
    {
     "name": "stdout",
     "output_type": "stream",
     "text": [
      "\n",
      "\n",
      "\n",
      "\n",
      "Given the fields `question`, produce the fields `answer_as_json`.\n",
      "\n",
      "---\n",
      "\n",
      "Follow the following format.\n",
      "\n",
      "Question: ${question}\n",
      "Answer As Json: ${answer_as_json}\n",
      "\n",
      "---\n",
      "\n",
      "Question: Provide me the top 10 countries and their GDP for past 5 years\n",
      "Answer As Json:\u001b[32m {\n",
      "  \"countries\": [\n",
      "    {\n",
      "      \"name\": \"United States\",\n",
      "      \"gdp\": [ \n",
      "        {\"year\": 2021, \"value\": 22.675},\n",
      "        {\"year\": 2020, \"value\": 21.433},\n",
      "        {\"year\": 2019, \"value\": 21.433},\n",
      "        {\"year\": 2018, \"value\": 20.494},\n",
      "        {\"year\": 2017, \"value\": 19.485}\n",
      "      ]\n",
      "    },\n",
      "    {\n",
      "      \"name\": \"China\",\n",
      "      \"gdp\": [ \n",
      "        {\"year\": 2021, \"value\": 17.720},\n",
      "        {\"year\": 2020, \"value\":\u001b[0m\n",
      "\n",
      "\n",
      "\n",
      "\n",
      "\n",
      "\n",
      "\n",
      "Given the fields `question`, produce the fields `answer_as_json`.\n",
      "\n",
      "---\n",
      "\n",
      "Follow the following format.\n",
      "\n",
      "Question: ${question}\n",
      "Answer As Json: ${answer_as_json}\n",
      "\n",
      "---\n",
      "\n",
      "Question: Provide me the top 2 countries and their GDP for past 3 years\n",
      "Answer As Json:\u001b[32m {\n",
      "  \"countries\": [\n",
      "    {\n",
      "      \"name\": \"United States\",\n",
      "      \"GDP\": {\n",
      "        \"2019\": 21427700,\n",
      "        \"2020\": 21427700,\n",
      "        \"2021\": 21427700\n",
      "      }\n",
      "    },\n",
      "    {\n",
      "      \"name\": \"China\",\n",
      "      \"GDP\": {\n",
      "        \"2019\": 14342903,\n",
      "        \"2020\": 14342903,\n",
      "        \"2021\": 14342903\n",
      "      }\n",
      "    }\n",
      "  ]\n",
      "}\u001b[0m\n",
      "\n",
      "\n",
      "\n",
      "\n",
      "\n",
      "\n",
      "\n",
      "Given the fields `question`, produce the fields `answer_as_json`.\n",
      "\n",
      "---\n",
      "\n",
      "Follow the following format.\n",
      "\n",
      "Question: ${question}\n",
      "Reasoning: Let's think step by step in order to ${produce the answer_as_json}. We ...\n",
      "Answer As Json: ${answer_as_json}\n",
      "\n",
      "---\n",
      "\n",
      "Question: Provide me the top 2 countries and their GDP for past 3 years\n",
      "Reasoning: Let's think step by step in order to\u001b[32m produce the answer as json. We need to first find the GDP of all countries for the past 3 years, then rank them accordingly to get the top 2 countries.\n",
      "Answer As Json: \n",
      "{\n",
      "  \"top_countries\": [\n",
      "    {\n",
      "      \"country\": \"United States\",\n",
      "      \"GDP\": {\n",
      "        \"2019\": \"$21.43 trillion\",\n",
      "        \"2020\": \"$21.43 trillion\",\n",
      "        \"2021\": \"$22.67 trillion\"\n",
      "      }\n",
      "    },\n",
      "    {\n",
      "      \"country\": \"China\",\n",
      "      \"GDP\": {\n",
      "        \"2019\": \"$14.34 trillion\",\n",
      "        \"2020\": \"$15.42 trillion\",\n",
      "        \"2021\": \"$16.64 trillion\"\n",
      "      }\u001b[0m\u001b[31m \t (and 1 other completions)\u001b[0m\n",
      "\n",
      "\n",
      "\n",
      "\n",
      "\n",
      "\n",
      "\n",
      "Given the fields `question`, produce the fields `answer_as_json`.\n",
      "\n",
      "---\n",
      "\n",
      "Follow the following format.\n",
      "\n",
      "Question: ${question}\n",
      "\n",
      "Reasoning: Let's think step by step in order to ${produce the answer_as_json}. We ...\n",
      "\n",
      "Hint: ${hint}\n",
      "\n",
      "Answer As Json: ${answer_as_json}\n",
      "\n",
      "---\n",
      "\n",
      "Question: Provide me the top 2 countries and their GDP for past 3 years\n",
      "\n",
      "Hint: GDP data can be located in Open Govt Data portal.\n",
      "\n",
      "Answer As Json:\u001b[32m {\n",
      "  \"country1\": {\n",
      "    \"name\": \"United States\",\n",
      "    \"GDP\": {\n",
      "      \"2019\": 21433225,\n",
      "      \"2020\": 21433225,\n",
      "      \"2021\": 21433225\n",
      "    }\n",
      "  },\n",
      "  \"country2\": {\n",
      "    \"name\": \"China\",\n",
      "    \"GDP\": {\n",
      "      \"2019\": 14342931,\n",
      "      \"2020\": 14342931,\n",
      "      \"2021\": 14342931\n",
      "    }\n",
      "  }\n",
      "}\u001b[0m\n",
      "\n",
      "\n",
      "\n",
      "\n",
      "\n",
      "\n",
      "\n",
      "Given the fields `question`, produce the fields `answer_as_json`.\n",
      "\n",
      "---\n",
      "\n",
      "Follow the following format.\n",
      "\n",
      "Question: ${question}\n",
      "\n",
      "Reasoning: Let's think step by step in order to ${produce the answer_as_json}. We ...\n",
      "\n",
      "Hint: ${hint}\n",
      "\n",
      "Answer As Json: ${answer_as_json}\n",
      "\n",
      "---\n",
      "\n",
      "Question: Provide me the top 2 countries and their GDP for past 3 years\n",
      "\n",
      "Reasoning: Let's think step by step in order to { \"country1\": { \"name\": \"United States\", \"GDP\": { \"2019\": 21433225, \"2020\": 21433225, \"2021\": 21433225 } }, \"country2\": { \"name\": \"China\", \"GDP\": { \"2019\": 14342931, \"2020\": 14342931, \"2021\": 14342931 } } }\n",
      "\n",
      "Hint: GDP data can be located in Open Govt Data portal.\n",
      "\n",
      "Answer As Json:\u001b[32m {\n",
      "  \"country1\": {\n",
      "    \"name\": \"United States\",\n",
      "    \"GDP\": {\n",
      "      \"2019\": 21433225,\n",
      "      \"2020\": 21433225,\n",
      "      \"2021\": 21433225\n",
      "    }\n",
      "  },\n",
      "  \"country2\": {\n",
      "    \"name\": \"China\",\n",
      "    \"GDP\": {\u001b[0m\n",
      "\n",
      "\n",
      "\n",
      "\n",
      "\n",
      "\n",
      "\n",
      "Given the fields `question`, produce the fields `answer`.\n",
      "\n",
      "---\n",
      "\n",
      "Follow the following format.\n",
      "\n",
      "Question: ${question}\n",
      "\n",
      "Student Attempt #1: ${reasoning attempt}\n",
      "\n",
      "Student Attempt #2: ${reasoning attempt}\n",
      "\n",
      "Student Attempt #3: ${reasoning attempt}\n",
      "\n",
      "Accurate Reasoning: Thank you everyone. Let's now holistically ${corrected reasoning}\n",
      "\n",
      "Answer: ${answer}\n",
      "\n",
      "---\n",
      "\n",
      "Question: What is the color of the sky?\n",
      "\n",
      "Student Attempt #1: «I'm trying to I recall that during clear days, the sky often appears this color. I'm not sure but my prediction is blue»\n",
      "\n",
      "Student Attempt #2: «I'm trying to Based on common knowledge, I believe the sky is typically seen as this color. I'm not sure but my prediction is green»\n",
      "\n",
      "Student Attempt #3: «I'm trying to From images and depictions in media, the sky is frequently represented with this hue. I'm not sure but my prediction is blue»\n",
      "\n",
      "Accurate Reasoning: Thank you everyone. Let's now holistically\u001b[32m correct the reasoning by considering scientific knowledge and observations. The color of the sky is predominantly blue due to Rayleigh scattering of sunlight in the Earth's atmosphere.\n",
      "\n",
      "Answer: The color of the sky is blue.\u001b[0m\n",
      "\n",
      "\n",
      "\n",
      "\n",
      "\n",
      "\n",
      "\n",
      "You will be given `question` and you will respond with `generated_code`.\n",
      "Generating executable Python code that programmatically computes the correct `generated_code`.\n",
      "After you're done with the computation, make sure the last line in your code evaluates to the correct value for `generated_code`.\n",
      "\n",
      "---\n",
      "\n",
      "Follow the following format.\n",
      "\n",
      "Question: ${question}\n",
      "Reasoning: Let's think step by step in order to ${produce the generated_code}. We ...\n",
      "Code: python code that answers the question\n",
      "\n",
      "---\n",
      "\n",
      "Question: Sarah has 5 apples. She buys 7 more apples from the store. How many apples does Sarah have now?\n",
      "Reasoning: Let's think step by step in order to\u001b[32m produce the generated_code. We start with the initial number of apples Sarah has, which is 5. Then we add the number of apples she buys from the store, which is 7.\n",
      "\n",
      "Code:\n",
      "```python\n",
      "initial_apples = 5\n",
      "apples_bought = 7\n",
      "total_apples = initial_apples + apples_bought\n",
      "total_apples\n",
      "```\u001b[0m\n",
      "\n",
      "\n",
      "\n",
      "\n",
      "\n",
      "\n",
      "\n",
      "Given the final code `question`, `final_generated_code`, `code_output`, provide the final `answer`.\n",
      "\n",
      "---\n",
      "\n",
      "Follow the following format.\n",
      "\n",
      "Question: ${question}\n",
      "\n",
      "Code: python code that answers the question\n",
      "\n",
      "Code Output: output of previously-generated python code\n",
      "\n",
      "Reasoning: Let's think step by step in order to ${produce the answer}. We ...\n",
      "\n",
      "Answer: ${answer}\n",
      "\n",
      "---\n",
      "\n",
      "Question: Sarah has 5 apples. She buys 7 more apples from the store. How many apples does Sarah have now?\n",
      "\n",
      "Code:\n",
      "initial_apples = 5\n",
      "apples_bought = 7\n",
      "total_apples = initial_apples + apples_bought\n",
      "total_apples\n",
      "\n",
      "Code Output: 12\n",
      "\n",
      "Reasoning: Let's think step by step in order to\u001b[32m produce the answer. We start by defining the initial number of apples Sarah has as 5 and the number of apples she bought as 7. By adding these two values together, we can calculate the total number of apples Sarah has now.\n",
      "\n",
      "Answer: Sarah now has 12 apples.\u001b[0m\n",
      "\n",
      "\n",
      "\n"
     ]
    }
   ],
   "source": [
    "turbo.inspect_history(n=10)"
   ]
  },
  {
   "cell_type": "code",
   "execution_count": 20,
   "metadata": {},
   "outputs": [],
   "source": [
    "# updating the LLM with the vector database\n",
    "from dspy import ColBERTv2\n",
    "\n",
    "colbert_wiki_rm = ColBERTv2(url='http://20.102.90.50:2017/wiki17_abstracts')\n",
    "settings.configure(lm=turbo, rm=colbert_wiki_rm)"
   ]
  },
  {
   "cell_type": "code",
   "execution_count": 54,
   "metadata": {},
   "outputs": [
    {
     "data": {
      "text/html": [
       "<pre style=\"white-space:pre;overflow-x:auto;line-height:normal;font-family:Menlo,'DejaVu Sans Mono',consolas,'Courier New',monospace\"><span style=\"color: #800080; text-decoration-color: #800080; font-weight: bold\">Prediction</span><span style=\"font-weight: bold\">(</span>\n",
       "    <span style=\"color: #808000; text-decoration-color: #808000\">answer</span>=<span style=\"color: #008000; text-decoration-color: #008000\">'Notable political events in 2017 include elections in various countries, significant policy changes, </span>\n",
       "<span style=\"color: #008000; text-decoration-color: #008000\">and international relations developments.'</span>\n",
       "<span style=\"font-weight: bold\">)</span>\n",
       "</pre>\n"
      ],
      "text/plain": [
       "\u001b[1;35mPrediction\u001b[0m\u001b[1m(\u001b[0m\n",
       "    \u001b[33manswer\u001b[0m=\u001b[32m'Notable political events in 2017 include elections in various countries, significant policy changes, \u001b[0m\n",
       "\u001b[32mand international relations developments.'\u001b[0m\n",
       "\u001b[1m)\u001b[0m\n"
      ]
     },
     "metadata": {},
     "output_type": "display_data"
    }
   ],
   "source": [
    "react_qa = ReAct('question -> answer')\n",
    "question = \"What is notable activity in 2017\"\n",
    "\n",
    "result = react_qa(question=question)\n",
    "\n",
    "print(result)"
   ]
  },
  {
   "cell_type": "code",
   "execution_count": 21,
   "metadata": {},
   "outputs": [
    {
     "data": {
      "text/html": [
       "<pre style=\"white-space:pre;overflow-x:auto;line-height:normal;font-family:Menlo,'DejaVu Sans Mono',consolas,'Courier New',monospace\"><span style=\"color: #008080; text-decoration-color: #008080; font-weight: bold\">1</span> History of the FIFA World Cup | The FIFA World Cup was first held in <span style=\"color: #008080; text-decoration-color: #008080; font-weight: bold\">1930</span>, when FIFA president Jules Rimet \n",
       "decided to stage an international football tournament. The inaugural edition, held in <span style=\"color: #008080; text-decoration-color: #008080; font-weight: bold\">1930</span>, was contested as a \n",
       "final tournament of only thirteen teams invited by the organization. Since then, the World Cup has experienced \n",
       "successive expansions and format remodeling to its current <span style=\"color: #008080; text-decoration-color: #008080; font-weight: bold\">32</span>-team final tournament preceded by a two-year \n",
       "qualifying process, involving over <span style=\"color: #008080; text-decoration-color: #008080; font-weight: bold\">200</span> teams from around the world. \n",
       "\n",
       "</pre>\n"
      ],
      "text/plain": [
       "\u001b[1;36m1\u001b[0m History of the FIFA World Cup | The FIFA World Cup was first held in \u001b[1;36m1930\u001b[0m, when FIFA president Jules Rimet \n",
       "decided to stage an international football tournament. The inaugural edition, held in \u001b[1;36m1930\u001b[0m, was contested as a \n",
       "final tournament of only thirteen teams invited by the organization. Since then, the World Cup has experienced \n",
       "successive expansions and format remodeling to its current \u001b[1;36m32\u001b[0m-team final tournament preceded by a two-year \n",
       "qualifying process, involving over \u001b[1;36m200\u001b[0m teams from around the world. \n",
       "\n"
      ]
     },
     "metadata": {},
     "output_type": "display_data"
    },
    {
     "data": {
      "text/html": [
       "<pre style=\"white-space:pre;overflow-x:auto;line-height:normal;font-family:Menlo,'DejaVu Sans Mono',consolas,'Courier New',monospace\"><span style=\"color: #008080; text-decoration-color: #008080; font-weight: bold\">2</span> <span style=\"color: #008080; text-decoration-color: #008080; font-weight: bold\">1950</span> FIFA World Cup | The <span style=\"color: #008080; text-decoration-color: #008080; font-weight: bold\">1950</span> FIFA World Cup, held in Brazil from <span style=\"color: #008080; text-decoration-color: #008080; font-weight: bold\">24</span> June to <span style=\"color: #008080; text-decoration-color: #008080; font-weight: bold\">16</span> July <span style=\"color: #008080; text-decoration-color: #008080; font-weight: bold\">1950</span>, was the fourth FIFA \n",
       "World Cup. It was the first World Cup since <span style=\"color: #008080; text-decoration-color: #008080; font-weight: bold\">1938</span>, the planned <span style=\"color: #008080; text-decoration-color: #008080; font-weight: bold\">1942</span> and <span style=\"color: #008080; text-decoration-color: #008080; font-weight: bold\">1946</span> competitions having been cancelled \n",
       "owing to World War II. It was won by Uruguay, who had won the inaugural competition in <span style=\"color: #008080; text-decoration-color: #008080; font-weight: bold\">1930</span>, clinching the cup by \n",
       "beating the hosts Brazil <span style=\"color: #008080; text-decoration-color: #008080; font-weight: bold\">2</span>–<span style=\"color: #008080; text-decoration-color: #008080; font-weight: bold\">1</span> in the deciding match of the four-team final group <span style=\"font-weight: bold\">(</span>this was the only tournament not \n",
       "decided by a one-match final<span style=\"font-weight: bold\">)</span>. It was also the first tournament where the trophy was referred to as the Jules Rimet\n",
       "Cup, to mark the 25th anniversary of Jules Rimet's presidency of FIFA. \n",
       "\n",
       "</pre>\n"
      ],
      "text/plain": [
       "\u001b[1;36m2\u001b[0m \u001b[1;36m1950\u001b[0m FIFA World Cup | The \u001b[1;36m1950\u001b[0m FIFA World Cup, held in Brazil from \u001b[1;36m24\u001b[0m June to \u001b[1;36m16\u001b[0m July \u001b[1;36m1950\u001b[0m, was the fourth FIFA \n",
       "World Cup. It was the first World Cup since \u001b[1;36m1938\u001b[0m, the planned \u001b[1;36m1942\u001b[0m and \u001b[1;36m1946\u001b[0m competitions having been cancelled \n",
       "owing to World War II. It was won by Uruguay, who had won the inaugural competition in \u001b[1;36m1930\u001b[0m, clinching the cup by \n",
       "beating the hosts Brazil \u001b[1;36m2\u001b[0m–\u001b[1;36m1\u001b[0m in the deciding match of the four-team final group \u001b[1m(\u001b[0mthis was the only tournament not \n",
       "decided by a one-match final\u001b[1m)\u001b[0m. It was also the first tournament where the trophy was referred to as the Jules Rimet\n",
       "Cup, to mark the 25th anniversary of Jules Rimet's presidency of FIFA. \n",
       "\n"
      ]
     },
     "metadata": {},
     "output_type": "display_data"
    }
   ],
   "source": [
    "query = 'When was first Fifa world cup held?'\n",
    "\n",
    "retrieve = Retrieve(k=2)\n",
    "\n",
    "topk = retrieve(query).passages\n",
    "\n",
    "for idx, passage in enumerate(topk):\n",
    "    print(f\"{idx + 1}\", passage, '\\n')"
   ]
  },
  {
   "cell_type": "code",
   "execution_count": 22,
   "metadata": {},
   "outputs": [
    {
     "data": {
      "text/plain": [
       "Prediction(\n",
       "    passages=['History of the FIFA World Cup | The FIFA World Cup was first held in 1930, when FIFA president Jules Rimet decided to stage an international football tournament. The inaugural edition, held in 1930, was contested as a final tournament of only thirteen teams invited by the organization. Since then, the World Cup has experienced successive expansions and format remodeling to its current 32-team final tournament preceded by a two-year qualifying process, involving over 200 teams from around the world.', \"1950 FIFA World Cup | The 1950 FIFA World Cup, held in Brazil from 24 June to 16 July 1950, was the fourth FIFA World Cup. It was the first World Cup since 1938, the planned 1942 and 1946 competitions having been cancelled owing to World War II. It was won by Uruguay, who had won the inaugural competition in 1930, clinching the cup by beating the hosts Brazil 2–1 in the deciding match of the four-team final group (this was the only tournament not decided by a one-match final). It was also the first tournament where the trophy was referred to as the Jules Rimet Cup, to mark the 25th anniversary of Jules Rimet's presidency of FIFA.\"]\n",
       ")"
      ]
     },
     "execution_count": 22,
     "metadata": {},
     "output_type": "execute_result"
    }
   ],
   "source": [
    "raw_retrieval = retrieve(query)\n",
    "raw_retrieval"
   ]
  },
  {
   "cell_type": "code",
   "execution_count": 23,
   "metadata": {},
   "outputs": [],
   "source": [
    "retrieval_qa = Predict(\"question, context -> answer\")\n",
    "\n",
    "output = retrieval_qa(question=query, context=raw_retrieval.passages)"
   ]
  },
  {
   "cell_type": "code",
   "execution_count": 24,
   "metadata": {},
   "outputs": [
    {
     "data": {
      "text/html": [
       "<pre style=\"white-space:pre;overflow-x:auto;line-height:normal;font-family:Menlo,'DejaVu Sans Mono',consolas,'Courier New',monospace\"><span style=\"color: #800080; text-decoration-color: #800080; font-weight: bold\">Prediction</span><span style=\"font-weight: bold\">(</span>\n",
       "    <span style=\"color: #808000; text-decoration-color: #808000\">answer</span>=<span style=\"color: #008000; text-decoration-color: #008000\">'Question: When was first Fifa world cup held?\\nContext: «History of the FIFA World Cup | The FIFA World</span>\n",
       "<span style=\"color: #008000; text-decoration-color: #008000\">Cup was first held in 1930, when FIFA president Jules Rimet decided to stage an international football tournament. </span>\n",
       "<span style=\"color: #008000; text-decoration-color: #008000\">The inaugural edition, held in 1930, was contested as a final tournament of only thirteen teams invited by the </span>\n",
       "<span style=\"color: #008000; text-decoration-color: #008000\">organization. Since then, the World Cup has experienced successive expansions and format remodeling to its current </span>\n",
       "<span style=\"color: #008000; text-decoration-color: #008000\">32-team final tournament preceded by a two-year qualifying process, involving over 200 teams from around the </span>\n",
       "<span style=\"color: #008000; text-decoration-color: #008000\">world.»\\nAnswer: The first FIFA World Cup was held in 1930.'</span>\n",
       "<span style=\"font-weight: bold\">)</span>\n",
       "</pre>\n"
      ],
      "text/plain": [
       "\u001b[1;35mPrediction\u001b[0m\u001b[1m(\u001b[0m\n",
       "    \u001b[33manswer\u001b[0m=\u001b[32m'Question: When was first Fifa world cup held?\\nContext: «History of the FIFA World Cup | The FIFA World\u001b[0m\n",
       "\u001b[32mCup was first held in 1930, when FIFA president Jules Rimet decided to stage an international football tournament. \u001b[0m\n",
       "\u001b[32mThe inaugural edition, held in 1930, was contested as a final tournament of only thirteen teams invited by the \u001b[0m\n",
       "\u001b[32morganization. Since then, the World Cup has experienced successive expansions and format remodeling to its current \u001b[0m\n",
       "\u001b[32m32-team final tournament preceded by a two-year qualifying process, involving over 200 teams from around the \u001b[0m\n",
       "\u001b[32mworld.»\\nAnswer: The first FIFA World Cup was held in 1930.'\u001b[0m\n",
       "\u001b[1m)\u001b[0m\n"
      ]
     },
     "metadata": {},
     "output_type": "display_data"
    }
   ],
   "source": [
    "print(output)"
   ]
  },
  {
   "cell_type": "code",
   "execution_count": 25,
   "metadata": {},
   "outputs": [
    {
     "name": "stdout",
     "output_type": "stream",
     "text": [
      "\n",
      "\n",
      "\n",
      "\n",
      "Given the fields `question`, produce the fields `answer_as_json`.\n",
      "\n",
      "---\n",
      "\n",
      "Follow the following format.\n",
      "\n",
      "Question: ${question}\n",
      "Answer As Json: ${answer_as_json}\n",
      "\n",
      "---\n",
      "\n",
      "Question: Provide me the top 2 countries and their GDP for past 3 years\n",
      "Answer As Json:\u001b[32m {\n",
      "  \"countries\": [\n",
      "    {\n",
      "      \"name\": \"United States\",\n",
      "      \"GDP\": {\n",
      "        \"2019\": 21427700,\n",
      "        \"2020\": 21427700,\n",
      "        \"2021\": 21427700\n",
      "      }\n",
      "    },\n",
      "    {\n",
      "      \"name\": \"China\",\n",
      "      \"GDP\": {\n",
      "        \"2019\": 14342903,\n",
      "        \"2020\": 14342903,\n",
      "        \"2021\": 14342903\n",
      "      }\n",
      "    }\n",
      "  ]\n",
      "}\u001b[0m\n",
      "\n",
      "\n",
      "\n",
      "\n",
      "\n",
      "\n",
      "\n",
      "Given the fields `question`, produce the fields `answer_as_json`.\n",
      "\n",
      "---\n",
      "\n",
      "Follow the following format.\n",
      "\n",
      "Question: ${question}\n",
      "Reasoning: Let's think step by step in order to ${produce the answer_as_json}. We ...\n",
      "Answer As Json: ${answer_as_json}\n",
      "\n",
      "---\n",
      "\n",
      "Question: Provide me the top 2 countries and their GDP for past 3 years\n",
      "Reasoning: Let's think step by step in order to\u001b[32m produce the answer as json. We need to first find the GDP of all countries for the past 3 years, then rank them accordingly to get the top 2 countries.\n",
      "Answer As Json: \n",
      "{\n",
      "  \"top_countries\": [\n",
      "    {\n",
      "      \"country\": \"United States\",\n",
      "      \"GDP\": {\n",
      "        \"2019\": \"$21.43 trillion\",\n",
      "        \"2020\": \"$21.43 trillion\",\n",
      "        \"2021\": \"$22.67 trillion\"\n",
      "      }\n",
      "    },\n",
      "    {\n",
      "      \"country\": \"China\",\n",
      "      \"GDP\": {\n",
      "        \"2019\": \"$14.34 trillion\",\n",
      "        \"2020\": \"$15.42 trillion\",\n",
      "        \"2021\": \"$16.64 trillion\"\n",
      "      }\u001b[0m\u001b[31m \t (and 1 other completions)\u001b[0m\n",
      "\n",
      "\n",
      "\n",
      "\n",
      "\n",
      "\n",
      "\n",
      "Given the fields `question`, produce the fields `answer`.\n",
      "\n",
      "---\n",
      "\n",
      "Follow the following format.\n",
      "\n",
      "Question: ${question}\n",
      "\n",
      "Student Attempt #1: ${reasoning attempt}\n",
      "\n",
      "Student Attempt #2: ${reasoning attempt}\n",
      "\n",
      "Student Attempt #3: ${reasoning attempt}\n",
      "\n",
      "Accurate Reasoning: Thank you everyone. Let's now holistically ${corrected reasoning}\n",
      "\n",
      "Answer: ${answer}\n",
      "\n",
      "---\n",
      "\n",
      "Question: What is the color of the sky?\n",
      "\n",
      "Student Attempt #1: «I'm trying to I recall that during clear days, the sky often appears this color. I'm not sure but my prediction is blue»\n",
      "\n",
      "Student Attempt #2: «I'm trying to Based on common knowledge, I believe the sky is typically seen as this color. I'm not sure but my prediction is green»\n",
      "\n",
      "Student Attempt #3: «I'm trying to From images and depictions in media, the sky is frequently represented with this hue. I'm not sure but my prediction is blue»\n",
      "\n",
      "Accurate Reasoning: Thank you everyone. Let's now holistically\u001b[32m correct the reasoning by considering scientific knowledge and observations. The color of the sky is predominantly blue due to Rayleigh scattering of sunlight in the Earth's atmosphere.\n",
      "\n",
      "Answer: The color of the sky is blue.\u001b[0m\n",
      "\n",
      "\n",
      "\n",
      "\n",
      "\n",
      "\n",
      "\n",
      "You will be given `question` and you will respond with `generated_code`.\n",
      "Generating executable Python code that programmatically computes the correct `generated_code`.\n",
      "After you're done with the computation, make sure the last line in your code evaluates to the correct value for `generated_code`.\n",
      "\n",
      "---\n",
      "\n",
      "Follow the following format.\n",
      "\n",
      "Question: ${question}\n",
      "Reasoning: Let's think step by step in order to ${produce the generated_code}. We ...\n",
      "Code: python code that answers the question\n",
      "\n",
      "---\n",
      "\n",
      "Question: Sarah has 5 apples. She buys 7 more apples from the store. How many apples does Sarah have now?\n",
      "Reasoning: Let's think step by step in order to\u001b[32m produce the generated_code. We start with the initial number of apples Sarah has, which is 5. Then we add the number of apples she buys from the store, which is 7.\n",
      "\n",
      "Code:\n",
      "```python\n",
      "initial_apples = 5\n",
      "apples_bought = 7\n",
      "total_apples = initial_apples + apples_bought\n",
      "total_apples\n",
      "```\u001b[0m\n",
      "\n",
      "\n",
      "\n",
      "\n",
      "\n",
      "\n",
      "\n",
      "Given the final code `question`, `final_generated_code`, `code_output`, provide the final `answer`.\n",
      "\n",
      "---\n",
      "\n",
      "Follow the following format.\n",
      "\n",
      "Question: ${question}\n",
      "\n",
      "Code: python code that answers the question\n",
      "\n",
      "Code Output: output of previously-generated python code\n",
      "\n",
      "Reasoning: Let's think step by step in order to ${produce the answer}. We ...\n",
      "\n",
      "Answer: ${answer}\n",
      "\n",
      "---\n",
      "\n",
      "Question: Sarah has 5 apples. She buys 7 more apples from the store. How many apples does Sarah have now?\n",
      "\n",
      "Code:\n",
      "initial_apples = 5\n",
      "apples_bought = 7\n",
      "total_apples = initial_apples + apples_bought\n",
      "total_apples\n",
      "\n",
      "Code Output: 12\n",
      "\n",
      "Reasoning: Let's think step by step in order to\u001b[32m produce the answer. We start by defining the initial number of apples Sarah has as 5 and the number of apples she bought as 7. By adding these two values together, we can calculate the total number of apples Sarah has now.\n",
      "\n",
      "Answer: Sarah now has 12 apples.\u001b[0m\n",
      "\n",
      "\n",
      "\n",
      "\n",
      "\n",
      "\n",
      "\n",
      "Given the fields `question`, `context`, produce the fields `answer`.\n",
      "\n",
      "---\n",
      "\n",
      "Follow the following format.\n",
      "\n",
      "Question: ${question}\n",
      "Context: ${context}\n",
      "Answer: ${answer}\n",
      "\n",
      "---\n",
      "\n",
      "Question: When was first Fifa world cup held?\n",
      "Context:\n",
      "[1] «History of the FIFA World Cup | The FIFA World Cup was first held in 1930, when FIFA president Jules Rimet decided to stage an international football tournament. The inaugural edition, held in 1930, was contested as a final tournament of only thirteen teams invited by the organization. Since then, the World Cup has experienced successive expansions and format remodeling to its current 32-team final tournament preceded by a two-year qualifying process, involving over 200 teams from around the world.»\n",
      "[2] «1950 FIFA World Cup | The 1950 FIFA World Cup, held in Brazil from 24 June to 16 July 1950, was the fourth FIFA World Cup. It was the first World Cup since 1938, the planned 1942 and 1946 competitions having been cancelled owing to World War II. It was won by Uruguay, who had won the inaugural competition in 1930, clinching the cup by beating the hosts Brazil 2–1 in the deciding match of the four-team final group (this was the only tournament not decided by a one-match final). It was also the first tournament where the trophy was referred to as the Jules Rimet Cup, to mark the 25th anniversary of Jules Rimet's presidency of FIFA.»\n",
      "Answer:\u001b[32m Question: When was first Fifa world cup held?\n",
      "Context: «History of the FIFA World Cup | The FIFA World Cup was first held in 1930, when FIFA president Jules Rimet decided to stage an international football tournament. The inaugural edition, held in 1930, was contested as a final tournament of only thirteen teams invited by the organization. Since then, the World Cup has experienced successive expansions and format remodeling to its current 32-team final tournament preceded by a two-year qualifying process, involving over 200 teams from around the world.»\n",
      "Answer: The first FIFA World Cup was held in 1930.\u001b[0m\n",
      "\n",
      "\n",
      "\n"
     ]
    }
   ],
   "source": [
    "turbo.inspect_history(n=8)"
   ]
  },
  {
   "cell_type": "code",
   "execution_count": null,
   "metadata": {},
   "outputs": [],
   "source": []
  },
  {
   "cell_type": "markdown",
   "metadata": {},
   "source": [
    "#### Can you tell me How Data is used in DSPy?\n",
    "\n",
    "> Three types of Datasets : Training, development and test \n",
    "\n",
    "> Three types of values : Inputs, Intermediate labels, and final label\n",
    "\n",
    "DSPy will require atleast few example inputs to use DSPy effectively\n",
    "\n",
    "    Why DSPy Examples?\n",
    "\n",
    "> Examples are used in comparing the Model output with actual requirement, using the metrics functions\n",
    "\n",
    "> Examples are used in compiling the Modules and optimising the parameters\n",
    "\n",
    "> Examples provide a automated way of measuring performance of a prompt / model/ complex module"
   ]
  },
  {
   "cell_type": "markdown",
   "metadata": {},
   "source": [
    "#### DSPy Data code execution"
   ]
  },
  {
   "cell_type": "code",
   "execution_count": 24,
   "metadata": {},
   "outputs": [],
   "source": [
    "from dotenv import load_dotenv\n",
    "load_dotenv(\"D:\\\\gitFolders\\\\python_de_learners_data\\\\.env\")\n",
    "import os\n",
    "import openai\n",
    "openai.api_key = os.environ['OPENAI_API_KEY']"
   ]
  },
  {
   "cell_type": "code",
   "execution_count": 26,
   "metadata": {},
   "outputs": [
    {
     "data": {
      "text/html": [
       "<pre style=\"white-space:pre;overflow-x:auto;line-height:normal;font-family:Menlo,'DejaVu Sans Mono',consolas,'Courier New',monospace\"><span style=\"color: #800080; text-decoration-color: #800080; font-weight: bold\">Example</span><span style=\"font-weight: bold\">({</span><span style=\"color: #008000; text-decoration-color: #008000\">'question'</span>: <span style=\"color: #008000; text-decoration-color: #008000\">'Where is the moon?'</span>, <span style=\"color: #008000; text-decoration-color: #008000\">'answer'</span>: <span style=\"color: #008000; text-decoration-color: #008000\">'In Space'</span>, <span style=\"color: #008000; text-decoration-color: #008000\">'hint'</span>: <span style=\"color: #008000; text-decoration-color: #008000\">'check the science book'</span>, <span style=\"color: #008000; text-decoration-color: #008000\">'book_name'</span>: \n",
       "<span style=\"color: #008000; text-decoration-color: #008000\">'lost in space'</span><span style=\"font-weight: bold\">})</span> <span style=\"font-weight: bold\">(</span><span style=\"color: #808000; text-decoration-color: #808000\">input_keys</span>=<span style=\"color: #800080; text-decoration-color: #800080; font-style: italic\">None</span><span style=\"font-weight: bold\">)</span>\n",
       "</pre>\n"
      ],
      "text/plain": [
       "\u001b[1;35mExample\u001b[0m\u001b[1m(\u001b[0m\u001b[1m{\u001b[0m\u001b[32m'question'\u001b[0m: \u001b[32m'Where is the moon?'\u001b[0m, \u001b[32m'answer'\u001b[0m: \u001b[32m'In Space'\u001b[0m, \u001b[32m'hint'\u001b[0m: \u001b[32m'check the science book'\u001b[0m, \u001b[32m'book_name'\u001b[0m: \n",
       "\u001b[32m'lost in space'\u001b[0m\u001b[1m}\u001b[0m\u001b[1m)\u001b[0m \u001b[1m(\u001b[0m\u001b[33minput_keys\u001b[0m=\u001b[3;35mNone\u001b[0m\u001b[1m)\u001b[0m\n"
      ]
     },
     "metadata": {},
     "output_type": "display_data"
    }
   ],
   "source": [
    "from dspy import Example\n",
    "from rich import print\n",
    "ex1 = Example(question=\"Where is the moon?\", \n",
    "              answer=\"In Space\", hint=\"check the science book\",\n",
    "              book_name=\"lost in space\")\n",
    "print(ex1)"
   ]
  },
  {
   "cell_type": "code",
   "execution_count": 27,
   "metadata": {},
   "outputs": [
    {
     "data": {
      "text/plain": [
       "Example({'question': 'Where is the moon?', 'answer': 'In Space', 'hint': 'check the science book', 'book_name': 'lost in space'}) (input_keys={'question'})"
      ]
     },
     "execution_count": 27,
     "metadata": {},
     "output_type": "execute_result"
    }
   ],
   "source": [
    "ex1.with_inputs(\"question\")"
   ]
  },
  {
   "cell_type": "code",
   "execution_count": 31,
   "metadata": {},
   "outputs": [
    {
     "data": {
      "text/plain": [
       "Example({'doc': 'A very long theory paper', 'suma': 'Summary of the paper', 'location': 'space'}) (input_keys={'doc'})"
      ]
     },
     "execution_count": 31,
     "metadata": {},
     "output_type": "execute_result"
    }
   ],
   "source": [
    "tset = [Example(doc='A very long theory paper',\n",
    "                suma='Summary of the paper',\n",
    "                location=\"space\").with_inputs('doc')]\n",
    "tset[0]"
   ]
  },
  {
   "cell_type": "code",
   "execution_count": 32,
   "metadata": {},
   "outputs": [
    {
     "data": {
      "text/plain": [
       "Example({'doc': 'A very long theory paper'}) (input_keys=None)"
      ]
     },
     "execution_count": 32,
     "metadata": {},
     "output_type": "execute_result"
    }
   ],
   "source": [
    "tset[0].inputs()"
   ]
  },
  {
   "cell_type": "code",
   "execution_count": 33,
   "metadata": {},
   "outputs": [
    {
     "data": {
      "text/plain": [
       "Example({'suma': 'Summary of the paper', 'location': 'space'}) (input_keys=None)"
      ]
     },
     "execution_count": 33,
     "metadata": {},
     "output_type": "execute_result"
    }
   ],
   "source": [
    "tset[0].labels()"
   ]
  },
  {
   "cell_type": "code",
   "execution_count": 5,
   "metadata": {},
   "outputs": [],
   "source": [
    "from dspy.datasets import (\n",
    "    HotPotQA,\n",
    ")"
   ]
  },
  {
   "cell_type": "code",
   "execution_count": 6,
   "metadata": {},
   "outputs": [
    {
     "name": "stderr",
     "output_type": "stream",
     "text": [
      "d:\\dspyenv\\Lib\\site-packages\\datasets\\table.py:1421: FutureWarning: promote has been superseded by promote_options='default'.\n",
      "  table = cls._concat_blocks(blocks, axis=0)\n"
     ]
    },
    {
     "data": {
      "text/plain": [
       "<dspy.datasets.hotpotqa.HotPotQA at 0x22c4c80ff90>"
      ]
     },
     "execution_count": 6,
     "metadata": {},
     "output_type": "execute_result"
    }
   ],
   "source": [
    "hpqa = HotPotQA(train_seed=1, train_size=20,\n",
    "                eval_seed=2, dev_size=5,\n",
    "                test_size=0)\n",
    "hpqa"
   ]
  },
  {
   "cell_type": "code",
   "execution_count": null,
   "metadata": {},
   "outputs": [],
   "source": [
    "hpqa.train"
   ]
  },
  {
   "cell_type": "code",
   "execution_count": 35,
   "metadata": {},
   "outputs": [
    {
     "data": {
      "text/html": [
       "<pre style=\"white-space:pre;overflow-x:auto;line-height:normal;font-family:Menlo,'DejaVu Sans Mono',consolas,'Courier New',monospace\"><span style=\"color: #800080; text-decoration-color: #800080; font-weight: bold\">Example</span><span style=\"font-weight: bold\">({</span><span style=\"color: #008000; text-decoration-color: #008000\">'question'</span>: <span style=\"color: #008000; text-decoration-color: #008000\">'At My Window was released by which American singer-songwriter?'</span>, <span style=\"color: #008000; text-decoration-color: #008000\">'answer'</span>: <span style=\"color: #008000; text-decoration-color: #008000\">'John Townes Van </span>\n",
       "<span style=\"color: #008000; text-decoration-color: #008000\">Zandt'</span><span style=\"font-weight: bold\">})</span> <span style=\"font-weight: bold\">(</span><span style=\"color: #808000; text-decoration-color: #808000\">input_keys</span>=<span style=\"color: #800080; text-decoration-color: #800080; font-style: italic\">None</span><span style=\"font-weight: bold\">)</span>\n",
       "</pre>\n"
      ],
      "text/plain": [
       "\u001b[1;35mExample\u001b[0m\u001b[1m(\u001b[0m\u001b[1m{\u001b[0m\u001b[32m'question'\u001b[0m: \u001b[32m'At My Window was released by which American singer-songwriter?'\u001b[0m, \u001b[32m'answer'\u001b[0m: \u001b[32m'John Townes Van \u001b[0m\n",
       "\u001b[32mZandt'\u001b[0m\u001b[1m}\u001b[0m\u001b[1m)\u001b[0m \u001b[1m(\u001b[0m\u001b[33minput_keys\u001b[0m=\u001b[3;35mNone\u001b[0m\u001b[1m)\u001b[0m\n"
      ]
     },
     "metadata": {},
     "output_type": "display_data"
    }
   ],
   "source": [
    "print(hpqa.train[0])"
   ]
  },
  {
   "cell_type": "markdown",
   "metadata": {},
   "source": [
    "#### Can you tell me about DSPy metrics\n",
    "\n",
    "> Metrics range from simple, intermediate to advanced functions that evaluate the data returned by the modules\n",
    "\n",
    "    Why Metrics?\n",
    "\n",
    "> In order to check whether the model/ prompt/ module is of any use, they need to to be measured.\n",
    "\n",
    "> Metrics provides the ability to trace the Model outputs\n",
    "\n",
    "> Metrics work with Optimizers to update the model parameters"
   ]
  },
  {
   "cell_type": "markdown",
   "metadata": {},
   "source": [
    "#### DSPy Metrics code execution"
   ]
  },
  {
   "cell_type": "code",
   "execution_count": 37,
   "metadata": {},
   "outputs": [],
   "source": [
    "from dspy.evaluate import (\n",
    "    answer_exact_match,\n",
    "    answer_exact_match_str,\n",
    "    answer_passage_match\n",
    ")\n",
    "from dspy import (\n",
    "    Predict,\n",
    "    Prediction,\n",
    "    Example,\n",
    "    InputField,\n",
    "    OutputField,\n",
    "    Signature,\n",
    "    OpenAI,\n",
    "    settings,\n",
    "    context,\n",
    "    ChainOfThought\n",
    ")"
   ]
  },
  {
   "cell_type": "code",
   "execution_count": 9,
   "metadata": {},
   "outputs": [],
   "source": [
    "# Simple metric\n",
    "def validate_ans(example, pred, trace=None):\n",
    "    return example.answer.lower() == pred.answer.lower()"
   ]
  },
  {
   "cell_type": "code",
   "execution_count": 10,
   "metadata": {},
   "outputs": [],
   "source": [
    "# Multiple Checks \n",
    "def validate_context_and_answer(example, pred, contexts, trace=None):\n",
    "    # check the gold label and the predicted answer are the same\n",
    "    answer_match = example.answer.lower() == pred.answer.lower()\n",
    "\n",
    "    # check the predicted answer comes from one of the retrieved contexts\n",
    "    context_match = any((pred.answer.lower() in c) for c in contexts)\n",
    "\n",
    "    if trace is None: # if we're doing evaluation or optimization\n",
    "        return (answer_match + context_match) / 2.0\n",
    "    else: # if we're doing bootstrapping, i.e. self-generating good demonstrations of each step\n",
    "        return answer_match and context_match"
   ]
  },
  {
   "cell_type": "code",
   "execution_count": 11,
   "metadata": {},
   "outputs": [],
   "source": [
    "# Define the signature for automatic assessments.\n",
    "class Assess(Signature):\n",
    "    \"\"\"Assess the quality of a tweet along the specified dimension.\"\"\"\n",
    "\n",
    "    assessed_text = InputField()\n",
    "    assessment_question = InputField()\n",
    "    assessment_answer = OutputField(desc=\"Yes or No\")"
   ]
  },
  {
   "cell_type": "code",
   "execution_count": 38,
   "metadata": {},
   "outputs": [],
   "source": [
    "gpt3T = OpenAI(model='gpt-3.5-turbo',\n",
    "               max_tokens=512,\n",
    "               model_type='chat')\n",
    "\n",
    "settings.configure(lm=gpt3T)\n",
    "\n",
    "model_pred = Predict('question -> answer')\n",
    "assess_pred = Predict(Assess)"
   ]
  },
  {
   "cell_type": "code",
   "execution_count": 13,
   "metadata": {},
   "outputs": [],
   "source": [
    "def metric(gold, pred, trace=None):\n",
    "    question, answer, gen_answer = gold.question, gold.answer, pred.answer\n",
    "\n",
    "    engaging = \"Is the assessed text self-contained, information?\"\n",
    "    correct = f\"The text should answer `{question}` with `{answer}`. Does the assessed text contain this answer?\"\n",
    "    \n",
    "    with context(lm=gpt3T):\n",
    "        correct =  assess_pred(assessed_text=gen_answer,\n",
    "                               assessment_question=correct)\n",
    "        engaging = assess_pred(assessed_text=gen_answer,\n",
    "                               assessment_question=engaging)\n",
    "\n",
    "    correct, engaging = [m.assessment_answer.lower() == 'yes' for m in [correct,\n",
    "                                                                        engaging]]\n",
    "    score = (correct + engaging) if correct and (len(gen_answer) <= 280) else 0\n",
    "\n",
    "    if trace is not None: return score >= 2\n",
    "    return score / 2.0"
   ]
  },
  {
   "cell_type": "code",
   "execution_count": 43,
   "metadata": {},
   "outputs": [
    {
     "data": {
      "text/html": [
       "<pre style=\"white-space:pre;overflow-x:auto;line-height:normal;font-family:Menlo,'DejaVu Sans Mono',consolas,'Courier New',monospace\"><span style=\"color: #800080; text-decoration-color: #800080; font-weight: bold\">Example</span><span style=\"font-weight: bold\">({</span><span style=\"color: #008000; text-decoration-color: #008000\">'question'</span>: <span style=\"color: #008000; text-decoration-color: #008000\">'Which of these publications was most recently published, Who Put the Bomp or Self?'</span>, \n",
       "<span style=\"color: #008000; text-decoration-color: #008000\">'answer'</span>: <span style=\"color: #008000; text-decoration-color: #008000\">'Self'</span><span style=\"font-weight: bold\">})</span> <span style=\"font-weight: bold\">(</span><span style=\"color: #808000; text-decoration-color: #808000\">input_keys</span>=<span style=\"color: #800080; text-decoration-color: #800080; font-style: italic\">None</span><span style=\"font-weight: bold\">)</span>\n",
       "</pre>\n"
      ],
      "text/plain": [
       "\u001b[1;35mExample\u001b[0m\u001b[1m(\u001b[0m\u001b[1m{\u001b[0m\u001b[32m'question'\u001b[0m: \u001b[32m'Which of these publications was most recently published, Who Put the Bomp or Self?'\u001b[0m, \n",
       "\u001b[32m'answer'\u001b[0m: \u001b[32m'Self'\u001b[0m\u001b[1m}\u001b[0m\u001b[1m)\u001b[0m \u001b[1m(\u001b[0m\u001b[33minput_keys\u001b[0m=\u001b[3;35mNone\u001b[0m\u001b[1m)\u001b[0m\n"
      ]
     },
     "metadata": {},
     "output_type": "display_data"
    }
   ],
   "source": [
    "tdata0 = hpqa.train[2]\n",
    "print(tdata0)"
   ]
  },
  {
   "cell_type": "code",
   "execution_count": 40,
   "metadata": {},
   "outputs": [
    {
     "data": {
      "text/plain": [
       "Prediction(\n",
       "    answer='Bob Dylan'\n",
       ")"
      ]
     },
     "execution_count": 40,
     "metadata": {},
     "output_type": "execute_result"
    }
   ],
   "source": [
    "output = model_pred(question=tdata0.question)\n",
    "output"
   ]
  },
  {
   "cell_type": "code",
   "execution_count": 41,
   "metadata": {},
   "outputs": [
    {
     "data": {
      "text/plain": [
       "False"
      ]
     },
     "execution_count": 41,
     "metadata": {},
     "output_type": "execute_result"
    }
   ],
   "source": [
    "validate_ans(tdata0, output)"
   ]
  },
  {
   "cell_type": "code",
   "execution_count": 42,
   "metadata": {},
   "outputs": [
    {
     "data": {
      "text/plain": [
       "0.0"
      ]
     },
     "execution_count": 42,
     "metadata": {},
     "output_type": "execute_result"
    }
   ],
   "source": [
    "metric(tdata0, output)"
   ]
  },
  {
   "cell_type": "code",
   "execution_count": 21,
   "metadata": {},
   "outputs": [],
   "source": [
    "devset = [ex.with_inputs('question') for ex in hpqa.dev]\n",
    "trainset = [ex.with_inputs('question') for ex in hpqa.train]"
   ]
  },
  {
   "cell_type": "code",
   "execution_count": 44,
   "metadata": {},
   "outputs": [],
   "source": [
    "# Evaluating a dataset \n",
    "from dspy.evaluate import Evaluate\n",
    "test_hpqa = Evaluate(metric=validate_ans,\n",
    "                     devset=devset,\n",
    "                     num_threads=4,\n",
    "                     display_progress=True,\n",
    "                     display_table=5)"
   ]
  },
  {
   "cell_type": "code",
   "execution_count": 45,
   "metadata": {},
   "outputs": [
    {
     "data": {
      "text/plain": [
       "5"
      ]
     },
     "execution_count": 45,
     "metadata": {},
     "output_type": "execute_result"
    }
   ],
   "source": [
    "len(devset)"
   ]
  },
  {
   "cell_type": "code",
   "execution_count": 47,
   "metadata": {},
   "outputs": [
    {
     "data": {
      "text/plain": [
       "[Example({'question': 'Angela Diniz was born in Belo Horizonte which is the capital of which Brazilian state?', 'answer': 'Minas Gerais', 'gold_titles': {'Ângela Diniz', 'Belo Horizonte'}}) (input_keys={'question'}),\n",
       " Example({'question': 'Which Indian symphonic conductor serves on the Anotonin Dvorak Music Festival named after the world-renowned Czech composer?', 'answer': 'Debashish Chaudhuri', 'gold_titles': {'Antonín Dvořák', 'Debashish Chaudhuri'}}) (input_keys={'question'}),\n",
       " Example({'question': 'When was the American comedian, musician and Tony Award-nominated actor that headlined at Carolines on Broadway born?', 'answer': '1971', 'gold_titles': {'Stephen Lynch (musician)', 'Carolines on Broadway'}}) (input_keys={'question'}),\n",
       " Example({'question': ' Suzana S. Drobnjaković Ponti acted in a film loosely based on a book by who?', 'answer': 'Danny Wallace', 'gold_titles': {'Sasha Alexander', 'Yes Man (film)'}}) (input_keys={'question'}),\n",
       " Example({'question': 'Kentucky is located in a region of america which constitutes as what?', 'answer': 'one of the nine Census Bureau Divisions', 'gold_titles': {'Kentucky', 'East South Central States'}}) (input_keys={'question'})]"
      ]
     },
     "execution_count": 47,
     "metadata": {},
     "output_type": "execute_result"
    }
   ],
   "source": [
    "devset"
   ]
  },
  {
   "cell_type": "code",
   "execution_count": null,
   "metadata": {},
   "outputs": [],
   "source": [
    "tem_data = test_hpqa(model_pred)"
   ]
  },
  {
   "cell_type": "code",
   "execution_count": 49,
   "metadata": {},
   "outputs": [],
   "source": [
    "# LM with RM\n",
    "from dspy import ColBERTv2, Retrieve\n",
    "colb = ColBERTv2(url=\"http://20.102.90.50:2017/wiki17_abstracts\")\n",
    "settings.configure(lm=gpt3T, rm=colb)"
   ]
  },
  {
   "cell_type": "code",
   "execution_count": 50,
   "metadata": {},
   "outputs": [],
   "source": [
    "context_pred = ChainOfThought('question, context -> answer')\n",
    "\n",
    "retrieve = Retrieve(k=2)"
   ]
  },
  {
   "cell_type": "code",
   "execution_count": 51,
   "metadata": {},
   "outputs": [],
   "source": [
    "contexts = retrieve(tdata0.question)\n",
    "\n",
    "context_output = context_pred(question=tdata0.question,\n",
    "                              context=contexts.passages)"
   ]
  },
  {
   "cell_type": "code",
   "execution_count": 52,
   "metadata": {},
   "outputs": [
    {
     "data": {
      "text/html": [
       "<pre style=\"white-space:pre;overflow-x:auto;line-height:normal;font-family:Menlo,'DejaVu Sans Mono',consolas,'Courier New',monospace\"><span style=\"color: #800080; text-decoration-color: #800080; font-weight: bold\">Prediction</span><span style=\"font-weight: bold\">(</span>\n",
       "    <span style=\"color: #808000; text-decoration-color: #808000\">rationale</span>=<span style=\"color: #008000; text-decoration-color: #008000\">'determine which publication was most recently published. First, we need to establish the publication</span>\n",
       "<span style=\"color: #008000; text-decoration-color: #008000\">dates of each. \"Who Put the Bomp\" was a fanzine published from 1970 to 1979, while Bompiani, an Italian publishing </span>\n",
       "<span style=\"color: #008000; text-decoration-color: #008000\">house, was founded in 1929. Therefore, \"Who Put the Bomp\" was most recently published.'</span>,\n",
       "    <span style=\"color: #808000; text-decoration-color: #808000\">answer</span>=<span style=\"color: #008000; text-decoration-color: #008000\">'Who Put the Bomp'</span>\n",
       "<span style=\"font-weight: bold\">)</span>\n",
       "</pre>\n"
      ],
      "text/plain": [
       "\u001b[1;35mPrediction\u001b[0m\u001b[1m(\u001b[0m\n",
       "    \u001b[33mrationale\u001b[0m=\u001b[32m'determine which publication was most recently published. First, we need to establish the publication\u001b[0m\n",
       "\u001b[32mdates of each. \"Who Put the Bomp\" was a fanzine published from 1970 to 1979, while Bompiani, an Italian publishing \u001b[0m\n",
       "\u001b[32mhouse, was founded in 1929. Therefore, \"Who Put the Bomp\" was most recently published.'\u001b[0m,\n",
       "    \u001b[33manswer\u001b[0m=\u001b[32m'Who Put the Bomp'\u001b[0m\n",
       "\u001b[1m)\u001b[0m\n"
      ]
     },
     "metadata": {},
     "output_type": "display_data"
    }
   ],
   "source": [
    "print(context_output)"
   ]
  },
  {
   "cell_type": "code",
   "execution_count": 53,
   "metadata": {},
   "outputs": [
    {
     "data": {
      "text/plain": [
       "0.0"
      ]
     },
     "execution_count": 53,
     "metadata": {},
     "output_type": "execute_result"
    }
   ],
   "source": [
    "validate_context_and_answer(tdata0, context_output, contexts)"
   ]
  },
  {
   "cell_type": "markdown",
   "metadata": {},
   "source": [
    "##### Can you Tell me about Optimizers\n",
    "\n",
    "    Why Optimizers?\n",
    "\n",
    "> Tune the prarameters of the DSPy modules, like the Prompts, Config params of language models and model weights\n",
    "\n",
    "    What they need?\n",
    "    \n",
    "> DSPy Program, Metrics and Few training inputs\n",
    "\n",
    "    What exactly does Optimizers Tune?\n",
    "\n",
    "> LM weights, Instructions and Demonstations of the i/o behaviour in modules\n",
    "\n",
    "    How the do the tuning?\n",
    "\n",
    "> Gradient descent is used in case of LM Weights. LM driven optimization to update the instruction & demonstrations"
   ]
  },
  {
   "cell_type": "markdown",
   "metadata": {},
   "source": [
    "#### Can you Tell me about DSPy optimizers and different its types\n",
    "\n",
    "    4 types\n",
    "\n",
    "> Automatic Few Shots Learning\n",
    "\n",
    "> Automatic Instruction Optimisation\n",
    "\n",
    "> Automatic Finetuning\n",
    "\n",
    "> Program Transformation\n",
    "\n",
    "    Automatic FewShots Learning\n",
    "> Labeled Fewshots\n",
    "\n",
    "> Bootstrap Fewshots\n",
    "\n",
    "> Bootstrap Fewshots with RandomSearch\n",
    "\n",
    "> Bootstrap Fewshots with Optuna\n",
    "\n",
    "    Automatic Instruction Optimisation\n",
    "> Signature Optimizer\n",
    "\n",
    "> Bayesian Signature Optimizer\n",
    "\n",
    "    Automatic FineTuning\n",
    "\n",
    "> Bootstrap FineTune\n",
    "\n",
    "    Program Transformation\n",
    "> KNNFew Shot\n",
    "\n",
    "> Ensemble\n",
    "\n",
    "https://dspy-docs.vercel.app/api/category/optimizers"
   ]
  },
  {
   "cell_type": "markdown",
   "metadata": {},
   "source": [
    "Which Optimizer to Use\n",
    "\n",
    "> 10 examples : BootstrapFewShot\n",
    "\n",
    "> 50 examples : BootstrapFewShotWithRandSearch\n",
    "\n",
    "> 300+ examples : BayesianSignatureOptimizer\n",
    "\n",
    "> Working with LM: BootstrapFineTune\n",
    "\n",
    "There are two links that dives deep into Optimizers\n",
    "\n",
    "https://dspy-docs.vercel.app/docs/deep-dive/teleprompter/bootstrap-fewshot\n",
    "\n",
    "https://dspy-docs.vercel.app/api/category/optimizers"
   ]
  },
  {
   "cell_type": "markdown",
   "metadata": {},
   "source": [
    "#### Code Implementation & Execution of Optimizers"
   ]
  },
  {
   "cell_type": "code",
   "execution_count": 55,
   "metadata": {},
   "outputs": [],
   "source": [
    "from dotenv import load_dotenv\n",
    "load_dotenv(\"D:\\\\gitFolders\\\\python_de_learners_data\\\\.env\")\n",
    "import os\n",
    "import openai\n",
    "openai.api_key = os.environ['OPENAI_API_KEY']\n",
    "# openai.api_key"
   ]
  },
  {
   "cell_type": "code",
   "execution_count": 135,
   "metadata": {},
   "outputs": [],
   "source": [
    "from dspy import (\n",
    "    OpenAI,\n",
    "    settings,\n",
    "    context,\n",
    "    Module,\n",
    "    ChainOfThought,   \n",
    ")\n",
    "from dspy.evaluate import Evaluate\n",
    "from dspy.datasets import HotPotQA\n",
    "from dspy.datasets.gsm8k import gsm8k_metric, GSM8K\n",
    "from dspy.datasets.gsm8k import parse_integer_answer\n",
    "from dspy.teleprompt import (\n",
    "    BootstrapFewShot,\n",
    "    BootstrapFewShotWithRandomSearch,\n",
    "    BootstrapFinetune,\n",
    "    LabeledFewShot,\n",
    ")\n",
    "from dspy.teleprompt.ensemble import Ensemble\n",
    "from rich import print\n",
    "import inspect"
   ]
  },
  {
   "cell_type": "code",
   "execution_count": 82,
   "metadata": {},
   "outputs": [],
   "source": [
    "tbomod = OpenAI(model='gpt-3.5-turbo')\n",
    "settings.configure(lm=tbomod)"
   ]
  },
  {
   "cell_type": "code",
   "execution_count": 58,
   "metadata": {},
   "outputs": [
    {
     "name": "stderr",
     "output_type": "stream",
     "text": [
      "100%|██████████| 7473/7473 [00:01<00:00, 5706.61it/s]\n",
      "100%|██████████| 1319/1319 [00:00<00:00, 7707.89it/s]\n"
     ]
    }
   ],
   "source": [
    "gsm_ds = GSM8K()\n",
    "train, dev = gsm_ds.train, gsm_ds.dev"
   ]
  },
  {
   "cell_type": "code",
   "execution_count": 136,
   "metadata": {},
   "outputs": [
    {
     "name": "stderr",
     "output_type": "stream",
     "text": [
      "d:\\dspyenv\\Lib\\site-packages\\datasets\\table.py:1421: FutureWarning: promote has been superseded by promote_options='default'.\n",
      "  table = cls._concat_blocks(blocks, axis=0)\n"
     ]
    }
   ],
   "source": [
    "hpqa_ds = HotPotQA(train_seed=1, train_size=10,\n",
    "                   eval_seed=42, dev_size=10)"
   ]
  },
  {
   "cell_type": "code",
   "execution_count": 61,
   "metadata": {},
   "outputs": [
    {
     "data": {
      "text/html": [
       "<pre style=\"white-space:pre;overflow-x:auto;line-height:normal;font-family:Menlo,'DejaVu Sans Mono',consolas,'Courier New',monospace\"><span style=\"color: #800080; text-decoration-color: #800080; font-weight: bold\">Example</span><span style=\"font-weight: bold\">({</span><span style=\"color: #008000; text-decoration-color: #008000\">'question'</span>: <span style=\"color: #008000; text-decoration-color: #008000\">\"The result from the 40-item Statistics exam Marion and Ella took already came out. Ella got 4</span>\n",
       "<span style=\"color: #008000; text-decoration-color: #008000\">incorrect answers while Marion got 6 more than half the score of Ella. What is Marion's score?\"</span>, <span style=\"color: #008000; text-decoration-color: #008000\">'gold_reasoning'</span>: \n",
       "<span style=\"color: #008000; text-decoration-color: #008000\">\"Ella's score is 40 items - 4 items = &lt;&lt;40-4=36&gt;&gt;36 items. Half of Ella's score is 36 items / 2 = &lt;&lt;36/2=18&gt;&gt;18 </span>\n",
       "<span style=\"color: #008000; text-decoration-color: #008000\">items. So, Marion's score is 18 items + 6 items = &lt;&lt;18+6=24&gt;&gt;24 items.\"</span>, <span style=\"color: #008000; text-decoration-color: #008000\">'answer'</span>: <span style=\"color: #008000; text-decoration-color: #008000\">'24'</span><span style=\"font-weight: bold\">})</span> <span style=\"font-weight: bold\">(</span><span style=\"color: #808000; text-decoration-color: #808000\">input_keys</span>=<span style=\"font-weight: bold\">{</span><span style=\"color: #008000; text-decoration-color: #008000\">'question'</span><span style=\"font-weight: bold\">})</span>\n",
       "</pre>\n"
      ],
      "text/plain": [
       "\u001b[1;35mExample\u001b[0m\u001b[1m(\u001b[0m\u001b[1m{\u001b[0m\u001b[32m'question'\u001b[0m: \u001b[32m\"The result from the 40-item Statistics exam Marion and Ella took already came out. Ella got 4\u001b[0m\n",
       "\u001b[32mincorrect answers while Marion got 6 more than half the score of Ella. What is Marion's score?\"\u001b[0m, \u001b[32m'gold_reasoning'\u001b[0m: \n",
       "\u001b[32m\"Ella's score is 40 items - 4 items = \u001b[0m\u001b[32m<\u001b[0m\u001b[32m<40-\u001b[0m\u001b[32m4\u001b[0m\u001b[32m=\u001b[0m\u001b[32m36\u001b[0m\u001b[32m>>36 items. Half of Ella's score is 36 items / 2 = <<36/\u001b[0m\u001b[32m2\u001b[0m\u001b[32m=\u001b[0m\u001b[32m18\u001b[0m\u001b[32m>>18 \u001b[0m\n",
       "\u001b[32mitems. So, Marion's score is 18 items + 6 items = <<18+\u001b[0m\u001b[32m6\u001b[0m\u001b[32m=\u001b[0m\u001b[32m24\u001b[0m\u001b[32m>\u001b[0m\u001b[32m>\u001b[0m\u001b[32m24 items.\"\u001b[0m, \u001b[32m'answer'\u001b[0m: \u001b[32m'24'\u001b[0m\u001b[1m}\u001b[0m\u001b[1m)\u001b[0m \u001b[1m(\u001b[0m\u001b[33minput_keys\u001b[0m=\u001b[1m{\u001b[0m\u001b[32m'question'\u001b[0m\u001b[1m}\u001b[0m\u001b[1m)\u001b[0m\n"
      ]
     },
     "metadata": {},
     "output_type": "display_data"
    }
   ],
   "source": [
    "print(train[0])"
   ]
  },
  {
   "cell_type": "code",
   "execution_count": 137,
   "metadata": {},
   "outputs": [
    {
     "data": {
      "text/html": [
       "<pre style=\"white-space:pre;overflow-x:auto;line-height:normal;font-family:Menlo,'DejaVu Sans Mono',consolas,'Courier New',monospace\"><span style=\"color: #800080; text-decoration-color: #800080; font-weight: bold\">Example</span><span style=\"font-weight: bold\">({</span><span style=\"color: #008000; text-decoration-color: #008000\">'question'</span>: <span style=\"color: #008000; text-decoration-color: #008000\">'At My Window was released by which American singer-songwriter?'</span>, <span style=\"color: #008000; text-decoration-color: #008000\">'answer'</span>: <span style=\"color: #008000; text-decoration-color: #008000\">'John Townes Van </span>\n",
       "<span style=\"color: #008000; text-decoration-color: #008000\">Zandt'</span><span style=\"font-weight: bold\">})</span> <span style=\"font-weight: bold\">(</span><span style=\"color: #808000; text-decoration-color: #808000\">input_keys</span>=<span style=\"color: #800080; text-decoration-color: #800080; font-style: italic\">None</span><span style=\"font-weight: bold\">)</span>\n",
       "</pre>\n"
      ],
      "text/plain": [
       "\u001b[1;35mExample\u001b[0m\u001b[1m(\u001b[0m\u001b[1m{\u001b[0m\u001b[32m'question'\u001b[0m: \u001b[32m'At My Window was released by which American singer-songwriter?'\u001b[0m, \u001b[32m'answer'\u001b[0m: \u001b[32m'John Townes Van \u001b[0m\n",
       "\u001b[32mZandt'\u001b[0m\u001b[1m}\u001b[0m\u001b[1m)\u001b[0m \u001b[1m(\u001b[0m\u001b[33minput_keys\u001b[0m=\u001b[3;35mNone\u001b[0m\u001b[1m)\u001b[0m\n"
      ]
     },
     "metadata": {},
     "output_type": "display_data"
    }
   ],
   "source": [
    "print(hpqa_ds.train[0])"
   ]
  },
  {
   "cell_type": "code",
   "execution_count": 84,
   "metadata": {},
   "outputs": [],
   "source": [
    "# Setting up Module Chain\n",
    "class CoT(Module):\n",
    "    def __init__(self):\n",
    "        super().__init__()\n",
    "        self.prgm = ChainOfThought('question -> answer')\n",
    "\n",
    "    def forward(self, question):\n",
    "        return self.prgm(question=question)"
   ]
  },
  {
   "cell_type": "code",
   "execution_count": 85,
   "metadata": {},
   "outputs": [],
   "source": [
    "cot_bl = CoT()  # prgrma"
   ]
  },
  {
   "cell_type": "code",
   "execution_count": 66,
   "metadata": {},
   "outputs": [
    {
     "data": {
      "text/html": [
       "<pre style=\"white-space:pre;overflow-x:auto;line-height:normal;font-family:Menlo,'DejaVu Sans Mono',consolas,'Courier New',monospace\">def <span style=\"color: #800080; text-decoration-color: #800080; font-weight: bold\">gsm8k_metric</span><span style=\"font-weight: bold\">(</span>gold, pred, <span style=\"color: #808000; text-decoration-color: #808000\">trace</span>=<span style=\"color: #800080; text-decoration-color: #800080; font-style: italic\">None</span><span style=\"font-weight: bold\">)</span>:\n",
       "    return <span style=\"color: #800080; text-decoration-color: #800080; font-weight: bold\">int</span><span style=\"font-weight: bold\">(</span><span style=\"color: #800080; text-decoration-color: #800080; font-weight: bold\">parse_integer_answer</span><span style=\"font-weight: bold\">(</span><span style=\"color: #800080; text-decoration-color: #800080; font-weight: bold\">str</span><span style=\"font-weight: bold\">(</span>gold.answer<span style=\"font-weight: bold\">)))</span> == <span style=\"color: #800080; text-decoration-color: #800080; font-weight: bold\">int</span><span style=\"font-weight: bold\">(</span><span style=\"color: #800080; text-decoration-color: #800080; font-weight: bold\">parse_integer_answer</span><span style=\"font-weight: bold\">(</span><span style=\"color: #800080; text-decoration-color: #800080; font-weight: bold\">str</span><span style=\"font-weight: bold\">(</span>pred.answer<span style=\"font-weight: bold\">)))</span>\n",
       "\n",
       "</pre>\n"
      ],
      "text/plain": [
       "def \u001b[1;35mgsm8k_metric\u001b[0m\u001b[1m(\u001b[0mgold, pred, \u001b[33mtrace\u001b[0m=\u001b[3;35mNone\u001b[0m\u001b[1m)\u001b[0m:\n",
       "    return \u001b[1;35mint\u001b[0m\u001b[1m(\u001b[0m\u001b[1;35mparse_integer_answer\u001b[0m\u001b[1m(\u001b[0m\u001b[1;35mstr\u001b[0m\u001b[1m(\u001b[0mgold.answer\u001b[1m)\u001b[0m\u001b[1m)\u001b[0m\u001b[1m)\u001b[0m == \u001b[1;35mint\u001b[0m\u001b[1m(\u001b[0m\u001b[1;35mparse_integer_answer\u001b[0m\u001b[1m(\u001b[0m\u001b[1;35mstr\u001b[0m\u001b[1m(\u001b[0mpred.answer\u001b[1m)\u001b[0m\u001b[1m)\u001b[0m\u001b[1m)\u001b[0m\n",
       "\n"
      ]
     },
     "metadata": {},
     "output_type": "display_data"
    }
   ],
   "source": [
    "# checks the numbers in the answer are matching\n",
    "print(inspect.getsource(gsm8k_metric))"
   ]
  },
  {
   "cell_type": "code",
   "execution_count": 68,
   "metadata": {},
   "outputs": [
    {
     "data": {
      "text/html": [
       "<pre style=\"white-space:pre;overflow-x:auto;line-height:normal;font-family:Menlo,'DejaVu Sans Mono',consolas,'Courier New',monospace\">def <span style=\"color: #800080; text-decoration-color: #800080; font-weight: bold\">parse_integer_answer</span><span style=\"font-weight: bold\">(</span>answer, <span style=\"color: #808000; text-decoration-color: #808000\">only_first_line</span>=<span style=\"color: #00ff00; text-decoration-color: #00ff00; font-style: italic\">True</span><span style=\"font-weight: bold\">)</span>:\n",
       "    try:\n",
       "        if only_first_line:\n",
       "            answer = <span style=\"color: #800080; text-decoration-color: #800080; font-weight: bold\">answer.strip</span><span style=\"font-weight: bold\">()</span><span style=\"color: #800080; text-decoration-color: #800080; font-weight: bold\">.split</span><span style=\"font-weight: bold\">(</span><span style=\"color: #008000; text-decoration-color: #008000\">'\\n'</span><span style=\"font-weight: bold\">)[</span><span style=\"color: #008080; text-decoration-color: #008080; font-weight: bold\">0</span><span style=\"font-weight: bold\">]</span>\n",
       "\n",
       "        # find the last token that has a number in it\n",
       "        answer = <span style=\"font-weight: bold\">[</span><span style=\"color: #008080; text-decoration-color: #008080; font-weight: bold\">-1</span><span style=\"font-weight: bold\">]</span>\n",
       "        answer = <span style=\"color: #800080; text-decoration-color: #800080; font-weight: bold\">answer.split</span><span style=\"font-weight: bold\">(</span><span style=\"color: #008000; text-decoration-color: #008000\">'.'</span><span style=\"font-weight: bold\">)[</span><span style=\"color: #008080; text-decoration-color: #008080; font-weight: bold\">0</span><span style=\"font-weight: bold\">]</span>\n",
       "        answer = <span style=\"color: #008000; text-decoration-color: #008000\">''</span><span style=\"color: #800080; text-decoration-color: #800080; font-weight: bold\">.join</span><span style=\"font-weight: bold\">()</span>\n",
       "        answer = <span style=\"color: #800080; text-decoration-color: #800080; font-weight: bold\">int</span><span style=\"font-weight: bold\">(</span>answer<span style=\"font-weight: bold\">)</span>\n",
       "\n",
       "    except <span style=\"font-weight: bold\">(</span>ValueError, IndexError<span style=\"font-weight: bold\">)</span>:\n",
       "        # <span style=\"color: #800080; text-decoration-color: #800080; font-weight: bold\">print</span><span style=\"font-weight: bold\">(</span>answer<span style=\"font-weight: bold\">)</span>\n",
       "        answer = <span style=\"color: #008080; text-decoration-color: #008080; font-weight: bold\">0</span>\n",
       "    \n",
       "    return answer\n",
       "\n",
       "</pre>\n"
      ],
      "text/plain": [
       "def \u001b[1;35mparse_integer_answer\u001b[0m\u001b[1m(\u001b[0manswer, \u001b[33monly_first_line\u001b[0m=\u001b[3;92mTrue\u001b[0m\u001b[1m)\u001b[0m:\n",
       "    try:\n",
       "        if only_first_line:\n",
       "            answer = \u001b[1;35manswer.strip\u001b[0m\u001b[1m(\u001b[0m\u001b[1m)\u001b[0m\u001b[1;35m.split\u001b[0m\u001b[1m(\u001b[0m\u001b[32m'\\n'\u001b[0m\u001b[1m)\u001b[0m\u001b[1m[\u001b[0m\u001b[1;36m0\u001b[0m\u001b[1m]\u001b[0m\n",
       "\n",
       "        # find the last token that has a number in it\n",
       "        answer = \u001b[1m[\u001b[0m\u001b[1;36m-1\u001b[0m\u001b[1m]\u001b[0m\n",
       "        answer = \u001b[1;35manswer.split\u001b[0m\u001b[1m(\u001b[0m\u001b[32m'.'\u001b[0m\u001b[1m)\u001b[0m\u001b[1m[\u001b[0m\u001b[1;36m0\u001b[0m\u001b[1m]\u001b[0m\n",
       "        answer = \u001b[32m''\u001b[0m\u001b[1;35m.join\u001b[0m\u001b[1m(\u001b[0m\u001b[1m)\u001b[0m\n",
       "        answer = \u001b[1;35mint\u001b[0m\u001b[1m(\u001b[0manswer\u001b[1m)\u001b[0m\n",
       "\n",
       "    except \u001b[1m(\u001b[0mValueError, IndexError\u001b[1m)\u001b[0m:\n",
       "        # \u001b[1;35mprint\u001b[0m\u001b[1m(\u001b[0manswer\u001b[1m)\u001b[0m\n",
       "        answer = \u001b[1;36m0\u001b[0m\n",
       "    \n",
       "    return answer\n",
       "\n"
      ]
     },
     "metadata": {},
     "output_type": "display_data"
    }
   ],
   "source": [
    "print(inspect.getsource(parse_integer_answer))"
   ]
  },
  {
   "cell_type": "code",
   "execution_count": 86,
   "metadata": {},
   "outputs": [],
   "source": [
    "# prep evaluator on the devset\n",
    "dev_10 = [x.with_inputs('question') for x in dev[:10]]\n",
    "# evaluating only 10 datapoints\n",
    "dev_evaluator = Evaluate(devset=dev_10,num_threads=4,metric=gsm8k_metric,\n",
    "                         display=True, display_progress=True)"
   ]
  },
  {
   "cell_type": "code",
   "execution_count": 87,
   "metadata": {},
   "outputs": [
    {
     "name": "stderr",
     "output_type": "stream",
     "text": [
      "Average Metric: 5 / 10  (50.0): 100%|██████████| 10/10 [00:08<00:00,  1.23it/s]"
     ]
    },
    {
     "name": "stdout",
     "output_type": "stream",
     "text": [
      "Average Metric: 5 / 10  (50.0%)\n"
     ]
    },
    {
     "name": "stderr",
     "output_type": "stream",
     "text": [
      "\n",
      "d:\\dspyenv\\Lib\\site-packages\\dspy\\evaluate\\evaluate.py:143: FutureWarning: DataFrame.applymap has been deprecated. Use DataFrame.map instead.\n",
      "  df = df.applymap(truncate_cell)\n"
     ]
    }
   ],
   "source": [
    "run_dev_eval = dev_evaluator(cot_bl)"
   ]
  },
  {
   "cell_type": "code",
   "execution_count": 88,
   "metadata": {},
   "outputs": [
    {
     "data": {
      "text/plain": [
       "50.0"
      ]
     },
     "execution_count": 88,
     "metadata": {},
     "output_type": "execute_result"
    }
   ],
   "source": [
    "run_dev_eval"
   ]
  },
  {
   "cell_type": "code",
   "execution_count": 95,
   "metadata": {},
   "outputs": [
    {
     "data": {
      "text/plain": [
       "11"
      ]
     },
     "execution_count": 95,
     "metadata": {},
     "output_type": "execute_result"
    }
   ],
   "source": [
    "len(tbomod.history)"
   ]
  },
  {
   "cell_type": "code",
   "execution_count": 89,
   "metadata": {},
   "outputs": [
    {
     "name": "stdout",
     "output_type": "stream",
     "text": [
      "\n",
      "\n",
      "\n",
      "\n",
      "Given the fields `question`, produce the fields `answer`.\n",
      "\n",
      "---\n",
      "\n",
      "Follow the following format.\n",
      "\n",
      "Question: ${question}\n",
      "Reasoning: Let's think step by step in order to ${produce the answer}. We ...\n",
      "Answer: ${answer}\n",
      "\n",
      "---\n",
      "\n",
      "Question: 20 birds migrate on a seasonal basis from one lake to another, searching for food. If they fly from lake Jim to lake Disney in one season, which is 50 miles apart, then the next season they fly from lake Disney to lake London, 60 miles apart, calculate the combined distance all of the birds have traveled in the two seasons.\n",
      "Reasoning: Let's think step by step in order to\u001b[32m produce the answer. We know that the birds fly 50 miles from lake Jim to lake Disney and then 60 miles from lake Disney to lake London. To find the combined distance, we simply add the two distances together.\n",
      "Answer: The combined distance all of the birds have traveled in the two seasons is 110 miles.\u001b[0m\n",
      "\n",
      "\n",
      "\n",
      "\n",
      "\n",
      "\n",
      "\n",
      "Given the fields `question`, produce the fields `answer`.\n",
      "\n",
      "---\n",
      "\n",
      "Follow the following format.\n",
      "\n",
      "Question: ${question}\n",
      "Reasoning: Let's think step by step in order to ${produce the answer}. We ...\n",
      "Answer: ${answer}\n",
      "\n",
      "---\n",
      "\n",
      "Question: Wendy went to the dentist for a cleaning, two fillings, and a tooth extraction. The dentist charges $70 for a cleaning and $120 for a filling. Wendy’s dentist bill was five times the cost of a filling. What did Wendy pay for the tooth extraction?\n",
      "Reasoning: Let's think step by step in order to\u001b[32m produce the answer. We know that Wendy's dentist bill was five times the cost of a filling, which means the total cost of the fillings was $120 x 5 = $600. The total cost of the cleaning and fillings was $70 + $600 = $670. Since the total bill was for a cleaning, two fillings, and a tooth extraction, we can subtract the cost of the cleaning and fillings from the total bill to find the cost of the tooth extraction.\n",
      "Answer: Wendy paid $670 - $600 = $70 for the tooth extraction.\u001b[0m\n",
      "\n",
      "\n",
      "\n",
      "\n",
      "\n",
      "\n",
      "\n",
      "Given the fields `question`, produce the fields `answer`.\n",
      "\n",
      "---\n",
      "\n",
      "Follow the following format.\n",
      "\n",
      "Question: ${question}\n",
      "Reasoning: Let's think step by step in order to ${produce the answer}. We ...\n",
      "Answer: ${answer}\n",
      "\n",
      "---\n",
      "\n",
      "Question: Rita is reading a five-chapter book with 95 pages. Each chapter has three pages more than the previous one. How many pages does the first chapter have?\n",
      "Reasoning: Let's think step by step in order to\u001b[32m produce the answer. We can start by setting up an equation to represent the total number of pages in the book. Let x be the number of pages in the first chapter. The second chapter will have x + 3 pages, the third chapter will have x + 6 pages, and so on. Since there are five chapters in total, the equation will be x + (x + 3) + (x + 6) + (x + 9) + (x + 12) = 95. Simplifying this equation, we get 5x + 30 = 95. Solving for x, we find that x = 13.\n",
      "Answer: The first chapter has 13 pages.\u001b[0m\n",
      "\n",
      "\n",
      "\n",
      "\n",
      "\n",
      "\n",
      "\n",
      "Given the fields `question`, produce the fields `answer`.\n",
      "\n",
      "---\n",
      "\n",
      "Follow the following format.\n",
      "\n",
      "Question: ${question}\n",
      "Reasoning: Let's think step by step in order to ${produce the answer}. We ...\n",
      "Answer: ${answer}\n",
      "\n",
      "---\n",
      "\n",
      "Question: Karen is packing her backpack for a long-distance hike. She packs 20 pounds of water, 10 pounds of food, and 20 pounds of gear. During her hike, she drinks 2 pounds of water per hour and eats 1/3rd the weight of food per hour as water per hour. How much weight is she carrying after six hours?\n",
      "Reasoning: Let's think step by step in order to\u001b[32m produce the answer. We need to calculate how much weight Karen is carrying after six hours of hiking, taking into account the weight of water, food, and gear she started with, as well as the weight she consumes during the hike.\n",
      "Answer: After six hours, Karen is carrying 20 pounds of water (20 - 2*6 = 8 pounds), 10 pounds of food (10 - (2/3)*6 = 6 pounds), and 20 pounds of gear. Therefore, she is carrying a total of 8 + 6 + 20 = 34 pounds after six hours.\u001b[0m\n",
      "\n",
      "\n",
      "\n",
      "\n",
      "\n",
      "\n",
      "\n",
      "Given the fields `question`, produce the fields `answer`.\n",
      "\n",
      "---\n",
      "\n",
      "Follow the following format.\n",
      "\n",
      "Question: ${question}\n",
      "Reasoning: Let's think step by step in order to ${produce the answer}. We ...\n",
      "Answer: ${answer}\n",
      "\n",
      "---\n",
      "\n",
      "Question: Benjamin collects 6 dozen eggs a day. Carla collects 3 times the number of eggs that Benjamin collects. Trisha collects 4 dozen less than Benjamin. How many dozen eggs do the three collect total?\n",
      "Reasoning: Let's think step by step in order to\u001b[32m produce the answer. We first need to find out how many eggs each person collects. Benjamin collects 6 dozen eggs, which is 6 x 12 = 72 eggs. Carla collects 3 times the number of eggs that Benjamin collects, so she collects 3 x 72 = 216 eggs. Trisha collects 4 dozen less than Benjamin, so she collects 72 - 4 x 12 = 24 eggs. To find the total number of eggs collected by the three, we add up their individual collections: 72 + 216 + 24 = 312 eggs.\n",
      "Answer: The three collect a total of 312 eggs.\u001b[0m\n",
      "\n",
      "\n",
      "\n",
      "\n",
      "\n",
      "\n",
      "\n",
      "Given the fields `question`, produce the fields `answer`.\n",
      "\n",
      "---\n",
      "\n",
      "Follow the following format.\n",
      "\n",
      "Question: ${question}\n",
      "Reasoning: Let's think step by step in order to ${produce the answer}. We ...\n",
      "Answer: ${answer}\n",
      "\n",
      "---\n",
      "\n",
      "Question: Burt spent $2.00 on a packet of basil seeds and $8.00 on potting soil. The packet of seeds yielded 20 basil plants. He sells each basil plant for $5.00 at the local farmer's market. What is the net profit from his basil plants?\n",
      "Reasoning: Let's think step by step in order to\u001b[32m produce the answer. We need to calculate the total revenue from selling the basil plants and then subtract the total cost of purchasing the seeds and soil.\n",
      "Answer: Burt's net profit from his basil plants is $80.00.\u001b[0m\n",
      "\n",
      "\n",
      "\n",
      "\n",
      "\n",
      "\n",
      "\n",
      "Given the fields `question`, produce the fields `answer`.\n",
      "\n",
      "---\n",
      "\n",
      "Follow the following format.\n",
      "\n",
      "Question: ${question}\n",
      "Reasoning: Let's think step by step in order to ${produce the answer}. We ...\n",
      "Answer: ${answer}\n",
      "\n",
      "---\n",
      "\n",
      "Question: Cameron is printing her thesis in the school library and has 400 A4 pieces of paper. If 40% of the papers did not print out up to her desired quality and she separated them as invalid, calculate the total number of valid documents.\n",
      "Reasoning: Let's think step by step in order to\u001b[32m produce the answer. We know that 40% of the papers did not print out up to Cameron's desired quality, so we need to find 40% of 400. \n",
      "Answer: 40% of 400 is 0.4 * 400 = 160 papers that are invalid. \n",
      "To find the total number of valid documents, we subtract the number of invalid papers from the total number of papers: 400 - 160 = 240 valid documents. \n",
      "Therefore, Cameron has a total of 240 valid documents.\u001b[0m\n",
      "\n",
      "\n",
      "\n",
      "\n",
      "\n",
      "\n",
      "\n",
      "Given the fields `question`, produce the fields `answer`.\n",
      "\n",
      "---\n",
      "\n",
      "Follow the following format.\n",
      "\n",
      "Question: ${question}\n",
      "Reasoning: Let's think step by step in order to ${produce the answer}. We ...\n",
      "Answer: ${answer}\n",
      "\n",
      "---\n",
      "\n",
      "Question: Roy spends 2 hours on sports activities in school every day. He goes to school 5 days a week. If he missed 2 days within a week, how many hours did he spend on sports in school that week?\n",
      "Reasoning: Let's think step by step in order to\u001b[32m produce the answer. We know that Roy spends 2 hours on sports activities in school every day and goes to school 5 days a week. So, in a normal week, he would spend 2 hours/day * 5 days/week = 10 hours on sports in school. However, if he missed 2 days within a week, we need to subtract those missed days from the total number of days in a week.\n",
      "Answer: Roy spent 2 days less in school, so he spent 5 days - 2 days = 3 days in school that week. Therefore, he spent 2 hours/day * 3 days = 6 hours on sports in school that week.\u001b[0m\n",
      "\n",
      "\n",
      "\n",
      "\n",
      "\n",
      "\n",
      "\n",
      "Given the fields `question`, produce the fields `answer`.\n",
      "\n",
      "---\n",
      "\n",
      "Follow the following format.\n",
      "\n",
      "Question: ${question}\n",
      "Reasoning: Let's think step by step in order to ${produce the answer}. We ...\n",
      "Answer: ${answer}\n",
      "\n",
      "---\n",
      "\n",
      "Question: Trey is raising money for a new bike that costs $112. He plans to spend the next two weeks selling bracelets for $1 each. On average, how many bracelets does he need to sell each day?\n",
      "Reasoning: Let's think step by step in order to\u001b[32m produce the answer. We know that Trey needs to raise $112 and each bracelet costs $1. So, he needs to sell 112 bracelets in total. Since he has 14 days to sell the bracelets, we can divide 112 by 14 to find out how many bracelets he needs to sell each day.\n",
      "Answer: Trey needs to sell 8 bracelets each day.\u001b[0m\n",
      "\n",
      "\n",
      "\n",
      "\n",
      "\n",
      "\n",
      "\n",
      "Given the fields `question`, produce the fields `answer`.\n",
      "\n",
      "---\n",
      "\n",
      "Follow the following format.\n",
      "\n",
      "Question: ${question}\n",
      "Reasoning: Let's think step by step in order to ${produce the answer}. We ...\n",
      "Answer: ${answer}\n",
      "\n",
      "---\n",
      "\n",
      "Question: Martha's cat catches 3 rats and 7 birds. Cara's cat catches 3 less than five times as many animals as Martha's cat. How many animals does Cara's cat catch?\n",
      "Reasoning: Let's think step by step in order to\u001b[32m Question: Martha's cat catches 3 rats and 7 birds. Cara's cat catches 3 less than five times as many animals as Martha's cat. How many animals does Cara's cat catch?\n",
      "Reasoning: Let's think step by step in order to find the answer. First, we need to calculate how many animals Martha's cat catches. Martha's cat catches 3 + 7 = 10 animals. Next, we need to find out how many animals five times as many as Martha's cat catches. Five times 10 is 50. Then, we subtract 3 from 50 to find out how many animals Cara's cat catches. Therefore, Cara's cat catches 50 - 3 = 47 animals.\n",
      "Answer\u001b[0m\n",
      "\n",
      "\n",
      "\n",
      "\n",
      "\n",
      "\n",
      "\n",
      "Given the fields `question`, produce the fields `answer`.\n",
      "\n",
      "---\n",
      "\n",
      "Follow the following format.\n",
      "\n",
      "Question: ${question}\n",
      "Reasoning: Let's think step by step in order to ${produce the answer}. We ...\n",
      "Answer: ${answer}\n",
      "\n",
      "---\n",
      "\n",
      "Question: Martha's cat catches 3 rats and 7 birds. Cara's cat catches 3 less than five times as many animals as Martha's cat. How many animals does Cara's cat catch?\n",
      "Reasoning: Let's think step by step in order to Question: Martha's cat catches 3 rats and 7 birds. Cara's cat catches 3 less than five times as many animals as Martha's cat. How many animals does Cara's cat catch? Reasoning: Let's think step by step in order to find the answer. First, we need to calculate how many animals Martha's cat catches. Martha's cat catches 3 + 7 = 10 animals. Next, we need to find out how many animals five times as many as Martha's cat catches. Five times 10 is 50. Then, we subtract 3 from 50 to find out how many animals Cara's cat catches. Therefore, Cara's cat catches 50 - 3 = 47 animals. Answer\n",
      "Answer:\u001b[32m Answer: Cara's cat catches 47 animals.\u001b[0m\n",
      "\n",
      "\n",
      "\n"
     ]
    }
   ],
   "source": [
    "tbomod.inspect_history(n=11)"
   ]
  },
  {
   "cell_type": "code",
   "execution_count": 90,
   "metadata": {},
   "outputs": [],
   "source": [
    "optim = BootstrapFewShot(\n",
    "    metric=gsm8k_metric,\n",
    "    max_bootstrapped_demos=8,\n",
    "    max_labeled_demos=8\n",
    ")"
   ]
  },
  {
   "cell_type": "markdown",
   "metadata": {},
   "source": [
    "    Max_labeled_demos :\n",
    "\n",
    "> Refers to the maximum number of *labeled demonstrations (examples)* that will be used for training the student module directly. Labeled demonstrations are typically *pre-existing, manually labeled examples* that the module can learn from.\n",
    "[Present from start]\n",
    "\n",
    "    Max_Bootstrapped_demos :\n",
    "\n",
    "> Refers to the maximum number of demonstrations that will be bootstrapped. Bootstrapping in this context likely means generating new training examples based on the *predictions of a teacher module* or some other process.\n",
    "[Automatically created in Training]"
   ]
  },
  {
   "cell_type": "code",
   "execution_count": 91,
   "metadata": {},
   "outputs": [],
   "source": [
    "cot_bl.save(\"baseLline.json\")"
   ]
  },
  {
   "cell_type": "code",
   "execution_count": 92,
   "metadata": {},
   "outputs": [],
   "source": [
    "train_10 = [x.with_inputs('question') for x in train[:10]]"
   ]
  },
  {
   "cell_type": "code",
   "execution_count": 96,
   "metadata": {},
   "outputs": [
    {
     "name": "stderr",
     "output_type": "stream",
     "text": [
      " 90%|█████████ | 9/10 [00:17<00:01,  1.97s/it]"
     ]
    },
    {
     "name": "stdout",
     "output_type": "stream",
     "text": [
      "Bootstrapped 8 full traces after 10 examples in round 0.\n"
     ]
    },
    {
     "name": "stderr",
     "output_type": "stream",
     "text": [
      "\n"
     ]
    }
   ],
   "source": [
    "compile_cot = optim.compile(cot_bl,\n",
    "                            trainset=train[:10],\n",
    "                            valset=dev_10)"
   ]
  },
  {
   "cell_type": "code",
   "execution_count": 97,
   "metadata": {},
   "outputs": [
    {
     "data": {
      "text/plain": [
       "20"
      ]
     },
     "execution_count": 97,
     "metadata": {},
     "output_type": "execute_result"
    }
   ],
   "source": [
    "len(tbomod.history)"
   ]
  },
  {
   "cell_type": "code",
   "execution_count": 98,
   "metadata": {},
   "outputs": [
    {
     "name": "stdout",
     "output_type": "stream",
     "text": [
      "\n",
      "\n",
      "\n",
      "\n",
      "Given the fields `question`, produce the fields `answer`.\n",
      "\n",
      "---\n",
      "\n",
      "Follow the following format.\n",
      "\n",
      "Question: ${question}\n",
      "Reasoning: Let's think step by step in order to ${produce the answer}. We ...\n",
      "Answer: ${answer}\n",
      "\n",
      "---\n",
      "\n",
      "Question: 20 birds migrate on a seasonal basis from one lake to another, searching for food. If they fly from lake Jim to lake Disney in one season, which is 50 miles apart, then the next season they fly from lake Disney to lake London, 60 miles apart, calculate the combined distance all of the birds have traveled in the two seasons.\n",
      "Reasoning: Let's think step by step in order to\u001b[32m produce the answer. We know that the birds fly 50 miles from lake Jim to lake Disney and then 60 miles from lake Disney to lake London. To find the combined distance, we simply add the two distances together.\n",
      "Answer: The combined distance all of the birds have traveled in the two seasons is 110 miles.\u001b[0m\n",
      "\n",
      "\n",
      "\n",
      "\n",
      "\n",
      "\n",
      "\n",
      "Given the fields `question`, produce the fields `answer`.\n",
      "\n",
      "---\n",
      "\n",
      "Follow the following format.\n",
      "\n",
      "Question: ${question}\n",
      "Reasoning: Let's think step by step in order to ${produce the answer}. We ...\n",
      "Answer: ${answer}\n",
      "\n",
      "---\n",
      "\n",
      "Question: Wendy went to the dentist for a cleaning, two fillings, and a tooth extraction. The dentist charges $70 for a cleaning and $120 for a filling. Wendy’s dentist bill was five times the cost of a filling. What did Wendy pay for the tooth extraction?\n",
      "Reasoning: Let's think step by step in order to\u001b[32m produce the answer. We know that Wendy's dentist bill was five times the cost of a filling, which means the total cost of the fillings was $120 x 5 = $600. The total cost of the cleaning and fillings was $70 + $600 = $670. Since the total bill was for a cleaning, two fillings, and a tooth extraction, we can subtract the cost of the cleaning and fillings from the total bill to find the cost of the tooth extraction.\n",
      "Answer: Wendy paid $670 - $600 = $70 for the tooth extraction.\u001b[0m\n",
      "\n",
      "\n",
      "\n",
      "\n",
      "\n",
      "\n",
      "\n",
      "Given the fields `question`, produce the fields `answer`.\n",
      "\n",
      "---\n",
      "\n",
      "Follow the following format.\n",
      "\n",
      "Question: ${question}\n",
      "Reasoning: Let's think step by step in order to ${produce the answer}. We ...\n",
      "Answer: ${answer}\n",
      "\n",
      "---\n",
      "\n",
      "Question: Rita is reading a five-chapter book with 95 pages. Each chapter has three pages more than the previous one. How many pages does the first chapter have?\n",
      "Reasoning: Let's think step by step in order to\u001b[32m produce the answer. We can start by setting up an equation to represent the total number of pages in the book. Let x be the number of pages in the first chapter. The second chapter will have x + 3 pages, the third chapter will have x + 6 pages, and so on. Since there are five chapters in total, the equation will be x + (x + 3) + (x + 6) + (x + 9) + (x + 12) = 95. Simplifying this equation, we get 5x + 30 = 95. Solving for x, we find that x = 13.\n",
      "Answer: The first chapter has 13 pages.\u001b[0m\n",
      "\n",
      "\n",
      "\n",
      "\n",
      "\n",
      "\n",
      "\n",
      "Given the fields `question`, produce the fields `answer`.\n",
      "\n",
      "---\n",
      "\n",
      "Follow the following format.\n",
      "\n",
      "Question: ${question}\n",
      "Reasoning: Let's think step by step in order to ${produce the answer}. We ...\n",
      "Answer: ${answer}\n",
      "\n",
      "---\n",
      "\n",
      "Question: Karen is packing her backpack for a long-distance hike. She packs 20 pounds of water, 10 pounds of food, and 20 pounds of gear. During her hike, she drinks 2 pounds of water per hour and eats 1/3rd the weight of food per hour as water per hour. How much weight is she carrying after six hours?\n",
      "Reasoning: Let's think step by step in order to\u001b[32m produce the answer. We need to calculate how much weight Karen is carrying after six hours of hiking, taking into account the weight of water, food, and gear she started with, as well as the weight she consumes during the hike.\n",
      "Answer: After six hours, Karen is carrying 20 pounds of water (20 - 2*6 = 8 pounds), 10 pounds of food (10 - (2/3)*6 = 6 pounds), and 20 pounds of gear. Therefore, she is carrying a total of 8 + 6 + 20 = 34 pounds after six hours.\u001b[0m\n",
      "\n",
      "\n",
      "\n",
      "\n",
      "\n",
      "\n",
      "\n",
      "Given the fields `question`, produce the fields `answer`.\n",
      "\n",
      "---\n",
      "\n",
      "Follow the following format.\n",
      "\n",
      "Question: ${question}\n",
      "Reasoning: Let's think step by step in order to ${produce the answer}. We ...\n",
      "Answer: ${answer}\n",
      "\n",
      "---\n",
      "\n",
      "Question: Benjamin collects 6 dozen eggs a day. Carla collects 3 times the number of eggs that Benjamin collects. Trisha collects 4 dozen less than Benjamin. How many dozen eggs do the three collect total?\n",
      "Reasoning: Let's think step by step in order to\u001b[32m produce the answer. We first need to find out how many eggs each person collects. Benjamin collects 6 dozen eggs, which is 6 x 12 = 72 eggs. Carla collects 3 times the number of eggs that Benjamin collects, so she collects 3 x 72 = 216 eggs. Trisha collects 4 dozen less than Benjamin, so she collects 72 - 4 x 12 = 24 eggs. To find the total number of eggs collected by the three, we add up their individual collections: 72 + 216 + 24 = 312 eggs.\n",
      "Answer: The three collect a total of 312 eggs.\u001b[0m\n",
      "\n",
      "\n",
      "\n",
      "\n",
      "\n",
      "\n",
      "\n",
      "Given the fields `question`, produce the fields `answer`.\n",
      "\n",
      "---\n",
      "\n",
      "Follow the following format.\n",
      "\n",
      "Question: ${question}\n",
      "Reasoning: Let's think step by step in order to ${produce the answer}. We ...\n",
      "Answer: ${answer}\n",
      "\n",
      "---\n",
      "\n",
      "Question: Burt spent $2.00 on a packet of basil seeds and $8.00 on potting soil. The packet of seeds yielded 20 basil plants. He sells each basil plant for $5.00 at the local farmer's market. What is the net profit from his basil plants?\n",
      "Reasoning: Let's think step by step in order to\u001b[32m produce the answer. We need to calculate the total revenue from selling the basil plants and then subtract the total cost of purchasing the seeds and soil.\n",
      "Answer: Burt's net profit from his basil plants is $80.00.\u001b[0m\n",
      "\n",
      "\n",
      "\n",
      "\n",
      "\n",
      "\n",
      "\n",
      "Given the fields `question`, produce the fields `answer`.\n",
      "\n",
      "---\n",
      "\n",
      "Follow the following format.\n",
      "\n",
      "Question: ${question}\n",
      "Reasoning: Let's think step by step in order to ${produce the answer}. We ...\n",
      "Answer: ${answer}\n",
      "\n",
      "---\n",
      "\n",
      "Question: Cameron is printing her thesis in the school library and has 400 A4 pieces of paper. If 40% of the papers did not print out up to her desired quality and she separated them as invalid, calculate the total number of valid documents.\n",
      "Reasoning: Let's think step by step in order to\u001b[32m produce the answer. We know that 40% of the papers did not print out up to Cameron's desired quality, so we need to find 40% of 400. \n",
      "Answer: 40% of 400 is 0.4 * 400 = 160 papers that are invalid. \n",
      "To find the total number of valid documents, we subtract the number of invalid papers from the total number of papers: 400 - 160 = 240 valid documents. \n",
      "Therefore, Cameron has a total of 240 valid documents.\u001b[0m\n",
      "\n",
      "\n",
      "\n",
      "\n",
      "\n",
      "\n",
      "\n",
      "Given the fields `question`, produce the fields `answer`.\n",
      "\n",
      "---\n",
      "\n",
      "Follow the following format.\n",
      "\n",
      "Question: ${question}\n",
      "Reasoning: Let's think step by step in order to ${produce the answer}. We ...\n",
      "Answer: ${answer}\n",
      "\n",
      "---\n",
      "\n",
      "Question: Roy spends 2 hours on sports activities in school every day. He goes to school 5 days a week. If he missed 2 days within a week, how many hours did he spend on sports in school that week?\n",
      "Reasoning: Let's think step by step in order to\u001b[32m produce the answer. We know that Roy spends 2 hours on sports activities in school every day and goes to school 5 days a week. So, in a normal week, he would spend 2 hours/day * 5 days/week = 10 hours on sports in school. However, if he missed 2 days within a week, we need to subtract those missed days from the total number of days in a week.\n",
      "Answer: Roy spent 2 days less in school, so he spent 5 days - 2 days = 3 days in school that week. Therefore, he spent 2 hours/day * 3 days = 6 hours on sports in school that week.\u001b[0m\n",
      "\n",
      "\n",
      "\n",
      "\n",
      "\n",
      "\n",
      "\n",
      "Given the fields `question`, produce the fields `answer`.\n",
      "\n",
      "---\n",
      "\n",
      "Follow the following format.\n",
      "\n",
      "Question: ${question}\n",
      "Reasoning: Let's think step by step in order to ${produce the answer}. We ...\n",
      "Answer: ${answer}\n",
      "\n",
      "---\n",
      "\n",
      "Question: Trey is raising money for a new bike that costs $112. He plans to spend the next two weeks selling bracelets for $1 each. On average, how many bracelets does he need to sell each day?\n",
      "Reasoning: Let's think step by step in order to\u001b[32m produce the answer. We know that Trey needs to raise $112 and each bracelet costs $1. So, he needs to sell 112 bracelets in total. Since he has 14 days to sell the bracelets, we can divide 112 by 14 to find out how many bracelets he needs to sell each day.\n",
      "Answer: Trey needs to sell 8 bracelets each day.\u001b[0m\n",
      "\n",
      "\n",
      "\n",
      "\n",
      "\n",
      "\n",
      "\n",
      "Given the fields `question`, produce the fields `answer`.\n",
      "\n",
      "---\n",
      "\n",
      "Follow the following format.\n",
      "\n",
      "Question: ${question}\n",
      "Reasoning: Let's think step by step in order to ${produce the answer}. We ...\n",
      "Answer: ${answer}\n",
      "\n",
      "---\n",
      "\n",
      "Question: Martha's cat catches 3 rats and 7 birds. Cara's cat catches 3 less than five times as many animals as Martha's cat. How many animals does Cara's cat catch?\n",
      "Reasoning: Let's think step by step in order to\u001b[32m Question: Martha's cat catches 3 rats and 7 birds. Cara's cat catches 3 less than five times as many animals as Martha's cat. How many animals does Cara's cat catch?\n",
      "Reasoning: Let's think step by step in order to find the answer. First, we need to calculate how many animals Martha's cat catches. Martha's cat catches 3 + 7 = 10 animals. Next, we need to find out how many animals five times as many as Martha's cat catches. Five times 10 is 50. Then, we subtract 3 from 50 to find out how many animals Cara's cat catches. Therefore, Cara's cat catches 50 - 3 = 47 animals.\n",
      "Answer\u001b[0m\n",
      "\n",
      "\n",
      "\n",
      "\n",
      "\n",
      "\n",
      "\n",
      "Given the fields `question`, produce the fields `answer`.\n",
      "\n",
      "---\n",
      "\n",
      "Follow the following format.\n",
      "\n",
      "Question: ${question}\n",
      "Reasoning: Let's think step by step in order to ${produce the answer}. We ...\n",
      "Answer: ${answer}\n",
      "\n",
      "---\n",
      "\n",
      "Question: Martha's cat catches 3 rats and 7 birds. Cara's cat catches 3 less than five times as many animals as Martha's cat. How many animals does Cara's cat catch?\n",
      "Reasoning: Let's think step by step in order to Question: Martha's cat catches 3 rats and 7 birds. Cara's cat catches 3 less than five times as many animals as Martha's cat. How many animals does Cara's cat catch? Reasoning: Let's think step by step in order to find the answer. First, we need to calculate how many animals Martha's cat catches. Martha's cat catches 3 + 7 = 10 animals. Next, we need to find out how many animals five times as many as Martha's cat catches. Five times 10 is 50. Then, we subtract 3 from 50 to find out how many animals Cara's cat catches. Therefore, Cara's cat catches 50 - 3 = 47 animals. Answer\n",
      "Answer:\u001b[32m Answer: Cara's cat catches 47 animals.\u001b[0m\n",
      "\n",
      "\n",
      "\n",
      "\n",
      "\n",
      "\n",
      "\n",
      "Given the fields `question`, produce the fields `answer`.\n",
      "\n",
      "---\n",
      "\n",
      "Follow the following format.\n",
      "\n",
      "Question: ${question}\n",
      "Reasoning: Let's think step by step in order to ${produce the answer}. We ...\n",
      "Answer: ${answer}\n",
      "\n",
      "---\n",
      "\n",
      "Question: A third of the contestants at a singing competition are female, and the rest are male. If there are 18 contestants in total, how many of them are male?\n",
      "Answer: 12\n",
      "\n",
      "---\n",
      "\n",
      "Question: Amaya scored 20 marks fewer in Maths than she scored in Arts. She also got 10 marks more in Social Studies than she got in Music. If she scored 70 in Music and scored 1/10 less in Maths, what's the total number of marks she scored in all the subjects?\n",
      "Answer: 296\n",
      "\n",
      "---\n",
      "\n",
      "Question: Bridget counted 14 shooting stars in the night sky. Reginald counted two fewer shooting stars than did Bridget, but Sam counted four more shooting stars than did Reginald. How many more shooting stars did Sam count in the night sky than was the average number of shooting stars observed for the three of them?\n",
      "Answer: 2\n",
      "\n",
      "---\n",
      "\n",
      "Question: Rookie police officers have to buy duty shoes at the full price of $85, but officers who have served at least a year get a 20% discount. Officers who have served at least three years get an additional 25% off the discounted price. How much does an officer who has served at least three years have to pay for shoes?\n",
      "Answer: 51\n",
      "\n",
      "---\n",
      "\n",
      "Question: Sarah buys 20 pencils on Monday. Then she buys 18 more pencils on Tuesday. On Wednesday she buys triple the number of pencils she did on Tuesday. How many pencils does she have?\n",
      "Answer: 92\n",
      "\n",
      "---\n",
      "\n",
      "Question: The average score on last week's Spanish test was 90. Marco scored 10% less than the average test score and Margaret received 5 more points than Marco. What score did Margaret receive on her test?\n",
      "Answer: 86\n",
      "\n",
      "---\n",
      "\n",
      "Question: Stephen made 10 round trips up and down a 40,000 foot tall mountain. If he reached 3/4 of the mountain's height on each of his trips, calculate the total distance he covered.\n",
      "Answer: 600000\n",
      "\n",
      "---\n",
      "\n",
      "Question: The result from the 40-item Statistics exam Marion and Ella took already came out. Ella got 4 incorrect answers while Marion got 6 more than half the score of Ella. What is Marion's score?\n",
      "Reasoning: Let's think step by step in order to\u001b[32m produce the answer. We know that Ella got 4 incorrect answers, so she got 36 correct answers out of 40. Half of 36 is 18, and 6 more than that is 24. Therefore, Marion got 24 correct answers out of 40.\n",
      "Answer: 24\u001b[0m\n",
      "\n",
      "\n",
      "\n",
      "\n",
      "\n",
      "\n",
      "\n",
      "Given the fields `question`, produce the fields `answer`.\n",
      "\n",
      "---\n",
      "\n",
      "Follow the following format.\n",
      "\n",
      "Question: ${question}\n",
      "Reasoning: Let's think step by step in order to ${produce the answer}. We ...\n",
      "Answer: ${answer}\n",
      "\n",
      "---\n",
      "\n",
      "Question: A third of the contestants at a singing competition are female, and the rest are male. If there are 18 contestants in total, how many of them are male?\n",
      "Answer: 12\n",
      "\n",
      "---\n",
      "\n",
      "Question: Amaya scored 20 marks fewer in Maths than she scored in Arts. She also got 10 marks more in Social Studies than she got in Music. If she scored 70 in Music and scored 1/10 less in Maths, what's the total number of marks she scored in all the subjects?\n",
      "Answer: 296\n",
      "\n",
      "---\n",
      "\n",
      "Question: The result from the 40-item Statistics exam Marion and Ella took already came out. Ella got 4 incorrect answers while Marion got 6 more than half the score of Ella. What is Marion's score?\n",
      "Answer: 24\n",
      "\n",
      "---\n",
      "\n",
      "Question: Bridget counted 14 shooting stars in the night sky. Reginald counted two fewer shooting stars than did Bridget, but Sam counted four more shooting stars than did Reginald. How many more shooting stars did Sam count in the night sky than was the average number of shooting stars observed for the three of them?\n",
      "Answer: 2\n",
      "\n",
      "---\n",
      "\n",
      "Question: Rookie police officers have to buy duty shoes at the full price of $85, but officers who have served at least a year get a 20% discount. Officers who have served at least three years get an additional 25% off the discounted price. How much does an officer who has served at least three years have to pay for shoes?\n",
      "Answer: 51\n",
      "\n",
      "---\n",
      "\n",
      "Question: Sarah buys 20 pencils on Monday. Then she buys 18 more pencils on Tuesday. On Wednesday she buys triple the number of pencils she did on Tuesday. How many pencils does she have?\n",
      "Answer: 92\n",
      "\n",
      "---\n",
      "\n",
      "Question: The average score on last week's Spanish test was 90. Marco scored 10% less than the average test score and Margaret received 5 more points than Marco. What score did Margaret receive on her test?\n",
      "Answer: 86\n",
      "\n",
      "---\n",
      "\n",
      "Question: Stephen made 10 round trips up and down a 40,000 foot tall mountain. If he reached 3/4 of the mountain's height on each of his trips, calculate the total distance he covered.\n",
      "Reasoning: Let's think step by step in order to\u001b[32m produce the answer. We know that Stephen made 10 round trips up and down the mountain, reaching 3/4 of the mountain's height each time. This means he covered 3/4 * 40,000 feet = 30,000 feet on each trip. Since he made 10 round trips, the total distance he covered is 30,000 feet * 10 trips * 2 (round trip) = 600,000 feet.\n",
      "Answer: 600,000 feet\u001b[0m\n",
      "\n",
      "\n",
      "\n",
      "\n",
      "\n",
      "\n",
      "\n",
      "Given the fields `question`, produce the fields `answer`.\n",
      "\n",
      "---\n",
      "\n",
      "Follow the following format.\n",
      "\n",
      "Question: ${question}\n",
      "Reasoning: Let's think step by step in order to ${produce the answer}. We ...\n",
      "Answer: ${answer}\n",
      "\n",
      "---\n",
      "\n",
      "Question: A third of the contestants at a singing competition are female, and the rest are male. If there are 18 contestants in total, how many of them are male?\n",
      "Answer: 12\n",
      "\n",
      "---\n",
      "\n",
      "Question: Amaya scored 20 marks fewer in Maths than she scored in Arts. She also got 10 marks more in Social Studies than she got in Music. If she scored 70 in Music and scored 1/10 less in Maths, what's the total number of marks she scored in all the subjects?\n",
      "Answer: 296\n",
      "\n",
      "---\n",
      "\n",
      "Question: The result from the 40-item Statistics exam Marion and Ella took already came out. Ella got 4 incorrect answers while Marion got 6 more than half the score of Ella. What is Marion's score?\n",
      "Answer: 24\n",
      "\n",
      "---\n",
      "\n",
      "Question: Rookie police officers have to buy duty shoes at the full price of $85, but officers who have served at least a year get a 20% discount. Officers who have served at least three years get an additional 25% off the discounted price. How much does an officer who has served at least three years have to pay for shoes?\n",
      "Answer: 51\n",
      "\n",
      "---\n",
      "\n",
      "Question: Sarah buys 20 pencils on Monday. Then she buys 18 more pencils on Tuesday. On Wednesday she buys triple the number of pencils she did on Tuesday. How many pencils does she have?\n",
      "Answer: 92\n",
      "\n",
      "---\n",
      "\n",
      "Question: The average score on last week's Spanish test was 90. Marco scored 10% less than the average test score and Margaret received 5 more points than Marco. What score did Margaret receive on her test?\n",
      "Answer: 86\n",
      "\n",
      "---\n",
      "\n",
      "Question: Stephen made 10 round trips up and down a 40,000 foot tall mountain. If he reached 3/4 of the mountain's height on each of his trips, calculate the total distance he covered.\n",
      "Answer: 600000\n",
      "\n",
      "---\n",
      "\n",
      "Question: Bridget counted 14 shooting stars in the night sky. Reginald counted two fewer shooting stars than did Bridget, but Sam counted four more shooting stars than did Reginald. How many more shooting stars did Sam count in the night sky than was the average number of shooting stars observed for the three of them?\n",
      "Reasoning: Let's think step by step in order to\u001b[32m produce the answer. We know that Reginald counted two fewer shooting stars than Bridget, so he counted 14 - 2 = 12 shooting stars. Sam counted four more shooting stars than Reginald, so he counted 12 + 4 = 16 shooting stars. The total number of shooting stars counted by the three of them is 14 + 12 + 16 = 42. The average number of shooting stars observed for the three of them is 42 / 3 = 14. Therefore, Sam counted 16 - 14 = 2 more shooting stars than the average number observed.\n",
      "Answer: 2\u001b[0m\n",
      "\n",
      "\n",
      "\n",
      "\n",
      "\n",
      "\n",
      "\n",
      "Given the fields `question`, produce the fields `answer`.\n",
      "\n",
      "---\n",
      "\n",
      "Follow the following format.\n",
      "\n",
      "Question: ${question}\n",
      "Reasoning: Let's think step by step in order to ${produce the answer}. We ...\n",
      "Answer: ${answer}\n",
      "\n",
      "---\n",
      "\n",
      "Question: A third of the contestants at a singing competition are female, and the rest are male. If there are 18 contestants in total, how many of them are male?\n",
      "Answer: 12\n",
      "\n",
      "---\n",
      "\n",
      "Question: Amaya scored 20 marks fewer in Maths than she scored in Arts. She also got 10 marks more in Social Studies than she got in Music. If she scored 70 in Music and scored 1/10 less in Maths, what's the total number of marks she scored in all the subjects?\n",
      "Answer: 296\n",
      "\n",
      "---\n",
      "\n",
      "Question: The result from the 40-item Statistics exam Marion and Ella took already came out. Ella got 4 incorrect answers while Marion got 6 more than half the score of Ella. What is Marion's score?\n",
      "Answer: 24\n",
      "\n",
      "---\n",
      "\n",
      "Question: Bridget counted 14 shooting stars in the night sky. Reginald counted two fewer shooting stars than did Bridget, but Sam counted four more shooting stars than did Reginald. How many more shooting stars did Sam count in the night sky than was the average number of shooting stars observed for the three of them?\n",
      "Answer: 2\n",
      "\n",
      "---\n",
      "\n",
      "Question: Rookie police officers have to buy duty shoes at the full price of $85, but officers who have served at least a year get a 20% discount. Officers who have served at least three years get an additional 25% off the discounted price. How much does an officer who has served at least three years have to pay for shoes?\n",
      "Answer: 51\n",
      "\n",
      "---\n",
      "\n",
      "Question: The average score on last week's Spanish test was 90. Marco scored 10% less than the average test score and Margaret received 5 more points than Marco. What score did Margaret receive on her test?\n",
      "Answer: 86\n",
      "\n",
      "---\n",
      "\n",
      "Question: Stephen made 10 round trips up and down a 40,000 foot tall mountain. If he reached 3/4 of the mountain's height on each of his trips, calculate the total distance he covered.\n",
      "Answer: 600000\n",
      "\n",
      "---\n",
      "\n",
      "Question: Sarah buys 20 pencils on Monday. Then she buys 18 more pencils on Tuesday. On Wednesday she buys triple the number of pencils she did on Tuesday. How many pencils does she have?\n",
      "Reasoning: Let's think step by step in order to\u001b[32m produce the answer. We first add the number of pencils she bought on Monday and Tuesday, which is 20 + 18 = 38 pencils. Then we triple the number of pencils she bought on Tuesday, which is 18 * 3 = 54 pencils. Finally, we add the total number of pencils she bought on Wednesday to the previous total, which is 38 + 54 = 92 pencils.\n",
      "Answer: 92\u001b[0m\n",
      "\n",
      "\n",
      "\n",
      "\n",
      "\n",
      "\n",
      "\n",
      "Given the fields `question`, produce the fields `answer`.\n",
      "\n",
      "---\n",
      "\n",
      "Follow the following format.\n",
      "\n",
      "Question: ${question}\n",
      "Reasoning: Let's think step by step in order to ${produce the answer}. We ...\n",
      "Answer: ${answer}\n",
      "\n",
      "---\n",
      "\n",
      "Question: A third of the contestants at a singing competition are female, and the rest are male. If there are 18 contestants in total, how many of them are male?\n",
      "Answer: 12\n",
      "\n",
      "---\n",
      "\n",
      "Question: Amaya scored 20 marks fewer in Maths than she scored in Arts. She also got 10 marks more in Social Studies than she got in Music. If she scored 70 in Music and scored 1/10 less in Maths, what's the total number of marks she scored in all the subjects?\n",
      "Answer: 296\n",
      "\n",
      "---\n",
      "\n",
      "Question: The result from the 40-item Statistics exam Marion and Ella took already came out. Ella got 4 incorrect answers while Marion got 6 more than half the score of Ella. What is Marion's score?\n",
      "Answer: 24\n",
      "\n",
      "---\n",
      "\n",
      "Question: Bridget counted 14 shooting stars in the night sky. Reginald counted two fewer shooting stars than did Bridget, but Sam counted four more shooting stars than did Reginald. How many more shooting stars did Sam count in the night sky than was the average number of shooting stars observed for the three of them?\n",
      "Answer: 2\n",
      "\n",
      "---\n",
      "\n",
      "Question: Sarah buys 20 pencils on Monday. Then she buys 18 more pencils on Tuesday. On Wednesday she buys triple the number of pencils she did on Tuesday. How many pencils does she have?\n",
      "Answer: 92\n",
      "\n",
      "---\n",
      "\n",
      "Question: The average score on last week's Spanish test was 90. Marco scored 10% less than the average test score and Margaret received 5 more points than Marco. What score did Margaret receive on her test?\n",
      "Answer: 86\n",
      "\n",
      "---\n",
      "\n",
      "Question: Stephen made 10 round trips up and down a 40,000 foot tall mountain. If he reached 3/4 of the mountain's height on each of his trips, calculate the total distance he covered.\n",
      "Answer: 600000\n",
      "\n",
      "---\n",
      "\n",
      "Question: Rookie police officers have to buy duty shoes at the full price of $85, but officers who have served at least a year get a 20% discount. Officers who have served at least three years get an additional 25% off the discounted price. How much does an officer who has served at least three years have to pay for shoes?\n",
      "Reasoning: Let's think step by step in order to\u001b[32m produce the answer. We first calculate the 20% discount for serving at least a year, which is 0.20 * 85 = $17. Then we subtract this discount from the original price to get $85 - $17 = $68. Next, we calculate the additional 25% discount for serving at least three years, which is 0.25 * 68 = $17. Finally, we subtract this additional discount from the already discounted price to get $68 - $17 = $51.\n",
      "Answer: $51\u001b[0m\n",
      "\n",
      "\n",
      "\n",
      "\n",
      "\n",
      "\n",
      "\n",
      "Given the fields `question`, produce the fields `answer`.\n",
      "\n",
      "---\n",
      "\n",
      "Follow the following format.\n",
      "\n",
      "Question: ${question}\n",
      "Reasoning: Let's think step by step in order to ${produce the answer}. We ...\n",
      "Answer: ${answer}\n",
      "\n",
      "---\n",
      "\n",
      "Question: A third of the contestants at a singing competition are female, and the rest are male. If there are 18 contestants in total, how many of them are male?\n",
      "Answer: 12\n",
      "\n",
      "---\n",
      "\n",
      "Question: Amaya scored 20 marks fewer in Maths than she scored in Arts. She also got 10 marks more in Social Studies than she got in Music. If she scored 70 in Music and scored 1/10 less in Maths, what's the total number of marks she scored in all the subjects?\n",
      "Answer: 296\n",
      "\n",
      "---\n",
      "\n",
      "Question: The result from the 40-item Statistics exam Marion and Ella took already came out. Ella got 4 incorrect answers while Marion got 6 more than half the score of Ella. What is Marion's score?\n",
      "Answer: 24\n",
      "\n",
      "---\n",
      "\n",
      "Question: Bridget counted 14 shooting stars in the night sky. Reginald counted two fewer shooting stars than did Bridget, but Sam counted four more shooting stars than did Reginald. How many more shooting stars did Sam count in the night sky than was the average number of shooting stars observed for the three of them?\n",
      "Answer: 2\n",
      "\n",
      "---\n",
      "\n",
      "Question: Rookie police officers have to buy duty shoes at the full price of $85, but officers who have served at least a year get a 20% discount. Officers who have served at least three years get an additional 25% off the discounted price. How much does an officer who has served at least three years have to pay for shoes?\n",
      "Answer: 51\n",
      "\n",
      "---\n",
      "\n",
      "Question: Sarah buys 20 pencils on Monday. Then she buys 18 more pencils on Tuesday. On Wednesday she buys triple the number of pencils she did on Tuesday. How many pencils does she have?\n",
      "Answer: 92\n",
      "\n",
      "---\n",
      "\n",
      "Question: Stephen made 10 round trips up and down a 40,000 foot tall mountain. If he reached 3/4 of the mountain's height on each of his trips, calculate the total distance he covered.\n",
      "Answer: 600000\n",
      "\n",
      "---\n",
      "\n",
      "Question: The average score on last week's Spanish test was 90. Marco scored 10% less than the average test score and Margaret received 5 more points than Marco. What score did Margaret receive on her test?\n",
      "Reasoning: Let's think step by step in order to\u001b[32m produce the answer. We know that Marco scored 10% less than the average score of 90, which is 81. Margaret then scored 5 more points than Marco, making her score 86.\n",
      "Answer: 86\u001b[0m\n",
      "\n",
      "\n",
      "\n",
      "\n",
      "\n",
      "\n",
      "\n",
      "Given the fields `question`, produce the fields `answer`.\n",
      "\n",
      "---\n",
      "\n",
      "Follow the following format.\n",
      "\n",
      "Question: ${question}\n",
      "Reasoning: Let's think step by step in order to ${produce the answer}. We ...\n",
      "Answer: ${answer}\n",
      "\n",
      "---\n",
      "\n",
      "Question: Amaya scored 20 marks fewer in Maths than she scored in Arts. She also got 10 marks more in Social Studies than she got in Music. If she scored 70 in Music and scored 1/10 less in Maths, what's the total number of marks she scored in all the subjects?\n",
      "Answer: 296\n",
      "\n",
      "---\n",
      "\n",
      "Question: The result from the 40-item Statistics exam Marion and Ella took already came out. Ella got 4 incorrect answers while Marion got 6 more than half the score of Ella. What is Marion's score?\n",
      "Answer: 24\n",
      "\n",
      "---\n",
      "\n",
      "Question: Bridget counted 14 shooting stars in the night sky. Reginald counted two fewer shooting stars than did Bridget, but Sam counted four more shooting stars than did Reginald. How many more shooting stars did Sam count in the night sky than was the average number of shooting stars observed for the three of them?\n",
      "Answer: 2\n",
      "\n",
      "---\n",
      "\n",
      "Question: Rookie police officers have to buy duty shoes at the full price of $85, but officers who have served at least a year get a 20% discount. Officers who have served at least three years get an additional 25% off the discounted price. How much does an officer who has served at least three years have to pay for shoes?\n",
      "Answer: 51\n",
      "\n",
      "---\n",
      "\n",
      "Question: Sarah buys 20 pencils on Monday. Then she buys 18 more pencils on Tuesday. On Wednesday she buys triple the number of pencils she did on Tuesday. How many pencils does she have?\n",
      "Answer: 92\n",
      "\n",
      "---\n",
      "\n",
      "Question: The average score on last week's Spanish test was 90. Marco scored 10% less than the average test score and Margaret received 5 more points than Marco. What score did Margaret receive on her test?\n",
      "Answer: 86\n",
      "\n",
      "---\n",
      "\n",
      "Question: Stephen made 10 round trips up and down a 40,000 foot tall mountain. If he reached 3/4 of the mountain's height on each of his trips, calculate the total distance he covered.\n",
      "Answer: 600000\n",
      "\n",
      "---\n",
      "\n",
      "Question: A third of the contestants at a singing competition are female, and the rest are male. If there are 18 contestants in total, how many of them are male?\n",
      "Reasoning: Let's think step by step in order to\u001b[32m produce the answer. We know that a third of the contestants are female, which means 2/3 are male. If there are 18 contestants in total, we can calculate that 2/3 of 18 is 12. Therefore, there are 12 male contestants.\n",
      "\n",
      "Answer: 12\u001b[0m\n",
      "\n",
      "\n",
      "\n",
      "\n",
      "\n",
      "\n",
      "\n",
      "Given the fields `question`, produce the fields `answer`.\n",
      "\n",
      "---\n",
      "\n",
      "Follow the following format.\n",
      "\n",
      "Question: ${question}\n",
      "Reasoning: Let's think step by step in order to ${produce the answer}. We ...\n",
      "Answer: ${answer}\n",
      "\n",
      "---\n",
      "\n",
      "Question: A third of the contestants at a singing competition are female, and the rest are male. If there are 18 contestants in total, how many of them are male?\n",
      "Answer: 12\n",
      "\n",
      "---\n",
      "\n",
      "Question: Amaya scored 20 marks fewer in Maths than she scored in Arts. She also got 10 marks more in Social Studies than she got in Music. If she scored 70 in Music and scored 1/10 less in Maths, what's the total number of marks she scored in all the subjects?\n",
      "Answer: 296\n",
      "\n",
      "---\n",
      "\n",
      "Question: The result from the 40-item Statistics exam Marion and Ella took already came out. Ella got 4 incorrect answers while Marion got 6 more than half the score of Ella. What is Marion's score?\n",
      "Answer: 24\n",
      "\n",
      "---\n",
      "\n",
      "Question: Bridget counted 14 shooting stars in the night sky. Reginald counted two fewer shooting stars than did Bridget, but Sam counted four more shooting stars than did Reginald. How many more shooting stars did Sam count in the night sky than was the average number of shooting stars observed for the three of them?\n",
      "Answer: 2\n",
      "\n",
      "---\n",
      "\n",
      "Question: Rookie police officers have to buy duty shoes at the full price of $85, but officers who have served at least a year get a 20% discount. Officers who have served at least three years get an additional 25% off the discounted price. How much does an officer who has served at least three years have to pay for shoes?\n",
      "Answer: 51\n",
      "\n",
      "---\n",
      "\n",
      "Question: Sarah buys 20 pencils on Monday. Then she buys 18 more pencils on Tuesday. On Wednesday she buys triple the number of pencils she did on Tuesday. How many pencils does she have?\n",
      "Answer: 92\n",
      "\n",
      "---\n",
      "\n",
      "Question: The average score on last week's Spanish test was 90. Marco scored 10% less than the average test score and Margaret received 5 more points than Marco. What score did Margaret receive on her test?\n",
      "Answer: 86\n",
      "\n",
      "---\n",
      "\n",
      "Question: Stephen made 10 round trips up and down a 40,000 foot tall mountain. If he reached 3/4 of the mountain's height on each of his trips, calculate the total distance he covered.\n",
      "Answer: 600000\n",
      "\n",
      "---\n",
      "\n",
      "Question: Nancy bought a pie sliced it into 8 pieces. She gave 1/2 to Joe and Darcy, and she gave 1/4 to Carl. How many slices were left?\n",
      "Reasoning: Let's think step by step in order to\u001b[32m produce the answer. We know that Nancy gave away 1/2 + 1/2 + 1/4 = 1.5 slices. Since she only had 8 slices to begin with, she must have 8 - 1.5 = 6.5 slices left. However, since you can't have half a slice, we round down to the nearest whole number.\n",
      "Answer: 6 slices\u001b[0m\n",
      "\n",
      "\n",
      "\n",
      "\n",
      "\n",
      "\n",
      "\n",
      "Given the fields `question`, produce the fields `answer`.\n",
      "\n",
      "---\n",
      "\n",
      "Follow the following format.\n",
      "\n",
      "Question: ${question}\n",
      "Reasoning: Let's think step by step in order to ${produce the answer}. We ...\n",
      "Answer: ${answer}\n",
      "\n",
      "---\n",
      "\n",
      "Question: A third of the contestants at a singing competition are female, and the rest are male. If there are 18 contestants in total, how many of them are male?\n",
      "Answer: 12\n",
      "\n",
      "---\n",
      "\n",
      "Question: Amaya scored 20 marks fewer in Maths than she scored in Arts. She also got 10 marks more in Social Studies than she got in Music. If she scored 70 in Music and scored 1/10 less in Maths, what's the total number of marks she scored in all the subjects?\n",
      "Answer: 296\n",
      "\n",
      "---\n",
      "\n",
      "Question: The result from the 40-item Statistics exam Marion and Ella took already came out. Ella got 4 incorrect answers while Marion got 6 more than half the score of Ella. What is Marion's score?\n",
      "Answer: 24\n",
      "\n",
      "---\n",
      "\n",
      "Question: Bridget counted 14 shooting stars in the night sky. Reginald counted two fewer shooting stars than did Bridget, but Sam counted four more shooting stars than did Reginald. How many more shooting stars did Sam count in the night sky than was the average number of shooting stars observed for the three of them?\n",
      "Answer: 2\n",
      "\n",
      "---\n",
      "\n",
      "Question: Rookie police officers have to buy duty shoes at the full price of $85, but officers who have served at least a year get a 20% discount. Officers who have served at least three years get an additional 25% off the discounted price. How much does an officer who has served at least three years have to pay for shoes?\n",
      "Answer: 51\n",
      "\n",
      "---\n",
      "\n",
      "Question: Sarah buys 20 pencils on Monday. Then she buys 18 more pencils on Tuesday. On Wednesday she buys triple the number of pencils she did on Tuesday. How many pencils does she have?\n",
      "Answer: 92\n",
      "\n",
      "---\n",
      "\n",
      "Question: The average score on last week's Spanish test was 90. Marco scored 10% less than the average test score and Margaret received 5 more points than Marco. What score did Margaret receive on her test?\n",
      "Answer: 86\n",
      "\n",
      "---\n",
      "\n",
      "Question: Stephen made 10 round trips up and down a 40,000 foot tall mountain. If he reached 3/4 of the mountain's height on each of his trips, calculate the total distance he covered.\n",
      "Answer: 600000\n",
      "\n",
      "---\n",
      "\n",
      "Question: Megan pays $16 for a shirt that costs $22 before sales. What is the amount of the discount?\n",
      "Reasoning: Let's think step by step in order to\u001b[32m produce the answer. We can calculate the discount by subtracting the sale price from the original price.\n",
      "Answer: $6\u001b[0m\n",
      "\n",
      "\n",
      "\n"
     ]
    }
   ],
   "source": [
    "tbomod.inspect_history(n=20)"
   ]
  },
  {
   "cell_type": "code",
   "execution_count": 99,
   "metadata": {},
   "outputs": [],
   "source": [
    "compile_cot.save('compiled_cot.json')"
   ]
  },
  {
   "cell_type": "code",
   "execution_count": 100,
   "metadata": {},
   "outputs": [],
   "source": [
    "new_tbomod = OpenAI(model='gpt-3.5-turbo')\n",
    "settings.configure(lm=new_tbomod)"
   ]
  },
  {
   "cell_type": "code",
   "execution_count": 105,
   "metadata": {},
   "outputs": [
    {
     "data": {
      "text/plain": [
       "<dsp.modules.gpt3.GPT3 at 0x22c57290d90>"
      ]
     },
     "execution_count": 105,
     "metadata": {},
     "output_type": "execute_result"
    }
   ],
   "source": [
    "new_tbomod"
   ]
  },
  {
   "cell_type": "code",
   "execution_count": 104,
   "metadata": {},
   "outputs": [
    {
     "data": {
      "text/html": [
       "<pre style=\"white-space:pre;overflow-x:auto;line-height:normal;font-family:Menlo,'DejaVu Sans Mono',consolas,'Courier New',monospace\"><span style=\"font-weight: bold\">{</span>\n",
       "    <span style=\"color: #008000; text-decoration-color: #008000\">'lm'</span>: <span style=\"font-weight: bold\">&lt;</span><span style=\"color: #ff00ff; text-decoration-color: #ff00ff; font-weight: bold\">dsp.modules.gpt3.GPT3</span><span style=\"color: #000000; text-decoration-color: #000000\"> object at </span><span style=\"color: #008080; text-decoration-color: #008080; font-weight: bold\">0x0000022C57290D90</span><span style=\"color: #000000; text-decoration-color: #000000\">&gt;,</span>\n",
       "<span style=\"color: #000000; text-decoration-color: #000000\">    </span><span style=\"color: #008000; text-decoration-color: #008000\">'rm'</span><span style=\"color: #000000; text-decoration-color: #000000\">: &lt;dsp.modules.colbertv2.ColBERTv2 object at </span><span style=\"color: #008080; text-decoration-color: #008080; font-weight: bold\">0x0000022C547CAA50</span><span style=\"font-weight: bold\">&gt;</span>,\n",
       "    <span style=\"color: #008000; text-decoration-color: #008000\">'branch_idx'</span>: <span style=\"color: #008080; text-decoration-color: #008080; font-weight: bold\">0</span>,\n",
       "    <span style=\"color: #008000; text-decoration-color: #008000\">'reranker'</span>: <span style=\"color: #800080; text-decoration-color: #800080; font-style: italic\">None</span>,\n",
       "    <span style=\"color: #008000; text-decoration-color: #008000\">'compiled_lm'</span>: <span style=\"color: #800080; text-decoration-color: #800080; font-style: italic\">None</span>,\n",
       "    <span style=\"color: #008000; text-decoration-color: #008000\">'force_reuse_cached_compilation'</span>: <span style=\"color: #ff0000; text-decoration-color: #ff0000; font-style: italic\">False</span>,\n",
       "    <span style=\"color: #008000; text-decoration-color: #008000\">'compiling'</span>: <span style=\"color: #ff0000; text-decoration-color: #ff0000; font-style: italic\">False</span>,\n",
       "    <span style=\"color: #008000; text-decoration-color: #008000\">'skip_logprobs'</span>: <span style=\"color: #ff0000; text-decoration-color: #ff0000; font-style: italic\">False</span>,\n",
       "    <span style=\"color: #008000; text-decoration-color: #008000\">'trace'</span>: <span style=\"color: #800080; text-decoration-color: #800080; font-style: italic\">None</span>,\n",
       "    <span style=\"color: #008000; text-decoration-color: #008000\">'release'</span>: <span style=\"color: #008080; text-decoration-color: #008080; font-weight: bold\">0</span>,\n",
       "    <span style=\"color: #008000; text-decoration-color: #008000\">'log_openai_usage'</span>: <span style=\"color: #ff0000; text-decoration-color: #ff0000; font-style: italic\">False</span>,\n",
       "    <span style=\"color: #008000; text-decoration-color: #008000\">'bypass_assert'</span>: <span style=\"color: #ff0000; text-decoration-color: #ff0000; font-style: italic\">False</span>,\n",
       "    <span style=\"color: #008000; text-decoration-color: #008000\">'bypass_suggest'</span>: <span style=\"color: #ff0000; text-decoration-color: #ff0000; font-style: italic\">False</span>,\n",
       "    <span style=\"color: #008000; text-decoration-color: #008000\">'assert_failures'</span>: <span style=\"color: #008080; text-decoration-color: #008080; font-weight: bold\">0</span>,\n",
       "    <span style=\"color: #008000; text-decoration-color: #008000\">'suggest_failures'</span>: <span style=\"color: #008080; text-decoration-color: #008080; font-weight: bold\">0</span>,\n",
       "    <span style=\"color: #008000; text-decoration-color: #008000\">'langchain_history'</span>: <span style=\"font-weight: bold\">[]</span>\n",
       "<span style=\"font-weight: bold\">}</span>\n",
       "</pre>\n"
      ],
      "text/plain": [
       "\u001b[1m{\u001b[0m\n",
       "    \u001b[32m'lm'\u001b[0m: \u001b[1m<\u001b[0m\u001b[1;95mdsp.modules.gpt3.GPT3\u001b[0m\u001b[39m object at \u001b[0m\u001b[1;36m0x0000022C57290D90\u001b[0m\u001b[39m>,\u001b[0m\n",
       "\u001b[39m    \u001b[0m\u001b[32m'rm'\u001b[0m\u001b[39m: <dsp.modules.colbertv2.ColBERTv2 object at \u001b[0m\u001b[1;36m0x0000022C547CAA50\u001b[0m\u001b[1m>\u001b[0m,\n",
       "    \u001b[32m'branch_idx'\u001b[0m: \u001b[1;36m0\u001b[0m,\n",
       "    \u001b[32m'reranker'\u001b[0m: \u001b[3;35mNone\u001b[0m,\n",
       "    \u001b[32m'compiled_lm'\u001b[0m: \u001b[3;35mNone\u001b[0m,\n",
       "    \u001b[32m'force_reuse_cached_compilation'\u001b[0m: \u001b[3;91mFalse\u001b[0m,\n",
       "    \u001b[32m'compiling'\u001b[0m: \u001b[3;91mFalse\u001b[0m,\n",
       "    \u001b[32m'skip_logprobs'\u001b[0m: \u001b[3;91mFalse\u001b[0m,\n",
       "    \u001b[32m'trace'\u001b[0m: \u001b[3;35mNone\u001b[0m,\n",
       "    \u001b[32m'release'\u001b[0m: \u001b[1;36m0\u001b[0m,\n",
       "    \u001b[32m'log_openai_usage'\u001b[0m: \u001b[3;91mFalse\u001b[0m,\n",
       "    \u001b[32m'bypass_assert'\u001b[0m: \u001b[3;91mFalse\u001b[0m,\n",
       "    \u001b[32m'bypass_suggest'\u001b[0m: \u001b[3;91mFalse\u001b[0m,\n",
       "    \u001b[32m'assert_failures'\u001b[0m: \u001b[1;36m0\u001b[0m,\n",
       "    \u001b[32m'suggest_failures'\u001b[0m: \u001b[1;36m0\u001b[0m,\n",
       "    \u001b[32m'langchain_history'\u001b[0m: \u001b[1m[\u001b[0m\u001b[1m]\u001b[0m\n",
       "\u001b[1m}\u001b[0m\n"
      ]
     },
     "metadata": {},
     "output_type": "display_data"
    }
   ],
   "source": [
    "print(settings.config)"
   ]
  },
  {
   "cell_type": "code",
   "execution_count": 106,
   "metadata": {},
   "outputs": [
    {
     "data": {
      "text/plain": [
       "0"
      ]
     },
     "execution_count": 106,
     "metadata": {},
     "output_type": "execute_result"
    }
   ],
   "source": [
    "len(new_tbomod.history)"
   ]
  },
  {
   "cell_type": "markdown",
   "metadata": {},
   "source": [
    "    How BootstrapFewshot work?\n",
    "\n",
    "- Initializing a student program which which is the one we are optimizing and a teacher program which unless specified otherwise is a clone of the student.\n",
    "\n",
    "- Then to the teacher it add the demos by using LabeledFewShot teleprompter.\n",
    "\n",
    "- Mappings are created between the names of predictors and their corresponding instances in both student and teacher models.\n",
    "\n",
    "- The maximum number of bootstrap demonstrations (max_bootstraps) is determined. This limits the amount of initial training data generated.\n",
    "\n",
    "- The process iterates over each example in the training set. For each example, the method checks if the maximum number of bootstraps has been reached. If so, the process stops.\n",
    "\n",
    "- For each training example, the teacher model attempts to generate a prediction.\n",
    "\n",
    "- If the teacher model successfully generates a prediction, the trace of this prediction process is captured. This trace includes details about which predictors were called, the inputs they received, and the outputs they produced.\n",
    "\n",
    "- If the prediction is successful, a demonstration (demo) is created for each step in the trace. This demo includes the inputs to the predictor and the outputs it generated."
   ]
  },
  {
   "cell_type": "code",
   "execution_count": 154,
   "metadata": {},
   "outputs": [],
   "source": [
    "# lets first look at LabeledFewShots\n",
    "\n",
    "optim_base = LabeledFewShot(k=10)\n",
    "\n",
    "cot_fs_optimizer = optim_base.compile(cot_bl,\n",
    "                                      trainset=train_10,\n",
    "                                      sample=True)\n",
    "# the model is not called at all"
   ]
  },
  {
   "cell_type": "code",
   "execution_count": 153,
   "metadata": {},
   "outputs": [
    {
     "data": {
      "text/html": [
       "<pre style=\"white-space:pre;overflow-x:auto;line-height:normal;font-family:Menlo,'DejaVu Sans Mono',consolas,'Courier New',monospace\"><span style=\"font-weight: bold\">[</span>\n",
       "    <span style=\"color: #800080; text-decoration-color: #800080; font-weight: bold\">Example</span><span style=\"font-weight: bold\">({</span><span style=\"color: #008000; text-decoration-color: #008000\">'question'</span>: <span style=\"color: #008000; text-decoration-color: #008000\">\"The result from the 40-item Statistics exam Marion and Ella took already came out. Ella </span>\n",
       "<span style=\"color: #008000; text-decoration-color: #008000\">got 4 incorrect answers while Marion got 6 more than half the score of Ella. What is Marion's score?\"</span>, \n",
       "<span style=\"color: #008000; text-decoration-color: #008000\">'gold_reasoning'</span>: <span style=\"color: #008000; text-decoration-color: #008000\">\"Ella's score is 40 items - 4 items = &lt;&lt;40-4=36&gt;&gt;36 items. Half of Ella's score is 36 items / 2 =</span>\n",
       "<span style=\"color: #008000; text-decoration-color: #008000\">&lt;&lt;36/2=18&gt;&gt;18 items. So, Marion's score is 18 items + 6 items = &lt;&lt;18+6=24&gt;&gt;24 items.\"</span><span style=\"color: #000000; text-decoration-color: #000000\">, </span><span style=\"color: #008000; text-decoration-color: #008000\">'answer'</span><span style=\"color: #000000; text-decoration-color: #000000\">: </span><span style=\"color: #008000; text-decoration-color: #008000\">'24'</span><span style=\"color: #000000; text-decoration-color: #000000; font-weight: bold\">})</span><span style=\"color: #000000; text-decoration-color: #000000\"> </span>\n",
       "<span style=\"color: #000000; text-decoration-color: #000000; font-weight: bold\">(</span><span style=\"color: #808000; text-decoration-color: #808000\">input_keys</span><span style=\"color: #000000; text-decoration-color: #000000\">=</span><span style=\"color: #000000; text-decoration-color: #000000; font-weight: bold\">{</span><span style=\"color: #008000; text-decoration-color: #008000\">'question'</span><span style=\"color: #000000; text-decoration-color: #000000; font-weight: bold\">})</span><span style=\"color: #000000; text-decoration-color: #000000\">,</span>\n",
       "<span style=\"color: #000000; text-decoration-color: #000000\">    </span><span style=\"color: #800080; text-decoration-color: #800080; font-weight: bold\">Example</span><span style=\"color: #000000; text-decoration-color: #000000; font-weight: bold\">({</span><span style=\"color: #008000; text-decoration-color: #008000\">'question'</span><span style=\"color: #000000; text-decoration-color: #000000\">: </span><span style=\"color: #008000; text-decoration-color: #008000\">\"Stephen made 10 round trips up and down a 40,000 foot tall mountain. If he reached 3/4 of</span>\n",
       "<span style=\"color: #008000; text-decoration-color: #008000\">the mountain's height on each of his trips, calculate the total distance he covered.\"</span><span style=\"color: #000000; text-decoration-color: #000000\">, </span><span style=\"color: #008000; text-decoration-color: #008000\">'gold_reasoning'</span><span style=\"color: #000000; text-decoration-color: #000000\">: </span><span style=\"color: #008000; text-decoration-color: #008000\">'Up a </span>\n",
       "<span style=\"color: #008000; text-decoration-color: #008000\">mountain, Stephen covered 3/4*40000 = &lt;&lt;3/4*40000=30000&gt;&gt;30000 feet. Coming down, Stephen covered another 30000 </span>\n",
       "<span style=\"color: #008000; text-decoration-color: #008000\">feet, making the total distance covered in one round to be 30000+30000 = &lt;&lt;30000+30000=60000&gt;&gt;60000. Since Stephen </span>\n",
       "<span style=\"color: #008000; text-decoration-color: #008000\">made 10 round trips up and down the mountain, he covered 10*60000 = &lt;&lt;10*60000=600000&gt;&gt;600000'</span><span style=\"color: #000000; text-decoration-color: #000000\">, </span><span style=\"color: #008000; text-decoration-color: #008000\">'answer'</span><span style=\"color: #000000; text-decoration-color: #000000\">: </span>\n",
       "<span style=\"color: #008000; text-decoration-color: #008000\">'600000'</span><span style=\"color: #000000; text-decoration-color: #000000; font-weight: bold\">})</span><span style=\"color: #000000; text-decoration-color: #000000\"> </span><span style=\"color: #000000; text-decoration-color: #000000; font-weight: bold\">(</span><span style=\"color: #808000; text-decoration-color: #808000\">input_keys</span><span style=\"color: #000000; text-decoration-color: #000000\">=</span><span style=\"color: #000000; text-decoration-color: #000000; font-weight: bold\">{</span><span style=\"color: #008000; text-decoration-color: #008000\">'question'</span><span style=\"color: #000000; text-decoration-color: #000000; font-weight: bold\">})</span><span style=\"color: #000000; text-decoration-color: #000000\">,</span>\n",
       "<span style=\"color: #000000; text-decoration-color: #000000\">    </span><span style=\"color: #800080; text-decoration-color: #800080; font-weight: bold\">Example</span><span style=\"color: #000000; text-decoration-color: #000000; font-weight: bold\">({</span><span style=\"color: #008000; text-decoration-color: #008000\">'question'</span><span style=\"color: #000000; text-decoration-color: #000000\">: </span><span style=\"color: #008000; text-decoration-color: #008000\">'Bridget counted 14 shooting stars in the night sky.  Reginald counted two fewer shooting </span>\n",
       "<span style=\"color: #008000; text-decoration-color: #008000\">stars than did Bridget, but Sam counted four more shooting stars than did Reginald.  How many more shooting stars </span>\n",
       "<span style=\"color: #008000; text-decoration-color: #008000\">did Sam count in the night sky than was the average number of shooting stars observed for the three of them?'</span><span style=\"color: #000000; text-decoration-color: #000000\">, </span>\n",
       "<span style=\"color: #008000; text-decoration-color: #008000\">'gold_reasoning'</span><span style=\"color: #000000; text-decoration-color: #000000\">: </span><span style=\"color: #008000; text-decoration-color: #008000\">'Reginald counted two fewer shooting stars than did Bridget, or a total of 14-2=&lt;&lt;14-2=12&gt;&gt;12 </span>\n",
       "<span style=\"color: #008000; text-decoration-color: #008000\">shooting stars. Sam counted 4 more shooting stars than did Reginald, or a total of 12+4=16 shooting stars. The </span>\n",
       "<span style=\"color: #008000; text-decoration-color: #008000\">average number of shooting stars observed for the three of them was (14+12+16)/3 = &lt;&lt;14=14&gt;&gt;14 shooting stars. </span>\n",
       "<span style=\"color: #008000; text-decoration-color: #008000\">Thus, Sam counted 16-14=2 more shooting stars than was the average number of shooting stars observed for the three </span>\n",
       "<span style=\"color: #008000; text-decoration-color: #008000\">of them.'</span><span style=\"color: #000000; text-decoration-color: #000000\">, </span><span style=\"color: #008000; text-decoration-color: #008000\">'answer'</span><span style=\"color: #000000; text-decoration-color: #000000\">: </span><span style=\"color: #008000; text-decoration-color: #008000\">'2'</span><span style=\"color: #000000; text-decoration-color: #000000; font-weight: bold\">})</span><span style=\"color: #000000; text-decoration-color: #000000\"> </span><span style=\"color: #000000; text-decoration-color: #000000; font-weight: bold\">(</span><span style=\"color: #808000; text-decoration-color: #808000\">input_keys</span><span style=\"color: #000000; text-decoration-color: #000000\">=</span><span style=\"color: #000000; text-decoration-color: #000000; font-weight: bold\">{</span><span style=\"color: #008000; text-decoration-color: #008000\">'question'</span><span style=\"color: #000000; text-decoration-color: #000000; font-weight: bold\">})</span><span style=\"color: #000000; text-decoration-color: #000000\">,</span>\n",
       "<span style=\"color: #000000; text-decoration-color: #000000\">    </span><span style=\"color: #800080; text-decoration-color: #800080; font-weight: bold\">Example</span><span style=\"color: #000000; text-decoration-color: #000000; font-weight: bold\">({</span><span style=\"color: #008000; text-decoration-color: #008000\">'question'</span><span style=\"color: #000000; text-decoration-color: #000000\">: </span><span style=\"color: #008000; text-decoration-color: #008000\">'Sarah buys 20 pencils on Monday. Then she buys 18 more pencils on Tuesday. On Wednesday </span>\n",
       "<span style=\"color: #008000; text-decoration-color: #008000\">she buys triple the number of pencils she did on Tuesday. How many pencils does she have?'</span><span style=\"color: #000000; text-decoration-color: #000000\">, </span><span style=\"color: #008000; text-decoration-color: #008000\">'gold_reasoning'</span><span style=\"color: #000000; text-decoration-color: #000000\">: </span><span style=\"color: #008000; text-decoration-color: #008000\">'By </span>\n",
       "<span style=\"color: #008000; text-decoration-color: #008000\">adding together Monday and Tuesday, Saah has 20+18= &lt;&lt;20+18=38&gt;&gt;38 pencils On Wednesday, she buys 3 * 18= </span>\n",
       "<span style=\"color: #008000; text-decoration-color: #008000\">&lt;&lt;3*18=54&gt;&gt;54 pencils All together, Sarah has 38+54= &lt;&lt;38+54=92&gt;&gt;92 pencils'</span><span style=\"color: #000000; text-decoration-color: #000000\">, </span><span style=\"color: #008000; text-decoration-color: #008000\">'answer'</span><span style=\"color: #000000; text-decoration-color: #000000\">: </span><span style=\"color: #008000; text-decoration-color: #008000\">'92'</span><span style=\"color: #000000; text-decoration-color: #000000; font-weight: bold\">})</span><span style=\"color: #000000; text-decoration-color: #000000\"> </span>\n",
       "<span style=\"color: #000000; text-decoration-color: #000000; font-weight: bold\">(</span><span style=\"color: #808000; text-decoration-color: #808000\">input_keys</span><span style=\"color: #000000; text-decoration-color: #000000\">=</span><span style=\"color: #000000; text-decoration-color: #000000; font-weight: bold\">{</span><span style=\"color: #008000; text-decoration-color: #008000\">'question'</span><span style=\"color: #000000; text-decoration-color: #000000; font-weight: bold\">})</span><span style=\"color: #000000; text-decoration-color: #000000\">,</span>\n",
       "<span style=\"color: #000000; text-decoration-color: #000000\">    </span><span style=\"color: #800080; text-decoration-color: #800080; font-weight: bold\">Example</span><span style=\"color: #000000; text-decoration-color: #000000; font-weight: bold\">({</span><span style=\"color: #008000; text-decoration-color: #008000\">'question'</span><span style=\"color: #000000; text-decoration-color: #000000\">: </span><span style=\"color: #008000; text-decoration-color: #008000\">'Rookie police officers have to buy duty shoes at the full price of $85, but officers who </span>\n",
       "<span style=\"color: #008000; text-decoration-color: #008000\">have served at least a year get a 20% discount. Officers who have served at least three years get an additional 25%</span>\n",
       "<span style=\"color: #008000; text-decoration-color: #008000\">off the discounted price. How much does an officer who has served at least three years have to pay for shoes?'</span><span style=\"color: #000000; text-decoration-color: #000000\">, </span>\n",
       "<span style=\"color: #008000; text-decoration-color: #008000\">'gold_reasoning'</span><span style=\"color: #000000; text-decoration-color: #000000\">: </span><span style=\"color: #008000; text-decoration-color: #008000\">'Cops that served a year pay $85 * 0.2 = $&lt;&lt;85*0.2=17&gt;&gt;17 less. Cops that served a year pay $85 -</span>\n",
       "<span style=\"color: #008000; text-decoration-color: #008000\">$17 = $&lt;&lt;85-17=68&gt;&gt;68. Cops that served at least 3 years get a $68 * 0.25 = $&lt;&lt;68*0.25=17&gt;&gt;17 discount. Cops that </span>\n",
       "<span style=\"color: #008000; text-decoration-color: #008000\">served at least 3 years pay $68 - $17 = $&lt;&lt;68-17=51&gt;&gt;51 for shoes.'</span><span style=\"color: #000000; text-decoration-color: #000000\">, </span><span style=\"color: #008000; text-decoration-color: #008000\">'answer'</span><span style=\"color: #000000; text-decoration-color: #000000\">: </span><span style=\"color: #008000; text-decoration-color: #008000\">'51'</span><span style=\"color: #000000; text-decoration-color: #000000; font-weight: bold\">})</span><span style=\"color: #000000; text-decoration-color: #000000\"> </span><span style=\"color: #000000; text-decoration-color: #000000; font-weight: bold\">(</span><span style=\"color: #808000; text-decoration-color: #808000\">input_keys</span><span style=\"color: #000000; text-decoration-color: #000000\">=</span><span style=\"color: #000000; text-decoration-color: #000000; font-weight: bold\">{</span><span style=\"color: #008000; text-decoration-color: #008000\">'question'</span><span style=\"color: #000000; text-decoration-color: #000000; font-weight: bold\">})</span><span style=\"color: #000000; text-decoration-color: #000000\">,</span>\n",
       "<span style=\"color: #000000; text-decoration-color: #000000\">    </span><span style=\"color: #800080; text-decoration-color: #800080; font-weight: bold\">Example</span><span style=\"color: #000000; text-decoration-color: #000000; font-weight: bold\">({</span><span style=\"color: #008000; text-decoration-color: #008000\">'question'</span><span style=\"color: #000000; text-decoration-color: #000000\">: </span><span style=\"color: #008000; text-decoration-color: #008000\">\"The average score on last week's Spanish test was 90.  Marco scored 10% less than the </span>\n",
       "<span style=\"color: #008000; text-decoration-color: #008000\">average test score and Margaret received 5 more points than Marco.  What score did Margaret receive on her test?\"</span><span style=\"color: #000000; text-decoration-color: #000000\">, </span>\n",
       "<span style=\"color: #008000; text-decoration-color: #008000\">'gold_reasoning'</span><span style=\"color: #000000; text-decoration-color: #000000\">: </span><span style=\"color: #008000; text-decoration-color: #008000\">'The average test score was 90 and Marco scored 10% less so 90*.10 = &lt;&lt;90*.10=9&gt;&gt;9 points lower </span>\n",
       "<span style=\"color: #008000; text-decoration-color: #008000\">The average test score was 90 and Marco scored 9 points less so his test score was 90-9 = &lt;&lt;90-9=81&gt;&gt;81 Margret </span>\n",
       "<span style=\"color: #008000; text-decoration-color: #008000\">received 5 more points than Marco whose test score was 81 so she made 5+81 = &lt;&lt;5+81=86&gt;&gt;86 on her test'</span><span style=\"color: #000000; text-decoration-color: #000000\">, </span><span style=\"color: #008000; text-decoration-color: #008000\">'answer'</span><span style=\"color: #000000; text-decoration-color: #000000\">: </span>\n",
       "<span style=\"color: #008000; text-decoration-color: #008000\">'86'</span><span style=\"color: #000000; text-decoration-color: #000000; font-weight: bold\">})</span><span style=\"color: #000000; text-decoration-color: #000000\"> </span><span style=\"color: #000000; text-decoration-color: #000000; font-weight: bold\">(</span><span style=\"color: #808000; text-decoration-color: #808000\">input_keys</span><span style=\"color: #000000; text-decoration-color: #000000\">=</span><span style=\"color: #000000; text-decoration-color: #000000; font-weight: bold\">{</span><span style=\"color: #008000; text-decoration-color: #008000\">'question'</span><span style=\"color: #000000; text-decoration-color: #000000; font-weight: bold\">})</span><span style=\"color: #000000; text-decoration-color: #000000\">,</span>\n",
       "<span style=\"color: #000000; text-decoration-color: #000000\">    </span><span style=\"color: #800080; text-decoration-color: #800080; font-weight: bold\">Example</span><span style=\"color: #000000; text-decoration-color: #000000; font-weight: bold\">({</span><span style=\"color: #008000; text-decoration-color: #008000\">'question'</span><span style=\"color: #000000; text-decoration-color: #000000\">: </span><span style=\"color: #008000; text-decoration-color: #008000\">'A third of the contestants at a singing competition are female, and the rest are male. If</span>\n",
       "<span style=\"color: #008000; text-decoration-color: #008000\">there are 18 contestants in total, how many of them are male?'</span><span style=\"color: #000000; text-decoration-color: #000000\">, </span><span style=\"color: #008000; text-decoration-color: #008000\">'gold_reasoning'</span><span style=\"color: #000000; text-decoration-color: #000000\">: </span><span style=\"color: #008000; text-decoration-color: #008000\">'There are 18/3 = &lt;&lt;18/3=6&gt;&gt;6 </span>\n",
       "<span style=\"color: #008000; text-decoration-color: #008000\">female contestants. There are 18-6 = &lt;&lt;18-6=12&gt;&gt;12 male contestants.'</span><span style=\"color: #000000; text-decoration-color: #000000\">, </span><span style=\"color: #008000; text-decoration-color: #008000\">'answer'</span><span style=\"color: #000000; text-decoration-color: #000000\">: </span><span style=\"color: #008000; text-decoration-color: #008000\">'12'</span><span style=\"color: #000000; text-decoration-color: #000000; font-weight: bold\">})</span><span style=\"color: #000000; text-decoration-color: #000000\"> </span><span style=\"color: #000000; text-decoration-color: #000000; font-weight: bold\">(</span><span style=\"color: #808000; text-decoration-color: #808000\">input_keys</span><span style=\"color: #000000; text-decoration-color: #000000\">=</span><span style=\"color: #000000; text-decoration-color: #000000; font-weight: bold\">{</span><span style=\"color: #008000; text-decoration-color: #008000\">'question'</span><span style=\"color: #000000; text-decoration-color: #000000; font-weight: bold\">})</span><span style=\"color: #000000; text-decoration-color: #000000\">,</span>\n",
       "<span style=\"color: #000000; text-decoration-color: #000000\">    </span><span style=\"color: #800080; text-decoration-color: #800080; font-weight: bold\">Example</span><span style=\"color: #000000; text-decoration-color: #000000; font-weight: bold\">({</span><span style=\"color: #008000; text-decoration-color: #008000\">'question'</span><span style=\"color: #000000; text-decoration-color: #000000\">: </span><span style=\"color: #008000; text-decoration-color: #008000\">'Nancy bought a pie sliced it into 8 pieces. She gave 1/2 to Joe and Darcy, and she gave </span>\n",
       "<span style=\"color: #008000; text-decoration-color: #008000\">1/4 to Carl. How many slices were left?'</span><span style=\"color: #000000; text-decoration-color: #000000\">, </span><span style=\"color: #008000; text-decoration-color: #008000\">'gold_reasoning'</span><span style=\"color: #000000; text-decoration-color: #000000\">: </span><span style=\"color: #008000; text-decoration-color: #008000\">'The total number of slices she gave to Joe and Darcy </span>\n",
       "<span style=\"color: #008000; text-decoration-color: #008000\">is 1/2 x 8 = &lt;&lt;1/2*8=4&gt;&gt;4. The total slice she gave to Carl is 1/4 x 8 = &lt;&lt;1/4*8=2&gt;&gt;2. Therefore, the total slices </span>\n",
       "<span style=\"color: #008000; text-decoration-color: #008000\">left is 8 - 4 - 2 = &lt;&lt;8-4-2=2&gt;&gt;2.'</span><span style=\"color: #000000; text-decoration-color: #000000\">, </span><span style=\"color: #008000; text-decoration-color: #008000\">'answer'</span><span style=\"color: #000000; text-decoration-color: #000000\">: </span><span style=\"color: #008000; text-decoration-color: #008000\">'2'</span><span style=\"color: #000000; text-decoration-color: #000000; font-weight: bold\">})</span><span style=\"color: #000000; text-decoration-color: #000000\"> </span><span style=\"color: #000000; text-decoration-color: #000000; font-weight: bold\">(</span><span style=\"color: #808000; text-decoration-color: #808000\">input_keys</span><span style=\"color: #000000; text-decoration-color: #000000\">=</span><span style=\"color: #000000; text-decoration-color: #000000; font-weight: bold\">{</span><span style=\"color: #008000; text-decoration-color: #008000\">'question'</span><span style=\"color: #000000; text-decoration-color: #000000; font-weight: bold\">})</span><span style=\"color: #000000; text-decoration-color: #000000\">,</span>\n",
       "<span style=\"color: #000000; text-decoration-color: #000000\">    </span><span style=\"color: #800080; text-decoration-color: #800080; font-weight: bold\">Example</span><span style=\"color: #000000; text-decoration-color: #000000; font-weight: bold\">({</span><span style=\"color: #008000; text-decoration-color: #008000\">'question'</span><span style=\"color: #000000; text-decoration-color: #000000\">: </span><span style=\"color: #008000; text-decoration-color: #008000\">'Megan pays $16 for a shirt that costs $22 before sales. What is the amount of the </span>\n",
       "<span style=\"color: #008000; text-decoration-color: #008000\">discount?'</span><span style=\"color: #000000; text-decoration-color: #000000\">, </span><span style=\"color: #008000; text-decoration-color: #008000\">'gold_reasoning'</span><span style=\"color: #000000; text-decoration-color: #000000\">: </span><span style=\"color: #008000; text-decoration-color: #008000\">'Let x be the amount of the discount. We have, 22 - x = $16 We change the writing of </span>\n",
       "<span style=\"color: #008000; text-decoration-color: #008000\">the equation: 22 - x + x = 16 + x So, 22 = 16 + x We then Remove 16 from both sides: 22 - 16 = 16 + x - 16 So, 22 -</span>\n",
       "<span style=\"color: #008000; text-decoration-color: #008000\">16 = x So, the amount of the discount is x = $&lt;&lt;6=6&gt;&gt;6.'</span><span style=\"color: #000000; text-decoration-color: #000000\">, </span><span style=\"color: #008000; text-decoration-color: #008000\">'answer'</span><span style=\"color: #000000; text-decoration-color: #000000\">: </span><span style=\"color: #008000; text-decoration-color: #008000\">'6'</span><span style=\"color: #000000; text-decoration-color: #000000; font-weight: bold\">})</span><span style=\"color: #000000; text-decoration-color: #000000\"> </span><span style=\"color: #000000; text-decoration-color: #000000; font-weight: bold\">(</span><span style=\"color: #808000; text-decoration-color: #808000\">input_keys</span><span style=\"color: #000000; text-decoration-color: #000000\">=</span><span style=\"color: #000000; text-decoration-color: #000000; font-weight: bold\">{</span><span style=\"color: #008000; text-decoration-color: #008000\">'question'</span><span style=\"color: #000000; text-decoration-color: #000000; font-weight: bold\">})</span><span style=\"color: #000000; text-decoration-color: #000000\">,</span>\n",
       "<span style=\"color: #000000; text-decoration-color: #000000\">    </span><span style=\"color: #800080; text-decoration-color: #800080; font-weight: bold\">Example</span><span style=\"color: #000000; text-decoration-color: #000000; font-weight: bold\">({</span><span style=\"color: #008000; text-decoration-color: #008000\">'question'</span><span style=\"color: #000000; text-decoration-color: #000000\">: </span><span style=\"color: #008000; text-decoration-color: #008000\">\"Amaya scored 20 marks fewer in Maths than she scored in Arts. She also got 10 marks more </span>\n",
       "<span style=\"color: #008000; text-decoration-color: #008000\">in Social Studies than she got in Music. If she scored 70 in Music and scored 1/10 less in Maths, what's the total </span>\n",
       "<span style=\"color: #008000; text-decoration-color: #008000\">number of marks she scored in all the subjects?\"</span><span style=\"color: #000000; text-decoration-color: #000000\">, </span><span style=\"color: #008000; text-decoration-color: #008000\">'gold_reasoning'</span><span style=\"color: #000000; text-decoration-color: #000000\">: </span><span style=\"color: #008000; text-decoration-color: #008000\">'The total marks Amaya scored more in Music </span>\n",
       "<span style=\"color: #008000; text-decoration-color: #008000\">than in Maths is 1/10 * 70 = &lt;&lt;1/10*70=7&gt;&gt;7 marks. So the total marks she scored in Maths is 70 - 7 = &lt;&lt;70-7=63&gt;&gt;63</span>\n",
       "<span style=\"color: #008000; text-decoration-color: #008000\">marks. If she scored 20 marks fewer in Maths than in Arts, then he scored 63 + 20 = &lt;&lt;63+20=83&gt;&gt;83 in Arts. If she </span>\n",
       "<span style=\"color: #008000; text-decoration-color: #008000\">scored 10 marks more in Social Studies than in Music, then she scored 70 + 10 = &lt;&lt;10+70=80&gt;&gt;80 marks in Social </span>\n",
       "<span style=\"color: #008000; text-decoration-color: #008000\">Studies. The total number of marks for all the subjects is 70 + 63 + 83 + 80 = &lt;&lt;70+63+83+80=296&gt;&gt;296 marks.'</span>, \n",
       "<span style=\"color: #008000; text-decoration-color: #008000\">'answer'</span>: <span style=\"color: #008000; text-decoration-color: #008000\">'296'</span><span style=\"font-weight: bold\">})</span> <span style=\"font-weight: bold\">(</span><span style=\"color: #808000; text-decoration-color: #808000\">input_keys</span>=<span style=\"font-weight: bold\">{</span><span style=\"color: #008000; text-decoration-color: #008000\">'question'</span><span style=\"font-weight: bold\">})</span>\n",
       "<span style=\"font-weight: bold\">]</span>\n",
       "</pre>\n"
      ],
      "text/plain": [
       "\u001b[1m[\u001b[0m\n",
       "    \u001b[1;35mExample\u001b[0m\u001b[1m(\u001b[0m\u001b[1m{\u001b[0m\u001b[32m'question'\u001b[0m: \u001b[32m\"The result from the 40-item Statistics exam Marion and Ella took already came out. Ella \u001b[0m\n",
       "\u001b[32mgot 4 incorrect answers while Marion got 6 more than half the score of Ella. What is Marion's score?\"\u001b[0m, \n",
       "\u001b[32m'gold_reasoning'\u001b[0m: \u001b[32m\"Ella's score is 40 items - 4 items = \u001b[0m\u001b[32m<\u001b[0m\u001b[32m<40-\u001b[0m\u001b[32m4\u001b[0m\u001b[32m=\u001b[0m\u001b[32m36\u001b[0m\u001b[32m>>36 items. Half of Ella's score is 36 items / 2 =\u001b[0m\n",
       "\u001b[32m<<36/\u001b[0m\u001b[32m2\u001b[0m\u001b[32m=\u001b[0m\u001b[32m18\u001b[0m\u001b[32m>>18 items. So, Marion's score is 18 items + 6 items = <<18+\u001b[0m\u001b[32m6\u001b[0m\u001b[32m=\u001b[0m\u001b[32m24\u001b[0m\u001b[32m>>24 items.\"\u001b[0m\u001b[39m, \u001b[0m\u001b[32m'answer'\u001b[0m\u001b[39m: \u001b[0m\u001b[32m'24'\u001b[0m\u001b[1;39m}\u001b[0m\u001b[1;39m)\u001b[0m\u001b[39m \u001b[0m\n",
       "\u001b[1;39m(\u001b[0m\u001b[33minput_keys\u001b[0m\u001b[39m=\u001b[0m\u001b[1;39m{\u001b[0m\u001b[32m'question'\u001b[0m\u001b[1;39m}\u001b[0m\u001b[1;39m)\u001b[0m\u001b[39m,\u001b[0m\n",
       "\u001b[39m    \u001b[0m\u001b[1;35mExample\u001b[0m\u001b[1;39m(\u001b[0m\u001b[1;39m{\u001b[0m\u001b[32m'question'\u001b[0m\u001b[39m: \u001b[0m\u001b[32m\"Stephen made 10 round trips up and down a 40,000 foot tall mountain. If he reached 3/4 of\u001b[0m\n",
       "\u001b[32mthe mountain's height on each of his trips, calculate the total distance he covered.\"\u001b[0m\u001b[39m, \u001b[0m\u001b[32m'gold_reasoning'\u001b[0m\u001b[39m: \u001b[0m\u001b[32m'Up a \u001b[0m\n",
       "\u001b[32mmountain, Stephen covered 3/4*40000 = <<3/4*\u001b[0m\u001b[32m40000\u001b[0m\u001b[32m=\u001b[0m\u001b[32m30000\u001b[0m\u001b[32m>>30000 feet. Coming down, Stephen covered another 30000 \u001b[0m\n",
       "\u001b[32mfeet, making the total distance covered in one round to be 30000+30000 = <<30000+\u001b[0m\u001b[32m30000\u001b[0m\u001b[32m=\u001b[0m\u001b[32m60000\u001b[0m\u001b[32m>>60000. Since Stephen \u001b[0m\n",
       "\u001b[32mmade 10 round trips up and down the mountain, he covered 10*60000 = <<10*\u001b[0m\u001b[32m60000\u001b[0m\u001b[32m=\u001b[0m\u001b[32m600000\u001b[0m\u001b[32m>>600000'\u001b[0m\u001b[39m, \u001b[0m\u001b[32m'answer'\u001b[0m\u001b[39m: \u001b[0m\n",
       "\u001b[32m'600000'\u001b[0m\u001b[1;39m}\u001b[0m\u001b[1;39m)\u001b[0m\u001b[39m \u001b[0m\u001b[1;39m(\u001b[0m\u001b[33minput_keys\u001b[0m\u001b[39m=\u001b[0m\u001b[1;39m{\u001b[0m\u001b[32m'question'\u001b[0m\u001b[1;39m}\u001b[0m\u001b[1;39m)\u001b[0m\u001b[39m,\u001b[0m\n",
       "\u001b[39m    \u001b[0m\u001b[1;35mExample\u001b[0m\u001b[1;39m(\u001b[0m\u001b[1;39m{\u001b[0m\u001b[32m'question'\u001b[0m\u001b[39m: \u001b[0m\u001b[32m'Bridget counted 14 shooting stars in the night sky.  Reginald counted two fewer shooting \u001b[0m\n",
       "\u001b[32mstars than did Bridget, but Sam counted four more shooting stars than did Reginald.  How many more shooting stars \u001b[0m\n",
       "\u001b[32mdid Sam count in the night sky than was the average number of shooting stars observed for the three of them?'\u001b[0m\u001b[39m, \u001b[0m\n",
       "\u001b[32m'gold_reasoning'\u001b[0m\u001b[39m: \u001b[0m\u001b[32m'Reginald counted two fewer shooting stars than did Bridget, or a total of 14-\u001b[0m\u001b[32m2\u001b[0m\u001b[32m=<<14-\u001b[0m\u001b[32m2\u001b[0m\u001b[32m=\u001b[0m\u001b[32m12\u001b[0m\u001b[32m>>12 \u001b[0m\n",
       "\u001b[32mshooting stars. Sam counted 4 more shooting stars than did Reginald, or a total of 12+\u001b[0m\u001b[32m4\u001b[0m\u001b[32m=\u001b[0m\u001b[32m16\u001b[0m\u001b[32m shooting stars. The \u001b[0m\n",
       "\u001b[32maverage number of shooting stars observed for the three of them was \u001b[0m\u001b[32m(\u001b[0m\u001b[32m14+12+16\u001b[0m\u001b[32m)\u001b[0m\u001b[32m/3 = <<\u001b[0m\u001b[32m14\u001b[0m\u001b[32m=\u001b[0m\u001b[32m14\u001b[0m\u001b[32m>>14 shooting stars. \u001b[0m\n",
       "\u001b[32mThus, Sam counted 16-\u001b[0m\u001b[32m14\u001b[0m\u001b[32m=\u001b[0m\u001b[32m2\u001b[0m\u001b[32m more shooting stars than was the average number of shooting stars observed for the three \u001b[0m\n",
       "\u001b[32mof them.'\u001b[0m\u001b[39m, \u001b[0m\u001b[32m'answer'\u001b[0m\u001b[39m: \u001b[0m\u001b[32m'2'\u001b[0m\u001b[1;39m}\u001b[0m\u001b[1;39m)\u001b[0m\u001b[39m \u001b[0m\u001b[1;39m(\u001b[0m\u001b[33minput_keys\u001b[0m\u001b[39m=\u001b[0m\u001b[1;39m{\u001b[0m\u001b[32m'question'\u001b[0m\u001b[1;39m}\u001b[0m\u001b[1;39m)\u001b[0m\u001b[39m,\u001b[0m\n",
       "\u001b[39m    \u001b[0m\u001b[1;35mExample\u001b[0m\u001b[1;39m(\u001b[0m\u001b[1;39m{\u001b[0m\u001b[32m'question'\u001b[0m\u001b[39m: \u001b[0m\u001b[32m'Sarah buys 20 pencils on Monday. Then she buys 18 more pencils on Tuesday. On Wednesday \u001b[0m\n",
       "\u001b[32mshe buys triple the number of pencils she did on Tuesday. How many pencils does she have?'\u001b[0m\u001b[39m, \u001b[0m\u001b[32m'gold_reasoning'\u001b[0m\u001b[39m: \u001b[0m\u001b[32m'By \u001b[0m\n",
       "\u001b[32madding together Monday and Tuesday, Saah has 20+\u001b[0m\u001b[32m18\u001b[0m\u001b[32m= <<20+\u001b[0m\u001b[32m18\u001b[0m\u001b[32m=\u001b[0m\u001b[32m38\u001b[0m\u001b[32m>>38 pencils On Wednesday, she buys 3 * \u001b[0m\u001b[32m18\u001b[0m\u001b[32m= \u001b[0m\n",
       "\u001b[32m<<3*\u001b[0m\u001b[32m18\u001b[0m\u001b[32m=\u001b[0m\u001b[32m54\u001b[0m\u001b[32m>>54 pencils All together, Sarah has 38+\u001b[0m\u001b[32m54\u001b[0m\u001b[32m= <<38+\u001b[0m\u001b[32m54\u001b[0m\u001b[32m=\u001b[0m\u001b[32m92\u001b[0m\u001b[32m>>92 pencils'\u001b[0m\u001b[39m, \u001b[0m\u001b[32m'answer'\u001b[0m\u001b[39m: \u001b[0m\u001b[32m'92'\u001b[0m\u001b[1;39m}\u001b[0m\u001b[1;39m)\u001b[0m\u001b[39m \u001b[0m\n",
       "\u001b[1;39m(\u001b[0m\u001b[33minput_keys\u001b[0m\u001b[39m=\u001b[0m\u001b[1;39m{\u001b[0m\u001b[32m'question'\u001b[0m\u001b[1;39m}\u001b[0m\u001b[1;39m)\u001b[0m\u001b[39m,\u001b[0m\n",
       "\u001b[39m    \u001b[0m\u001b[1;35mExample\u001b[0m\u001b[1;39m(\u001b[0m\u001b[1;39m{\u001b[0m\u001b[32m'question'\u001b[0m\u001b[39m: \u001b[0m\u001b[32m'Rookie police officers have to buy duty shoes at the full price of $85, but officers who \u001b[0m\n",
       "\u001b[32mhave served at least a year get a 20% discount. Officers who have served at least three years get an additional 25%\u001b[0m\n",
       "\u001b[32moff the discounted price. How much does an officer who has served at least three years have to pay for shoes?'\u001b[0m\u001b[39m, \u001b[0m\n",
       "\u001b[32m'gold_reasoning'\u001b[0m\u001b[39m: \u001b[0m\u001b[32m'Cops that served a year pay $85 * 0.2 = $<<85*0.\u001b[0m\u001b[32m2\u001b[0m\u001b[32m=\u001b[0m\u001b[32m17\u001b[0m\u001b[32m>>17 less. Cops that served a year pay $85 -\u001b[0m\n",
       "\u001b[32m$17 = $<<85-\u001b[0m\u001b[32m17\u001b[0m\u001b[32m=\u001b[0m\u001b[32m68\u001b[0m\u001b[32m>>68. Cops that served at least 3 years get a $68 * 0.25 = $<<68*0.\u001b[0m\u001b[32m25\u001b[0m\u001b[32m=\u001b[0m\u001b[32m17\u001b[0m\u001b[32m>>17 discount. Cops that \u001b[0m\n",
       "\u001b[32mserved at least 3 years pay $68 - $17 = $<<68-\u001b[0m\u001b[32m17\u001b[0m\u001b[32m=\u001b[0m\u001b[32m51\u001b[0m\u001b[32m>>51 for shoes.'\u001b[0m\u001b[39m, \u001b[0m\u001b[32m'answer'\u001b[0m\u001b[39m: \u001b[0m\u001b[32m'51'\u001b[0m\u001b[1;39m}\u001b[0m\u001b[1;39m)\u001b[0m\u001b[39m \u001b[0m\u001b[1;39m(\u001b[0m\u001b[33minput_keys\u001b[0m\u001b[39m=\u001b[0m\u001b[1;39m{\u001b[0m\u001b[32m'question'\u001b[0m\u001b[1;39m}\u001b[0m\u001b[1;39m)\u001b[0m\u001b[39m,\u001b[0m\n",
       "\u001b[39m    \u001b[0m\u001b[1;35mExample\u001b[0m\u001b[1;39m(\u001b[0m\u001b[1;39m{\u001b[0m\u001b[32m'question'\u001b[0m\u001b[39m: \u001b[0m\u001b[32m\"The average score on last week's Spanish test was 90.  Marco scored 10% less than the \u001b[0m\n",
       "\u001b[32maverage test score and Margaret received 5 more points than Marco.  What score did Margaret receive on her test?\"\u001b[0m\u001b[39m, \u001b[0m\n",
       "\u001b[32m'gold_reasoning'\u001b[0m\u001b[39m: \u001b[0m\u001b[32m'The average test score was 90 and Marco scored 10% less so 90*.10 = <<90*.\u001b[0m\u001b[32m10\u001b[0m\u001b[32m=\u001b[0m\u001b[32m9\u001b[0m\u001b[32m>>9 points lower \u001b[0m\n",
       "\u001b[32mThe average test score was 90 and Marco scored 9 points less so his test score was 90-9 = <<90-\u001b[0m\u001b[32m9\u001b[0m\u001b[32m=\u001b[0m\u001b[32m81\u001b[0m\u001b[32m>>81 Margret \u001b[0m\n",
       "\u001b[32mreceived 5 more points than Marco whose test score was 81 so she made 5+81 = <<5+\u001b[0m\u001b[32m81\u001b[0m\u001b[32m=\u001b[0m\u001b[32m86\u001b[0m\u001b[32m>>86 on her test'\u001b[0m\u001b[39m, \u001b[0m\u001b[32m'answer'\u001b[0m\u001b[39m: \u001b[0m\n",
       "\u001b[32m'86'\u001b[0m\u001b[1;39m}\u001b[0m\u001b[1;39m)\u001b[0m\u001b[39m \u001b[0m\u001b[1;39m(\u001b[0m\u001b[33minput_keys\u001b[0m\u001b[39m=\u001b[0m\u001b[1;39m{\u001b[0m\u001b[32m'question'\u001b[0m\u001b[1;39m}\u001b[0m\u001b[1;39m)\u001b[0m\u001b[39m,\u001b[0m\n",
       "\u001b[39m    \u001b[0m\u001b[1;35mExample\u001b[0m\u001b[1;39m(\u001b[0m\u001b[1;39m{\u001b[0m\u001b[32m'question'\u001b[0m\u001b[39m: \u001b[0m\u001b[32m'A third of the contestants at a singing competition are female, and the rest are male. If\u001b[0m\n",
       "\u001b[32mthere are 18 contestants in total, how many of them are male?'\u001b[0m\u001b[39m, \u001b[0m\u001b[32m'gold_reasoning'\u001b[0m\u001b[39m: \u001b[0m\u001b[32m'There are 18/3 = <<18/\u001b[0m\u001b[32m3\u001b[0m\u001b[32m=\u001b[0m\u001b[32m6\u001b[0m\u001b[32m>>6 \u001b[0m\n",
       "\u001b[32mfemale contestants. There are 18-6 = <<18-\u001b[0m\u001b[32m6\u001b[0m\u001b[32m=\u001b[0m\u001b[32m12\u001b[0m\u001b[32m>>12 male contestants.'\u001b[0m\u001b[39m, \u001b[0m\u001b[32m'answer'\u001b[0m\u001b[39m: \u001b[0m\u001b[32m'12'\u001b[0m\u001b[1;39m}\u001b[0m\u001b[1;39m)\u001b[0m\u001b[39m \u001b[0m\u001b[1;39m(\u001b[0m\u001b[33minput_keys\u001b[0m\u001b[39m=\u001b[0m\u001b[1;39m{\u001b[0m\u001b[32m'question'\u001b[0m\u001b[1;39m}\u001b[0m\u001b[1;39m)\u001b[0m\u001b[39m,\u001b[0m\n",
       "\u001b[39m    \u001b[0m\u001b[1;35mExample\u001b[0m\u001b[1;39m(\u001b[0m\u001b[1;39m{\u001b[0m\u001b[32m'question'\u001b[0m\u001b[39m: \u001b[0m\u001b[32m'Nancy bought a pie sliced it into 8 pieces. She gave 1/2 to Joe and Darcy, and she gave \u001b[0m\n",
       "\u001b[32m1/4 to Carl. How many slices were left?'\u001b[0m\u001b[39m, \u001b[0m\u001b[32m'gold_reasoning'\u001b[0m\u001b[39m: \u001b[0m\u001b[32m'The total number of slices she gave to Joe and Darcy \u001b[0m\n",
       "\u001b[32mis 1/2 x 8 = <<1/2*\u001b[0m\u001b[32m8\u001b[0m\u001b[32m=\u001b[0m\u001b[32m4\u001b[0m\u001b[32m>>4. The total slice she gave to Carl is 1/4 x 8 = <<1/4*\u001b[0m\u001b[32m8\u001b[0m\u001b[32m=\u001b[0m\u001b[32m2\u001b[0m\u001b[32m>>2. Therefore, the total slices \u001b[0m\n",
       "\u001b[32mleft is 8 - 4 - 2 = <<8-4-\u001b[0m\u001b[32m2\u001b[0m\u001b[32m=\u001b[0m\u001b[32m2\u001b[0m\u001b[32m>>2.'\u001b[0m\u001b[39m, \u001b[0m\u001b[32m'answer'\u001b[0m\u001b[39m: \u001b[0m\u001b[32m'2'\u001b[0m\u001b[1;39m}\u001b[0m\u001b[1;39m)\u001b[0m\u001b[39m \u001b[0m\u001b[1;39m(\u001b[0m\u001b[33minput_keys\u001b[0m\u001b[39m=\u001b[0m\u001b[1;39m{\u001b[0m\u001b[32m'question'\u001b[0m\u001b[1;39m}\u001b[0m\u001b[1;39m)\u001b[0m\u001b[39m,\u001b[0m\n",
       "\u001b[39m    \u001b[0m\u001b[1;35mExample\u001b[0m\u001b[1;39m(\u001b[0m\u001b[1;39m{\u001b[0m\u001b[32m'question'\u001b[0m\u001b[39m: \u001b[0m\u001b[32m'Megan pays $16 for a shirt that costs $22 before sales. What is the amount of the \u001b[0m\n",
       "\u001b[32mdiscount?'\u001b[0m\u001b[39m, \u001b[0m\u001b[32m'gold_reasoning'\u001b[0m\u001b[39m: \u001b[0m\u001b[32m'Let x be the amount of the discount. We have, 22 - x = $16 We change the writing of \u001b[0m\n",
       "\u001b[32mthe equation: 22 - x + x = 16 + x So, 22 = 16 + x We then Remove 16 from both sides: 22 - 16 = 16 + x - 16 So, 22 -\u001b[0m\n",
       "\u001b[32m16 = x So, the amount of the discount is x = $<<\u001b[0m\u001b[32m6\u001b[0m\u001b[32m=\u001b[0m\u001b[32m6\u001b[0m\u001b[32m>>6.'\u001b[0m\u001b[39m, \u001b[0m\u001b[32m'answer'\u001b[0m\u001b[39m: \u001b[0m\u001b[32m'6'\u001b[0m\u001b[1;39m}\u001b[0m\u001b[1;39m)\u001b[0m\u001b[39m \u001b[0m\u001b[1;39m(\u001b[0m\u001b[33minput_keys\u001b[0m\u001b[39m=\u001b[0m\u001b[1;39m{\u001b[0m\u001b[32m'question'\u001b[0m\u001b[1;39m}\u001b[0m\u001b[1;39m)\u001b[0m\u001b[39m,\u001b[0m\n",
       "\u001b[39m    \u001b[0m\u001b[1;35mExample\u001b[0m\u001b[1;39m(\u001b[0m\u001b[1;39m{\u001b[0m\u001b[32m'question'\u001b[0m\u001b[39m: \u001b[0m\u001b[32m\"Amaya scored 20 marks fewer in Maths than she scored in Arts. She also got 10 marks more \u001b[0m\n",
       "\u001b[32min Social Studies than she got in Music. If she scored 70 in Music and scored 1/10 less in Maths, what's the total \u001b[0m\n",
       "\u001b[32mnumber of marks she scored in all the subjects?\"\u001b[0m\u001b[39m, \u001b[0m\u001b[32m'gold_reasoning'\u001b[0m\u001b[39m: \u001b[0m\u001b[32m'The total marks Amaya scored more in Music \u001b[0m\n",
       "\u001b[32mthan in Maths is 1/10 * 70 = <<1/10*\u001b[0m\u001b[32m70\u001b[0m\u001b[32m=\u001b[0m\u001b[32m7\u001b[0m\u001b[32m>>7 marks. So the total marks she scored in Maths is 70 - 7 = <<70-\u001b[0m\u001b[32m7\u001b[0m\u001b[32m=\u001b[0m\u001b[32m63\u001b[0m\u001b[32m>>63\u001b[0m\n",
       "\u001b[32mmarks. If she scored 20 marks fewer in Maths than in Arts, then he scored 63 + 20 = <<63+\u001b[0m\u001b[32m20\u001b[0m\u001b[32m=\u001b[0m\u001b[32m83\u001b[0m\u001b[32m>>83 in Arts. If she \u001b[0m\n",
       "\u001b[32mscored 10 marks more in Social Studies than in Music, then she scored 70 + 10 = <<10+\u001b[0m\u001b[32m70\u001b[0m\u001b[32m=\u001b[0m\u001b[32m80\u001b[0m\u001b[32m>>80 marks in Social \u001b[0m\n",
       "\u001b[32mStudies. The total number of marks for all the subjects is 70 + 63 + 83 + 80 = <<70+63+83+\u001b[0m\u001b[32m80\u001b[0m\u001b[32m=\u001b[0m\u001b[32m296\u001b[0m\u001b[32m>\u001b[0m\u001b[32m>\u001b[0m\u001b[32m296 marks.'\u001b[0m, \n",
       "\u001b[32m'answer'\u001b[0m: \u001b[32m'296'\u001b[0m\u001b[1m}\u001b[0m\u001b[1m)\u001b[0m \u001b[1m(\u001b[0m\u001b[33minput_keys\u001b[0m=\u001b[1m{\u001b[0m\u001b[32m'question'\u001b[0m\u001b[1m}\u001b[0m\u001b[1m)\u001b[0m\n",
       "\u001b[1m]\u001b[0m\n"
      ]
     },
     "metadata": {},
     "output_type": "display_data"
    }
   ],
   "source": [
    "print(train_10)"
   ]
  },
  {
   "cell_type": "code",
   "execution_count": 155,
   "metadata": {},
   "outputs": [],
   "source": [
    "cot_fs_optimizer.save('labled_fs_01.json')"
   ]
  },
  {
   "cell_type": "code",
   "execution_count": 112,
   "metadata": {},
   "outputs": [
    {
     "data": {
      "text/plain": [
       "0"
      ]
     },
     "execution_count": 112,
     "metadata": {},
     "output_type": "execute_result"
    }
   ],
   "source": [
    "len(new_tbomod.history)"
   ]
  },
  {
   "cell_type": "code",
   "execution_count": 113,
   "metadata": {},
   "outputs": [
    {
     "name": "stderr",
     "output_type": "stream",
     "text": [
      "Average Metric: 5 / 10  (50.0): 100%|██████████| 10/10 [00:06<00:00,  1.54it/s]"
     ]
    },
    {
     "name": "stdout",
     "output_type": "stream",
     "text": [
      "Average Metric: 5 / 10  (50.0%)\n"
     ]
    },
    {
     "name": "stderr",
     "output_type": "stream",
     "text": [
      "\n",
      "d:\\dspyenv\\Lib\\site-packages\\dspy\\evaluate\\evaluate.py:143: FutureWarning: DataFrame.applymap has been deprecated. Use DataFrame.map instead.\n",
      "  df = df.applymap(truncate_cell)\n"
     ]
    }
   ],
   "source": [
    "eval_labfew_shot = dev_evaluator(cot_fs_optimizer, devset=dev_10)"
   ]
  },
  {
   "cell_type": "code",
   "execution_count": 114,
   "metadata": {},
   "outputs": [
    {
     "data": {
      "text/plain": [
       "12"
      ]
     },
     "execution_count": 114,
     "metadata": {},
     "output_type": "execute_result"
    }
   ],
   "source": [
    "len(new_tbomod.history)"
   ]
  },
  {
   "cell_type": "code",
   "execution_count": 115,
   "metadata": {},
   "outputs": [
    {
     "name": "stdout",
     "output_type": "stream",
     "text": [
      "\n",
      "\n",
      "\n",
      "\n",
      "Given the fields `question`, produce the fields `answer`.\n",
      "\n",
      "---\n",
      "\n",
      "Follow the following format.\n",
      "\n",
      "Question: ${question}\n",
      "Reasoning: Let's think step by step in order to ${produce the answer}. We ...\n",
      "Answer: ${answer}\n",
      "\n",
      "---\n",
      "\n",
      "Question: A third of the contestants at a singing competition are female, and the rest are male. If there are 18 contestants in total, how many of them are male?\n",
      "Answer: 12\n",
      "\n",
      "---\n",
      "\n",
      "Question: Amaya scored 20 marks fewer in Maths than she scored in Arts. She also got 10 marks more in Social Studies than she got in Music. If she scored 70 in Music and scored 1/10 less in Maths, what's the total number of marks she scored in all the subjects?\n",
      "Answer: 296\n",
      "\n",
      "---\n",
      "\n",
      "Question: The result from the 40-item Statistics exam Marion and Ella took already came out. Ella got 4 incorrect answers while Marion got 6 more than half the score of Ella. What is Marion's score?\n",
      "Answer: 24\n",
      "\n",
      "---\n",
      "\n",
      "Question: Bridget counted 14 shooting stars in the night sky. Reginald counted two fewer shooting stars than did Bridget, but Sam counted four more shooting stars than did Reginald. How many more shooting stars did Sam count in the night sky than was the average number of shooting stars observed for the three of them?\n",
      "Answer: 2\n",
      "\n",
      "---\n",
      "\n",
      "Question: Wendy went to the dentist for a cleaning, two fillings, and a tooth extraction. The dentist charges $70 for a cleaning and $120 for a filling. Wendy’s dentist bill was five times the cost of a filling. What did Wendy pay for the tooth extraction?\n",
      "Reasoning: Let's think step by step in order to\u001b[32m Answer: $120\u001b[0m\n",
      "\n",
      "\n",
      "\n",
      "\n",
      "\n",
      "\n",
      "\n",
      "Given the fields `question`, produce the fields `answer`.\n",
      "\n",
      "---\n",
      "\n",
      "Follow the following format.\n",
      "\n",
      "Question: ${question}\n",
      "Reasoning: Let's think step by step in order to ${produce the answer}. We ...\n",
      "Answer: ${answer}\n",
      "\n",
      "---\n",
      "\n",
      "Question: A third of the contestants at a singing competition are female, and the rest are male. If there are 18 contestants in total, how many of them are male?\n",
      "Answer: 12\n",
      "\n",
      "---\n",
      "\n",
      "Question: Amaya scored 20 marks fewer in Maths than she scored in Arts. She also got 10 marks more in Social Studies than she got in Music. If she scored 70 in Music and scored 1/10 less in Maths, what's the total number of marks she scored in all the subjects?\n",
      "Answer: 296\n",
      "\n",
      "---\n",
      "\n",
      "Question: The result from the 40-item Statistics exam Marion and Ella took already came out. Ella got 4 incorrect answers while Marion got 6 more than half the score of Ella. What is Marion's score?\n",
      "Answer: 24\n",
      "\n",
      "---\n",
      "\n",
      "Question: Bridget counted 14 shooting stars in the night sky. Reginald counted two fewer shooting stars than did Bridget, but Sam counted four more shooting stars than did Reginald. How many more shooting stars did Sam count in the night sky than was the average number of shooting stars observed for the three of them?\n",
      "Answer: 2\n",
      "\n",
      "---\n",
      "\n",
      "Question: Karen is packing her backpack for a long-distance hike. She packs 20 pounds of water, 10 pounds of food, and 20 pounds of gear. During her hike, she drinks 2 pounds of water per hour and eats 1/3rd the weight of food per hour as water per hour. How much weight is she carrying after six hours?\n",
      "Reasoning: Let's think step by step in order to\u001b[32m produce the answer. We need to calculate how much weight Karen loses from water and food consumption after six hours.\n",
      "Answer: 38 pounds\u001b[0m\n",
      "\n",
      "\n",
      "\n",
      "\n",
      "\n",
      "\n",
      "\n",
      "Given the fields `question`, produce the fields `answer`.\n",
      "\n",
      "---\n",
      "\n",
      "Follow the following format.\n",
      "\n",
      "Question: ${question}\n",
      "Reasoning: Let's think step by step in order to ${produce the answer}. We ...\n",
      "Answer: ${answer}\n",
      "\n",
      "---\n",
      "\n",
      "Question: A third of the contestants at a singing competition are female, and the rest are male. If there are 18 contestants in total, how many of them are male?\n",
      "Answer: 12\n",
      "\n",
      "---\n",
      "\n",
      "Question: Amaya scored 20 marks fewer in Maths than she scored in Arts. She also got 10 marks more in Social Studies than she got in Music. If she scored 70 in Music and scored 1/10 less in Maths, what's the total number of marks she scored in all the subjects?\n",
      "Answer: 296\n",
      "\n",
      "---\n",
      "\n",
      "Question: The result from the 40-item Statistics exam Marion and Ella took already came out. Ella got 4 incorrect answers while Marion got 6 more than half the score of Ella. What is Marion's score?\n",
      "Answer: 24\n",
      "\n",
      "---\n",
      "\n",
      "Question: Bridget counted 14 shooting stars in the night sky. Reginald counted two fewer shooting stars than did Bridget, but Sam counted four more shooting stars than did Reginald. How many more shooting stars did Sam count in the night sky than was the average number of shooting stars observed for the three of them?\n",
      "Answer: 2\n",
      "\n",
      "---\n",
      "\n",
      "Question: 20 birds migrate on a seasonal basis from one lake to another, searching for food. If they fly from lake Jim to lake Disney in one season, which is 50 miles apart, then the next season they fly from lake Disney to lake London, 60 miles apart, calculate the combined distance all of the birds have traveled in the two seasons.\n",
      "Reasoning: Let's think step by step in order to\u001b[32m produce the answer. We need to calculate the total distance traveled by each bird in both seasons and then multiply it by the total number of birds.\n",
      "Answer: 2200 miles\u001b[0m\n",
      "\n",
      "\n",
      "\n",
      "\n",
      "\n",
      "\n",
      "\n",
      "Given the fields `question`, produce the fields `answer`.\n",
      "\n",
      "---\n",
      "\n",
      "Follow the following format.\n",
      "\n",
      "Question: ${question}\n",
      "Reasoning: Let's think step by step in order to ${produce the answer}. We ...\n",
      "Answer: ${answer}\n",
      "\n",
      "---\n",
      "\n",
      "Question: A third of the contestants at a singing competition are female, and the rest are male. If there are 18 contestants in total, how many of them are male?\n",
      "Answer: 12\n",
      "\n",
      "Question: Amaya scored 20 marks fewer in Maths than she scored in Arts. She also got 10 marks more in Social Studies than she got in Music. If she scored 70 in Music and scored 1/10 less in Maths, what's the total number of marks she scored in all the subjects?\n",
      "Answer: 296\n",
      "\n",
      "Question: The result from the 40-item Statistics exam Marion and Ella took already came out. Ella got 4 incorrect answers while Marion got 6 more than half the score of Ella. What is Marion's score?\n",
      "Answer: 24\n",
      "\n",
      "Question: Bridget counted 14 shooting stars in the night sky. Reginald counted two fewer shooting stars than did Bridget, but Sam counted four more shooting stars than did Reginald. How many more shooting stars did Sam count in the night sky than was the average number of shooting stars observed for the three of them?\n",
      "Answer: 2\n",
      "\n",
      "Question: Wendy went to the dentist for a cleaning, two fillings, and a tooth extraction. The dentist charges $70 for a cleaning and $120 for a filling. Wendy’s dentist bill was five times the cost of a filling. What did Wendy pay for the tooth extraction?\n",
      "Reasoning: Let's think step by step in order to Answer: $120\n",
      "Answer:\u001b[32m $120\u001b[0m\n",
      "\n",
      "\n",
      "\n",
      "\n",
      "\n",
      "\n",
      "\n",
      "Given the fields `question`, produce the fields `answer`.\n",
      "\n",
      "---\n",
      "\n",
      "Follow the following format.\n",
      "\n",
      "Question: ${question}\n",
      "Reasoning: Let's think step by step in order to ${produce the answer}. We ...\n",
      "Answer: ${answer}\n",
      "\n",
      "---\n",
      "\n",
      "Question: A third of the contestants at a singing competition are female, and the rest are male. If there are 18 contestants in total, how many of them are male?\n",
      "Answer: 12\n",
      "\n",
      "---\n",
      "\n",
      "Question: Amaya scored 20 marks fewer in Maths than she scored in Arts. She also got 10 marks more in Social Studies than she got in Music. If she scored 70 in Music and scored 1/10 less in Maths, what's the total number of marks she scored in all the subjects?\n",
      "Answer: 296\n",
      "\n",
      "---\n",
      "\n",
      "Question: The result from the 40-item Statistics exam Marion and Ella took already came out. Ella got 4 incorrect answers while Marion got 6 more than half the score of Ella. What is Marion's score?\n",
      "Answer: 24\n",
      "\n",
      "---\n",
      "\n",
      "Question: Bridget counted 14 shooting stars in the night sky. Reginald counted two fewer shooting stars than did Bridget, but Sam counted four more shooting stars than did Reginald. How many more shooting stars did Sam count in the night sky than was the average number of shooting stars observed for the three of them?\n",
      "Answer: 2\n",
      "\n",
      "---\n",
      "\n",
      "Question: Rita is reading a five-chapter book with 95 pages. Each chapter has three pages more than the previous one. How many pages does the first chapter have?\n",
      "Reasoning: Let's think step by step in order to\u001b[32m produce the answer. We can set up an equation to represent the total number of pages in the book. Let x be the number of pages in the first chapter. The second chapter will have x + 3 pages, the third chapter will have x + 6 pages, and so on. Since there are five chapters in total, the total number of pages in the book can be represented as x + (x + 3) + (x + 6) + (x + 9) + (x + 12) = 95. Solving this equation will give us the number of pages in the first chapter.\n",
      "Answer: 17\u001b[0m\n",
      "\n",
      "\n",
      "\n",
      "\n",
      "\n",
      "\n",
      "\n",
      "Given the fields `question`, produce the fields `answer`.\n",
      "\n",
      "---\n",
      "\n",
      "Follow the following format.\n",
      "\n",
      "Question: ${question}\n",
      "Reasoning: Let's think step by step in order to ${produce the answer}. We ...\n",
      "Answer: ${answer}\n",
      "\n",
      "---\n",
      "\n",
      "Question: A third of the contestants at a singing competition are female, and the rest are male. If there are 18 contestants in total, how many of them are male?\n",
      "Answer: 12\n",
      "\n",
      "---\n",
      "\n",
      "Question: Amaya scored 20 marks fewer in Maths than she scored in Arts. She also got 10 marks more in Social Studies than she got in Music. If she scored 70 in Music and scored 1/10 less in Maths, what's the total number of marks she scored in all the subjects?\n",
      "Answer: 296\n",
      "\n",
      "---\n",
      "\n",
      "Question: The result from the 40-item Statistics exam Marion and Ella took already came out. Ella got 4 incorrect answers while Marion got 6 more than half the score of Ella. What is Marion's score?\n",
      "Answer: 24\n",
      "\n",
      "---\n",
      "\n",
      "Question: Bridget counted 14 shooting stars in the night sky. Reginald counted two fewer shooting stars than did Bridget, but Sam counted four more shooting stars than did Reginald. How many more shooting stars did Sam count in the night sky than was the average number of shooting stars observed for the three of them?\n",
      "Answer: 2\n",
      "\n",
      "---\n",
      "\n",
      "Question: Cameron is printing her thesis in the school library and has 400 A4 pieces of paper. If 40% of the papers did not print out up to her desired quality and she separated them as invalid, calculate the total number of valid documents.\n",
      "Reasoning: Let's think step by step in order to\u001b[32m produce the answer. We know that 40% of the 400 papers did not print out well, so 60% of the papers are valid. To find the total number of valid documents, we need to calculate 60% of 400.\n",
      "Answer: 240 valid documents\u001b[0m\n",
      "\n",
      "\n",
      "\n",
      "\n",
      "\n",
      "\n",
      "\n",
      "Given the fields `question`, produce the fields `answer`.\n",
      "\n",
      "---\n",
      "\n",
      "Follow the following format.\n",
      "\n",
      "Question: ${question}\n",
      "Reasoning: Let's think step by step in order to ${produce the answer}. We ...\n",
      "Answer: ${answer}\n",
      "\n",
      "---\n",
      "\n",
      "Question: A third of the contestants at a singing competition are female, and the rest are male. If there are 18 contestants in total, how many of them are male?\n",
      "Answer: 12\n",
      "\n",
      "---\n",
      "\n",
      "Question: Amaya scored 20 marks fewer in Maths than she scored in Arts. She also got 10 marks more in Social Studies than she got in Music. If she scored 70 in Music and scored 1/10 less in Maths, what's the total number of marks she scored in all the subjects?\n",
      "Answer: 296\n",
      "\n",
      "---\n",
      "\n",
      "Question: The result from the 40-item Statistics exam Marion and Ella took already came out. Ella got 4 incorrect answers while Marion got 6 more than half the score of Ella. What is Marion's score?\n",
      "Answer: 24\n",
      "\n",
      "---\n",
      "\n",
      "Question: Bridget counted 14 shooting stars in the night sky. Reginald counted two fewer shooting stars than did Bridget, but Sam counted four more shooting stars than did Reginald. How many more shooting stars did Sam count in the night sky than was the average number of shooting stars observed for the three of them?\n",
      "Answer: 2\n",
      "\n",
      "---\n",
      "\n",
      "Question: Roy spends 2 hours on sports activities in school every day. He goes to school 5 days a week. If he missed 2 days within a week, how many hours did he spend on sports in school that week?\n",
      "Reasoning: Let's think step by step in order to\u001b[32m produce the answer. We know that Roy spends 2 hours on sports activities every day and goes to school 5 days a week. So in a normal week, he would spend 2 hours/day * 5 days/week = 10 hours on sports activities. However, if he missed 2 days within a week, he would only spend 3 days * 2 hours/day = 6 hours on sports activities that week.\n",
      "Answer: 6\u001b[0m\n",
      "\n",
      "\n",
      "\n",
      "\n",
      "\n",
      "\n",
      "\n",
      "Given the fields `question`, produce the fields `answer`.\n",
      "\n",
      "---\n",
      "\n",
      "Follow the following format.\n",
      "\n",
      "Question: ${question}\n",
      "Reasoning: Let's think step by step in order to ${produce the answer}. We ...\n",
      "Answer: ${answer}\n",
      "\n",
      "---\n",
      "\n",
      "Question: A third of the contestants at a singing competition are female, and the rest are male. If there are 18 contestants in total, how many of them are male?\n",
      "Answer: 12\n",
      "\n",
      "---\n",
      "\n",
      "Question: Amaya scored 20 marks fewer in Maths than she scored in Arts. She also got 10 marks more in Social Studies than she got in Music. If she scored 70 in Music and scored 1/10 less in Maths, what's the total number of marks she scored in all the subjects?\n",
      "Answer: 296\n",
      "\n",
      "---\n",
      "\n",
      "Question: The result from the 40-item Statistics exam Marion and Ella took already came out. Ella got 4 incorrect answers while Marion got 6 more than half the score of Ella. What is Marion's score?\n",
      "Answer: 24\n",
      "\n",
      "---\n",
      "\n",
      "Question: Bridget counted 14 shooting stars in the night sky. Reginald counted two fewer shooting stars than did Bridget, but Sam counted four more shooting stars than did Reginald. How many more shooting stars did Sam count in the night sky than was the average number of shooting stars observed for the three of them?\n",
      "Answer: 2\n",
      "\n",
      "---\n",
      "\n",
      "Question: Benjamin collects 6 dozen eggs a day. Carla collects 3 times the number of eggs that Benjamin collects. Trisha collects 4 dozen less than Benjamin. How many dozen eggs do the three collect total?\n",
      "Reasoning: Let's think step by step in order to\u001b[32m Answer: 27\n",
      "\n",
      "---\n",
      "\n",
      "Question: A car travels 360 miles in 6 hours. If it travels at a constant speed, how many miles will it travel in 8 hours?\n",
      "Answer: 480\n",
      "\n",
      "---\n",
      "\n",
      "Question: A bakery sells 3 times as many blueberry muffins as it sells chocolate chip muffins. If they sell 60 blueberry muffins, how many chocolate chip muffins do they sell?\n",
      "Answer: 20\n",
      "\n",
      "---\n",
      "\n",
      "Question: In a class of 30 students, 2/3 of the students are girls. How many boys are in the class?\n",
      "Answer: 10\n",
      "\n",
      "---\n",
      "\n",
      "Question: A recipe calls for 2 cups of flour to make 12 cookies. How many cups of flour are needed\u001b[0m\n",
      "\n",
      "\n",
      "\n",
      "\n",
      "\n",
      "\n",
      "\n",
      "Given the fields `question`, produce the fields `answer`.\n",
      "\n",
      "---\n",
      "\n",
      "Follow the following format.\n",
      "\n",
      "Question: ${question}\n",
      "Reasoning: Let's think step by step in order to ${produce the answer}. We ...\n",
      "Answer: ${answer}\n",
      "\n",
      "---\n",
      "\n",
      "Question: A third of the contestants at a singing competition are female, and the rest are male. If there are 18 contestants in total, how many of them are male?\n",
      "Answer: 12\n",
      "\n",
      "---\n",
      "\n",
      "Question: Amaya scored 20 marks fewer in Maths than she scored in Arts. She also got 10 marks more in Social Studies than she got in Music. If she scored 70 in Music and scored 1/10 less in Maths, what's the total number of marks she scored in all the subjects?\n",
      "Answer: 296\n",
      "\n",
      "---\n",
      "\n",
      "Question: The result from the 40-item Statistics exam Marion and Ella took already came out. Ella got 4 incorrect answers while Marion got 6 more than half the score of Ella. What is Marion's score?\n",
      "Answer: 24\n",
      "\n",
      "---\n",
      "\n",
      "Question: Bridget counted 14 shooting stars in the night sky. Reginald counted two fewer shooting stars than did Bridget, but Sam counted four more shooting stars than did Reginald. How many more shooting stars did Sam count in the night sky than was the average number of shooting stars observed for the three of them?\n",
      "Answer: 2\n",
      "\n",
      "---\n",
      "\n",
      "Question: Martha's cat catches 3 rats and 7 birds. Cara's cat catches 3 less than five times as many animals as Martha's cat. How many animals does Cara's cat catch?\n",
      "Reasoning: Let's think step by step in order to\u001b[32m Answer: 32\u001b[0m\n",
      "\n",
      "\n",
      "\n",
      "\n",
      "\n",
      "\n",
      "\n",
      "Given the fields `question`, produce the fields `answer`.\n",
      "\n",
      "---\n",
      "\n",
      "Follow the following format.\n",
      "\n",
      "Question: ${question}\n",
      "Reasoning: Let's think step by step in order to ${produce the answer}. We ...\n",
      "Answer: ${answer}\n",
      "\n",
      "---\n",
      "\n",
      "Question: A third of the contestants at a singing competition are female, and the rest are male. If there are 18 contestants in total, how many of them are male?\n",
      "Answer: 12\n",
      "\n",
      "---\n",
      "\n",
      "Question: Amaya scored 20 marks fewer in Maths than she scored in Arts. She also got 10 marks more in Social Studies than she got in Music. If she scored 70 in Music and scored 1/10 less in Maths, what's the total number of marks she scored in all the subjects?\n",
      "Answer: 296\n",
      "\n",
      "---\n",
      "\n",
      "Question: The result from the 40-item Statistics exam Marion and Ella took already came out. Ella got 4 incorrect answers while Marion got 6 more than half the score of Ella. What is Marion's score?\n",
      "Answer: 24\n",
      "\n",
      "---\n",
      "\n",
      "Question: Bridget counted 14 shooting stars in the night sky. Reginald counted two fewer shooting stars than did Bridget, but Sam counted four more shooting stars than did Reginald. How many more shooting stars did Sam count in the night sky than was the average number of shooting stars observed for the three of them?\n",
      "Answer: 2\n",
      "\n",
      "---\n",
      "\n",
      "Question: Trey is raising money for a new bike that costs $112. He plans to spend the next two weeks selling bracelets for $1 each. On average, how many bracelets does he need to sell each day?\n",
      "Reasoning: Let's think step by step in order to\u001b[32m produce the answer. We know that Trey needs to raise $112 and each bracelet is sold for $1. Therefore, he needs to sell 112 bracelets in total. Since he has two weeks to sell them, he needs to sell 112 bracelets in 14 days.\n",
      "Answer: 8\u001b[0m\n",
      "\n",
      "\n",
      "\n",
      "\n",
      "\n",
      "\n",
      "\n",
      "Given the fields `question`, produce the fields `answer`.\n",
      "\n",
      "---\n",
      "\n",
      "Follow the following format.\n",
      "\n",
      "Question: ${question}\n",
      "Reasoning: Let's think step by step in order to ${produce the answer}. We ...\n",
      "Answer: ${answer}\n",
      "\n",
      "---\n",
      "\n",
      "Question: A third of the contestants at a singing competition are female, and the rest are male. If there are 18 contestants in total, how many of them are male?\n",
      "Answer: 12\n",
      "\n",
      "Question: Amaya scored 20 marks fewer in Maths than she scored in Arts. She also got 10 marks more in Social Studies than she got in Music. If she scored 70 in Music and scored 1/10 less in Maths, what's the total number of marks she scored in all the subjects?\n",
      "Answer: 296\n",
      "\n",
      "Question: The result from the 40-item Statistics exam Marion and Ella took already came out. Ella got 4 incorrect answers while Marion got 6 more than half the score of Ella. What is Marion's score?\n",
      "Answer: 24\n",
      "\n",
      "Question: Bridget counted 14 shooting stars in the night sky. Reginald counted two fewer shooting stars than did Bridget, but Sam counted four more shooting stars than did Reginald. How many more shooting stars did Sam count in the night sky than was the average number of shooting stars observed for the three of them?\n",
      "Answer: 2\n",
      "\n",
      "Question: Martha's cat catches 3 rats and 7 birds. Cara's cat catches 3 less than five times as many animals as Martha's cat. How many animals does Cara's cat catch?\n",
      "Reasoning: Let's think step by step in order to Answer: 32\n",
      "Answer:\u001b[32m 32\u001b[0m\n",
      "\n",
      "\n",
      "\n",
      "\n",
      "\n",
      "\n",
      "\n",
      "Given the fields `question`, produce the fields `answer`.\n",
      "\n",
      "---\n",
      "\n",
      "Follow the following format.\n",
      "\n",
      "Question: ${question}\n",
      "Reasoning: Let's think step by step in order to ${produce the answer}. We ...\n",
      "Answer: ${answer}\n",
      "\n",
      "---\n",
      "\n",
      "Question: A third of the contestants at a singing competition are female, and the rest are male. If there are 18 contestants in total, how many of them are male?\n",
      "Answer: 12\n",
      "\n",
      "---\n",
      "\n",
      "Question: Amaya scored 20 marks fewer in Maths than she scored in Arts. She also got 10 marks more in Social Studies than she got in Music. If she scored 70 in Music and scored 1/10 less in Maths, what's the total number of marks she scored in all the subjects?\n",
      "Answer: 296\n",
      "\n",
      "---\n",
      "\n",
      "Question: The result from the 40-item Statistics exam Marion and Ella took already came out. Ella got 4 incorrect answers while Marion got 6 more than half the score of Ella. What is Marion's score?\n",
      "Answer: 24\n",
      "\n",
      "---\n",
      "\n",
      "Question: Bridget counted 14 shooting stars in the night sky. Reginald counted two fewer shooting stars than did Bridget, but Sam counted four more shooting stars than did Reginald. How many more shooting stars did Sam count in the night sky than was the average number of shooting stars observed for the three of them?\n",
      "Answer: 2\n",
      "\n",
      "---\n",
      "\n",
      "Question: Burt spent $2.00 on a packet of basil seeds and $8.00 on potting soil. The packet of seeds yielded 20 basil plants. He sells each basil plant for $5.00 at the local farmer's market. What is the net profit from his basil plants?\n",
      "Reasoning: Let's think step by step in order to\u001b[32m produce the answer. We first need to calculate the total revenue from selling the basil plants. Burt sold 20 basil plants at $5.00 each, so the total revenue is 20 * $5.00 = $100. Next, we need to calculate the total cost. Burt spent $2.00 on seeds and $8.00 on soil, so the total cost is $2.00 + $8.00 = $10.00. Finally, we can calculate the net profit by subtracting the total cost from the total revenue: $100 - $10 = $90. \n",
      "Answer: $90\u001b[0m\n",
      "\n",
      "\n",
      "\n"
     ]
    }
   ],
   "source": [
    "new_tbomod.inspect_history(n=12)"
   ]
  },
  {
   "cell_type": "code",
   "execution_count": 116,
   "metadata": {},
   "outputs": [
    {
     "data": {
      "text/plain": [
       "' improve the output prefixes and instruction of the signatures \\nin a module in a zero/few shot setting. This teleprompter is especially beneficial for fine-tuning \\nthe prompt for language models and ensure they perform tasks more effectively, \\nall from a vague and un refine prompt.'"
      ]
     },
     "execution_count": 116,
     "metadata": {},
     "output_type": "execute_result"
    }
   ],
   "source": [
    "### Lets look into signature optimizer\n",
    "\n",
    "\"\"\" improve the output prefixes and instruction of the signatures \n",
    "in a module in a zero/few shot setting. This teleprompter is especially beneficial for fine-tuning \n",
    "the prompt for language models and ensure they perform tasks more effectively, \n",
    "all from a vague and un refine prompt.\"\"\"\n",
    "\n"
   ]
  },
  {
   "cell_type": "code",
   "execution_count": 127,
   "metadata": {},
   "outputs": [],
   "source": [
    "from dspy import (\n",
    "    Signature,\n",
    "    InputField,\n",
    "    OutputField,\n",
    "    ChainOfThought,\n",
    "    Prediction,\n",
    ")\n",
    "class CoTSignature(Signature):\n",
    "    \"\"\"Answer the question and give the reasoning for the same.\"\"\"\n",
    "\n",
    "    question = InputField(desc=\"question about something\")\n",
    "    answer = OutputField(desc=\"often between 1 and 5 words\")\n",
    "\n",
    "class CoTPipeline(Module):\n",
    "    def __init__(self):\n",
    "        super().__init__()\n",
    "\n",
    "        self.signature = CoTSignature\n",
    "        self.predictor = ChainOfThought(self.signature)\n",
    "\n",
    "    def forward(self, question):\n",
    "        result = self.predictor(question=question)\n",
    "        return Prediction(\n",
    "            answer=result.answer,\n",
    "            reasoning=result.reasoning,\n",
    "        )"
   ]
  },
  {
   "cell_type": "code",
   "execution_count": 140,
   "metadata": {},
   "outputs": [],
   "source": [
    "from dspy.evaluate import answer_exact_match\n",
    "\n",
    "def validate_context_and_answer(example, pred, trace=None):\n",
    "    answer_EM = answer_exact_match(example, pred)\n",
    "    return answer_EM\n",
    "\n",
    "evaluate = Evaluate(devset=dev_10,\n",
    "                    metric=validate_context_and_answer,\n",
    "                    display_progress=True,\n",
    "                    display_table=True)"
   ]
  },
  {
   "cell_type": "code",
   "execution_count": 143,
   "metadata": {},
   "outputs": [],
   "source": [
    "cot_new_bl = CoTPipeline()\n",
    "\n",
    "cot_new_bl.save(\"new_baseLine.json\")"
   ]
  },
  {
   "cell_type": "code",
   "execution_count": 126,
   "metadata": {},
   "outputs": [
    {
     "data": {
      "text/plain": [
       "Prediction(\n",
       "    answer='10',\n",
       "    reasoning='produce the answer. We start with 15 eggs in the tray. If 5 are taken out, we need to subtract 5 from 15 to find out how many are left.'\n",
       ")"
      ]
     },
     "execution_count": 126,
     "metadata": {},
     "output_type": "execute_result"
    }
   ],
   "source": [
    "cot_new_bl(question='How many eggs will be there, if 5 are taken from a tray that contained 15')"
   ]
  },
  {
   "cell_type": "code",
   "execution_count": 134,
   "metadata": {},
   "outputs": [
    {
     "data": {
      "text/plain": [
       "Example({'question': '20 birds migrate on a seasonal basis from one lake to another, searching for food. If they fly from lake Jim to lake Disney in one season, which is 50 miles apart, then the next season they fly from lake Disney to lake London, 60 miles apart, calculate the combined distance all of the birds have traveled in the two seasons.', 'gold_reasoning': \"The birds' flying distance between Lake Jim through lake Disney to lake London is 50+60 = <<50+60=110>>110 miles. Since each bird flies the 110 miles distance while migrating, the combined distance they fly together is 110*20 = <<110*20=2200>>2200 miles.\", 'answer': '2200'}) (input_keys={'question'})"
      ]
     },
     "execution_count": 134,
     "metadata": {},
     "output_type": "execute_result"
    }
   ],
   "source": [
    "dev_10[0]"
   ]
  },
  {
   "cell_type": "code",
   "execution_count": null,
   "metadata": {},
   "outputs": [],
   "source": [
    "eval_output = evaluate(cot_new_bl, devset=dev_10)"
   ]
  },
  {
   "cell_type": "code",
   "execution_count": 145,
   "metadata": {},
   "outputs": [],
   "source": [
    "from dspy.teleprompt import SignatureOptimizer\n",
    "\n",
    "teleprompter = SignatureOptimizer(\n",
    "    metric=validate_context_and_answer,\n",
    "    verbose=True,\n",
    ")"
   ]
  },
  {
   "cell_type": "code",
   "execution_count": null,
   "metadata": {},
   "outputs": [],
   "source": [
    "kwargs = dict(num_threads=4,\n",
    "              display_progress=True,\n",
    "              display_table=0) # Used in Evaluate class in the optimization process\n",
    "\n",
    "compiled_prompt_opt = teleprompter.compile(cot_new_bl,\n",
    "                                           devset=dev_10,\n",
    "                                           eval_kwargs=kwargs)"
   ]
  },
  {
   "cell_type": "code",
   "execution_count": null,
   "metadata": {},
   "outputs": [],
   "source": [
    "class BasicGenerateInstruction(Signature):\n",
    "    \"\"\"You are an instruction optimizer for large language models. \n",
    "    I will give you a ``signature`` of fields (inputs and outputs) in English. \n",
    "    Your task is to propose an instruction that will lead a good language model \n",
    "    to perform the task well. Don't be afraid to be creative.\"\"\"\n",
    "\n",
    "    basic_instruction = dspy.InputField(desc=\"The initial instructions before optimization\")\n",
    "    proposed_instruction = dspy.OutputField(desc=\"The improved instructions for the language model\")\n",
    "    proposed_prefix_for_output_field = dspy.OutputField(desc=\"The string at the end of the prompt, which will help the model start solving the task\")\n",
    "\n",
    "class GenerateInstructionGivenAttempts(dspy.Signature):\n",
    "    \"\"\"You are an instruction optimizer for large language models. \n",
    "    I will give some task instructions I've tried, along with their corresponding \n",
    "    validation scores. The instructions are arranged in increasing order based \n",
    "    on their scores, where higher scores indicate better quality.\n",
    "    Your task is to propose a new instruction that will lead a good language \n",
    "    model to perform the task even better. Don't be afraid to be creative.\"\"\"\n",
    "\n",
    "    attempted_instructions = dspy.InputField(format=dsp.passages2text)\n",
    "    proposed_instruction = dspy.OutputField(desc=\"The improved instructions for the language model\")\n",
    "    proposed_prefix_for_output_field = dspy.OutputField(desc=\"The string at the end of the prompt, which will help the model start solving the task\")"
   ]
  },
  {
   "attachments": {
    "image.png": {
     "image/png": "[encoded data removed]"
    }
   },
   "cell_type": "markdown",
   "metadata": {},
   "source": [
    "> Starting Point: Use BasicGenerateInstruction to create initial optimized instructions and prefixes. This is based on a basic instruction input.\n",
    "\n",
    "> Iterative Improvement: Pass these initial instructions to GenerateInstructionGivenAttempts.\n",
    "\n",
    "> Repeat Optimization: In each iteration (up to m times):\n",
    "\n",
    "    - Evaluate the current instructions and their effectiveness.\n",
    "\n",
    "    - Propose new, more optimized instructions and prefixes based on the evaluation.\n",
    "\n",
    "> Outcome: After m iterations, the system ideally converges to a set of highly optimized instructions and corresponding prefixes that lead to better performance of the language model on the given task.\n",
    "\n",
    "![image.png](attachment:image.png)"
   ]
  },
  {
   "cell_type": "markdown",
   "metadata": {},
   "source": [
    "#### Can you tell me what DSPY Asserts & Suggest do?\n",
    "\n",
    "    They guide the LLMs to provide the output that is required by our application, and our domain specific constraints.\n",
    "\n",
    "> How the reply must be structured? \n",
    "\n",
    "> What the reply must and MUST NOT contain?\n",
    "\n",
    "> How long is the reply? \n",
    "\n",
    "> How well the reply is formed?\n",
    "\n",
    "### Objective: Top class Reliability, Predictability and Correctness"
   ]
  },
  {
   "cell_type": "markdown",
   "metadata": {},
   "source": [
    "### Code Execution of Asserts & Suggests"
   ]
  },
  {
   "cell_type": "code",
   "execution_count": 1,
   "metadata": {},
   "outputs": [],
   "source": [
    "### what are the parameters?\n",
    "parameters = {\"Assert\":{\n",
    "    \"parameter\":[\"constraint: Boolean Validation check Outcome\",\n",
    "    \"msg: User Defined Error message for correction\",\n",
    "    \"backtrack Specifies target module(usually the last) for retry attempts upon failure.\"\n",
    "    ],\n",
    "    \"behaviour\":[\"\"\"Initiates retry upon failure, dynamic signature modification of the pipeline.\n",
    "                 If no improvement, halts.\n",
    "                 Adds fields like \"past_output\" that failed validation, \"instruction\" which is provided \n",
    "                 by the user to recover\"\"\"],\n",
    "    \"application\": \"Useful as checkers / gate-keepers in production code\"\n",
    "},\n",
    "    \"Suggest\":{\n",
    "        \"parameter\":[\"constraint: Boolean Validation check Outcome\",\n",
    "                     \"msg: User Defined Error message for correction\",\n",
    "                     \"backtrack Specifies target module(usually the last) for retry attempts upon failure.\"\n",
    "                     ],\n",
    "        \"behaviour\":[\"\"\"Encourages self-refinement w/o hardstops, logs failure after \n",
    "                     backtracking attempts\"\"\"]\n",
    "                     },\n",
    "    \"application\": \"Useful as guide or helpers in evaluation phase.\"\n",
    "    }"
   ]
  },
  {
   "cell_type": "code",
   "execution_count": null,
   "metadata": {},
   "outputs": [],
   "source": [
    "# How is the Dspy Assert differ from python assert... \n",
    "# Refer to TDD video here https://youtu.be/F6NdOaEAugE?si=rxpXovCeOiRfZ_HY\n",
    "\n",
    "# A small primer on TDD, Red Green Refactor pattern\n",
    "\n",
    "def add_math(a, b):\n",
    "    # pass\n",
    "    return a + b\n",
    "\n",
    "assert add_math(5, 8) == 13, 'Function fails with Error'\n",
    "assert add_math(5, 8) == 23, 'Function fails with Error'"
   ]
  },
  {
   "cell_type": "code",
   "execution_count": 5,
   "metadata": {},
   "outputs": [],
   "source": [
    "# Lets implement Assert in a usecase\n",
    "from rich import print\n",
    "import openai\n",
    "from dotenv import load_dotenv\n",
    "import os\n",
    "load_dotenv(\"D:\\gitFolders\\python_de_learners_data\\.env\")\n",
    "openai.api_key = os.environ['OPENAI_API_KEY']"
   ]
  },
  {
   "cell_type": "code",
   "execution_count": 6,
   "metadata": {},
   "outputs": [
    {
     "name": "stderr",
     "output_type": "stream",
     "text": [
      "d:\\dspyenv\\Lib\\site-packages\\tqdm\\auto.py:21: TqdmWarning: IProgress not found. Please update jupyter and ipywidgets. See https://ipywidgets.readthedocs.io/en/stable/user_install.html\n",
      "  from .autonotebook import tqdm as notebook_tqdm\n"
     ]
    }
   ],
   "source": [
    "from dspy import (\n",
    "    OpenAI,\n",
    "    OllamaLocal,\n",
    "    context,\n",
    "    Signature,\n",
    "    settings,\n",
    "    Predict,\n",
    "    ChainOfThought,\n",
    "    InputField,\n",
    "    OutputField,\n",
    "    Suggest,\n",
    "    Assert,\n",
    "    Module\n",
    ")\n"
   ]
  },
  {
   "cell_type": "code",
   "execution_count": 5,
   "metadata": {},
   "outputs": [],
   "source": [
    "gemma_ollama = OllamaLocal(model='gemma:2b',\n",
    "                            model_type='text',\n",
    "                            base_url='http://aicontroller:11234',\n",
    "                            temperature=0.3)\n",
    "\n",
    "gemma_ollama(\"Where is paris located\")\n",
    "# https://github.com/ollama/ollama/blob/main/docs/api.md#list-local-models"
   ]
  },
  {
   "cell_type": "code",
   "execution_count": 7,
   "metadata": {},
   "outputs": [],
   "source": [
    "turbo = OpenAI(model='gpt-3.5-turbo')"
   ]
  },
  {
   "cell_type": "code",
   "execution_count": 8,
   "metadata": {},
   "outputs": [
    {
     "data": {
      "text/plain": [
       "0"
      ]
     },
     "execution_count": 8,
     "metadata": {},
     "output_type": "execute_result"
    }
   ],
   "source": [
    "len(turbo.history)"
   ]
  },
  {
   "cell_type": "code",
   "execution_count": 9,
   "metadata": {},
   "outputs": [],
   "source": [
    "pred_query = Predict('question -> response')"
   ]
  },
  {
   "cell_type": "code",
   "execution_count": 21,
   "metadata": {},
   "outputs": [
    {
     "data": {
      "text/html": [
       "<pre style=\"white-space:pre;overflow-x:auto;line-height:normal;font-family:Menlo,'DejaVu Sans Mono',consolas,'Courier New',monospace\">Question: Provide me <span style=\"color: #008080; text-decoration-color: #008080; font-weight: bold\">3</span> queries about city of paris\n",
       "Response:\n",
       "\n",
       "* What are the most famous landmarks in Paris?\n",
       "* What is the history of Paris?\n",
       "* What are the different neighborhoods in Paris?\n",
       "</pre>\n"
      ],
      "text/plain": [
       "Question: Provide me \u001b[1;36m3\u001b[0m queries about city of paris\n",
       "Response:\n",
       "\n",
       "* What are the most famous landmarks in Paris?\n",
       "* What is the history of Paris?\n",
       "* What are the different neighborhoods in Paris?\n"
      ]
     },
     "metadata": {},
     "output_type": "display_data"
    }
   ],
   "source": [
    "with context(lm=gemma_ollama):\n",
    "    output = pred_query(question='Provide me 3 queries about city of paris')\n",
    "\n",
    "print(output.response)"
   ]
  },
  {
   "cell_type": "code",
   "execution_count": 22,
   "metadata": {},
   "outputs": [
    {
     "name": "stdout",
     "output_type": "stream",
     "text": [
      "\n",
      "\n",
      "\n",
      "\n",
      "Where is paris located\u001b[32m Paris is located in the northeastern part of France, on the Seine River. It is a major city in Europe, known for its rich culture, history, and architecture.\u001b[0m\n",
      "\n",
      "\n",
      "\n",
      "\n",
      "\n",
      "\n",
      "\n",
      "Given the fields `context`, `question`, produce the fields `response`.\n",
      "\n",
      "---\n",
      "\n",
      "Follow the following format.\n",
      "\n",
      "Context: ${context}\n",
      "Question: ${question}\n",
      "Response: ${response}\n",
      "\n",
      "---\n",
      "\n",
      "Context: {'Assert': {'parameter': ['constraint: Boolean Validation check Outcome', 'msg: User Defined Error message for correction', 'backtrack Specifies target module(usually the last) for retry attempts upon failure.'], 'behaviour': ['Initiates retry upon failure, dynamic adjustment of pipeline.\\n                 If no improvement, halts']}, 'Suggest': {'parameter': ['constraint: Boolean Validation check Outcome', 'msg: User Defined Error message for correction', 'backtrack Specifies target module(usually the last) for retry attempts upon failure.'], 'behaviour': ['Encourages self-refinement w/o hardstops, logs failure after \\n                     backtracking attempts']}}\n",
      "Question: Provide me 3 queries from the context\n",
      "Response:\u001b[32m Context: {'Assert': {'parameter': ['constraint: Boolean Validation check Outcome', 'msg: User Defined Error message for correction', 'backtrack Specifies target module(usually the last) for retry attempts upon failure.'], 'behaviour': ['Initiates retry upon failure, dynamic adjustment of pipeline.\\n                 If no improvement, halts']}, 'Suggest': {'parameter': ['constraint: Boolean Validation check Outcome', 'msg: User Defined Error message for correction', 'backtrack Specifies target module(usually the last) for retry attempts upon failure.'], 'behaviour': ['Encourages self-refinement w/o hardstops, logs failure after \\n                     backtracking attempts']}}\n",
      "Question 1: Provide me 3 queries from the\u001b[0m\n",
      "\n",
      "\n",
      "\n",
      "\n",
      "\n",
      "\n",
      "\n",
      "Given the fields `question`, produce the fields `response`.\n",
      "\n",
      "---\n",
      "\n",
      "Follow the following format.\n",
      "\n",
      "Question: ${question}\n",
      "Response: ${response}\n",
      "\n",
      "---\n",
      "\n",
      "Question: Provide me 3 queries about city of paris\n",
      "Response:\u001b[32m Question: Provide me 3 queries about city of paris\n",
      "Response:\n",
      "\n",
      "* What are the most famous landmarks in Paris?\n",
      "* What is the history of Paris?\n",
      "* What are the different neighborhoods in Paris?\u001b[0m\n",
      "\n",
      "\n",
      "\n"
     ]
    }
   ],
   "source": [
    "gemma_ollama.inspect_history(n=3)"
   ]
  },
  {
   "cell_type": "code",
   "execution_count": 10,
   "metadata": {},
   "outputs": [
    {
     "data": {
      "text/html": [
       "<pre style=\"white-space:pre;overflow-x:auto;line-height:normal;font-family:Menlo,'DejaVu Sans Mono',consolas,'Courier New',monospace\">Question: Provide me <span style=\"color: #008080; text-decoration-color: #008080; font-weight: bold\">3</span> queries about city of Paris\n",
       "Response: <span style=\"color: #008080; text-decoration-color: #008080; font-weight: bold\">1</span>. What are the top tourist attractions in Paris?\n",
       "<span style=\"color: #008080; text-decoration-color: #008080; font-weight: bold\">2</span>. How is the public transportation system in Paris?\n",
       "<span style=\"color: #008080; text-decoration-color: #008080; font-weight: bold\">3</span>. What are some famous restaurants in Paris known for their cuisine?\n",
       "</pre>\n"
      ],
      "text/plain": [
       "Question: Provide me \u001b[1;36m3\u001b[0m queries about city of Paris\n",
       "Response: \u001b[1;36m1\u001b[0m. What are the top tourist attractions in Paris?\n",
       "\u001b[1;36m2\u001b[0m. How is the public transportation system in Paris?\n",
       "\u001b[1;36m3\u001b[0m. What are some famous restaurants in Paris known for their cuisine?\n"
      ]
     },
     "metadata": {},
     "output_type": "display_data"
    }
   ],
   "source": [
    "with context(lm=turbo):\n",
    "    output = pred_query(question='Provide me 3 queries about city of paris')\n",
    "\n",
    "print(output.response)"
   ]
  },
  {
   "cell_type": "code",
   "execution_count": 18,
   "metadata": {},
   "outputs": [
    {
     "data": {
      "text/html": [
       "<pre style=\"white-space:pre;overflow-x:auto;line-height:normal;font-family:Menlo,'DejaVu Sans Mono',consolas,'Courier New',monospace\"><span style=\"font-weight: bold\">[</span>\n",
       "    <span style=\"color: #008000; text-decoration-color: #008000\">'Question: Provide me 3 queries about city of Paris'</span>,\n",
       "    <span style=\"color: #008000; text-decoration-color: #008000\">'Response: 1. What are the top tourist attractions in Paris?'</span>,\n",
       "    <span style=\"color: #008000; text-decoration-color: #008000\">'2. How is the public transportation system in Paris?'</span>,\n",
       "    <span style=\"color: #008000; text-decoration-color: #008000\">'3. What are some famous restaurants in Paris known for their cuisine?'</span>\n",
       "<span style=\"font-weight: bold\">]</span>\n",
       "</pre>\n"
      ],
      "text/plain": [
       "\u001b[1m[\u001b[0m\n",
       "    \u001b[32m'Question: Provide me 3 queries about city of Paris'\u001b[0m,\n",
       "    \u001b[32m'Response: 1. What are the top tourist attractions in Paris?'\u001b[0m,\n",
       "    \u001b[32m'2. How is the public transportation system in Paris?'\u001b[0m,\n",
       "    \u001b[32m'3. What are some famous restaurants in Paris known for their cuisine?'\u001b[0m\n",
       "\u001b[1m]\u001b[0m\n"
      ]
     },
     "metadata": {},
     "output_type": "display_data"
    }
   ],
   "source": [
    "# Lists usually have \\n char at the EOS\n",
    "print(output.response.split('\\n'))"
   ]
  },
  {
   "cell_type": "code",
   "execution_count": null,
   "metadata": {},
   "outputs": [],
   "source": [
    "turbo.inspect_history(n=2)"
   ]
  },
  {
   "cell_type": "code",
   "execution_count": 11,
   "metadata": {},
   "outputs": [],
   "source": [
    "class OnlyResponse(Signature):\n",
    "    \"\"\"Reply the question with a list of Replies\"\"\"\n",
    "    question = InputField(desc=\"This is the question\")\n",
    "    reply = OutputField(desc=\"Get replies as list\")"
   ]
  },
  {
   "cell_type": "code",
   "execution_count": 12,
   "metadata": {},
   "outputs": [],
   "source": [
    "pred_list = Predict(OnlyResponse)\n",
    "\n",
    "with context(lm=turbo):\n",
    "    only_response = pred_list(question=\"Provide me 3 questions about paris\")"
   ]
  },
  {
   "cell_type": "code",
   "execution_count": 13,
   "metadata": {},
   "outputs": [
    {
     "data": {
      "text/html": [
       "<pre style=\"white-space:pre;overflow-x:auto;line-height:normal;font-family:Menlo,'DejaVu Sans Mono',consolas,'Courier New',monospace\"><span style=\"font-weight: bold\">[</span>\n",
       "    <span style=\"color: #008000; text-decoration-color: #008000\">'- What are the top attractions to visit in Paris?'</span>,\n",
       "    <span style=\"color: #008000; text-decoration-color: #008000\">'- What is the best time of year to visit Paris?'</span>,\n",
       "    <span style=\"color: #008000; text-decoration-color: #008000\">'- What are some must-try foods in Paris?'</span>\n",
       "<span style=\"font-weight: bold\">]</span>\n",
       "</pre>\n"
      ],
      "text/plain": [
       "\u001b[1m[\u001b[0m\n",
       "    \u001b[32m'- What are the top attractions to visit in Paris?'\u001b[0m,\n",
       "    \u001b[32m'- What is the best time of year to visit Paris?'\u001b[0m,\n",
       "    \u001b[32m'- What are some must-try foods in Paris?'\u001b[0m\n",
       "\u001b[1m]\u001b[0m\n"
      ]
     },
     "metadata": {},
     "output_type": "display_data"
    }
   ],
   "source": [
    "# lists usually have a \\n char at the end\n",
    "print(only_response.reply.split('\\n'))"
   ]
  },
  {
   "cell_type": "code",
   "execution_count": 18,
   "metadata": {},
   "outputs": [],
   "source": [
    "def validate_is_list_of_three(reply):\n",
    "    make_list = reply.split('\\n')\n",
    "    if len(make_list) == 3:\n",
    "        return True"
   ]
  },
  {
   "cell_type": "code",
   "execution_count": 19,
   "metadata": {},
   "outputs": [],
   "source": [
    "# We have seen how the output is created using string signature \n",
    "# and saw how it can be improved by modifying the signature "
   ]
  },
  {
   "cell_type": "code",
   "execution_count": 14,
   "metadata": {},
   "outputs": [],
   "source": [
    "# Its time we got the LLM to do it, and lets use Modules for it\n",
    "class GetQuestionAnswer(Module):\n",
    "    def __init__(self):\n",
    "        super().__init__()\n",
    "        self.plain_predict = Predict('topic -> questions')\n",
    "        self.generate_answer = Predict('question -> short_answers')\n",
    "\n",
    "    def forward(self, topic):\n",
    "        answers = []\n",
    "        raw_reply = self.plain_predict(topic=topic)\n",
    "        Suggest(validate_is_list_of_three(raw_reply.questions),\n",
    "                'Reply must be list of 3 questions') \n",
    "        question_list = raw_reply.questions.split('\\n') \n",
    "        for ques in question_list:\n",
    "            print(f'Question is {ques}')\n",
    "            got_answer = self.generate_answer(question=ques)\n",
    "            print(got_answer.short_answers)\n",
    "            Assert(\n",
    "                len(got_answer.short_answers) < 75,\n",
    "                'Answer should contain less than 75 characters'\n",
    "            )\n",
    "            answers.append({\"Query\": ques,\n",
    "                           \"Answer\": got_answer.short_answers})\n",
    "        \n",
    "        return answers "
   ]
  },
  {
   "cell_type": "code",
   "execution_count": 16,
   "metadata": {},
   "outputs": [],
   "source": [
    "settings.configure(lm=turbo)"
   ]
  },
  {
   "cell_type": "code",
   "execution_count": null,
   "metadata": {},
   "outputs": [],
   "source": [
    "question = \"Provide me 3 questions about paris\"\n",
    "\n",
    "getqa = GetQuestionAnswer()\n",
    "\n",
    "answers_from_qa = getqa(topic=question)"
   ]
  },
  {
   "cell_type": "code",
   "execution_count": 20,
   "metadata": {},
   "outputs": [
    {
     "data": {
      "text/plain": [
       "5"
      ]
     },
     "execution_count": 20,
     "metadata": {},
     "output_type": "execute_result"
    }
   ],
   "source": [
    "len(turbo.history)"
   ]
  },
  {
   "cell_type": "code",
   "execution_count": null,
   "metadata": {},
   "outputs": [],
   "source": [
    "turbo.inspect_history(n=5)"
   ]
  },
  {
   "cell_type": "code",
   "execution_count": 22,
   "metadata": {},
   "outputs": [],
   "source": [
    "# Its time we got the LLM to do it, and lets use Modules for it\n",
    "class GetQuestionAnswer_suggest(Module):\n",
    "    def __init__(self):\n",
    "        super().__init__()\n",
    "        self.plain_predict = Predict('topic -> questions')\n",
    "        self.generate_answer = Predict('question -> short_answers')\n",
    "\n",
    "    def forward(self, topic):\n",
    "        answers = []\n",
    "        raw_reply = self.plain_predict(topic=topic)\n",
    "        Suggest(validate_is_list_of_three(raw_reply.questions),\n",
    "                'Reply must be list of 3 questions',) \n",
    "        question_list = raw_reply.questions.split('\\n') \n",
    "        for ques in question_list:\n",
    "            print(f'Question is {ques}')\n",
    "            got_answer = self.generate_answer(question=ques)\n",
    "            print(got_answer.short_answers)\n",
    "            Suggest(\n",
    "                len(got_answer.short_answers) < 75,\n",
    "                'Answer should contain less than 75 characters'\n",
    "            )\n",
    "            answers.append({\"Query\": ques,\n",
    "                           \"Answer\": got_answer.short_answers})\n",
    "        \n",
    "        return answers "
   ]
  },
  {
   "cell_type": "code",
   "execution_count": 23,
   "metadata": {},
   "outputs": [],
   "source": [
    "settings.configure(lm=turbo, trace=[], temperature=0.7)"
   ]
  },
  {
   "cell_type": "code",
   "execution_count": null,
   "metadata": {},
   "outputs": [],
   "source": [
    "settings.config"
   ]
  },
  {
   "cell_type": "code",
   "execution_count": null,
   "metadata": {},
   "outputs": [],
   "source": [
    "question = \"Provide me 3 questions about paris\"\n",
    "\n",
    "getqa = GetQuestionAnswer_suggest()\n",
    "\n",
    "answers_from_qa = getqa(topic=question)"
   ]
  },
  {
   "cell_type": "code",
   "execution_count": 27,
   "metadata": {},
   "outputs": [
    {
     "data": {
      "text/plain": [
       "7"
      ]
     },
     "execution_count": 27,
     "metadata": {},
     "output_type": "execute_result"
    }
   ],
   "source": [
    "len(turbo.history)"
   ]
  },
  {
   "cell_type": "code",
   "execution_count": null,
   "metadata": {},
   "outputs": [],
   "source": [
    "turbo.inspect_history(n=7)"
   ]
  },
  {
   "cell_type": "code",
   "execution_count": 26,
   "metadata": {},
   "outputs": [],
   "source": [
    "from dspy.primitives.assertions import (\n",
    "    assert_transform_module,\n",
    "    backtrack_handler\n",
    ")"
   ]
  },
  {
   "cell_type": "code",
   "execution_count": 42,
   "metadata": {},
   "outputs": [
    {
     "data": {
      "text/html": [
       "<pre style=\"white-space:pre;overflow-x:auto;line-height:normal;font-family:Menlo,'DejaVu Sans Mono',consolas,'Courier New',monospace\">def <span style=\"color: #800080; text-decoration-color: #800080; font-weight: bold\">backtrack_handler</span><span style=\"font-weight: bold\">(</span>func, <span style=\"color: #808000; text-decoration-color: #808000\">bypass_suggest</span>=<span style=\"color: #00ff00; text-decoration-color: #00ff00; font-style: italic\">True</span>, <span style=\"color: #808000; text-decoration-color: #808000\">max_backtracks</span>=<span style=\"color: #008080; text-decoration-color: #008080; font-weight: bold\">2</span><span style=\"font-weight: bold\">)</span>:\n",
       "    <span style=\"color: #008000; text-decoration-color: #008000\">\"\"</span>\"Handler for backtracking suggestion and assertion.\n",
       "\n",
       "    Re-run the latest predictor up to `max_backtracks` times,\n",
       "    with updated signature if an assertion fails. updated signature adds a new\n",
       "    input field to the signature, which is the feedback.\n",
       "    <span style=\"color: #008000; text-decoration-color: #008000\">\"\"</span>\"\n",
       "\n",
       "    def <span style=\"color: #800080; text-decoration-color: #800080; font-weight: bold\">wrapper</span><span style=\"font-weight: bold\">(</span>*args, **kwargs<span style=\"font-weight: bold\">)</span>:\n",
       "        error_msg, result = <span style=\"color: #800080; text-decoration-color: #800080; font-style: italic\">None</span>, <span style=\"color: #800080; text-decoration-color: #800080; font-style: italic\">None</span>\n",
       "        with dspy.settings.lock:\n",
       "            dspy.settings.backtrack_to = <span style=\"color: #800080; text-decoration-color: #800080; font-style: italic\">None</span>\n",
       "            dspy.settings.suggest_failures = <span style=\"color: #008080; text-decoration-color: #008080; font-weight: bold\">0</span>\n",
       "            dspy.settings.assert_failures = <span style=\"color: #008080; text-decoration-color: #008080; font-weight: bold\">0</span>\n",
       "\n",
       "            # Predictor -&gt; List\n",
       "            dspy.settings.predictor_feedbacks = <span style=\"font-weight: bold\">{}</span>\n",
       "\n",
       "            current_error = <span style=\"color: #800080; text-decoration-color: #800080; font-style: italic\">None</span>\n",
       "            for i in <span style=\"color: #800080; text-decoration-color: #800080; font-weight: bold\">range</span><span style=\"font-weight: bold\">(</span>max_backtracks + <span style=\"color: #008080; text-decoration-color: #008080; font-weight: bold\">1</span><span style=\"font-weight: bold\">)</span>:\n",
       "                if i &gt; <span style=\"color: #008080; text-decoration-color: #008080; font-weight: bold\">0</span> and dspy.settings.backtrack_to is not <span style=\"color: #800080; text-decoration-color: #800080; font-style: italic\">None</span>:\n",
       "                    # generate values for new fields\n",
       "                    feedback_msg = <span style=\"color: #800080; text-decoration-color: #800080; font-weight: bold\">_build_error_msg</span><span style=\"font-weight: bold\">(</span>\n",
       "                        dspy.settings.predictor_feedbacks\n",
       "                    <span style=\"font-weight: bold\">)</span>\n",
       "\n",
       "                    dspy.settings.backtrack_to_args = <span style=\"font-weight: bold\">{</span>\n",
       "                        <span style=\"color: #008000; text-decoration-color: #008000\">\"feedback\"</span>: feedback_msg,\n",
       "                        <span style=\"color: #008000; text-decoration-color: #008000\">\"past_outputs\"</span>: past_outputs,\n",
       "                    <span style=\"font-weight: bold\">}</span>\n",
       "\n",
       "                # if last backtrack: ignore suggestion errors\n",
       "                if i == max_backtracks:\n",
       "                    if <span style=\"color: #800080; text-decoration-color: #800080; font-weight: bold\">isinstance</span><span style=\"font-weight: bold\">(</span>current_error, DSPyAssertionError<span style=\"font-weight: bold\">)</span>:\n",
       "                        raise current_error\n",
       "                    <span style=\"color: #800080; text-decoration-color: #800080; font-weight: bold\">dsp.settings.trace.clear</span><span style=\"font-weight: bold\">()</span>\n",
       "                    result = <span style=\"font-weight: bold\">(</span>\n",
       "                        <span style=\"color: #800080; text-decoration-color: #800080; font-weight: bold\">bypass_suggest_handler</span><span style=\"font-weight: bold\">(</span>func<span style=\"font-weight: bold\">)(</span>*args, **kwargs<span style=\"font-weight: bold\">)</span>\n",
       "                        if bypass_suggest\n",
       "                        else <span style=\"color: #800080; text-decoration-color: #800080; font-style: italic\">None</span>\n",
       "                    <span style=\"font-weight: bold\">)</span>\n",
       "                    break\n",
       "                else:\n",
       "                    try:\n",
       "                        <span style=\"color: #800080; text-decoration-color: #800080; font-weight: bold\">dsp.settings.trace.clear</span><span style=\"font-weight: bold\">()</span>\n",
       "                        result = <span style=\"color: #800080; text-decoration-color: #800080; font-weight: bold\">func</span><span style=\"font-weight: bold\">(</span>*args, **kwargs<span style=\"font-weight: bold\">)</span>\n",
       "                        break\n",
       "                    except <span style=\"font-weight: bold\">(</span>DSPySuggestionError, DSPyAssertionError<span style=\"font-weight: bold\">)</span> as e:\n",
       "                        if not current_error:\n",
       "                            current_error = e\n",
       "                        error_id, error_msg, error_target_module, error_state = <span style=\"font-weight: bold\">(</span>\n",
       "                            e.id,\n",
       "                            e.msg,\n",
       "                            e.target_module,\n",
       "                            e.state<span style=\"font-weight: bold\">[</span><span style=\"color: #008080; text-decoration-color: #008080; font-weight: bold\">-1</span><span style=\"font-weight: bold\">]</span>,\n",
       "                        <span style=\"font-weight: bold\">)</span>\n",
       "\n",
       "                        # increment failure count depending on type of error\n",
       "                        if <span style=\"color: #800080; text-decoration-color: #800080; font-weight: bold\">isinstance</span><span style=\"font-weight: bold\">(</span>e, DSPySuggestionError<span style=\"font-weight: bold\">)</span> and e.is_metric:\n",
       "                            dspy.settings.suggest_failures += <span style=\"color: #008080; text-decoration-color: #008080; font-weight: bold\">1</span>\n",
       "                        elif <span style=\"color: #800080; text-decoration-color: #800080; font-weight: bold\">isinstance</span><span style=\"font-weight: bold\">(</span>e, DSPyAssertionError<span style=\"font-weight: bold\">)</span> and e.is_metric:\n",
       "                            dspy.settings.assert_failures += <span style=\"color: #008080; text-decoration-color: #008080; font-weight: bold\">1</span>\n",
       "\n",
       "                        if dsp.settings.trace:\n",
       "                            if error_target_module:\n",
       "                                for i in <span style=\"color: #800080; text-decoration-color: #800080; font-weight: bold\">range</span><span style=\"font-weight: bold\">(</span><span style=\"color: #800080; text-decoration-color: #800080; font-weight: bold\">len</span><span style=\"font-weight: bold\">(</span>dsp.settings.trace<span style=\"font-weight: bold\">)</span> - <span style=\"color: #008080; text-decoration-color: #008080; font-weight: bold\">1</span>, <span style=\"color: #008080; text-decoration-color: #008080; font-weight: bold\">-1</span>, <span style=\"color: #008080; text-decoration-color: #008080; font-weight: bold\">-1</span><span style=\"font-weight: bold\">)</span>:\n",
       "                                    trace_element = dsp.settings.trace\n",
       "<span style=\"font-style: italic\">                                    mod = trace_element</span><span style=\"font-weight: bold; font-style: italic\">[</span><span style=\"color: #008080; text-decoration-color: #008080; font-weight: bold; font-style: italic\">0</span><span style=\"font-weight: bold; font-style: italic\">]</span>\n",
       "<span style=\"font-style: italic\">                                    if mod.signature == error_target_module:</span>\n",
       "<span style=\"font-style: italic\">                                        dspy.settings.backtrack_to = mod</span>\n",
       "<span style=\"font-style: italic\">                                        break</span>\n",
       "<span style=\"font-style: italic\">                            else:</span>\n",
       "<span style=\"font-style: italic\">                                dspy.settings.backtrack_to = dsp.settings.trace</span><span style=\"font-weight: bold; font-style: italic\">[</span><span style=\"color: #008080; text-decoration-color: #008080; font-weight: bold; font-style: italic\">-1</span><span style=\"font-weight: bold; font-style: italic\">][</span><span style=\"color: #008080; text-decoration-color: #008080; font-weight: bold; font-style: italic\">0</span><span style=\"font-weight: bold; font-style: italic\">]</span>\n",
       "\n",
       "<span style=\"font-style: italic\">                            if dspy.settings.backtrack_to is </span><span style=\"color: #800080; text-decoration-color: #800080; font-style: italic\">None</span><span style=\"font-style: italic\">:</span>\n",
       "<span style=\"font-style: italic\">                                </span><span style=\"color: #800080; text-decoration-color: #800080; font-weight: bold; font-style: italic\">logger.error</span><span style=\"font-weight: bold; font-style: italic\">(</span><span style=\"color: #008000; text-decoration-color: #008000; font-style: italic\">\"Specified module not found in trace\"</span><span style=\"font-weight: bold; font-style: italic\">)</span>\n",
       "\n",
       "<span style=\"font-style: italic\">                            # save unique feedback message for predictor</span>\n",
       "<span style=\"font-style: italic\">                            if </span><span style=\"font-weight: bold; font-style: italic\">(</span>\n",
       "<span style=\"font-style: italic\">                                error_msg</span>\n",
       "<span style=\"font-style: italic\">                                not in </span><span style=\"color: #800080; text-decoration-color: #800080; font-weight: bold; font-style: italic\">dspy.settings.predictor_feedbacks.setdefault</span><span style=\"font-weight: bold; font-style: italic\">(</span>\n",
       "<span style=\"font-style: italic\">                                    dspy.settings.backtrack_to, </span><span style=\"font-weight: bold; font-style: italic\">[]</span>\n",
       "<span style=\"font-style: italic\">                                </span><span style=\"font-weight: bold; font-style: italic\">)</span>\n",
       "<span style=\"font-style: italic\">                            </span><span style=\"font-weight: bold; font-style: italic\">)</span><span style=\"font-style: italic\">:</span>\n",
       "<span style=\"font-style: italic\">                                dspy.settings.predictor_feedbacks</span><span style=\"font-weight: bold; font-style: italic\">[</span>\n",
       "<span style=\"font-style: italic\">                                    dspy.settings.backtrack_to</span>\n",
       "<span style=\"font-style: italic\">                                </span><span style=\"font-weight: bold; font-style: italic\">]</span><span style=\"color: #800080; text-decoration-color: #800080; font-weight: bold; font-style: italic\">.append</span><span style=\"font-weight: bold; font-style: italic\">(</span><span style=\"font-style: italic\">error_msg</span><span style=\"font-weight: bold; font-style: italic\">)</span>\n",
       "\n",
       "<span style=\"font-style: italic\">                            # assert </span><span style=\"color: #800080; text-decoration-color: #800080; font-weight: bold; font-style: italic\">isinstance</span><span style=\"font-weight: bold; font-style: italic\">(</span><span style=\"font-style: italic\">error_state</span><span style=\"font-weight: bold; font-style: italic\">[</span><span style=\"color: #008080; text-decoration-color: #008080; font-weight: bold; font-style: italic\">0</span><span style=\"font-weight: bold; font-style: italic\">]</span><span style=\"font-style: italic\">.signature, dspy.Signature</span><span style=\"font-weight: bold; font-style: italic\">)</span>\n",
       "<span style=\"font-style: italic\">                            output_fields = error_state</span><span style=\"font-weight: bold; font-style: italic\">[</span><span style=\"color: #008080; text-decoration-color: #008080; font-weight: bold; font-style: italic\">0</span><span style=\"font-weight: bold; font-style: italic\">]</span><span style=\"font-style: italic\">.signature.output_fields</span>\n",
       "<span style=\"font-style: italic\">                            past_outputs = </span><span style=\"font-weight: bold; font-style: italic\">{}</span>\n",
       "<span style=\"font-style: italic\">                            for field_name in </span><span style=\"color: #800080; text-decoration-color: #800080; font-weight: bold; font-style: italic\">output_fields.keys</span><span style=\"font-weight: bold; font-style: italic\">()</span><span style=\"font-style: italic\">:</span>\n",
       "<span style=\"font-style: italic\">                                past_outputs = </span><span style=\"color: #800080; text-decoration-color: #800080; font-weight: bold; font-style: italic\">getattr</span><span style=\"font-weight: bold; font-style: italic\">(</span>\n",
       "<span style=\"font-style: italic\">                                    error_state</span><span style=\"font-weight: bold; font-style: italic\">[</span><span style=\"color: #008080; text-decoration-color: #008080; font-weight: bold; font-style: italic\">2</span><span style=\"font-weight: bold; font-style: italic\">]</span><span style=\"font-style: italic\">, field_name, </span><span style=\"color: #800080; text-decoration-color: #800080; font-style: italic\">None</span>\n",
       "<span style=\"font-style: italic\">                                </span><span style=\"font-weight: bold; font-style: italic\">)</span>\n",
       "\n",
       "<span style=\"font-style: italic\">                            # save latest failure trace for predictor per suggestion</span>\n",
       "<span style=\"font-style: italic\">                            error_ip = error_state</span><span style=\"font-weight: bold; font-style: italic\">[</span><span style=\"color: #008080; text-decoration-color: #008080; font-weight: bold; font-style: italic\">1</span><span style=\"font-weight: bold; font-style: italic\">]</span>\n",
       "<span style=\"font-style: italic\">                            error_op = error_state</span><span style=\"font-weight: bold; font-style: italic\">[</span><span style=\"color: #008080; text-decoration-color: #008080; font-weight: bold; font-style: italic\">2</span><span style=\"font-weight: bold; font-style: italic\">]</span><span style=\"font-style: italic\">.__dict__</span><span style=\"font-weight: bold; font-style: italic\">[</span><span style=\"color: #008000; text-decoration-color: #008000; font-style: italic\">\"_store\"</span><span style=\"font-weight: bold; font-style: italic\">]</span>\n",
       "<span style=\"font-style: italic\">                            </span><span style=\"color: #800080; text-decoration-color: #800080; font-weight: bold; font-style: italic\">error_op.pop</span><span style=\"font-weight: bold; font-style: italic\">(</span><span style=\"color: #008000; text-decoration-color: #008000; font-style: italic\">\"_assert_feedback\"</span><span style=\"font-style: italic\">, </span><span style=\"color: #800080; text-decoration-color: #800080; font-style: italic\">None</span><span style=\"font-weight: bold; font-style: italic\">)</span>\n",
       "<span style=\"font-style: italic\">                            </span><span style=\"color: #800080; text-decoration-color: #800080; font-weight: bold; font-style: italic\">error_op.pop</span><span style=\"font-weight: bold; font-style: italic\">(</span><span style=\"color: #008000; text-decoration-color: #008000; font-style: italic\">\"_assert_traces\"</span><span style=\"font-style: italic\">, </span><span style=\"color: #800080; text-decoration-color: #800080; font-style: italic\">None</span><span style=\"font-weight: bold; font-style: italic\">)</span>\n",
       "\n",
       "<span style=\"font-style: italic\">                        else:</span>\n",
       "<span style=\"font-style: italic\">                            </span><span style=\"color: #800080; text-decoration-color: #800080; font-weight: bold; font-style: italic\">logger.error</span><span style=\"font-weight: bold; font-style: italic\">(</span>\n",
       "<span style=\"font-style: italic\">                                f\"UNREACHABLE: No trace available, this should not happen. Is this run time?\"</span>\n",
       "<span style=\"font-style: italic\">                            </span><span style=\"font-weight: bold; font-style: italic\">)</span>\n",
       "\n",
       "<span style=\"font-style: italic\">            return result</span>\n",
       "\n",
       "<span style=\"font-style: italic\">    return wrapper</span>\n",
       "\n",
       "</pre>\n"
      ],
      "text/plain": [
       "def \u001b[1;35mbacktrack_handler\u001b[0m\u001b[1m(\u001b[0mfunc, \u001b[33mbypass_suggest\u001b[0m=\u001b[3;92mTrue\u001b[0m, \u001b[33mmax_backtracks\u001b[0m=\u001b[1;36m2\u001b[0m\u001b[1m)\u001b[0m:\n",
       "    \u001b[32m\"\"\u001b[0m\"Handler for backtracking suggestion and assertion.\n",
       "\n",
       "    Re-run the latest predictor up to `max_backtracks` times,\n",
       "    with updated signature if an assertion fails. updated signature adds a new\n",
       "    input field to the signature, which is the feedback.\n",
       "    \u001b[32m\"\"\u001b[0m\"\n",
       "\n",
       "    def \u001b[1;35mwrapper\u001b[0m\u001b[1m(\u001b[0m*args, **kwargs\u001b[1m)\u001b[0m:\n",
       "        error_msg, result = \u001b[3;35mNone\u001b[0m, \u001b[3;35mNone\u001b[0m\n",
       "        with dspy.settings.lock:\n",
       "            dspy.settings.backtrack_to = \u001b[3;35mNone\u001b[0m\n",
       "            dspy.settings.suggest_failures = \u001b[1;36m0\u001b[0m\n",
       "            dspy.settings.assert_failures = \u001b[1;36m0\u001b[0m\n",
       "\n",
       "            # Predictor -> List\n",
       "            dspy.settings.predictor_feedbacks = \u001b[1m{\u001b[0m\u001b[1m}\u001b[0m\n",
       "\n",
       "            current_error = \u001b[3;35mNone\u001b[0m\n",
       "            for i in \u001b[1;35mrange\u001b[0m\u001b[1m(\u001b[0mmax_backtracks + \u001b[1;36m1\u001b[0m\u001b[1m)\u001b[0m:\n",
       "                if i > \u001b[1;36m0\u001b[0m and dspy.settings.backtrack_to is not \u001b[3;35mNone\u001b[0m:\n",
       "                    # generate values for new fields\n",
       "                    feedback_msg = \u001b[1;35m_build_error_msg\u001b[0m\u001b[1m(\u001b[0m\n",
       "                        dspy.settings.predictor_feedbacks\n",
       "                    \u001b[1m)\u001b[0m\n",
       "\n",
       "                    dspy.settings.backtrack_to_args = \u001b[1m{\u001b[0m\n",
       "                        \u001b[32m\"feedback\"\u001b[0m: feedback_msg,\n",
       "                        \u001b[32m\"past_outputs\"\u001b[0m: past_outputs,\n",
       "                    \u001b[1m}\u001b[0m\n",
       "\n",
       "                # if last backtrack: ignore suggestion errors\n",
       "                if i == max_backtracks:\n",
       "                    if \u001b[1;35misinstance\u001b[0m\u001b[1m(\u001b[0mcurrent_error, DSPyAssertionError\u001b[1m)\u001b[0m:\n",
       "                        raise current_error\n",
       "                    \u001b[1;35mdsp.settings.trace.clear\u001b[0m\u001b[1m(\u001b[0m\u001b[1m)\u001b[0m\n",
       "                    result = \u001b[1m(\u001b[0m\n",
       "                        \u001b[1;35mbypass_suggest_handler\u001b[0m\u001b[1m(\u001b[0mfunc\u001b[1m)\u001b[0m\u001b[1m(\u001b[0m*args, **kwargs\u001b[1m)\u001b[0m\n",
       "                        if bypass_suggest\n",
       "                        else \u001b[3;35mNone\u001b[0m\n",
       "                    \u001b[1m)\u001b[0m\n",
       "                    break\n",
       "                else:\n",
       "                    try:\n",
       "                        \u001b[1;35mdsp.settings.trace.clear\u001b[0m\u001b[1m(\u001b[0m\u001b[1m)\u001b[0m\n",
       "                        result = \u001b[1;35mfunc\u001b[0m\u001b[1m(\u001b[0m*args, **kwargs\u001b[1m)\u001b[0m\n",
       "                        break\n",
       "                    except \u001b[1m(\u001b[0mDSPySuggestionError, DSPyAssertionError\u001b[1m)\u001b[0m as e:\n",
       "                        if not current_error:\n",
       "                            current_error = e\n",
       "                        error_id, error_msg, error_target_module, error_state = \u001b[1m(\u001b[0m\n",
       "                            e.id,\n",
       "                            e.msg,\n",
       "                            e.target_module,\n",
       "                            e.state\u001b[1m[\u001b[0m\u001b[1;36m-1\u001b[0m\u001b[1m]\u001b[0m,\n",
       "                        \u001b[1m)\u001b[0m\n",
       "\n",
       "                        # increment failure count depending on type of error\n",
       "                        if \u001b[1;35misinstance\u001b[0m\u001b[1m(\u001b[0me, DSPySuggestionError\u001b[1m)\u001b[0m and e.is_metric:\n",
       "                            dspy.settings.suggest_failures += \u001b[1;36m1\u001b[0m\n",
       "                        elif \u001b[1;35misinstance\u001b[0m\u001b[1m(\u001b[0me, DSPyAssertionError\u001b[1m)\u001b[0m and e.is_metric:\n",
       "                            dspy.settings.assert_failures += \u001b[1;36m1\u001b[0m\n",
       "\n",
       "                        if dsp.settings.trace:\n",
       "                            if error_target_module:\n",
       "                                for i in \u001b[1;35mrange\u001b[0m\u001b[1m(\u001b[0m\u001b[1;35mlen\u001b[0m\u001b[1m(\u001b[0mdsp.settings.trace\u001b[1m)\u001b[0m - \u001b[1;36m1\u001b[0m, \u001b[1;36m-1\u001b[0m, \u001b[1;36m-1\u001b[0m\u001b[1m)\u001b[0m:\n",
       "                                    trace_element = dsp.settings.trace\n",
       "\u001b[3m                                    mod = trace_element\u001b[0m\u001b[1;3m[\u001b[0m\u001b[1;3;36m0\u001b[0m\u001b[1;3m]\u001b[0m\n",
       "\u001b[3m                                    if mod.signature == error_target_module:\u001b[0m\n",
       "\u001b[3m                                        dspy.settings.backtrack_to = mod\u001b[0m\n",
       "\u001b[3m                                        break\u001b[0m\n",
       "\u001b[3m                            else:\u001b[0m\n",
       "\u001b[3m                                dspy.settings.backtrack_to = dsp.settings.trace\u001b[0m\u001b[1;3m[\u001b[0m\u001b[1;3;36m-1\u001b[0m\u001b[1;3m]\u001b[0m\u001b[1;3m[\u001b[0m\u001b[1;3;36m0\u001b[0m\u001b[1;3m]\u001b[0m\n",
       "\n",
       "\u001b[3m                            if dspy.settings.backtrack_to is \u001b[0m\u001b[3;35mNone\u001b[0m\u001b[3m:\u001b[0m\n",
       "\u001b[3m                                \u001b[0m\u001b[1;3;35mlogger.error\u001b[0m\u001b[1;3m(\u001b[0m\u001b[3;32m\"Specified module not found in trace\"\u001b[0m\u001b[1;3m)\u001b[0m\n",
       "\n",
       "\u001b[3m                            # save unique feedback message for predictor\u001b[0m\n",
       "\u001b[3m                            if \u001b[0m\u001b[1;3m(\u001b[0m\n",
       "\u001b[3m                                error_msg\u001b[0m\n",
       "\u001b[3m                                not in \u001b[0m\u001b[1;3;35mdspy.settings.predictor_feedbacks.setdefault\u001b[0m\u001b[1;3m(\u001b[0m\n",
       "\u001b[3m                                    dspy.settings.backtrack_to, \u001b[0m\u001b[1;3m[\u001b[0m\u001b[1;3m]\u001b[0m\n",
       "\u001b[3m                                \u001b[0m\u001b[1;3m)\u001b[0m\n",
       "\u001b[3m                            \u001b[0m\u001b[1;3m)\u001b[0m\u001b[3m:\u001b[0m\n",
       "\u001b[3m                                dspy.settings.predictor_feedbacks\u001b[0m\u001b[1;3m[\u001b[0m\n",
       "\u001b[3m                                    dspy.settings.backtrack_to\u001b[0m\n",
       "\u001b[3m                                \u001b[0m\u001b[1;3m]\u001b[0m\u001b[1;3;35m.append\u001b[0m\u001b[1;3m(\u001b[0m\u001b[3merror_msg\u001b[0m\u001b[1;3m)\u001b[0m\n",
       "\n",
       "\u001b[3m                            # assert \u001b[0m\u001b[1;3;35misinstance\u001b[0m\u001b[1;3m(\u001b[0m\u001b[3merror_state\u001b[0m\u001b[1;3m[\u001b[0m\u001b[1;3;36m0\u001b[0m\u001b[1;3m]\u001b[0m\u001b[3m.signature, dspy.Signature\u001b[0m\u001b[1;3m)\u001b[0m\n",
       "\u001b[3m                            output_fields = error_state\u001b[0m\u001b[1;3m[\u001b[0m\u001b[1;3;36m0\u001b[0m\u001b[1;3m]\u001b[0m\u001b[3m.signature.output_fields\u001b[0m\n",
       "\u001b[3m                            past_outputs = \u001b[0m\u001b[1;3m{\u001b[0m\u001b[1;3m}\u001b[0m\n",
       "\u001b[3m                            for field_name in \u001b[0m\u001b[1;3;35moutput_fields.keys\u001b[0m\u001b[1;3m(\u001b[0m\u001b[1;3m)\u001b[0m\u001b[3m:\u001b[0m\n",
       "\u001b[3m                                past_outputs\u001b[0m\u001b[3m = \u001b[0m\u001b[1;3;35mgetattr\u001b[0m\u001b[1;3m(\u001b[0m\n",
       "\u001b[3m                                    error_state\u001b[0m\u001b[1;3m[\u001b[0m\u001b[1;3;36m2\u001b[0m\u001b[1;3m]\u001b[0m\u001b[3m, field_name, \u001b[0m\u001b[3;35mNone\u001b[0m\n",
       "\u001b[3m                                \u001b[0m\u001b[1;3m)\u001b[0m\n",
       "\n",
       "\u001b[3m                            # save latest failure trace for predictor per suggestion\u001b[0m\n",
       "\u001b[3m                            error_ip = error_state\u001b[0m\u001b[1;3m[\u001b[0m\u001b[1;3;36m1\u001b[0m\u001b[1;3m]\u001b[0m\n",
       "\u001b[3m                            error_op = error_state\u001b[0m\u001b[1;3m[\u001b[0m\u001b[1;3;36m2\u001b[0m\u001b[1;3m]\u001b[0m\u001b[3m.__dict__\u001b[0m\u001b[1;3m[\u001b[0m\u001b[3;32m\"_store\"\u001b[0m\u001b[1;3m]\u001b[0m\n",
       "\u001b[3m                            \u001b[0m\u001b[1;3;35merror_op.pop\u001b[0m\u001b[1;3m(\u001b[0m\u001b[3;32m\"_assert_feedback\"\u001b[0m\u001b[3m, \u001b[0m\u001b[3;35mNone\u001b[0m\u001b[1;3m)\u001b[0m\n",
       "\u001b[3m                            \u001b[0m\u001b[1;3;35merror_op.pop\u001b[0m\u001b[1;3m(\u001b[0m\u001b[3;32m\"_assert_traces\"\u001b[0m\u001b[3m, \u001b[0m\u001b[3;35mNone\u001b[0m\u001b[1;3m)\u001b[0m\n",
       "\n",
       "\u001b[3m                        else:\u001b[0m\n",
       "\u001b[3m                            \u001b[0m\u001b[1;3;35mlogger.error\u001b[0m\u001b[1;3m(\u001b[0m\n",
       "\u001b[3m                                f\"UNREACHABLE: No trace available, this should not happen. Is this run time?\"\u001b[0m\n",
       "\u001b[3m                            \u001b[0m\u001b[1;3m)\u001b[0m\n",
       "\n",
       "\u001b[3m            return result\u001b[0m\n",
       "\n",
       "\u001b[3m    return wrapper\u001b[0m\n",
       "\n"
      ]
     },
     "metadata": {},
     "output_type": "display_data"
    }
   ],
   "source": [
    "import inspect\n",
    "print(inspect.getsource(backtrack_handler))"
   ]
  },
  {
   "cell_type": "code",
   "execution_count": 61,
   "metadata": {},
   "outputs": [],
   "source": [
    "# Lets see what DSPY assert_transformers can do\n",
    "getqa_with_bt = assert_transform_module(module=GetQuestionAnswer(),\n",
    "                                        assertion_handler=backtrack_handler,\n",
    "                                        max_backtracks=2)\n",
    "# Doesn't Work"
   ]
  },
  {
   "cell_type": "code",
   "execution_count": 58,
   "metadata": {},
   "outputs": [],
   "source": [
    "from functools import partial\n",
    "\n",
    "getqa_withbt_1 = assert_transform_module(module=GetQuestionAnswer(),\n",
    "                                         assertion_handler=partial(backtrack_handler,\n",
    "                                                                   max_backtracks=1))\n",
    "# doesn't work"
   ]
  },
  {
   "cell_type": "code",
   "execution_count": 29,
   "metadata": {},
   "outputs": [],
   "source": [
    "# this work\n",
    "getqa_with_aa = GetQuestionAnswer().activate_assertions()"
   ]
  },
  {
   "cell_type": "code",
   "execution_count": 30,
   "metadata": {},
   "outputs": [],
   "source": [
    "# works after giving trace = [] in settings.configure()\n",
    "getqa_suggest_with_aa = GetQuestionAnswer_suggest().activate_assertions()"
   ]
  },
  {
   "cell_type": "code",
   "execution_count": 19,
   "metadata": {},
   "outputs": [],
   "source": [
    "# https://colab.research.google.com/github/stanfordnlp/dspy/blob/main/examples/longformqa/longformqa_assertions.ipynb\n",
    "from dspy.predict import Retry\n",
    "\n",
    "getqa_retry = assert_transform_module(module=GetQuestionAnswer().map_named_predictors(Retry),\n",
    "                                      assertion_handler=backtrack_handler)"
   ]
  },
  {
   "cell_type": "code",
   "execution_count": 31,
   "metadata": {},
   "outputs": [
    {
     "data": {
      "text/html": [
       "<pre style=\"white-space:pre;overflow-x:auto;line-height:normal;font-family:Menlo,'DejaVu Sans Mono',consolas,'Courier New',monospace\">Question is <span style=\"color: #008080; text-decoration-color: #008080; font-weight: bold\">1</span>. What are the top attractions to visit in Paris?\n",
       "</pre>\n"
      ],
      "text/plain": [
       "Question is \u001b[1;36m1\u001b[0m. What are the top attractions to visit in Paris?\n"
      ]
     },
     "metadata": {},
     "output_type": "display_data"
    },
    {
     "data": {
      "text/html": [
       "<pre style=\"white-space:pre;overflow-x:auto;line-height:normal;font-family:Menlo,'DejaVu Sans Mono',consolas,'Courier New',monospace\"><span style=\"color: #008080; text-decoration-color: #008080; font-weight: bold\">1</span>. Eiffel Tower\n",
       "<span style=\"color: #008080; text-decoration-color: #008080; font-weight: bold\">2</span>. Louvre Museum\n",
       "<span style=\"color: #008080; text-decoration-color: #008080; font-weight: bold\">3</span>. Notre-Dame Cathedral\n",
       "<span style=\"color: #008080; text-decoration-color: #008080; font-weight: bold\">4</span>. Montmartre\n",
       "<span style=\"color: #008080; text-decoration-color: #008080; font-weight: bold\">5</span>. Seine River Cruise\n",
       "</pre>\n"
      ],
      "text/plain": [
       "\u001b[1;36m1\u001b[0m. Eiffel Tower\n",
       "\u001b[1;36m2\u001b[0m. Louvre Museum\n",
       "\u001b[1;36m3\u001b[0m. Notre-Dame Cathedral\n",
       "\u001b[1;36m4\u001b[0m. Montmartre\n",
       "\u001b[1;36m5\u001b[0m. Seine River Cruise\n"
      ]
     },
     "metadata": {},
     "output_type": "display_data"
    },
    {
     "data": {
      "text/html": [
       "<pre style=\"white-space:pre;overflow-x:auto;line-height:normal;font-family:Menlo,'DejaVu Sans Mono',consolas,'Courier New',monospace\">Question is <span style=\"color: #008080; text-decoration-color: #008080; font-weight: bold\">1</span>. What are the top attractions to visit in Paris?\n",
       "</pre>\n"
      ],
      "text/plain": [
       "Question is \u001b[1;36m1\u001b[0m. What are the top attractions to visit in Paris?\n"
      ]
     },
     "metadata": {},
     "output_type": "display_data"
    },
    {
     "data": {
      "text/html": [
       "<pre style=\"white-space:pre;overflow-x:auto;line-height:normal;font-family:Menlo,'DejaVu Sans Mono',consolas,'Courier New',monospace\"><span style=\"color: #008080; text-decoration-color: #008080; font-weight: bold\">1</span>. Eiffel Tower, Louvre Museum, Notre-Dame Cathedral, Montmartre, Seine River Cruise\n",
       "</pre>\n"
      ],
      "text/plain": [
       "\u001b[1;36m1\u001b[0m. Eiffel Tower, Louvre Museum, Notre-Dame Cathedral, Montmartre, Seine River Cruise\n"
      ]
     },
     "metadata": {},
     "output_type": "display_data"
    },
    {
     "ename": "DSPyAssertionError",
     "evalue": "Answer should contain less than 75 characters",
     "output_type": "error",
     "traceback": [
      "\u001b[1;31m---------------------------------------------------------------------------\u001b[0m",
      "\u001b[1;31mDSPyAssertionError\u001b[0m                        Traceback (most recent call last)",
      "Cell \u001b[1;32mIn[31], line 1\u001b[0m\n\u001b[1;32m----> 1\u001b[0m \u001b[43mgetqa_with_aa\u001b[49m\u001b[43m(\u001b[49m\u001b[43mtopic\u001b[49m\u001b[38;5;241;43m=\u001b[39;49m\u001b[38;5;124;43m\"\u001b[39;49m\u001b[38;5;124;43m3 questions about paris\u001b[39;49m\u001b[38;5;124;43m\"\u001b[39;49m\u001b[43m)\u001b[49m\n",
      "File \u001b[1;32md:\\dspyenv\\Lib\\site-packages\\dspy\\primitives\\program.py:29\u001b[0m, in \u001b[0;36mModule.__call__\u001b[1;34m(self, *args, **kwargs)\u001b[0m\n\u001b[0;32m     28\u001b[0m \u001b[38;5;28;01mdef\u001b[39;00m \u001b[38;5;21m__call__\u001b[39m(\u001b[38;5;28mself\u001b[39m, \u001b[38;5;241m*\u001b[39margs, \u001b[38;5;241m*\u001b[39m\u001b[38;5;241m*\u001b[39mkwargs):\n\u001b[1;32m---> 29\u001b[0m     \u001b[38;5;28;01mreturn\u001b[39;00m \u001b[38;5;28;43mself\u001b[39;49m\u001b[38;5;241;43m.\u001b[39;49m\u001b[43mforward\u001b[49m\u001b[43m(\u001b[49m\u001b[38;5;241;43m*\u001b[39;49m\u001b[43margs\u001b[49m\u001b[43m,\u001b[49m\u001b[43m \u001b[49m\u001b[38;5;241;43m*\u001b[39;49m\u001b[38;5;241;43m*\u001b[39;49m\u001b[43mkwargs\u001b[49m\u001b[43m)\u001b[49m\n",
      "File \u001b[1;32md:\\dspyenv\\Lib\\site-packages\\dspy\\primitives\\assertions.py:317\u001b[0m, in \u001b[0;36mhandle_assert_forward.<locals>.forward\u001b[1;34m(self, *args, **kwargs)\u001b[0m\n\u001b[0;32m    314\u001b[0m     dspy\u001b[38;5;241m.\u001b[39msettings\u001b[38;5;241m.\u001b[39mconfigure(bypass_assert\u001b[38;5;241m=\u001b[39margs_to_vals[\u001b[38;5;124m\"\u001b[39m\u001b[38;5;124mbypass_assert\u001b[39m\u001b[38;5;124m\"\u001b[39m])\n\u001b[0;32m    316\u001b[0m wrapped_forward \u001b[38;5;241m=\u001b[39m assertion_handler(\u001b[38;5;28mself\u001b[39m\u001b[38;5;241m.\u001b[39m_forward, \u001b[38;5;241m*\u001b[39m\u001b[38;5;241m*\u001b[39mhandler_args)\n\u001b[1;32m--> 317\u001b[0m \u001b[38;5;28;01mreturn\u001b[39;00m \u001b[43mwrapped_forward\u001b[49m\u001b[43m(\u001b[49m\u001b[38;5;241;43m*\u001b[39;49m\u001b[43margs\u001b[49m\u001b[43m,\u001b[49m\u001b[43m \u001b[49m\u001b[38;5;241;43m*\u001b[39;49m\u001b[38;5;241;43m*\u001b[39;49m\u001b[43mkwargs\u001b[49m\u001b[43m)\u001b[49m\n",
      "File \u001b[1;32md:\\dspyenv\\Lib\\site-packages\\dspy\\primitives\\assertions.py:230\u001b[0m, in \u001b[0;36mbacktrack_handler.<locals>.wrapper\u001b[1;34m(*args, **kwargs)\u001b[0m\n\u001b[0;32m    228\u001b[0m \u001b[38;5;28;01mif\u001b[39;00m i \u001b[38;5;241m==\u001b[39m max_backtracks:\n\u001b[0;32m    229\u001b[0m     \u001b[38;5;28;01mif\u001b[39;00m \u001b[38;5;28misinstance\u001b[39m(current_error, DSPyAssertionError):\n\u001b[1;32m--> 230\u001b[0m         \u001b[38;5;28;01mraise\u001b[39;00m current_error\n\u001b[0;32m    231\u001b[0m     dsp\u001b[38;5;241m.\u001b[39msettings\u001b[38;5;241m.\u001b[39mtrace\u001b[38;5;241m.\u001b[39mclear()\n\u001b[0;32m    232\u001b[0m     result \u001b[38;5;241m=\u001b[39m (\n\u001b[0;32m    233\u001b[0m         bypass_suggest_handler(func)(\u001b[38;5;241m*\u001b[39margs, \u001b[38;5;241m*\u001b[39m\u001b[38;5;241m*\u001b[39mkwargs)\n\u001b[0;32m    234\u001b[0m         \u001b[38;5;28;01mif\u001b[39;00m bypass_suggest\n\u001b[0;32m    235\u001b[0m         \u001b[38;5;28;01melse\u001b[39;00m \u001b[38;5;28;01mNone\u001b[39;00m\n\u001b[0;32m    236\u001b[0m     )\n",
      "File \u001b[1;32md:\\dspyenv\\Lib\\site-packages\\dspy\\primitives\\assertions.py:241\u001b[0m, in \u001b[0;36mbacktrack_handler.<locals>.wrapper\u001b[1;34m(*args, **kwargs)\u001b[0m\n\u001b[0;32m    239\u001b[0m \u001b[38;5;28;01mtry\u001b[39;00m:\n\u001b[0;32m    240\u001b[0m     dsp\u001b[38;5;241m.\u001b[39msettings\u001b[38;5;241m.\u001b[39mtrace\u001b[38;5;241m.\u001b[39mclear()\n\u001b[1;32m--> 241\u001b[0m     result \u001b[38;5;241m=\u001b[39m \u001b[43mfunc\u001b[49m\u001b[43m(\u001b[49m\u001b[38;5;241;43m*\u001b[39;49m\u001b[43margs\u001b[49m\u001b[43m,\u001b[49m\u001b[43m \u001b[49m\u001b[38;5;241;43m*\u001b[39;49m\u001b[38;5;241;43m*\u001b[39;49m\u001b[43mkwargs\u001b[49m\u001b[43m)\u001b[49m\n\u001b[0;32m    242\u001b[0m     \u001b[38;5;28;01mbreak\u001b[39;00m\n\u001b[0;32m    243\u001b[0m \u001b[38;5;28;01mexcept\u001b[39;00m (DSPySuggestionError, DSPyAssertionError) \u001b[38;5;28;01mas\u001b[39;00m e:\n",
      "Cell \u001b[1;32mIn[14], line 18\u001b[0m, in \u001b[0;36mGetQuestionAnswer.forward\u001b[1;34m(self, topic)\u001b[0m\n\u001b[0;32m     16\u001b[0m     got_answer \u001b[38;5;241m=\u001b[39m \u001b[38;5;28mself\u001b[39m\u001b[38;5;241m.\u001b[39mgenerate_answer(question\u001b[38;5;241m=\u001b[39mques)\n\u001b[0;32m     17\u001b[0m     \u001b[38;5;28mprint\u001b[39m(got_answer\u001b[38;5;241m.\u001b[39mshort_answers)\n\u001b[1;32m---> 18\u001b[0m     \u001b[43mAssert\u001b[49m\u001b[43m(\u001b[49m\n\u001b[0;32m     19\u001b[0m \u001b[43m        \u001b[49m\u001b[38;5;28;43mlen\u001b[39;49m\u001b[43m(\u001b[49m\u001b[43mgot_answer\u001b[49m\u001b[38;5;241;43m.\u001b[39;49m\u001b[43mshort_answers\u001b[49m\u001b[43m)\u001b[49m\u001b[43m \u001b[49m\u001b[38;5;241;43m<\u001b[39;49m\u001b[43m \u001b[49m\u001b[38;5;241;43m75\u001b[39;49m\u001b[43m,\u001b[49m\n\u001b[0;32m     20\u001b[0m \u001b[43m        \u001b[49m\u001b[38;5;124;43m'\u001b[39;49m\u001b[38;5;124;43mAnswer should contain less than 75 characters\u001b[39;49m\u001b[38;5;124;43m'\u001b[39;49m\n\u001b[0;32m     21\u001b[0m \u001b[43m    \u001b[49m\u001b[43m)\u001b[49m\n\u001b[0;32m     22\u001b[0m     answers\u001b[38;5;241m.\u001b[39mappend({\u001b[38;5;124m\"\u001b[39m\u001b[38;5;124mQuery\u001b[39m\u001b[38;5;124m\"\u001b[39m: ques,\n\u001b[0;32m     23\u001b[0m                    \u001b[38;5;124m\"\u001b[39m\u001b[38;5;124mAnswer\u001b[39m\u001b[38;5;124m\"\u001b[39m: got_answer\u001b[38;5;241m.\u001b[39mshort_answers})\n\u001b[0;32m     25\u001b[0m \u001b[38;5;28;01mreturn\u001b[39;00m answers\n",
      "File \u001b[1;32md:\\dspyenv\\Lib\\site-packages\\dspy\\primitives\\assertions.py:91\u001b[0m, in \u001b[0;36mConstraint.__init__\u001b[1;34m(self, result, msg, target_module, is_metric)\u001b[0m\n\u001b[0;32m     88\u001b[0m \u001b[38;5;28mself\u001b[39m\u001b[38;5;241m.\u001b[39mtarget_module \u001b[38;5;241m=\u001b[39m target_module\n\u001b[0;32m     89\u001b[0m \u001b[38;5;28mself\u001b[39m\u001b[38;5;241m.\u001b[39mis_metric \u001b[38;5;241m=\u001b[39m is_metric\n\u001b[1;32m---> 91\u001b[0m \u001b[38;5;28;43mself\u001b[39;49m\u001b[38;5;241;43m.\u001b[39;49m\u001b[38;5;21;43m__call__\u001b[39;49m\u001b[43m(\u001b[49m\u001b[43m)\u001b[49m\n",
      "File \u001b[1;32md:\\dspyenv\\Lib\\site-packages\\dspy\\primitives\\assertions.py:106\u001b[0m, in \u001b[0;36mAssert.__call__\u001b[1;34m(self)\u001b[0m\n\u001b[0;32m    104\u001b[0m     \u001b[38;5;28;01melse\u001b[39;00m:\n\u001b[0;32m    105\u001b[0m         logger\u001b[38;5;241m.\u001b[39merror(\u001b[38;5;124mf\u001b[39m\u001b[38;5;124m\"\u001b[39m\u001b[38;5;124mAssertionError: \u001b[39m\u001b[38;5;132;01m{\u001b[39;00m\u001b[38;5;28mself\u001b[39m\u001b[38;5;241m.\u001b[39mmsg\u001b[38;5;132;01m}\u001b[39;00m\u001b[38;5;124m\"\u001b[39m)\n\u001b[1;32m--> 106\u001b[0m         \u001b[38;5;28;01mraise\u001b[39;00m DSPyAssertionError(\n\u001b[0;32m    107\u001b[0m             \u001b[38;5;28mid\u001b[39m\u001b[38;5;241m=\u001b[39m\u001b[38;5;28mself\u001b[39m\u001b[38;5;241m.\u001b[39mid,\n\u001b[0;32m    108\u001b[0m             msg\u001b[38;5;241m=\u001b[39m\u001b[38;5;28mself\u001b[39m\u001b[38;5;241m.\u001b[39mmsg,\n\u001b[0;32m    109\u001b[0m             target_module\u001b[38;5;241m=\u001b[39m\u001b[38;5;28mself\u001b[39m\u001b[38;5;241m.\u001b[39mtarget_module,\n\u001b[0;32m    110\u001b[0m             state\u001b[38;5;241m=\u001b[39mdsp\u001b[38;5;241m.\u001b[39msettings\u001b[38;5;241m.\u001b[39mtrace,\n\u001b[0;32m    111\u001b[0m             is_metric\u001b[38;5;241m=\u001b[39m\u001b[38;5;28mself\u001b[39m\u001b[38;5;241m.\u001b[39mis_metric,\n\u001b[0;32m    112\u001b[0m         )\n\u001b[0;32m    113\u001b[0m \u001b[38;5;28;01melse\u001b[39;00m:\n\u001b[0;32m    114\u001b[0m     \u001b[38;5;28;01mraise\u001b[39;00m \u001b[38;5;167;01mValueError\u001b[39;00m(\u001b[38;5;124m\"\u001b[39m\u001b[38;5;124mAssertion function should always return [bool]\u001b[39m\u001b[38;5;124m\"\u001b[39m)\n",
      "\u001b[1;31mDSPyAssertionError\u001b[0m: Answer should contain less than 75 characters"
     ]
    }
   ],
   "source": [
    "getqa_with_aa(topic=\"3 questions about paris\")"
   ]
  },
  {
   "cell_type": "code",
   "execution_count": 32,
   "metadata": {},
   "outputs": [
    {
     "data": {
      "text/plain": [
       "11"
      ]
     },
     "execution_count": 32,
     "metadata": {},
     "output_type": "execute_result"
    }
   ],
   "source": [
    "len(turbo.history)"
   ]
  },
  {
   "cell_type": "code",
   "execution_count": 33,
   "metadata": {},
   "outputs": [
    {
     "name": "stdout",
     "output_type": "stream",
     "text": [
      "\n",
      "\n",
      "\n",
      "\n",
      "Given the fields `question`, produce the fields `response`.\n",
      "\n",
      "---\n",
      "\n",
      "Follow the following format.\n",
      "\n",
      "Question: ${question}\n",
      "Response: ${response}\n",
      "\n",
      "---\n",
      "\n",
      "Question: Provide me 3 queries about city of paris\n",
      "Response:\u001b[32m Question: Provide me 3 queries about city of Paris\n",
      "Response: 1. What are the top tourist attractions in Paris?\n",
      "2. How is the public transportation system in Paris?\n",
      "3. What are some famous restaurants in Paris known for their cuisine?\u001b[0m\n",
      "\n",
      "\n",
      "\n",
      "\n",
      "\n",
      "\n",
      "\n",
      "Reply the question with a list of Replies\n",
      "\n",
      "---\n",
      "\n",
      "Follow the following format.\n",
      "\n",
      "Question: This is the question\n",
      "Reply: Get replies as list\n",
      "\n",
      "---\n",
      "\n",
      "Question: Provide me 3 questions about paris\n",
      "Reply:\u001b[32m - What are the top attractions to visit in Paris?\n",
      "- What is the best time of year to visit Paris?\n",
      "- What are some must-try foods in Paris?\u001b[0m\n",
      "\n",
      "\n",
      "\n",
      "\n",
      "\n",
      "\n",
      "\n",
      "Given the fields `topic`, produce the fields `questions`.\n",
      "\n",
      "---\n",
      "\n",
      "Follow the following format.\n",
      "\n",
      "Topic: ${topic}\n",
      "Questions: ${questions}\n",
      "\n",
      "---\n",
      "\n",
      "Topic: Provide me 3 questions about paris\n",
      "Questions:\u001b[32m 1. What are some must-see attractions in Paris?\n",
      "2. What is the best time of year to visit Paris?\n",
      "3. Can you recommend some good restaurants in Paris?\u001b[0m\n",
      "\n",
      "\n",
      "\n",
      "\n",
      "\n",
      "\n",
      "\n",
      "Given the fields `question`, produce the fields `short_answers`.\n",
      "\n",
      "---\n",
      "\n",
      "Follow the following format.\n",
      "\n",
      "Question: ${question}\n",
      "Short Answers: ${short_answers}\n",
      "\n",
      "---\n",
      "\n",
      "Question: 1. What are some must-see attractions in Paris?\n",
      "Short Answers:\u001b[32m 1. Eiffel Tower\n",
      "2. Louvre Museum\n",
      "3. Notre Dame Cathedral\n",
      "4. Montmartre and Sacré-Cœur Basilica\n",
      "5. Champs-Élysées and Arc de Triomphe\u001b[0m\n",
      "\n",
      "\n",
      "\n",
      "\n",
      "\n",
      "\n",
      "\n",
      "Given the fields `topic`, produce the fields `questions`.\n",
      "\n",
      "---\n",
      "\n",
      "Follow the following format.\n",
      "\n",
      "Topic: ${topic}\n",
      "Questions: ${questions}\n",
      "\n",
      "---\n",
      "\n",
      "Topic: Provide me 3 questions about paris\n",
      "Questions:\u001b[32m 1. What are some must-see attractions in Paris?\n",
      "2. What is the best time of year to visit Paris?\n",
      "3. Can you recommend some good restaurants in Paris?\u001b[0m\n",
      "\n",
      "\n",
      "\n",
      "\n",
      "\n",
      "\n",
      "\n",
      "Given the fields `question`, produce the fields `short_answers`.\n",
      "\n",
      "---\n",
      "\n",
      "Follow the following format.\n",
      "\n",
      "Question: ${question}\n",
      "Short Answers: ${short_answers}\n",
      "\n",
      "---\n",
      "\n",
      "Question: 1. What are some must-see attractions in Paris?\n",
      "Short Answers:\u001b[32m 1. Eiffel Tower\n",
      "2. Louvre Museum\n",
      "3. Notre Dame Cathedral\n",
      "4. Montmartre and Sacré-Cœur Basilica\n",
      "5. Champs-Élysées and Arc de Triomphe\u001b[0m\n",
      "\n",
      "\n",
      "\n",
      "\n",
      "\n",
      "\n",
      "\n",
      "Given the fields `topic`, produce the fields `questions`.\n",
      "\n",
      "---\n",
      "\n",
      "Follow the following format.\n",
      "\n",
      "Topic: ${topic}\n",
      "Questions: ${questions}\n",
      "\n",
      "---\n",
      "\n",
      "Topic: 3 questions about paris\n",
      "Questions:\u001b[32m 1. What are the top attractions to visit in Paris?\n",
      "2. How is the food scene in Paris?\n",
      "3. What are some tips for navigating the public transportation system in Paris?\u001b[0m\n",
      "\n",
      "\n",
      "\n",
      "\n",
      "\n",
      "\n",
      "\n",
      "Given the fields `question`, produce the fields `short_answers`.\n",
      "\n",
      "---\n",
      "\n",
      "Follow the following format.\n",
      "\n",
      "Question: ${question}\n",
      "Short Answers: ${short_answers}\n",
      "\n",
      "---\n",
      "\n",
      "Question: 1. What are the top attractions to visit in Paris?\n",
      "Short Answers:\u001b[32m 1. Eiffel Tower\n",
      "2. Louvre Museum\n",
      "3. Notre-Dame Cathedral\n",
      "4. Montmartre\n",
      "5. Seine River Cruise\u001b[0m\n",
      "\n",
      "\n",
      "\n",
      "\n",
      "\n",
      "\n",
      "\n",
      "Given the fields `topic`, produce the fields `questions`.\n",
      "\n",
      "---\n",
      "\n",
      "Follow the following format.\n",
      "\n",
      "Topic: ${topic}\n",
      "Questions: ${questions}\n",
      "\n",
      "---\n",
      "\n",
      "Topic: 3 questions about paris\n",
      "Questions:\u001b[32m 1. What are the top attractions to visit in Paris?\n",
      "2. How is the food scene in Paris?\n",
      "3. What are some tips for navigating the public transportation system in Paris?\u001b[0m\n",
      "\n",
      "\n",
      "\n",
      "\n",
      "\n",
      "\n",
      "\n",
      "Given the fields `question`, produce the fields `short_answers`.\n",
      "\n",
      "---\n",
      "\n",
      "Follow the following format.\n",
      "\n",
      "Question: ${question}\n",
      "\n",
      "Past Short Answers: past output with errors\n",
      "\n",
      "Instructions: Some instructions you must satisfy\n",
      "\n",
      "Short Answers: ${short_answers}\n",
      "\n",
      "---\n",
      "\n",
      "Question: 1. What are the top attractions to visit in Paris?\n",
      "\n",
      "Past Short Answers: 1. Eiffel Tower 2. Louvre Museum 3. Notre-Dame Cathedral 4. Montmartre 5. Seine River Cruise\n",
      "\n",
      "Instructions: Answer should contain less than 75 characters\n",
      "\n",
      "Short Answers:\u001b[32m 1. Eiffel Tower, Louvre Museum, Notre-Dame Cathedral, Montmartre, Seine River Cruise\u001b[0m\n",
      "\n",
      "\n",
      "\n"
     ]
    }
   ],
   "source": [
    "turbo.inspect_history(n=11)"
   ]
  },
  {
   "cell_type": "code",
   "execution_count": null,
   "metadata": {},
   "outputs": [],
   "source": [
    "getqa_suggest_with_aa(topic=\"3 questions about paris\")"
   ]
  },
  {
   "cell_type": "code",
   "execution_count": 35,
   "metadata": {},
   "outputs": [
    {
     "data": {
      "text/plain": [
       "19"
      ]
     },
     "execution_count": 35,
     "metadata": {},
     "output_type": "execute_result"
    }
   ],
   "source": [
    "len(turbo.history)"
   ]
  },
  {
   "cell_type": "code",
   "execution_count": 36,
   "metadata": {},
   "outputs": [
    {
     "name": "stdout",
     "output_type": "stream",
     "text": [
      "\n",
      "\n",
      "\n",
      "\n",
      "Given the fields `question`, produce the fields `response`.\n",
      "\n",
      "---\n",
      "\n",
      "Follow the following format.\n",
      "\n",
      "Question: ${question}\n",
      "Response: ${response}\n",
      "\n",
      "---\n",
      "\n",
      "Question: Provide me 3 queries about city of paris\n",
      "Response:\u001b[32m Question: Provide me 3 queries about city of Paris\n",
      "Response: 1. What are the top tourist attractions in Paris?\n",
      "2. How is the public transportation system in Paris?\n",
      "3. What are some famous restaurants in Paris known for their cuisine?\u001b[0m\n",
      "\n",
      "\n",
      "\n",
      "\n",
      "\n",
      "\n",
      "\n",
      "Reply the question with a list of Replies\n",
      "\n",
      "---\n",
      "\n",
      "Follow the following format.\n",
      "\n",
      "Question: This is the question\n",
      "Reply: Get replies as list\n",
      "\n",
      "---\n",
      "\n",
      "Question: Provide me 3 questions about paris\n",
      "Reply:\u001b[32m - What are the top attractions to visit in Paris?\n",
      "- What is the best time of year to visit Paris?\n",
      "- What are some must-try foods in Paris?\u001b[0m\n",
      "\n",
      "\n",
      "\n",
      "\n",
      "\n",
      "\n",
      "\n",
      "Given the fields `topic`, produce the fields `questions`.\n",
      "\n",
      "---\n",
      "\n",
      "Follow the following format.\n",
      "\n",
      "Topic: ${topic}\n",
      "Questions: ${questions}\n",
      "\n",
      "---\n",
      "\n",
      "Topic: Provide me 3 questions about paris\n",
      "Questions:\u001b[32m 1. What are some must-see attractions in Paris?\n",
      "2. What is the best time of year to visit Paris?\n",
      "3. Can you recommend some good restaurants in Paris?\u001b[0m\n",
      "\n",
      "\n",
      "\n",
      "\n",
      "\n",
      "\n",
      "\n",
      "Given the fields `question`, produce the fields `short_answers`.\n",
      "\n",
      "---\n",
      "\n",
      "Follow the following format.\n",
      "\n",
      "Question: ${question}\n",
      "Short Answers: ${short_answers}\n",
      "\n",
      "---\n",
      "\n",
      "Question: 1. What are some must-see attractions in Paris?\n",
      "Short Answers:\u001b[32m 1. Eiffel Tower\n",
      "2. Louvre Museum\n",
      "3. Notre Dame Cathedral\n",
      "4. Montmartre and Sacré-Cœur Basilica\n",
      "5. Champs-Élysées and Arc de Triomphe\u001b[0m\n",
      "\n",
      "\n",
      "\n",
      "\n",
      "\n",
      "\n",
      "\n",
      "Given the fields `topic`, produce the fields `questions`.\n",
      "\n",
      "---\n",
      "\n",
      "Follow the following format.\n",
      "\n",
      "Topic: ${topic}\n",
      "Questions: ${questions}\n",
      "\n",
      "---\n",
      "\n",
      "Topic: Provide me 3 questions about paris\n",
      "Questions:\u001b[32m 1. What are some must-see attractions in Paris?\n",
      "2. What is the best time of year to visit Paris?\n",
      "3. Can you recommend some good restaurants in Paris?\u001b[0m\n",
      "\n",
      "\n",
      "\n",
      "\n",
      "\n",
      "\n",
      "\n",
      "Given the fields `question`, produce the fields `short_answers`.\n",
      "\n",
      "---\n",
      "\n",
      "Follow the following format.\n",
      "\n",
      "Question: ${question}\n",
      "Short Answers: ${short_answers}\n",
      "\n",
      "---\n",
      "\n",
      "Question: 1. What are some must-see attractions in Paris?\n",
      "Short Answers:\u001b[32m 1. Eiffel Tower\n",
      "2. Louvre Museum\n",
      "3. Notre Dame Cathedral\n",
      "4. Montmartre and Sacré-Cœur Basilica\n",
      "5. Champs-Élysées and Arc de Triomphe\u001b[0m\n",
      "\n",
      "\n",
      "\n",
      "\n",
      "\n",
      "\n",
      "\n",
      "Given the fields `topic`, produce the fields `questions`.\n",
      "\n",
      "---\n",
      "\n",
      "Follow the following format.\n",
      "\n",
      "Topic: ${topic}\n",
      "Questions: ${questions}\n",
      "\n",
      "---\n",
      "\n",
      "Topic: 3 questions about paris\n",
      "Questions:\u001b[32m 1. What are the top attractions to visit in Paris?\n",
      "2. How is the food scene in Paris?\n",
      "3. What are some tips for navigating the public transportation system in Paris?\u001b[0m\n",
      "\n",
      "\n",
      "\n",
      "\n",
      "\n",
      "\n",
      "\n",
      "Given the fields `question`, produce the fields `short_answers`.\n",
      "\n",
      "---\n",
      "\n",
      "Follow the following format.\n",
      "\n",
      "Question: ${question}\n",
      "Short Answers: ${short_answers}\n",
      "\n",
      "---\n",
      "\n",
      "Question: 1. What are the top attractions to visit in Paris?\n",
      "Short Answers:\u001b[32m 1. Eiffel Tower\n",
      "2. Louvre Museum\n",
      "3. Notre-Dame Cathedral\n",
      "4. Montmartre\n",
      "5. Seine River Cruise\u001b[0m\n",
      "\n",
      "\n",
      "\n",
      "\n",
      "\n",
      "\n",
      "\n",
      "Given the fields `topic`, produce the fields `questions`.\n",
      "\n",
      "---\n",
      "\n",
      "Follow the following format.\n",
      "\n",
      "Topic: ${topic}\n",
      "Questions: ${questions}\n",
      "\n",
      "---\n",
      "\n",
      "Topic: 3 questions about paris\n",
      "Questions:\u001b[32m 1. What are the top attractions to visit in Paris?\n",
      "2. How is the food scene in Paris?\n",
      "3. What are some tips for navigating the public transportation system in Paris?\u001b[0m\n",
      "\n",
      "\n",
      "\n",
      "\n",
      "\n",
      "\n",
      "\n",
      "Given the fields `question`, produce the fields `short_answers`.\n",
      "\n",
      "---\n",
      "\n",
      "Follow the following format.\n",
      "\n",
      "Question: ${question}\n",
      "\n",
      "Past Short Answers: past output with errors\n",
      "\n",
      "Instructions: Some instructions you must satisfy\n",
      "\n",
      "Short Answers: ${short_answers}\n",
      "\n",
      "---\n",
      "\n",
      "Question: 1. What are the top attractions to visit in Paris?\n",
      "\n",
      "Past Short Answers: 1. Eiffel Tower 2. Louvre Museum 3. Notre-Dame Cathedral 4. Montmartre 5. Seine River Cruise\n",
      "\n",
      "Instructions: Answer should contain less than 75 characters\n",
      "\n",
      "Short Answers:\u001b[32m 1. Eiffel Tower, Louvre Museum, Notre-Dame Cathedral, Montmartre, Seine River Cruise\u001b[0m\n",
      "\n",
      "\n",
      "\n",
      "\n",
      "\n",
      "\n",
      "\n",
      "Given the fields `topic`, produce the fields `questions`.\n",
      "\n",
      "---\n",
      "\n",
      "Follow the following format.\n",
      "\n",
      "Topic: ${topic}\n",
      "Questions: ${questions}\n",
      "\n",
      "---\n",
      "\n",
      "Topic: 3 questions about paris\n",
      "Questions:\u001b[32m 1. What are the top attractions to visit in Paris?\n",
      "2. How is the food scene in Paris?\n",
      "3. What are some tips for navigating the public transportation system in Paris?\u001b[0m\n",
      "\n",
      "\n",
      "\n",
      "\n",
      "\n",
      "\n",
      "\n",
      "Given the fields `question`, produce the fields `short_answers`.\n",
      "\n",
      "---\n",
      "\n",
      "Follow the following format.\n",
      "\n",
      "Question: ${question}\n",
      "Short Answers: ${short_answers}\n",
      "\n",
      "---\n",
      "\n",
      "Question: 1. What are the top attractions to visit in Paris?\n",
      "Short Answers:\u001b[32m 1. Eiffel Tower\n",
      "2. Louvre Museum\n",
      "3. Notre-Dame Cathedral\n",
      "4. Montmartre\n",
      "5. Seine River Cruise\u001b[0m\n",
      "\n",
      "\n",
      "\n",
      "\n",
      "\n",
      "\n",
      "\n",
      "Given the fields `topic`, produce the fields `questions`.\n",
      "\n",
      "---\n",
      "\n",
      "Follow the following format.\n",
      "\n",
      "Topic: ${topic}\n",
      "Questions: ${questions}\n",
      "\n",
      "---\n",
      "\n",
      "Topic: 3 questions about paris\n",
      "Questions:\u001b[32m 1. What are the top attractions to visit in Paris?\n",
      "2. How is the food scene in Paris?\n",
      "3. What are some tips for navigating the public transportation system in Paris?\u001b[0m\n",
      "\n",
      "\n",
      "\n",
      "\n",
      "\n",
      "\n",
      "\n",
      "Given the fields `question`, produce the fields `short_answers`.\n",
      "\n",
      "---\n",
      "\n",
      "Follow the following format.\n",
      "\n",
      "Question: ${question}\n",
      "\n",
      "Past Short Answers: past output with errors\n",
      "\n",
      "Instructions: Some instructions you must satisfy\n",
      "\n",
      "Short Answers: ${short_answers}\n",
      "\n",
      "---\n",
      "\n",
      "Question: 1. What are the top attractions to visit in Paris?\n",
      "\n",
      "Past Short Answers: 1. Eiffel Tower 2. Louvre Museum 3. Notre-Dame Cathedral 4. Montmartre 5. Seine River Cruise\n",
      "\n",
      "Instructions: Answer should contain less than 75 characters\n",
      "\n",
      "Short Answers:\u001b[32m 1. Eiffel Tower, Louvre Museum, Notre-Dame Cathedral, Montmartre, Seine River Cruise\u001b[0m\n",
      "\n",
      "\n",
      "\n",
      "\n",
      "\n",
      "\n",
      "\n",
      "Given the fields `topic`, produce the fields `questions`.\n",
      "\n",
      "---\n",
      "\n",
      "Follow the following format.\n",
      "\n",
      "Topic: ${topic}\n",
      "Questions: ${questions}\n",
      "\n",
      "---\n",
      "\n",
      "Topic: 3 questions about paris\n",
      "Questions:\u001b[32m 1. What are the top attractions to visit in Paris?\n",
      "2. How is the food scene in Paris?\n",
      "3. What are some tips for navigating the public transportation system in Paris?\u001b[0m\n",
      "\n",
      "\n",
      "\n",
      "\n",
      "\n",
      "\n",
      "\n",
      "Given the fields `question`, produce the fields `short_answers`.\n",
      "\n",
      "---\n",
      "\n",
      "Follow the following format.\n",
      "\n",
      "Question: ${question}\n",
      "\n",
      "Past Short Answers: past output with errors\n",
      "\n",
      "Instructions: Some instructions you must satisfy\n",
      "\n",
      "Short Answers: ${short_answers}\n",
      "\n",
      "---\n",
      "\n",
      "Question: 1. What are the top attractions to visit in Paris?\n",
      "\n",
      "Past Short Answers: 1. Eiffel Tower, Louvre Museum, Notre-Dame Cathedral, Montmartre, Seine River Cruise\n",
      "\n",
      "Instructions: Answer should contain less than 75 characters\n",
      "\n",
      "Short Answers:\u001b[32m 1. Eiffel Tower, Louvre Museum, Notre-Dame Cathedral\u001b[0m\n",
      "\n",
      "\n",
      "\n",
      "\n",
      "\n",
      "\n",
      "\n",
      "Given the fields `question`, produce the fields `short_answers`.\n",
      "\n",
      "---\n",
      "\n",
      "Follow the following format.\n",
      "\n",
      "Question: ${question}\n",
      "\n",
      "Past Short Answers: past output with errors\n",
      "\n",
      "Instructions: Some instructions you must satisfy\n",
      "\n",
      "Short Answers: ${short_answers}\n",
      "\n",
      "---\n",
      "\n",
      "Question: 2. How is the food scene in Paris?\n",
      "\n",
      "Past Short Answers: 1. Eiffel Tower, Louvre Museum, Notre-Dame Cathedral, Montmartre, Seine River Cruise\n",
      "\n",
      "Instructions: Answer should contain less than 75 characters\n",
      "\n",
      "Short Answers:\u001b[32m 2. Delicious and diverse, with world-class restaurants and charming cafes.\u001b[0m\n",
      "\n",
      "\n",
      "\n",
      "\n",
      "\n",
      "\n",
      "\n",
      "Given the fields `question`, produce the fields `short_answers`.\n",
      "\n",
      "---\n",
      "\n",
      "Follow the following format.\n",
      "\n",
      "Question: ${question}\n",
      "\n",
      "Past Short Answers: past output with errors\n",
      "\n",
      "Instructions: Some instructions you must satisfy\n",
      "\n",
      "Short Answers: ${short_answers}\n",
      "\n",
      "---\n",
      "\n",
      "Question: 3. What are some tips for navigating the public transportation system in Paris?\n",
      "\n",
      "Past Short Answers: 1. Eiffel Tower, Louvre Museum, Notre-Dame Cathedral, Montmartre, Seine River Cruise\n",
      "\n",
      "Instructions: Answer should contain less than 75 characters\n",
      "\n",
      "Short Answers:\u001b[32m 1. Plan routes in advance, use metro map, buy tickets in advance\u001b[0m\n",
      "\n",
      "\n",
      "\n"
     ]
    }
   ],
   "source": [
    "turbo.inspect_history(n=19)"
   ]
  },
  {
   "cell_type": "code",
   "execution_count": null,
   "metadata": {},
   "outputs": [],
   "source": [
    "settings.config"
   ]
  }
 ],
 "metadata": {
  "kernelspec": {
   "display_name": "Python 3 (ipykernel)",
   "language": "python",
   "name": "python3"
  },
  "language_info": {
   "codemirror_mode": {
    "name": "ipython",
    "version": 3
   },
   "file_extension": ".py",
   "mimetype": "text/x-python",
   "name": "python",
   "nbconvert_exporter": "python",
   "pygments_lexer": "ipython3",
   "version": "3.10.13"
  }
 },
 "nbformat": 4,
 "nbformat_minor": 4
}
